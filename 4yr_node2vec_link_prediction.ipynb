{
  "nbformat": 4,
  "nbformat_minor": 0,
  "metadata": {
    "colab": {
      "name": "4yr_node2vec_link_prediction.ipynb",
      "provenance": []
    },
    "kernelspec": {
      "name": "python3",
      "display_name": "Python 3"
    },
    "language_info": {
      "name": "python"
    },
    "widgets": {
      "application/vnd.jupyter.widget-state+json": {
        "031daa0957f44f818d68a381874819d4": {
          "model_module": "@jupyter-widgets/controls",
          "model_name": "HBoxModel",
          "model_module_version": "1.5.0",
          "state": {
            "_dom_classes": [],
            "_model_module": "@jupyter-widgets/controls",
            "_model_module_version": "1.5.0",
            "_model_name": "HBoxModel",
            "_view_count": null,
            "_view_module": "@jupyter-widgets/controls",
            "_view_module_version": "1.5.0",
            "_view_name": "HBoxView",
            "box_style": "",
            "children": [
              "IPY_MODEL_3baf723352ce425089502bbcd4731a35",
              "IPY_MODEL_75eb1b95228a4b21ab0e3f3905ffd37b",
              "IPY_MODEL_fd6b1a9130794d62bbe5960da9545442"
            ],
            "layout": "IPY_MODEL_65665fd841a84e22a97a968deadc96ff"
          }
        },
        "3baf723352ce425089502bbcd4731a35": {
          "model_module": "@jupyter-widgets/controls",
          "model_name": "HTMLModel",
          "model_module_version": "1.5.0",
          "state": {
            "_dom_classes": [],
            "_model_module": "@jupyter-widgets/controls",
            "_model_module_version": "1.5.0",
            "_model_name": "HTMLModel",
            "_view_count": null,
            "_view_module": "@jupyter-widgets/controls",
            "_view_module_version": "1.5.0",
            "_view_name": "HTMLView",
            "description": "",
            "description_tooltip": null,
            "layout": "IPY_MODEL_9aa9a2c9916140b8b4a5baea4adf7e07",
            "placeholder": "​",
            "style": "IPY_MODEL_279639f83c2242d0862721fa3fce4c3a",
            "value": "Computing transition probabilities: 100%"
          }
        },
        "75eb1b95228a4b21ab0e3f3905ffd37b": {
          "model_module": "@jupyter-widgets/controls",
          "model_name": "FloatProgressModel",
          "model_module_version": "1.5.0",
          "state": {
            "_dom_classes": [],
            "_model_module": "@jupyter-widgets/controls",
            "_model_module_version": "1.5.0",
            "_model_name": "FloatProgressModel",
            "_view_count": null,
            "_view_module": "@jupyter-widgets/controls",
            "_view_module_version": "1.5.0",
            "_view_name": "ProgressView",
            "bar_style": "success",
            "description": "",
            "description_tooltip": null,
            "layout": "IPY_MODEL_5904fd1631da4dc7b9dcd95979b775cb",
            "max": 399,
            "min": 0,
            "orientation": "horizontal",
            "style": "IPY_MODEL_536ad253b6d644d4925e1af5bbe557d0",
            "value": 399
          }
        },
        "fd6b1a9130794d62bbe5960da9545442": {
          "model_module": "@jupyter-widgets/controls",
          "model_name": "HTMLModel",
          "model_module_version": "1.5.0",
          "state": {
            "_dom_classes": [],
            "_model_module": "@jupyter-widgets/controls",
            "_model_module_version": "1.5.0",
            "_model_name": "HTMLModel",
            "_view_count": null,
            "_view_module": "@jupyter-widgets/controls",
            "_view_module_version": "1.5.0",
            "_view_name": "HTMLView",
            "description": "",
            "description_tooltip": null,
            "layout": "IPY_MODEL_30a18589b8b4413d952e0114c74559cf",
            "placeholder": "​",
            "style": "IPY_MODEL_fca58745b4f64d2bbd349a93c33132da",
            "value": " 399/399 [00:42&lt;00:00, 129.24it/s]"
          }
        },
        "65665fd841a84e22a97a968deadc96ff": {
          "model_module": "@jupyter-widgets/base",
          "model_name": "LayoutModel",
          "model_module_version": "1.2.0",
          "state": {
            "_model_module": "@jupyter-widgets/base",
            "_model_module_version": "1.2.0",
            "_model_name": "LayoutModel",
            "_view_count": null,
            "_view_module": "@jupyter-widgets/base",
            "_view_module_version": "1.2.0",
            "_view_name": "LayoutView",
            "align_content": null,
            "align_items": null,
            "align_self": null,
            "border": null,
            "bottom": null,
            "display": null,
            "flex": null,
            "flex_flow": null,
            "grid_area": null,
            "grid_auto_columns": null,
            "grid_auto_flow": null,
            "grid_auto_rows": null,
            "grid_column": null,
            "grid_gap": null,
            "grid_row": null,
            "grid_template_areas": null,
            "grid_template_columns": null,
            "grid_template_rows": null,
            "height": null,
            "justify_content": null,
            "justify_items": null,
            "left": null,
            "margin": null,
            "max_height": null,
            "max_width": null,
            "min_height": null,
            "min_width": null,
            "object_fit": null,
            "object_position": null,
            "order": null,
            "overflow": null,
            "overflow_x": null,
            "overflow_y": null,
            "padding": null,
            "right": null,
            "top": null,
            "visibility": null,
            "width": null
          }
        },
        "9aa9a2c9916140b8b4a5baea4adf7e07": {
          "model_module": "@jupyter-widgets/base",
          "model_name": "LayoutModel",
          "model_module_version": "1.2.0",
          "state": {
            "_model_module": "@jupyter-widgets/base",
            "_model_module_version": "1.2.0",
            "_model_name": "LayoutModel",
            "_view_count": null,
            "_view_module": "@jupyter-widgets/base",
            "_view_module_version": "1.2.0",
            "_view_name": "LayoutView",
            "align_content": null,
            "align_items": null,
            "align_self": null,
            "border": null,
            "bottom": null,
            "display": null,
            "flex": null,
            "flex_flow": null,
            "grid_area": null,
            "grid_auto_columns": null,
            "grid_auto_flow": null,
            "grid_auto_rows": null,
            "grid_column": null,
            "grid_gap": null,
            "grid_row": null,
            "grid_template_areas": null,
            "grid_template_columns": null,
            "grid_template_rows": null,
            "height": null,
            "justify_content": null,
            "justify_items": null,
            "left": null,
            "margin": null,
            "max_height": null,
            "max_width": null,
            "min_height": null,
            "min_width": null,
            "object_fit": null,
            "object_position": null,
            "order": null,
            "overflow": null,
            "overflow_x": null,
            "overflow_y": null,
            "padding": null,
            "right": null,
            "top": null,
            "visibility": null,
            "width": null
          }
        },
        "279639f83c2242d0862721fa3fce4c3a": {
          "model_module": "@jupyter-widgets/controls",
          "model_name": "DescriptionStyleModel",
          "model_module_version": "1.5.0",
          "state": {
            "_model_module": "@jupyter-widgets/controls",
            "_model_module_version": "1.5.0",
            "_model_name": "DescriptionStyleModel",
            "_view_count": null,
            "_view_module": "@jupyter-widgets/base",
            "_view_module_version": "1.2.0",
            "_view_name": "StyleView",
            "description_width": ""
          }
        },
        "5904fd1631da4dc7b9dcd95979b775cb": {
          "model_module": "@jupyter-widgets/base",
          "model_name": "LayoutModel",
          "model_module_version": "1.2.0",
          "state": {
            "_model_module": "@jupyter-widgets/base",
            "_model_module_version": "1.2.0",
            "_model_name": "LayoutModel",
            "_view_count": null,
            "_view_module": "@jupyter-widgets/base",
            "_view_module_version": "1.2.0",
            "_view_name": "LayoutView",
            "align_content": null,
            "align_items": null,
            "align_self": null,
            "border": null,
            "bottom": null,
            "display": null,
            "flex": null,
            "flex_flow": null,
            "grid_area": null,
            "grid_auto_columns": null,
            "grid_auto_flow": null,
            "grid_auto_rows": null,
            "grid_column": null,
            "grid_gap": null,
            "grid_row": null,
            "grid_template_areas": null,
            "grid_template_columns": null,
            "grid_template_rows": null,
            "height": null,
            "justify_content": null,
            "justify_items": null,
            "left": null,
            "margin": null,
            "max_height": null,
            "max_width": null,
            "min_height": null,
            "min_width": null,
            "object_fit": null,
            "object_position": null,
            "order": null,
            "overflow": null,
            "overflow_x": null,
            "overflow_y": null,
            "padding": null,
            "right": null,
            "top": null,
            "visibility": null,
            "width": null
          }
        },
        "536ad253b6d644d4925e1af5bbe557d0": {
          "model_module": "@jupyter-widgets/controls",
          "model_name": "ProgressStyleModel",
          "model_module_version": "1.5.0",
          "state": {
            "_model_module": "@jupyter-widgets/controls",
            "_model_module_version": "1.5.0",
            "_model_name": "ProgressStyleModel",
            "_view_count": null,
            "_view_module": "@jupyter-widgets/base",
            "_view_module_version": "1.2.0",
            "_view_name": "StyleView",
            "bar_color": null,
            "description_width": ""
          }
        },
        "30a18589b8b4413d952e0114c74559cf": {
          "model_module": "@jupyter-widgets/base",
          "model_name": "LayoutModel",
          "model_module_version": "1.2.0",
          "state": {
            "_model_module": "@jupyter-widgets/base",
            "_model_module_version": "1.2.0",
            "_model_name": "LayoutModel",
            "_view_count": null,
            "_view_module": "@jupyter-widgets/base",
            "_view_module_version": "1.2.0",
            "_view_name": "LayoutView",
            "align_content": null,
            "align_items": null,
            "align_self": null,
            "border": null,
            "bottom": null,
            "display": null,
            "flex": null,
            "flex_flow": null,
            "grid_area": null,
            "grid_auto_columns": null,
            "grid_auto_flow": null,
            "grid_auto_rows": null,
            "grid_column": null,
            "grid_gap": null,
            "grid_row": null,
            "grid_template_areas": null,
            "grid_template_columns": null,
            "grid_template_rows": null,
            "height": null,
            "justify_content": null,
            "justify_items": null,
            "left": null,
            "margin": null,
            "max_height": null,
            "max_width": null,
            "min_height": null,
            "min_width": null,
            "object_fit": null,
            "object_position": null,
            "order": null,
            "overflow": null,
            "overflow_x": null,
            "overflow_y": null,
            "padding": null,
            "right": null,
            "top": null,
            "visibility": null,
            "width": null
          }
        },
        "fca58745b4f64d2bbd349a93c33132da": {
          "model_module": "@jupyter-widgets/controls",
          "model_name": "DescriptionStyleModel",
          "model_module_version": "1.5.0",
          "state": {
            "_model_module": "@jupyter-widgets/controls",
            "_model_module_version": "1.5.0",
            "_model_name": "DescriptionStyleModel",
            "_view_count": null,
            "_view_module": "@jupyter-widgets/base",
            "_view_module_version": "1.2.0",
            "_view_name": "StyleView",
            "description_width": ""
          }
        },
        "55598a5e4986465e903ed608eb78c9c1": {
          "model_module": "@jupyter-widgets/controls",
          "model_name": "HBoxModel",
          "model_module_version": "1.5.0",
          "state": {
            "_dom_classes": [],
            "_model_module": "@jupyter-widgets/controls",
            "_model_module_version": "1.5.0",
            "_model_name": "HBoxModel",
            "_view_count": null,
            "_view_module": "@jupyter-widgets/controls",
            "_view_module_version": "1.5.0",
            "_view_name": "HBoxView",
            "box_style": "",
            "children": [
              "IPY_MODEL_e0a62c4cef484a9d8f7ae6b70d8d1442",
              "IPY_MODEL_393e4173fd314a20b3d6c055ed9e8d55",
              "IPY_MODEL_493afdd0a138447a8666b0a5e73504a6"
            ],
            "layout": "IPY_MODEL_a4b72a62aa754924ade99d650a3aa305"
          }
        },
        "e0a62c4cef484a9d8f7ae6b70d8d1442": {
          "model_module": "@jupyter-widgets/controls",
          "model_name": "HTMLModel",
          "model_module_version": "1.5.0",
          "state": {
            "_dom_classes": [],
            "_model_module": "@jupyter-widgets/controls",
            "_model_module_version": "1.5.0",
            "_model_name": "HTMLModel",
            "_view_count": null,
            "_view_module": "@jupyter-widgets/controls",
            "_view_module_version": "1.5.0",
            "_view_name": "HTMLView",
            "description": "",
            "description_tooltip": null,
            "layout": "IPY_MODEL_c410df1b64544db88bfe38711dd6ce04",
            "placeholder": "​",
            "style": "IPY_MODEL_959694f1ffed43bf9c89edfab7cff2c4",
            "value": "Computing transition probabilities: 100%"
          }
        },
        "393e4173fd314a20b3d6c055ed9e8d55": {
          "model_module": "@jupyter-widgets/controls",
          "model_name": "FloatProgressModel",
          "model_module_version": "1.5.0",
          "state": {
            "_dom_classes": [],
            "_model_module": "@jupyter-widgets/controls",
            "_model_module_version": "1.5.0",
            "_model_name": "FloatProgressModel",
            "_view_count": null,
            "_view_module": "@jupyter-widgets/controls",
            "_view_module_version": "1.5.0",
            "_view_name": "ProgressView",
            "bar_style": "success",
            "description": "",
            "description_tooltip": null,
            "layout": "IPY_MODEL_cfe3d293801246a38a32a28886e3f9e5",
            "max": 399,
            "min": 0,
            "orientation": "horizontal",
            "style": "IPY_MODEL_9b67f3a9228d40789b31b6d4e904ea99",
            "value": 399
          }
        },
        "493afdd0a138447a8666b0a5e73504a6": {
          "model_module": "@jupyter-widgets/controls",
          "model_name": "HTMLModel",
          "model_module_version": "1.5.0",
          "state": {
            "_dom_classes": [],
            "_model_module": "@jupyter-widgets/controls",
            "_model_module_version": "1.5.0",
            "_model_name": "HTMLModel",
            "_view_count": null,
            "_view_module": "@jupyter-widgets/controls",
            "_view_module_version": "1.5.0",
            "_view_name": "HTMLView",
            "description": "",
            "description_tooltip": null,
            "layout": "IPY_MODEL_9ed5bd8eca794b56bc577a41a507c3e8",
            "placeholder": "​",
            "style": "IPY_MODEL_7b498115f7b24359bd2ae2a8644e17a4",
            "value": " 399/399 [00:52&lt;00:00, 79.62it/s]"
          }
        },
        "a4b72a62aa754924ade99d650a3aa305": {
          "model_module": "@jupyter-widgets/base",
          "model_name": "LayoutModel",
          "model_module_version": "1.2.0",
          "state": {
            "_model_module": "@jupyter-widgets/base",
            "_model_module_version": "1.2.0",
            "_model_name": "LayoutModel",
            "_view_count": null,
            "_view_module": "@jupyter-widgets/base",
            "_view_module_version": "1.2.0",
            "_view_name": "LayoutView",
            "align_content": null,
            "align_items": null,
            "align_self": null,
            "border": null,
            "bottom": null,
            "display": null,
            "flex": null,
            "flex_flow": null,
            "grid_area": null,
            "grid_auto_columns": null,
            "grid_auto_flow": null,
            "grid_auto_rows": null,
            "grid_column": null,
            "grid_gap": null,
            "grid_row": null,
            "grid_template_areas": null,
            "grid_template_columns": null,
            "grid_template_rows": null,
            "height": null,
            "justify_content": null,
            "justify_items": null,
            "left": null,
            "margin": null,
            "max_height": null,
            "max_width": null,
            "min_height": null,
            "min_width": null,
            "object_fit": null,
            "object_position": null,
            "order": null,
            "overflow": null,
            "overflow_x": null,
            "overflow_y": null,
            "padding": null,
            "right": null,
            "top": null,
            "visibility": null,
            "width": null
          }
        },
        "c410df1b64544db88bfe38711dd6ce04": {
          "model_module": "@jupyter-widgets/base",
          "model_name": "LayoutModel",
          "model_module_version": "1.2.0",
          "state": {
            "_model_module": "@jupyter-widgets/base",
            "_model_module_version": "1.2.0",
            "_model_name": "LayoutModel",
            "_view_count": null,
            "_view_module": "@jupyter-widgets/base",
            "_view_module_version": "1.2.0",
            "_view_name": "LayoutView",
            "align_content": null,
            "align_items": null,
            "align_self": null,
            "border": null,
            "bottom": null,
            "display": null,
            "flex": null,
            "flex_flow": null,
            "grid_area": null,
            "grid_auto_columns": null,
            "grid_auto_flow": null,
            "grid_auto_rows": null,
            "grid_column": null,
            "grid_gap": null,
            "grid_row": null,
            "grid_template_areas": null,
            "grid_template_columns": null,
            "grid_template_rows": null,
            "height": null,
            "justify_content": null,
            "justify_items": null,
            "left": null,
            "margin": null,
            "max_height": null,
            "max_width": null,
            "min_height": null,
            "min_width": null,
            "object_fit": null,
            "object_position": null,
            "order": null,
            "overflow": null,
            "overflow_x": null,
            "overflow_y": null,
            "padding": null,
            "right": null,
            "top": null,
            "visibility": null,
            "width": null
          }
        },
        "959694f1ffed43bf9c89edfab7cff2c4": {
          "model_module": "@jupyter-widgets/controls",
          "model_name": "DescriptionStyleModel",
          "model_module_version": "1.5.0",
          "state": {
            "_model_module": "@jupyter-widgets/controls",
            "_model_module_version": "1.5.0",
            "_model_name": "DescriptionStyleModel",
            "_view_count": null,
            "_view_module": "@jupyter-widgets/base",
            "_view_module_version": "1.2.0",
            "_view_name": "StyleView",
            "description_width": ""
          }
        },
        "cfe3d293801246a38a32a28886e3f9e5": {
          "model_module": "@jupyter-widgets/base",
          "model_name": "LayoutModel",
          "model_module_version": "1.2.0",
          "state": {
            "_model_module": "@jupyter-widgets/base",
            "_model_module_version": "1.2.0",
            "_model_name": "LayoutModel",
            "_view_count": null,
            "_view_module": "@jupyter-widgets/base",
            "_view_module_version": "1.2.0",
            "_view_name": "LayoutView",
            "align_content": null,
            "align_items": null,
            "align_self": null,
            "border": null,
            "bottom": null,
            "display": null,
            "flex": null,
            "flex_flow": null,
            "grid_area": null,
            "grid_auto_columns": null,
            "grid_auto_flow": null,
            "grid_auto_rows": null,
            "grid_column": null,
            "grid_gap": null,
            "grid_row": null,
            "grid_template_areas": null,
            "grid_template_columns": null,
            "grid_template_rows": null,
            "height": null,
            "justify_content": null,
            "justify_items": null,
            "left": null,
            "margin": null,
            "max_height": null,
            "max_width": null,
            "min_height": null,
            "min_width": null,
            "object_fit": null,
            "object_position": null,
            "order": null,
            "overflow": null,
            "overflow_x": null,
            "overflow_y": null,
            "padding": null,
            "right": null,
            "top": null,
            "visibility": null,
            "width": null
          }
        },
        "9b67f3a9228d40789b31b6d4e904ea99": {
          "model_module": "@jupyter-widgets/controls",
          "model_name": "ProgressStyleModel",
          "model_module_version": "1.5.0",
          "state": {
            "_model_module": "@jupyter-widgets/controls",
            "_model_module_version": "1.5.0",
            "_model_name": "ProgressStyleModel",
            "_view_count": null,
            "_view_module": "@jupyter-widgets/base",
            "_view_module_version": "1.2.0",
            "_view_name": "StyleView",
            "bar_color": null,
            "description_width": ""
          }
        },
        "9ed5bd8eca794b56bc577a41a507c3e8": {
          "model_module": "@jupyter-widgets/base",
          "model_name": "LayoutModel",
          "model_module_version": "1.2.0",
          "state": {
            "_model_module": "@jupyter-widgets/base",
            "_model_module_version": "1.2.0",
            "_model_name": "LayoutModel",
            "_view_count": null,
            "_view_module": "@jupyter-widgets/base",
            "_view_module_version": "1.2.0",
            "_view_name": "LayoutView",
            "align_content": null,
            "align_items": null,
            "align_self": null,
            "border": null,
            "bottom": null,
            "display": null,
            "flex": null,
            "flex_flow": null,
            "grid_area": null,
            "grid_auto_columns": null,
            "grid_auto_flow": null,
            "grid_auto_rows": null,
            "grid_column": null,
            "grid_gap": null,
            "grid_row": null,
            "grid_template_areas": null,
            "grid_template_columns": null,
            "grid_template_rows": null,
            "height": null,
            "justify_content": null,
            "justify_items": null,
            "left": null,
            "margin": null,
            "max_height": null,
            "max_width": null,
            "min_height": null,
            "min_width": null,
            "object_fit": null,
            "object_position": null,
            "order": null,
            "overflow": null,
            "overflow_x": null,
            "overflow_y": null,
            "padding": null,
            "right": null,
            "top": null,
            "visibility": null,
            "width": null
          }
        },
        "7b498115f7b24359bd2ae2a8644e17a4": {
          "model_module": "@jupyter-widgets/controls",
          "model_name": "DescriptionStyleModel",
          "model_module_version": "1.5.0",
          "state": {
            "_model_module": "@jupyter-widgets/controls",
            "_model_module_version": "1.5.0",
            "_model_name": "DescriptionStyleModel",
            "_view_count": null,
            "_view_module": "@jupyter-widgets/base",
            "_view_module_version": "1.2.0",
            "_view_name": "StyleView",
            "description_width": ""
          }
        }
      }
    }
  },
  "cells": [
    {
      "cell_type": "markdown",
      "source": [
        "#Импорты"
      ],
      "metadata": {
        "id": "rhIlNbOiycWo"
      }
    },
    {
      "cell_type": "code",
      "source": [
        "# install StellarGraph if running on Google Colab\n",
        "import sys\n",
        "if 'google.colab' in sys.modules:\n",
        "  %pip install -q stellargraph[demos]==1.2.1"
      ],
      "metadata": {
        "colab": {
          "base_uri": "https://localhost:8080/"
        },
        "id": "ITzUpFPrKFas",
        "outputId": "7c783e30-6a31-4e57-d0a1-e9cddb651b42"
      },
      "execution_count": 1,
      "outputs": [
        {
          "output_type": "stream",
          "name": "stdout",
          "text": [
            "\u001b[K     |████████████████████████████████| 435 kB 5.8 MB/s \n",
            "\u001b[K     |████████████████████████████████| 482 kB 57.2 MB/s \n",
            "\u001b[K     |████████████████████████████████| 462 kB 39.6 MB/s \n",
            "\u001b[K     |████████████████████████████████| 41 kB 225 kB/s \n",
            "\u001b[?25h  Building wheel for mplleaflet (setup.py) ... \u001b[?25l\u001b[?25hdone\n"
          ]
        }
      ]
    },
    {
      "cell_type": "code",
      "source": [
        "# verify that we're using the correct version of StellarGraph for this notebook\n",
        "import stellargraph as sg\n",
        "\n",
        "try:\n",
        "    sg.utils.validate_notebook_version(\"1.2.1\")\n",
        "except AttributeError:\n",
        "    raise ValueError(\n",
        "        f\"This notebook requires StellarGraph version 1.2.1, but a different version {sg.__version__} is installed.  Please see <https://github.com/stellargraph/stellargraph/issues/1172>.\"\n",
        "    ) from None"
      ],
      "metadata": {
        "id": "oQpOEg5zKIAs"
      },
      "execution_count": 2,
      "outputs": []
    },
    {
      "cell_type": "code",
      "source": [
        "!pip install node2vec"
      ],
      "metadata": {
        "colab": {
          "base_uri": "https://localhost:8080/"
        },
        "id": "Ho52aA98YfTk",
        "outputId": "c83b8d56-0321-4fc8-c306-3593031a699b"
      },
      "execution_count": 3,
      "outputs": [
        {
          "output_type": "stream",
          "name": "stdout",
          "text": [
            "Collecting node2vec\n",
            "  Downloading node2vec-0.4.3.tar.gz (4.6 kB)\n",
            "Requirement already satisfied: networkx in /usr/local/lib/python3.7/dist-packages (from node2vec) (2.6.3)\n",
            "Requirement already satisfied: gensim in /usr/local/lib/python3.7/dist-packages (from node2vec) (3.6.0)\n",
            "Requirement already satisfied: numpy in /usr/local/lib/python3.7/dist-packages (from node2vec) (1.21.5)\n",
            "Requirement already satisfied: tqdm in /usr/local/lib/python3.7/dist-packages (from node2vec) (4.63.0)\n",
            "Requirement already satisfied: joblib>=0.13.2 in /usr/local/lib/python3.7/dist-packages (from node2vec) (1.1.0)\n",
            "Requirement already satisfied: scipy>=0.18.1 in /usr/local/lib/python3.7/dist-packages (from gensim->node2vec) (1.4.1)\n",
            "Requirement already satisfied: six>=1.5.0 in /usr/local/lib/python3.7/dist-packages (from gensim->node2vec) (1.15.0)\n",
            "Requirement already satisfied: smart-open>=1.2.1 in /usr/local/lib/python3.7/dist-packages (from gensim->node2vec) (5.2.1)\n",
            "Building wheels for collected packages: node2vec\n",
            "  Building wheel for node2vec (setup.py) ... \u001b[?25l\u001b[?25hdone\n",
            "  Created wheel for node2vec: filename=node2vec-0.4.3-py3-none-any.whl size=5980 sha256=2f429fbf2e35a8f884826a007eab2f8349cbadf703a72a299e6127434b1e1abd\n",
            "  Stored in directory: /root/.cache/pip/wheels/07/62/78/5202cb8c03cbf1593b48a8a442fca8ceec2a8c80e22318bae9\n",
            "Successfully built node2vec\n",
            "Installing collected packages: node2vec\n",
            "Successfully installed node2vec-0.4.3\n"
          ]
        }
      ]
    },
    {
      "cell_type": "code",
      "execution_count": 4,
      "metadata": {
        "id": "jGmjdLFpDiPX"
      },
      "outputs": [],
      "source": [
        "import pandas as pd\n",
        "import numpy as np\n",
        "from stellargraph import StellarGraph\n",
        "from stellargraph.data import EdgeSplitter\n",
        "from sklearn.model_selection import train_test_split\n",
        "import matplotlib.pyplot as plt\n",
        "from node2vec import Node2Vec\n",
        "from gensim.models import Word2Vec\n",
        "from stellargraph.data import BiasedRandomWalk\n",
        "import networkx as nx\n",
        "import multiprocessing\n",
        "\n",
        "from sklearn.pipeline import Pipeline\n",
        "from sklearn.linear_model import LogisticRegressionCV\n",
        "from sklearn.metrics import roc_auc_score\n",
        "from sklearn.preprocessing import StandardScaler"
      ]
    },
    {
      "cell_type": "code",
      "source": [
        "from google.colab import drive\n",
        "drive.mount('/content/gdrive')"
      ],
      "metadata": {
        "colab": {
          "base_uri": "https://localhost:8080/"
        },
        "id": "bcDzwYjbu4g5",
        "outputId": "b3b60bdd-2bd6-42e7-fa5e-4b35389fb0b0"
      },
      "execution_count": 6,
      "outputs": [
        {
          "output_type": "stream",
          "name": "stdout",
          "text": [
            "Mounted at /content/gdrive\n"
          ]
        }
      ]
    },
    {
      "cell_type": "code",
      "source": [
        "import sys\n",
        "sys.path.append('/content/gdrive/My Drive')"
      ],
      "metadata": {
        "id": "32A5kcymu_uL"
      },
      "execution_count": 7,
      "outputs": []
    },
    {
      "cell_type": "markdown",
      "source": [
        "#История про данные"
      ],
      "metadata": {
        "id": "iVooM54eyTff"
      }
    },
    {
      "cell_type": "markdown",
      "source": [
        "Скопировать с курсовой "
      ],
      "metadata": {
        "id": "iA1CPbJuyWOZ"
      }
    },
    {
      "cell_type": "markdown",
      "source": [
        "Может взять новый датасет с майанимелист?"
      ],
      "metadata": {
        "id": "uCuHV4oEyYsQ"
      }
    },
    {
      "cell_type": "markdown",
      "source": [
        "# Данные в виде графа"
      ],
      "metadata": {
        "id": "RloeXT83LwDh"
      }
    },
    {
      "cell_type": "code",
      "source": [
        "anime = pd.read_csv('/content/gdrive/My Drive/anime.csv')\n",
        "print(anime.columns)"
      ],
      "metadata": {
        "colab": {
          "base_uri": "https://localhost:8080/"
        },
        "id": "vQQgiTYbHd__",
        "outputId": "80ad4aa7-41b1-4229-919a-ea7c12bca6fd"
      },
      "execution_count": 8,
      "outputs": [
        {
          "output_type": "stream",
          "name": "stdout",
          "text": [
            "Index(['anime_id', 'name', 'genre', 'type', 'episodes', 'rating', 'members'], dtype='object')\n"
          ]
        }
      ]
    },
    {
      "cell_type": "code",
      "source": [
        "rating = pd.read_csv('/content/gdrive/My Drive/rating.csv')\n",
        "print(rating.columns)"
      ],
      "metadata": {
        "colab": {
          "base_uri": "https://localhost:8080/"
        },
        "id": "QxiRiGzdHfwM",
        "outputId": "1f30553d-00df-49cb-bafd-f03638c9abfc"
      },
      "execution_count": 9,
      "outputs": [
        {
          "output_type": "stream",
          "name": "stdout",
          "text": [
            "Index(['user_id', 'anime_id', 'rating'], dtype='object')\n"
          ]
        }
      ]
    },
    {
      "cell_type": "markdown",
      "source": [
        "Оставим понравившееся"
      ],
      "metadata": {
        "id": "I8cVSqwkppdH"
      }
    },
    {
      "cell_type": "code",
      "source": [
        "rating_liked = rating.drop(rating[rating['rating'].values < 5].index).drop(columns='rating')\n",
        "rating_liked"
      ],
      "metadata": {
        "id": "TNekk8OlHqzX",
        "colab": {
          "base_uri": "https://localhost:8080/",
          "height": 423
        },
        "outputId": "fae33733-db87-4b17-ea26-8b2e325b8286"
      },
      "execution_count": 10,
      "outputs": [
        {
          "output_type": "execute_result",
          "data": {
            "text/plain": [
              "         user_id  anime_id\n",
              "47             1      8074\n",
              "81             1     11617\n",
              "83             1     11757\n",
              "101            1     15451\n",
              "153            2     11771\n",
              "...          ...       ...\n",
              "7813732    73515     16512\n",
              "7813733    73515     17187\n",
              "7813734    73515     22145\n",
              "7813735    73516       790\n",
              "7813736    73516      8074\n",
              "\n",
              "[6151698 rows x 2 columns]"
            ],
            "text/html": [
              "\n",
              "  <div id=\"df-cb0e1b3f-2ed8-4787-8b5d-ba489bcba309\">\n",
              "    <div class=\"colab-df-container\">\n",
              "      <div>\n",
              "<style scoped>\n",
              "    .dataframe tbody tr th:only-of-type {\n",
              "        vertical-align: middle;\n",
              "    }\n",
              "\n",
              "    .dataframe tbody tr th {\n",
              "        vertical-align: top;\n",
              "    }\n",
              "\n",
              "    .dataframe thead th {\n",
              "        text-align: right;\n",
              "    }\n",
              "</style>\n",
              "<table border=\"1\" class=\"dataframe\">\n",
              "  <thead>\n",
              "    <tr style=\"text-align: right;\">\n",
              "      <th></th>\n",
              "      <th>user_id</th>\n",
              "      <th>anime_id</th>\n",
              "    </tr>\n",
              "  </thead>\n",
              "  <tbody>\n",
              "    <tr>\n",
              "      <th>47</th>\n",
              "      <td>1</td>\n",
              "      <td>8074</td>\n",
              "    </tr>\n",
              "    <tr>\n",
              "      <th>81</th>\n",
              "      <td>1</td>\n",
              "      <td>11617</td>\n",
              "    </tr>\n",
              "    <tr>\n",
              "      <th>83</th>\n",
              "      <td>1</td>\n",
              "      <td>11757</td>\n",
              "    </tr>\n",
              "    <tr>\n",
              "      <th>101</th>\n",
              "      <td>1</td>\n",
              "      <td>15451</td>\n",
              "    </tr>\n",
              "    <tr>\n",
              "      <th>153</th>\n",
              "      <td>2</td>\n",
              "      <td>11771</td>\n",
              "    </tr>\n",
              "    <tr>\n",
              "      <th>...</th>\n",
              "      <td>...</td>\n",
              "      <td>...</td>\n",
              "    </tr>\n",
              "    <tr>\n",
              "      <th>7813732</th>\n",
              "      <td>73515</td>\n",
              "      <td>16512</td>\n",
              "    </tr>\n",
              "    <tr>\n",
              "      <th>7813733</th>\n",
              "      <td>73515</td>\n",
              "      <td>17187</td>\n",
              "    </tr>\n",
              "    <tr>\n",
              "      <th>7813734</th>\n",
              "      <td>73515</td>\n",
              "      <td>22145</td>\n",
              "    </tr>\n",
              "    <tr>\n",
              "      <th>7813735</th>\n",
              "      <td>73516</td>\n",
              "      <td>790</td>\n",
              "    </tr>\n",
              "    <tr>\n",
              "      <th>7813736</th>\n",
              "      <td>73516</td>\n",
              "      <td>8074</td>\n",
              "    </tr>\n",
              "  </tbody>\n",
              "</table>\n",
              "<p>6151698 rows × 2 columns</p>\n",
              "</div>\n",
              "      <button class=\"colab-df-convert\" onclick=\"convertToInteractive('df-cb0e1b3f-2ed8-4787-8b5d-ba489bcba309')\"\n",
              "              title=\"Convert this dataframe to an interactive table.\"\n",
              "              style=\"display:none;\">\n",
              "        \n",
              "  <svg xmlns=\"http://www.w3.org/2000/svg\" height=\"24px\"viewBox=\"0 0 24 24\"\n",
              "       width=\"24px\">\n",
              "    <path d=\"M0 0h24v24H0V0z\" fill=\"none\"/>\n",
              "    <path d=\"M18.56 5.44l.94 2.06.94-2.06 2.06-.94-2.06-.94-.94-2.06-.94 2.06-2.06.94zm-11 1L8.5 8.5l.94-2.06 2.06-.94-2.06-.94L8.5 2.5l-.94 2.06-2.06.94zm10 10l.94 2.06.94-2.06 2.06-.94-2.06-.94-.94-2.06-.94 2.06-2.06.94z\"/><path d=\"M17.41 7.96l-1.37-1.37c-.4-.4-.92-.59-1.43-.59-.52 0-1.04.2-1.43.59L10.3 9.45l-7.72 7.72c-.78.78-.78 2.05 0 2.83L4 21.41c.39.39.9.59 1.41.59.51 0 1.02-.2 1.41-.59l7.78-7.78 2.81-2.81c.8-.78.8-2.07 0-2.86zM5.41 20L4 18.59l7.72-7.72 1.47 1.35L5.41 20z\"/>\n",
              "  </svg>\n",
              "      </button>\n",
              "      \n",
              "  <style>\n",
              "    .colab-df-container {\n",
              "      display:flex;\n",
              "      flex-wrap:wrap;\n",
              "      gap: 12px;\n",
              "    }\n",
              "\n",
              "    .colab-df-convert {\n",
              "      background-color: #E8F0FE;\n",
              "      border: none;\n",
              "      border-radius: 50%;\n",
              "      cursor: pointer;\n",
              "      display: none;\n",
              "      fill: #1967D2;\n",
              "      height: 32px;\n",
              "      padding: 0 0 0 0;\n",
              "      width: 32px;\n",
              "    }\n",
              "\n",
              "    .colab-df-convert:hover {\n",
              "      background-color: #E2EBFA;\n",
              "      box-shadow: 0px 1px 2px rgba(60, 64, 67, 0.3), 0px 1px 3px 1px rgba(60, 64, 67, 0.15);\n",
              "      fill: #174EA6;\n",
              "    }\n",
              "\n",
              "    [theme=dark] .colab-df-convert {\n",
              "      background-color: #3B4455;\n",
              "      fill: #D2E3FC;\n",
              "    }\n",
              "\n",
              "    [theme=dark] .colab-df-convert:hover {\n",
              "      background-color: #434B5C;\n",
              "      box-shadow: 0px 1px 3px 1px rgba(0, 0, 0, 0.15);\n",
              "      filter: drop-shadow(0px 1px 2px rgba(0, 0, 0, 0.3));\n",
              "      fill: #FFFFFF;\n",
              "    }\n",
              "  </style>\n",
              "\n",
              "      <script>\n",
              "        const buttonEl =\n",
              "          document.querySelector('#df-cb0e1b3f-2ed8-4787-8b5d-ba489bcba309 button.colab-df-convert');\n",
              "        buttonEl.style.display =\n",
              "          google.colab.kernel.accessAllowed ? 'block' : 'none';\n",
              "\n",
              "        async function convertToInteractive(key) {\n",
              "          const element = document.querySelector('#df-cb0e1b3f-2ed8-4787-8b5d-ba489bcba309');\n",
              "          const dataTable =\n",
              "            await google.colab.kernel.invokeFunction('convertToInteractive',\n",
              "                                                     [key], {});\n",
              "          if (!dataTable) return;\n",
              "\n",
              "          const docLinkHtml = 'Like what you see? Visit the ' +\n",
              "            '<a target=\"_blank\" href=https://colab.research.google.com/notebooks/data_table.ipynb>data table notebook</a>'\n",
              "            + ' to learn more about interactive tables.';\n",
              "          element.innerHTML = '';\n",
              "          dataTable['output_type'] = 'display_data';\n",
              "          await google.colab.output.renderOutput(dataTable, element);\n",
              "          const docLink = document.createElement('div');\n",
              "          docLink.innerHTML = docLinkHtml;\n",
              "          element.appendChild(docLink);\n",
              "        }\n",
              "      </script>\n",
              "    </div>\n",
              "  </div>\n",
              "  "
            ]
          },
          "metadata": {},
          "execution_count": 10
        }
      ]
    },
    {
      "cell_type": "markdown",
      "source": [
        "Теперь нужно построить граф типа сор-таргет-веса для отправления в машинку по созданию графов"
      ],
      "metadata": {
        "id": "w7g7urROQ3e_"
      }
    },
    {
      "cell_type": "code",
      "source": [
        "similar_users = rating_liked[rating_liked.duplicated('anime_id', keep=False)].groupby('anime_id')['user_id'].apply(list).reset_index()\n",
        "print(similar_users)"
      ],
      "metadata": {
        "colab": {
          "base_uri": "https://localhost:8080/"
        },
        "id": "TDLAy0EaoJpl",
        "outputId": "9d11c59b-ad7c-478b-a52b-8da5f733df9f"
      },
      "execution_count": 11,
      "outputs": [
        {
          "output_type": "stream",
          "name": "stdout",
          "text": [
            "      anime_id                                            user_id\n",
            "0            1  [19, 21, 23, 32, 34, 43, 46, 50, 51, 55, 68, 7...\n",
            "1            5  [19, 21, 23, 51, 139, 152, 160, 200, 234, 242,...\n",
            "2            6  [5, 17, 32, 41, 51, 55, 81, 97, 103, 108, 109,...\n",
            "3            7  [160, 177, 277, 352, 646, 814, 1039, 1089, 117...\n",
            "4            8  [296, 2515, 2812, 3127, 4738, 4749, 4930, 5016...\n",
            "...        ...                                                ...\n",
            "8739     34324  [3009, 13337, 13954, 22839, 31035, 40474, 4126...\n",
            "8740     34325  [1734, 10194, 22835, 33519, 33915, 35370, 4241...\n",
            "8741     34349                              [22434, 38503, 57620]\n",
            "8742     34367                              [30565, 47765, 59643]\n",
            "8743     34475                              [13954, 53492, 70547]\n",
            "\n",
            "[8744 rows x 2 columns]\n"
          ]
        }
      ]
    },
    {
      "cell_type": "code",
      "source": [
        "anime = anime.dropna()"
      ],
      "metadata": {
        "id": "xLGPE-WPKFXQ"
      },
      "execution_count": 12,
      "outputs": []
    },
    {
      "cell_type": "code",
      "source": [
        "for_merging = anime[['anime_id', 'name', 'type','genre']]\n",
        "for_merging['attr'] = for_merging['name'] + ' '+ for_merging['type'] + ' ' + for_merging['genre']\n",
        "for_merging = for_merging.drop(['name', 'type','genre'], axis=1)"
      ],
      "metadata": {
        "id": "nSRpW-L8NbGc",
        "colab": {
          "base_uri": "https://localhost:8080/"
        },
        "outputId": "7ac58858-321b-4695-9bdb-8ba9bad3ed87"
      },
      "execution_count": 13,
      "outputs": [
        {
          "output_type": "stream",
          "name": "stderr",
          "text": [
            "/usr/local/lib/python3.7/dist-packages/ipykernel_launcher.py:2: SettingWithCopyWarning: \n",
            "A value is trying to be set on a copy of a slice from a DataFrame.\n",
            "Try using .loc[row_indexer,col_indexer] = value instead\n",
            "\n",
            "See the caveats in the documentation: https://pandas.pydata.org/pandas-docs/stable/user_guide/indexing.html#returning-a-view-versus-a-copy\n",
            "  \n"
          ]
        }
      ]
    },
    {
      "cell_type": "code",
      "source": [
        "for_merging"
      ],
      "metadata": {
        "colab": {
          "base_uri": "https://localhost:8080/",
          "height": 423
        },
        "id": "iW-Rmh0iNngH",
        "outputId": "855da4d3-8793-4805-c03d-287f26bfa401"
      },
      "execution_count": 14,
      "outputs": [
        {
          "output_type": "execute_result",
          "data": {
            "text/plain": [
              "       anime_id                                               attr\n",
              "0         32281  Kimi no Na wa. Movie Drama, Romance, School, S...\n",
              "1          5114  Fullmetal Alchemist: Brotherhood TV Action, Ad...\n",
              "2         28977  Gintama° TV Action, Comedy, Historical, Parody...\n",
              "3          9253                    Steins;Gate TV Sci-Fi, Thriller\n",
              "4          9969  Gintama&#039; TV Action, Comedy, Historical, P...\n",
              "...         ...                                                ...\n",
              "12289      9316  Toushindai My Lover: Minami tai Mecha-Minami O...\n",
              "12290      5543                             Under World OVA Hentai\n",
              "12291      5621          Violence Gekiga David no Hoshi OVA Hentai\n",
              "12292      6133  Violence Gekiga Shin David no Hoshi: Inma Dens...\n",
              "12293     26081      Yasuji no Pornorama: Yacchimae!! Movie Hentai\n",
              "\n",
              "[12017 rows x 2 columns]"
            ],
            "text/html": [
              "\n",
              "  <div id=\"df-3090760c-7959-4ba6-920f-091a9400462a\">\n",
              "    <div class=\"colab-df-container\">\n",
              "      <div>\n",
              "<style scoped>\n",
              "    .dataframe tbody tr th:only-of-type {\n",
              "        vertical-align: middle;\n",
              "    }\n",
              "\n",
              "    .dataframe tbody tr th {\n",
              "        vertical-align: top;\n",
              "    }\n",
              "\n",
              "    .dataframe thead th {\n",
              "        text-align: right;\n",
              "    }\n",
              "</style>\n",
              "<table border=\"1\" class=\"dataframe\">\n",
              "  <thead>\n",
              "    <tr style=\"text-align: right;\">\n",
              "      <th></th>\n",
              "      <th>anime_id</th>\n",
              "      <th>attr</th>\n",
              "    </tr>\n",
              "  </thead>\n",
              "  <tbody>\n",
              "    <tr>\n",
              "      <th>0</th>\n",
              "      <td>32281</td>\n",
              "      <td>Kimi no Na wa. Movie Drama, Romance, School, S...</td>\n",
              "    </tr>\n",
              "    <tr>\n",
              "      <th>1</th>\n",
              "      <td>5114</td>\n",
              "      <td>Fullmetal Alchemist: Brotherhood TV Action, Ad...</td>\n",
              "    </tr>\n",
              "    <tr>\n",
              "      <th>2</th>\n",
              "      <td>28977</td>\n",
              "      <td>Gintama° TV Action, Comedy, Historical, Parody...</td>\n",
              "    </tr>\n",
              "    <tr>\n",
              "      <th>3</th>\n",
              "      <td>9253</td>\n",
              "      <td>Steins;Gate TV Sci-Fi, Thriller</td>\n",
              "    </tr>\n",
              "    <tr>\n",
              "      <th>4</th>\n",
              "      <td>9969</td>\n",
              "      <td>Gintama&amp;#039; TV Action, Comedy, Historical, P...</td>\n",
              "    </tr>\n",
              "    <tr>\n",
              "      <th>...</th>\n",
              "      <td>...</td>\n",
              "      <td>...</td>\n",
              "    </tr>\n",
              "    <tr>\n",
              "      <th>12289</th>\n",
              "      <td>9316</td>\n",
              "      <td>Toushindai My Lover: Minami tai Mecha-Minami O...</td>\n",
              "    </tr>\n",
              "    <tr>\n",
              "      <th>12290</th>\n",
              "      <td>5543</td>\n",
              "      <td>Under World OVA Hentai</td>\n",
              "    </tr>\n",
              "    <tr>\n",
              "      <th>12291</th>\n",
              "      <td>5621</td>\n",
              "      <td>Violence Gekiga David no Hoshi OVA Hentai</td>\n",
              "    </tr>\n",
              "    <tr>\n",
              "      <th>12292</th>\n",
              "      <td>6133</td>\n",
              "      <td>Violence Gekiga Shin David no Hoshi: Inma Dens...</td>\n",
              "    </tr>\n",
              "    <tr>\n",
              "      <th>12293</th>\n",
              "      <td>26081</td>\n",
              "      <td>Yasuji no Pornorama: Yacchimae!! Movie Hentai</td>\n",
              "    </tr>\n",
              "  </tbody>\n",
              "</table>\n",
              "<p>12017 rows × 2 columns</p>\n",
              "</div>\n",
              "      <button class=\"colab-df-convert\" onclick=\"convertToInteractive('df-3090760c-7959-4ba6-920f-091a9400462a')\"\n",
              "              title=\"Convert this dataframe to an interactive table.\"\n",
              "              style=\"display:none;\">\n",
              "        \n",
              "  <svg xmlns=\"http://www.w3.org/2000/svg\" height=\"24px\"viewBox=\"0 0 24 24\"\n",
              "       width=\"24px\">\n",
              "    <path d=\"M0 0h24v24H0V0z\" fill=\"none\"/>\n",
              "    <path d=\"M18.56 5.44l.94 2.06.94-2.06 2.06-.94-2.06-.94-.94-2.06-.94 2.06-2.06.94zm-11 1L8.5 8.5l.94-2.06 2.06-.94-2.06-.94L8.5 2.5l-.94 2.06-2.06.94zm10 10l.94 2.06.94-2.06 2.06-.94-2.06-.94-.94-2.06-.94 2.06-2.06.94z\"/><path d=\"M17.41 7.96l-1.37-1.37c-.4-.4-.92-.59-1.43-.59-.52 0-1.04.2-1.43.59L10.3 9.45l-7.72 7.72c-.78.78-.78 2.05 0 2.83L4 21.41c.39.39.9.59 1.41.59.51 0 1.02-.2 1.41-.59l7.78-7.78 2.81-2.81c.8-.78.8-2.07 0-2.86zM5.41 20L4 18.59l7.72-7.72 1.47 1.35L5.41 20z\"/>\n",
              "  </svg>\n",
              "      </button>\n",
              "      \n",
              "  <style>\n",
              "    .colab-df-container {\n",
              "      display:flex;\n",
              "      flex-wrap:wrap;\n",
              "      gap: 12px;\n",
              "    }\n",
              "\n",
              "    .colab-df-convert {\n",
              "      background-color: #E8F0FE;\n",
              "      border: none;\n",
              "      border-radius: 50%;\n",
              "      cursor: pointer;\n",
              "      display: none;\n",
              "      fill: #1967D2;\n",
              "      height: 32px;\n",
              "      padding: 0 0 0 0;\n",
              "      width: 32px;\n",
              "    }\n",
              "\n",
              "    .colab-df-convert:hover {\n",
              "      background-color: #E2EBFA;\n",
              "      box-shadow: 0px 1px 2px rgba(60, 64, 67, 0.3), 0px 1px 3px 1px rgba(60, 64, 67, 0.15);\n",
              "      fill: #174EA6;\n",
              "    }\n",
              "\n",
              "    [theme=dark] .colab-df-convert {\n",
              "      background-color: #3B4455;\n",
              "      fill: #D2E3FC;\n",
              "    }\n",
              "\n",
              "    [theme=dark] .colab-df-convert:hover {\n",
              "      background-color: #434B5C;\n",
              "      box-shadow: 0px 1px 3px 1px rgba(0, 0, 0, 0.15);\n",
              "      filter: drop-shadow(0px 1px 2px rgba(0, 0, 0, 0.3));\n",
              "      fill: #FFFFFF;\n",
              "    }\n",
              "  </style>\n",
              "\n",
              "      <script>\n",
              "        const buttonEl =\n",
              "          document.querySelector('#df-3090760c-7959-4ba6-920f-091a9400462a button.colab-df-convert');\n",
              "        buttonEl.style.display =\n",
              "          google.colab.kernel.accessAllowed ? 'block' : 'none';\n",
              "\n",
              "        async function convertToInteractive(key) {\n",
              "          const element = document.querySelector('#df-3090760c-7959-4ba6-920f-091a9400462a');\n",
              "          const dataTable =\n",
              "            await google.colab.kernel.invokeFunction('convertToInteractive',\n",
              "                                                     [key], {});\n",
              "          if (!dataTable) return;\n",
              "\n",
              "          const docLinkHtml = 'Like what you see? Visit the ' +\n",
              "            '<a target=\"_blank\" href=https://colab.research.google.com/notebooks/data_table.ipynb>data table notebook</a>'\n",
              "            + ' to learn more about interactive tables.';\n",
              "          element.innerHTML = '';\n",
              "          dataTable['output_type'] = 'display_data';\n",
              "          await google.colab.output.renderOutput(dataTable, element);\n",
              "          const docLink = document.createElement('div');\n",
              "          docLink.innerHTML = docLinkHtml;\n",
              "          element.appendChild(docLink);\n",
              "        }\n",
              "      </script>\n",
              "    </div>\n",
              "  </div>\n",
              "  "
            ]
          },
          "metadata": {},
          "execution_count": 14
        }
      ]
    },
    {
      "cell_type": "code",
      "source": [
        "similar_users = similar_users.merge(for_merging, \n",
        "                        on=['anime_id'],\n",
        "                        how='inner')\n",
        "similar_users"
      ],
      "metadata": {
        "colab": {
          "base_uri": "https://localhost:8080/",
          "height": 423
        },
        "id": "zbA6HBvdMaZ6",
        "outputId": "9ec3c2cb-73b2-45d2-db03-2ae0e583aa93"
      },
      "execution_count": 15,
      "outputs": [
        {
          "output_type": "execute_result",
          "data": {
            "text/plain": [
              "      anime_id                                            user_id  \\\n",
              "0            1  [19, 21, 23, 32, 34, 43, 46, 50, 51, 55, 68, 7...   \n",
              "1            5  [19, 21, 23, 51, 139, 152, 160, 200, 234, 242,...   \n",
              "2            6  [5, 17, 32, 41, 51, 55, 81, 97, 103, 108, 109,...   \n",
              "3            7  [160, 177, 277, 352, 646, 814, 1039, 1089, 117...   \n",
              "4            8  [296, 2515, 2812, 3127, 4738, 4749, 4930, 5016...   \n",
              "...        ...                                                ...   \n",
              "8728     34324  [3009, 13337, 13954, 22839, 31035, 40474, 4126...   \n",
              "8729     34325  [1734, 10194, 22835, 33519, 33915, 35370, 4241...   \n",
              "8730     34349                              [22434, 38503, 57620]   \n",
              "8731     34367                              [30565, 47765, 59643]   \n",
              "8732     34475                              [13954, 53492, 70547]   \n",
              "\n",
              "                                                   attr  \n",
              "0     Cowboy Bebop TV Action, Adventure, Comedy, Dra...  \n",
              "1     Cowboy Bebop: Tengoku no Tobira Movie Action, ...  \n",
              "2                      Trigun TV Action, Comedy, Sci-Fi  \n",
              "3     Witch Hunter Robin TV Action, Drama, Magic, My...  \n",
              "4     Beet the Vandel Buster TV Adventure, Fantasy, ...  \n",
              "...                                                 ...  \n",
              "8728                            Chiryokumaru ONA Action  \n",
              "8729  Pokemon XY&amp;Z Specials Special Action, Adve...  \n",
              "8730  Diamond no Ace: Second Season OVA OVA Comedy, ...  \n",
              "8731  Long Riders Recap Special Comedy, Shounen, Sli...  \n",
              "8732  Monster Strike: Rain of Memories ONA Action, F...  \n",
              "\n",
              "[8733 rows x 3 columns]"
            ],
            "text/html": [
              "\n",
              "  <div id=\"df-93b6a43a-8cb9-438c-9ec2-485bb994e9b9\">\n",
              "    <div class=\"colab-df-container\">\n",
              "      <div>\n",
              "<style scoped>\n",
              "    .dataframe tbody tr th:only-of-type {\n",
              "        vertical-align: middle;\n",
              "    }\n",
              "\n",
              "    .dataframe tbody tr th {\n",
              "        vertical-align: top;\n",
              "    }\n",
              "\n",
              "    .dataframe thead th {\n",
              "        text-align: right;\n",
              "    }\n",
              "</style>\n",
              "<table border=\"1\" class=\"dataframe\">\n",
              "  <thead>\n",
              "    <tr style=\"text-align: right;\">\n",
              "      <th></th>\n",
              "      <th>anime_id</th>\n",
              "      <th>user_id</th>\n",
              "      <th>attr</th>\n",
              "    </tr>\n",
              "  </thead>\n",
              "  <tbody>\n",
              "    <tr>\n",
              "      <th>0</th>\n",
              "      <td>1</td>\n",
              "      <td>[19, 21, 23, 32, 34, 43, 46, 50, 51, 55, 68, 7...</td>\n",
              "      <td>Cowboy Bebop TV Action, Adventure, Comedy, Dra...</td>\n",
              "    </tr>\n",
              "    <tr>\n",
              "      <th>1</th>\n",
              "      <td>5</td>\n",
              "      <td>[19, 21, 23, 51, 139, 152, 160, 200, 234, 242,...</td>\n",
              "      <td>Cowboy Bebop: Tengoku no Tobira Movie Action, ...</td>\n",
              "    </tr>\n",
              "    <tr>\n",
              "      <th>2</th>\n",
              "      <td>6</td>\n",
              "      <td>[5, 17, 32, 41, 51, 55, 81, 97, 103, 108, 109,...</td>\n",
              "      <td>Trigun TV Action, Comedy, Sci-Fi</td>\n",
              "    </tr>\n",
              "    <tr>\n",
              "      <th>3</th>\n",
              "      <td>7</td>\n",
              "      <td>[160, 177, 277, 352, 646, 814, 1039, 1089, 117...</td>\n",
              "      <td>Witch Hunter Robin TV Action, Drama, Magic, My...</td>\n",
              "    </tr>\n",
              "    <tr>\n",
              "      <th>4</th>\n",
              "      <td>8</td>\n",
              "      <td>[296, 2515, 2812, 3127, 4738, 4749, 4930, 5016...</td>\n",
              "      <td>Beet the Vandel Buster TV Adventure, Fantasy, ...</td>\n",
              "    </tr>\n",
              "    <tr>\n",
              "      <th>...</th>\n",
              "      <td>...</td>\n",
              "      <td>...</td>\n",
              "      <td>...</td>\n",
              "    </tr>\n",
              "    <tr>\n",
              "      <th>8728</th>\n",
              "      <td>34324</td>\n",
              "      <td>[3009, 13337, 13954, 22839, 31035, 40474, 4126...</td>\n",
              "      <td>Chiryokumaru ONA Action</td>\n",
              "    </tr>\n",
              "    <tr>\n",
              "      <th>8729</th>\n",
              "      <td>34325</td>\n",
              "      <td>[1734, 10194, 22835, 33519, 33915, 35370, 4241...</td>\n",
              "      <td>Pokemon XY&amp;amp;Z Specials Special Action, Adve...</td>\n",
              "    </tr>\n",
              "    <tr>\n",
              "      <th>8730</th>\n",
              "      <td>34349</td>\n",
              "      <td>[22434, 38503, 57620]</td>\n",
              "      <td>Diamond no Ace: Second Season OVA OVA Comedy, ...</td>\n",
              "    </tr>\n",
              "    <tr>\n",
              "      <th>8731</th>\n",
              "      <td>34367</td>\n",
              "      <td>[30565, 47765, 59643]</td>\n",
              "      <td>Long Riders Recap Special Comedy, Shounen, Sli...</td>\n",
              "    </tr>\n",
              "    <tr>\n",
              "      <th>8732</th>\n",
              "      <td>34475</td>\n",
              "      <td>[13954, 53492, 70547]</td>\n",
              "      <td>Monster Strike: Rain of Memories ONA Action, F...</td>\n",
              "    </tr>\n",
              "  </tbody>\n",
              "</table>\n",
              "<p>8733 rows × 3 columns</p>\n",
              "</div>\n",
              "      <button class=\"colab-df-convert\" onclick=\"convertToInteractive('df-93b6a43a-8cb9-438c-9ec2-485bb994e9b9')\"\n",
              "              title=\"Convert this dataframe to an interactive table.\"\n",
              "              style=\"display:none;\">\n",
              "        \n",
              "  <svg xmlns=\"http://www.w3.org/2000/svg\" height=\"24px\"viewBox=\"0 0 24 24\"\n",
              "       width=\"24px\">\n",
              "    <path d=\"M0 0h24v24H0V0z\" fill=\"none\"/>\n",
              "    <path d=\"M18.56 5.44l.94 2.06.94-2.06 2.06-.94-2.06-.94-.94-2.06-.94 2.06-2.06.94zm-11 1L8.5 8.5l.94-2.06 2.06-.94-2.06-.94L8.5 2.5l-.94 2.06-2.06.94zm10 10l.94 2.06.94-2.06 2.06-.94-2.06-.94-.94-2.06-.94 2.06-2.06.94z\"/><path d=\"M17.41 7.96l-1.37-1.37c-.4-.4-.92-.59-1.43-.59-.52 0-1.04.2-1.43.59L10.3 9.45l-7.72 7.72c-.78.78-.78 2.05 0 2.83L4 21.41c.39.39.9.59 1.41.59.51 0 1.02-.2 1.41-.59l7.78-7.78 2.81-2.81c.8-.78.8-2.07 0-2.86zM5.41 20L4 18.59l7.72-7.72 1.47 1.35L5.41 20z\"/>\n",
              "  </svg>\n",
              "      </button>\n",
              "      \n",
              "  <style>\n",
              "    .colab-df-container {\n",
              "      display:flex;\n",
              "      flex-wrap:wrap;\n",
              "      gap: 12px;\n",
              "    }\n",
              "\n",
              "    .colab-df-convert {\n",
              "      background-color: #E8F0FE;\n",
              "      border: none;\n",
              "      border-radius: 50%;\n",
              "      cursor: pointer;\n",
              "      display: none;\n",
              "      fill: #1967D2;\n",
              "      height: 32px;\n",
              "      padding: 0 0 0 0;\n",
              "      width: 32px;\n",
              "    }\n",
              "\n",
              "    .colab-df-convert:hover {\n",
              "      background-color: #E2EBFA;\n",
              "      box-shadow: 0px 1px 2px rgba(60, 64, 67, 0.3), 0px 1px 3px 1px rgba(60, 64, 67, 0.15);\n",
              "      fill: #174EA6;\n",
              "    }\n",
              "\n",
              "    [theme=dark] .colab-df-convert {\n",
              "      background-color: #3B4455;\n",
              "      fill: #D2E3FC;\n",
              "    }\n",
              "\n",
              "    [theme=dark] .colab-df-convert:hover {\n",
              "      background-color: #434B5C;\n",
              "      box-shadow: 0px 1px 3px 1px rgba(0, 0, 0, 0.15);\n",
              "      filter: drop-shadow(0px 1px 2px rgba(0, 0, 0, 0.3));\n",
              "      fill: #FFFFFF;\n",
              "    }\n",
              "  </style>\n",
              "\n",
              "      <script>\n",
              "        const buttonEl =\n",
              "          document.querySelector('#df-93b6a43a-8cb9-438c-9ec2-485bb994e9b9 button.colab-df-convert');\n",
              "        buttonEl.style.display =\n",
              "          google.colab.kernel.accessAllowed ? 'block' : 'none';\n",
              "\n",
              "        async function convertToInteractive(key) {\n",
              "          const element = document.querySelector('#df-93b6a43a-8cb9-438c-9ec2-485bb994e9b9');\n",
              "          const dataTable =\n",
              "            await google.colab.kernel.invokeFunction('convertToInteractive',\n",
              "                                                     [key], {});\n",
              "          if (!dataTable) return;\n",
              "\n",
              "          const docLinkHtml = 'Like what you see? Visit the ' +\n",
              "            '<a target=\"_blank\" href=https://colab.research.google.com/notebooks/data_table.ipynb>data table notebook</a>'\n",
              "            + ' to learn more about interactive tables.';\n",
              "          element.innerHTML = '';\n",
              "          dataTable['output_type'] = 'display_data';\n",
              "          await google.colab.output.renderOutput(dataTable, element);\n",
              "          const docLink = document.createElement('div');\n",
              "          docLink.innerHTML = docLinkHtml;\n",
              "          element.appendChild(docLink);\n",
              "        }\n",
              "      </script>\n",
              "    </div>\n",
              "  </div>\n",
              "  "
            ]
          },
          "metadata": {},
          "execution_count": 15
        }
      ]
    },
    {
      "cell_type": "markdown",
      "source": [
        "Сериал сравнивается с остальными сериалами (сразу в цикле пропускать нули сделать) по количеству общих пользователей - эти общие пользователи и есть веса"
      ],
      "metadata": {
        "id": "BKDxTr6Nv-a1"
      }
    },
    {
      "cell_type": "code",
      "source": [
        "graph = pd.DataFrame(data=similar_users).sample(n=800).reset_index().drop(columns=['index'])"
      ],
      "metadata": {
        "id": "4RxulJ68nZk4"
      },
      "execution_count": 16,
      "outputs": []
    },
    {
      "cell_type": "code",
      "source": [
        "# for_graph_weighted = {}"
      ],
      "metadata": {
        "id": "_7V1pTHZ4Bo3"
      },
      "execution_count": 16,
      "outputs": []
    },
    {
      "cell_type": "code",
      "source": [
        "# k = 0\n",
        "# for i in range(1, 800):\n",
        "#   current_value = set(graph[graph.index == int(i-1)]['user_id'].values[0])\n",
        "#   for j in range(i, 800):\n",
        "#     compare_value = set(graph[graph.index == j]['user_id'].values[0])\n",
        "#     weight = len(current_value & compare_value)\n",
        "#     for_graph_weighted[k] = {'source': graph[graph.index == int(i-1)]['attr'].values[0], 'target': graph[graph.index == j]['attr'].values[0], 'weight': weight}\n",
        "#     k += 1"
      ],
      "metadata": {
        "id": "Tv1eltP9xr_V"
      },
      "execution_count": 19,
      "outputs": []
    },
    {
      "cell_type": "code",
      "source": [
        "# data = pd.DataFrame.from_dict(for_graph_weighted).T\n",
        "# data = data.drop(data[data['weight'] == 0].index)\n",
        "# data['source'] = data['source'].astype(str)\n",
        "# data['target'] = data['target'].astype(str)\n",
        "# data['weight'] = data['weight'].astype(int)"
      ],
      "metadata": {
        "id": "EoA56brDoSkn"
      },
      "execution_count": null,
      "outputs": []
    },
    {
      "cell_type": "code",
      "source": [
        "# compression_opts = dict(method='zip', archive_name='randsamp800.csv')\n",
        "# data.to_csv('randsamp800.zip', index=False, compression=compression_opts)"
      ],
      "metadata": {
        "id": "Aa2eN7I63TY8"
      },
      "execution_count": null,
      "outputs": []
    },
    {
      "cell_type": "code",
      "source": [
        "data = pd.read_csv('/content/randsamp800.csv')"
      ],
      "metadata": {
        "id": "NQ3kXjU5bc9T"
      },
      "execution_count": 18,
      "outputs": []
    },
    {
      "cell_type": "markdown",
      "source": [
        "Теперь разредим граф, отбросив веса меньше 50 пользователей"
      ],
      "metadata": {
        "id": "u93_BdG2Sp7p"
      }
    },
    {
      "cell_type": "code",
      "source": [
        "data.shape"
      ],
      "metadata": {
        "colab": {
          "base_uri": "https://localhost:8080/"
        },
        "id": "FABk7RCWTCFY",
        "outputId": "5044a199-0fb0-40aa-dd62-39742dac4845"
      },
      "execution_count": 19,
      "outputs": [
        {
          "output_type": "execute_result",
          "data": {
            "text/plain": [
              "(194393, 3)"
            ]
          },
          "metadata": {},
          "execution_count": 19
        }
      ]
    },
    {
      "cell_type": "code",
      "source": [
        "data_fin = data.drop(data[data['weight'] <= 50].index)"
      ],
      "metadata": {
        "id": "23JQDF5TSx67"
      },
      "execution_count": 20,
      "outputs": []
    },
    {
      "cell_type": "code",
      "source": [
        "data_fin.shape"
      ],
      "metadata": {
        "colab": {
          "base_uri": "https://localhost:8080/"
        },
        "id": "iTjUycJAS9eX",
        "outputId": "d9b77c9a-6037-4ccc-e298-1b94e357d8f3"
      },
      "execution_count": 21,
      "outputs": [
        {
          "output_type": "execute_result",
          "data": {
            "text/plain": [
              "(20771, 3)"
            ]
          },
          "metadata": {},
          "execution_count": 21
        }
      ]
    },
    {
      "cell_type": "markdown",
      "source": [
        "Сохраним названия сериалов, которые оказались в финальном датасете"
      ],
      "metadata": {
        "id": "QxUp3PC4rrDS"
      }
    },
    {
      "cell_type": "code",
      "source": [
        "names_available = data_fin['source'].unique()"
      ],
      "metadata": {
        "id": "6PwCxKArre4l"
      },
      "execution_count": 22,
      "outputs": []
    },
    {
      "cell_type": "markdown",
      "source": [
        "Создадим два одинаковых графа с помощью двух инструментов и посмотрим на них."
      ],
      "metadata": {
        "id": "OsSxR-Ylyh2F"
      }
    },
    {
      "cell_type": "code",
      "source": [
        "graph_sg = StellarGraph(edges=data_fin, node_type_default=\"anime\", edge_type_default=\"nusers_shared\")"
      ],
      "metadata": {
        "id": "9wjOl6TFIl3h"
      },
      "execution_count": 23,
      "outputs": []
    },
    {
      "cell_type": "code",
      "source": [
        "graph_nx = nx.from_pandas_edgelist(data_fin, 'source', 'target', 'weight')"
      ],
      "metadata": {
        "id": "A11oHTe0yIP0"
      },
      "execution_count": 24,
      "outputs": []
    },
    {
      "cell_type": "code",
      "source": [
        "print(graph_sg.info())"
      ],
      "metadata": {
        "colab": {
          "base_uri": "https://localhost:8080/"
        },
        "id": "3055k9CLKSxr",
        "outputId": "1b3c973a-9358-43f3-8ad1-357fd9661d21"
      },
      "execution_count": 25,
      "outputs": [
        {
          "output_type": "stream",
          "name": "stdout",
          "text": [
            "StellarGraph: Undirected multigraph\n",
            " Nodes: 399, Edges: 20771\n",
            "\n",
            " Node types:\n",
            "  anime: [399]\n",
            "    Features: none\n",
            "    Edge types: anime-nusers_shared->anime\n",
            "\n",
            " Edge types:\n",
            "    anime-nusers_shared->anime: [20771]\n",
            "        Weights: range=[51, 12320], mean=246.678, std=443.671\n",
            "        Features: none\n"
          ]
        }
      ]
    },
    {
      "cell_type": "code",
      "source": [
        "print(nx.info(graph_nx))"
      ],
      "metadata": {
        "colab": {
          "base_uri": "https://localhost:8080/"
        },
        "id": "tdcbYsD9z8TD",
        "outputId": "56f8068d-00b9-49e3-e41e-9ff31f472700"
      },
      "execution_count": 26,
      "outputs": [
        {
          "output_type": "stream",
          "name": "stdout",
          "text": [
            "Graph with 399 nodes and 20771 edges\n"
          ]
        }
      ]
    },
    {
      "cell_type": "code",
      "source": [
        "names, weights = graph_sg.edges(include_edge_weight=True)\n",
        "\n",
        "wt, cnt = np.unique(weights, return_counts=True)\n",
        "\n",
        "plt.figure(figsize=(10, 8))\n",
        "plt.bar(wt, cnt)\n",
        "plt.title(\"Распределение весов\")\n",
        "plt.ylabel(\"Сериалы\")\n",
        "plt.xlabel(\"Количество общих пользователей\")\n",
        "plt.xticks(rotation=90)\n",
        "\n",
        "plt.show()"
      ],
      "metadata": {
        "colab": {
          "base_uri": "https://localhost:8080/",
          "height": 534
        },
        "id": "8PAc6jeKl0vZ",
        "outputId": "89e3047e-e988-4b53-b293-520cf9024c5f"
      },
      "execution_count": 28,
      "outputs": [
        {
          "output_type": "display_data",
          "data": {
            "text/plain": [
              "<Figure size 720x576 with 1 Axes>"
            ],
            "image/png": "[encoded data removed]"
          },
          "metadata": {
            "needs_background": "light"
          }
        }
      ]
    },
    {
      "cell_type": "code",
      "source": [
        "nx.draw(graph_nx)"
      ],
      "metadata": {
        "colab": {
          "base_uri": "https://localhost:8080/",
          "height": 319
        },
        "id": "li5f8iFTu_Dm",
        "outputId": "62ce0ddd-9060-43fc-b343-c7ff4bce6c42"
      },
      "execution_count": 29,
      "outputs": [
        {
          "output_type": "display_data",
          "data": {
            "text/plain": [
              "<Figure size 432x288 with 1 Axes>"
            ],
            "image/png": "[encoded data removed]"
          },
          "metadata": {}
        }
      ]
    },
    {
      "cell_type": "markdown",
      "source": [
        "# Train Test (оставить пока)"
      ],
      "metadata": {
        "id": "w0tyA0z3x9TH"
      }
    },
    {
      "cell_type": "markdown",
      "source": [
        "## StellarGraph"
      ],
      "metadata": {
        "id": "7K1aj0qgdbvP"
      }
    },
    {
      "cell_type": "code",
      "source": [
        "edge_splitter_test_sg = EdgeSplitter(graph_sg)\n",
        "graph_test_sg, examples_test_sg, labels_test_sg = edge_splitter_test_sg.train_test_split(p=0.01, method=\"global\")\n",
        "print(graph_test_sg.info())"
      ],
      "metadata": {
        "colab": {
          "base_uri": "https://localhost:8080/"
        },
        "id": "9YsqmelzUFAA",
        "outputId": "ae6f18f5-897c-4b9c-d320-d99849f41d67"
      },
      "execution_count": 30,
      "outputs": [
        {
          "output_type": "stream",
          "name": "stdout",
          "text": [
            "** Sampled 207 positive and 207 negative edges. **\n",
            "StellarGraph: Undirected multigraph\n",
            " Nodes: 399, Edges: 20564\n",
            "\n",
            " Node types:\n",
            "  anime: [399]\n",
            "    Features: none\n",
            "    Edge types: anime-nusers_shared->anime\n",
            "\n",
            " Edge types:\n",
            "    anime-nusers_shared->anime: [20564]\n",
            "        Weights: range=[51, 12320], mean=246.695, std=443.766\n",
            "        Features: none\n"
          ]
        }
      ]
    },
    {
      "cell_type": "code",
      "source": [
        "edge_splitter_train_sg = EdgeSplitter(graph_test_sg, graph_sg)\n",
        "graph_train_sg, examples_sg, labels_sg = edge_splitter_train_sg.train_test_split(p=0.01, method=\"global\")\n",
        "examples_train_sg, examples_model_selection_sg, labels_train_sg, labels_model_selection_sg = train_test_split(examples_sg, labels_sg, train_size=0.75, test_size=0.25)\n",
        "\n",
        "print(graph_train_sg.info())"
      ],
      "metadata": {
        "colab": {
          "base_uri": "https://localhost:8080/"
        },
        "id": "ZTAmfB6kUo8y",
        "outputId": "85e2635f-106f-48ac-9688-a9bd6965ea30"
      },
      "execution_count": 31,
      "outputs": [
        {
          "output_type": "stream",
          "name": "stdout",
          "text": [
            "** Sampled 205 positive and 205 negative edges. **\n",
            "StellarGraph: Undirected multigraph\n",
            " Nodes: 399, Edges: 20359\n",
            "\n",
            " Node types:\n",
            "  anime: [399]\n",
            "    Features: none\n",
            "    Edge types: anime-nusers_shared->anime\n",
            "\n",
            " Edge types:\n",
            "    anime-nusers_shared->anime: [20359]\n",
            "        Weights: range=[51, 12320], mean=246.52, std=443.625\n",
            "        Features: none\n"
          ]
        }
      ]
    },
    {
      "cell_type": "code",
      "source": [
        "pd.DataFrame(\n",
        "    [\n",
        "        (\n",
        "            \"Training Set\",\n",
        "            len(examples_train_sg),\n",
        "            \"Train Graph\",\n",
        "            \"Test Graph\",\n",
        "            \"Train the Link Classifier\",\n",
        "        ),\n",
        "        (\n",
        "            \"Model Selection\",\n",
        "            len(examples_model_selection_sg),\n",
        "            \"Train Graph\",\n",
        "            \"Test Graph\",\n",
        "            \"Select the best Link Classifier model\",\n",
        "        ),\n",
        "        (\n",
        "            \"Test set\",\n",
        "            len(examples_test_sg),\n",
        "            \"Test Graph\",\n",
        "            \"Full Graph\",\n",
        "            \"Evaluate the best Link Classifier\",\n",
        "        ),\n",
        "    ],\n",
        "    columns=(\"Split\", \"Number of Examples\", \"Hidden from\", \"Picked from\", \"Use\"),\n",
        ").set_index(\"Split\")"
      ],
      "metadata": {
        "colab": {
          "base_uri": "https://localhost:8080/",
          "height": 174
        },
        "id": "5aA0B-TUU7JW",
        "outputId": "dd9d5ce3-71d5-4dd1-c4da-55c902810ca0"
      },
      "execution_count": 32,
      "outputs": [
        {
          "output_type": "execute_result",
          "data": {
            "text/plain": [
              "                 Number of Examples  Hidden from Picked from  \\\n",
              "Split                                                          \n",
              "Training Set                    307  Train Graph  Test Graph   \n",
              "Model Selection                 103  Train Graph  Test Graph   \n",
              "Test set                        414   Test Graph  Full Graph   \n",
              "\n",
              "                                                   Use  \n",
              "Split                                                   \n",
              "Training Set                 Train the Link Classifier  \n",
              "Model Selection  Select the best Link Classifier model  \n",
              "Test set             Evaluate the best Link Classifier  "
            ],
            "text/html": [
              "\n",
              "  <div id=\"df-cd79021c-0ae4-4ed8-979c-5e4b1393357e\">\n",
              "    <div class=\"colab-df-container\">\n",
              "      <div>\n",
              "<style scoped>\n",
              "    .dataframe tbody tr th:only-of-type {\n",
              "        vertical-align: middle;\n",
              "    }\n",
              "\n",
              "    .dataframe tbody tr th {\n",
              "        vertical-align: top;\n",
              "    }\n",
              "\n",
              "    .dataframe thead th {\n",
              "        text-align: right;\n",
              "    }\n",
              "</style>\n",
              "<table border=\"1\" class=\"dataframe\">\n",
              "  <thead>\n",
              "    <tr style=\"text-align: right;\">\n",
              "      <th></th>\n",
              "      <th>Number of Examples</th>\n",
              "      <th>Hidden from</th>\n",
              "      <th>Picked from</th>\n",
              "      <th>Use</th>\n",
              "    </tr>\n",
              "    <tr>\n",
              "      <th>Split</th>\n",
              "      <th></th>\n",
              "      <th></th>\n",
              "      <th></th>\n",
              "      <th></th>\n",
              "    </tr>\n",
              "  </thead>\n",
              "  <tbody>\n",
              "    <tr>\n",
              "      <th>Training Set</th>\n",
              "      <td>307</td>\n",
              "      <td>Train Graph</td>\n",
              "      <td>Test Graph</td>\n",
              "      <td>Train the Link Classifier</td>\n",
              "    </tr>\n",
              "    <tr>\n",
              "      <th>Model Selection</th>\n",
              "      <td>103</td>\n",
              "      <td>Train Graph</td>\n",
              "      <td>Test Graph</td>\n",
              "      <td>Select the best Link Classifier model</td>\n",
              "    </tr>\n",
              "    <tr>\n",
              "      <th>Test set</th>\n",
              "      <td>414</td>\n",
              "      <td>Test Graph</td>\n",
              "      <td>Full Graph</td>\n",
              "      <td>Evaluate the best Link Classifier</td>\n",
              "    </tr>\n",
              "  </tbody>\n",
              "</table>\n",
              "</div>\n",
              "      <button class=\"colab-df-convert\" onclick=\"convertToInteractive('df-cd79021c-0ae4-4ed8-979c-5e4b1393357e')\"\n",
              "              title=\"Convert this dataframe to an interactive table.\"\n",
              "              style=\"display:none;\">\n",
              "        \n",
              "  <svg xmlns=\"http://www.w3.org/2000/svg\" height=\"24px\"viewBox=\"0 0 24 24\"\n",
              "       width=\"24px\">\n",
              "    <path d=\"M0 0h24v24H0V0z\" fill=\"none\"/>\n",
              "    <path d=\"M18.56 5.44l.94 2.06.94-2.06 2.06-.94-2.06-.94-.94-2.06-.94 2.06-2.06.94zm-11 1L8.5 8.5l.94-2.06 2.06-.94-2.06-.94L8.5 2.5l-.94 2.06-2.06.94zm10 10l.94 2.06.94-2.06 2.06-.94-2.06-.94-.94-2.06-.94 2.06-2.06.94z\"/><path d=\"M17.41 7.96l-1.37-1.37c-.4-.4-.92-.59-1.43-.59-.52 0-1.04.2-1.43.59L10.3 9.45l-7.72 7.72c-.78.78-.78 2.05 0 2.83L4 21.41c.39.39.9.59 1.41.59.51 0 1.02-.2 1.41-.59l7.78-7.78 2.81-2.81c.8-.78.8-2.07 0-2.86zM5.41 20L4 18.59l7.72-7.72 1.47 1.35L5.41 20z\"/>\n",
              "  </svg>\n",
              "      </button>\n",
              "      \n",
              "  <style>\n",
              "    .colab-df-container {\n",
              "      display:flex;\n",
              "      flex-wrap:wrap;\n",
              "      gap: 12px;\n",
              "    }\n",
              "\n",
              "    .colab-df-convert {\n",
              "      background-color: #E8F0FE;\n",
              "      border: none;\n",
              "      border-radius: 50%;\n",
              "      cursor: pointer;\n",
              "      display: none;\n",
              "      fill: #1967D2;\n",
              "      height: 32px;\n",
              "      padding: 0 0 0 0;\n",
              "      width: 32px;\n",
              "    }\n",
              "\n",
              "    .colab-df-convert:hover {\n",
              "      background-color: #E2EBFA;\n",
              "      box-shadow: 0px 1px 2px rgba(60, 64, 67, 0.3), 0px 1px 3px 1px rgba(60, 64, 67, 0.15);\n",
              "      fill: #174EA6;\n",
              "    }\n",
              "\n",
              "    [theme=dark] .colab-df-convert {\n",
              "      background-color: #3B4455;\n",
              "      fill: #D2E3FC;\n",
              "    }\n",
              "\n",
              "    [theme=dark] .colab-df-convert:hover {\n",
              "      background-color: #434B5C;\n",
              "      box-shadow: 0px 1px 3px 1px rgba(0, 0, 0, 0.15);\n",
              "      filter: drop-shadow(0px 1px 2px rgba(0, 0, 0, 0.3));\n",
              "      fill: #FFFFFF;\n",
              "    }\n",
              "  </style>\n",
              "\n",
              "      <script>\n",
              "        const buttonEl =\n",
              "          document.querySelector('#df-cd79021c-0ae4-4ed8-979c-5e4b1393357e button.colab-df-convert');\n",
              "        buttonEl.style.display =\n",
              "          google.colab.kernel.accessAllowed ? 'block' : 'none';\n",
              "\n",
              "        async function convertToInteractive(key) {\n",
              "          const element = document.querySelector('#df-cd79021c-0ae4-4ed8-979c-5e4b1393357e');\n",
              "          const dataTable =\n",
              "            await google.colab.kernel.invokeFunction('convertToInteractive',\n",
              "                                                     [key], {});\n",
              "          if (!dataTable) return;\n",
              "\n",
              "          const docLinkHtml = 'Like what you see? Visit the ' +\n",
              "            '<a target=\"_blank\" href=https://colab.research.google.com/notebooks/data_table.ipynb>data table notebook</a>'\n",
              "            + ' to learn more about interactive tables.';\n",
              "          element.innerHTML = '';\n",
              "          dataTable['output_type'] = 'display_data';\n",
              "          await google.colab.output.renderOutput(dataTable, element);\n",
              "          const docLink = document.createElement('div');\n",
              "          docLink.innerHTML = docLinkHtml;\n",
              "          element.appendChild(docLink);\n",
              "        }\n",
              "      </script>\n",
              "    </div>\n",
              "  </div>\n",
              "  "
            ]
          },
          "metadata": {},
          "execution_count": 32
        }
      ]
    },
    {
      "cell_type": "code",
      "source": [
        "# for_test = pd.DataFrame(data=similar_users)[-200:]\n",
        "# for_graph_weighted = {}\n",
        "# k = 0\n",
        "# for i in range(8534, 8733):\n",
        "#   current_value = set(for_test[for_test.index == int(i-1)]['user_id'].values[0])\n",
        "#   for j in range(i, 8733):\n",
        "#     compare_value = set(for_test[for_test.index == j]['user_id'].values[0])\n",
        "#     weight = len(current_value & compare_value)\n",
        "#     for_graph_weighted[k] = {'source': for_test[for_test.index == int(i-1)]['attr'].values[0], 'target': for_test[for_test.index == j]['attr'].values[0], 'weight': weight}\n",
        "#     k += 1\n",
        "\n",
        "# data_test = pd.DataFrame.from_dict(for_graph_weighted).T\n",
        "# data_test = data_test.drop(data_test[data_test['weight'] == 0].index)\n",
        "# data_test['source'] = data_test['source'].astype(str)\n",
        "# data_test['target'] = data_test['target'].astype(str)\n",
        "# data_test['weight'] = data_test['weight'].astype(int)\n",
        "\n",
        "# graph_nx_test = nx.from_pandas_edgelist(data_test, 'source', 'target', 'weight')"
      ],
      "metadata": {
        "id": "wDFP__qN9-Lo"
      },
      "execution_count": null,
      "outputs": []
    },
    {
      "cell_type": "markdown",
      "source": [
        "## NetworkX"
      ],
      "metadata": {
        "id": "RFqz0SxHdebN"
      }
    },
    {
      "cell_type": "markdown",
      "source": [
        "https://stackoverflow.com/questions/53255889/test-train-data-set-for-graph-network"
      ],
      "metadata": {
        "id": "HolmMhhjdiiS"
      }
    },
    {
      "cell_type": "code",
      "source": [
        "edge_splitter_test_nx = EdgeSplitter(graph_nx)\n",
        "graph_test_nx, examples_test_nx, labels_test_nx = edge_splitter_test_nx.train_test_split(p=0.01, method=\"global\")\n",
        "\n",
        "print(nx.info(graph_test_nx))"
      ],
      "metadata": {
        "colab": {
          "base_uri": "https://localhost:8080/"
        },
        "id": "wSmk13H0dh-O",
        "outputId": "e8ad84e7-5830-4148-8cde-b0fca850fcea"
      },
      "execution_count": 73,
      "outputs": [
        {
          "output_type": "stream",
          "name": "stdout",
          "text": [
            "** Sampled 207 positive and 207 negative edges. **\n",
            "Graph with 399 nodes and 20564 edges\n"
          ]
        }
      ]
    },
    {
      "cell_type": "code",
      "source": [
        "edge_splitter_train_nx = EdgeSplitter(graph_test_nx, graph_nx)\n",
        "graph_train_nx, examples_nx, labels_nx = edge_splitter_train_nx.train_test_split(p=0.01, method=\"global\")\n",
        "examples_train_nx, examples_model_selection_nx, labels_train_nx, labels_model_selection_nx = train_test_split(examples_nx, labels_nx, train_size=0.75, test_size=0.25)\n",
        "\n",
        "print(nx.info(graph_train_nx))"
      ],
      "metadata": {
        "colab": {
          "base_uri": "https://localhost:8080/"
        },
        "id": "uA5xEF6-eJUI",
        "outputId": "c05d6f7f-df8d-41e1-e950-0102ca546008"
      },
      "execution_count": 74,
      "outputs": [
        {
          "output_type": "stream",
          "name": "stdout",
          "text": [
            "** Sampled 205 positive and 205 negative edges. **\n",
            "Graph with 399 nodes and 20359 edges\n"
          ]
        }
      ]
    },
    {
      "cell_type": "code",
      "source": [
        "pd.DataFrame(\n",
        "    [\n",
        "        (\n",
        "            \"Training Set\",\n",
        "            len(examples_train_nx),\n",
        "            \"Train Graph\",\n",
        "            \"Test Graph\",\n",
        "            \"Train the Link Classifier\",\n",
        "        ),\n",
        "        (\n",
        "            \"Model Selection\",\n",
        "            len(examples_model_selection_nx),\n",
        "            \"Train Graph\",\n",
        "            \"Test Graph\",\n",
        "            \"Select the best Link Classifier model\",\n",
        "        ),\n",
        "        (\n",
        "            \"Test set\",\n",
        "            len(examples_test_nx),\n",
        "            \"Test Graph\",\n",
        "            \"Full Graph\",\n",
        "            \"Evaluate the best Link Classifier\",\n",
        "        ),\n",
        "    ],\n",
        "    columns=(\"Split\", \"Number of Examples\", \"Hidden from\", \"Picked from\", \"Use\"),\n",
        ").set_index(\"Split\")"
      ],
      "metadata": {
        "colab": {
          "base_uri": "https://localhost:8080/",
          "height": 174
        },
        "id": "qDiyTxVXeR-u",
        "outputId": "409f9daa-143c-46a2-a917-3d6b4b11fe07"
      },
      "execution_count": 75,
      "outputs": [
        {
          "output_type": "execute_result",
          "data": {
            "text/plain": [
              "                 Number of Examples  Hidden from Picked from  \\\n",
              "Split                                                          \n",
              "Training Set                    307  Train Graph  Test Graph   \n",
              "Model Selection                 103  Train Graph  Test Graph   \n",
              "Test set                        414   Test Graph  Full Graph   \n",
              "\n",
              "                                                   Use  \n",
              "Split                                                   \n",
              "Training Set                 Train the Link Classifier  \n",
              "Model Selection  Select the best Link Classifier model  \n",
              "Test set             Evaluate the best Link Classifier  "
            ],
            "text/html": [
              "\n",
              "  <div id=\"df-b7179f63-c5f9-47fc-b8d5-0a86d9295c6c\">\n",
              "    <div class=\"colab-df-container\">\n",
              "      <div>\n",
              "<style scoped>\n",
              "    .dataframe tbody tr th:only-of-type {\n",
              "        vertical-align: middle;\n",
              "    }\n",
              "\n",
              "    .dataframe tbody tr th {\n",
              "        vertical-align: top;\n",
              "    }\n",
              "\n",
              "    .dataframe thead th {\n",
              "        text-align: right;\n",
              "    }\n",
              "</style>\n",
              "<table border=\"1\" class=\"dataframe\">\n",
              "  <thead>\n",
              "    <tr style=\"text-align: right;\">\n",
              "      <th></th>\n",
              "      <th>Number of Examples</th>\n",
              "      <th>Hidden from</th>\n",
              "      <th>Picked from</th>\n",
              "      <th>Use</th>\n",
              "    </tr>\n",
              "    <tr>\n",
              "      <th>Split</th>\n",
              "      <th></th>\n",
              "      <th></th>\n",
              "      <th></th>\n",
              "      <th></th>\n",
              "    </tr>\n",
              "  </thead>\n",
              "  <tbody>\n",
              "    <tr>\n",
              "      <th>Training Set</th>\n",
              "      <td>307</td>\n",
              "      <td>Train Graph</td>\n",
              "      <td>Test Graph</td>\n",
              "      <td>Train the Link Classifier</td>\n",
              "    </tr>\n",
              "    <tr>\n",
              "      <th>Model Selection</th>\n",
              "      <td>103</td>\n",
              "      <td>Train Graph</td>\n",
              "      <td>Test Graph</td>\n",
              "      <td>Select the best Link Classifier model</td>\n",
              "    </tr>\n",
              "    <tr>\n",
              "      <th>Test set</th>\n",
              "      <td>414</td>\n",
              "      <td>Test Graph</td>\n",
              "      <td>Full Graph</td>\n",
              "      <td>Evaluate the best Link Classifier</td>\n",
              "    </tr>\n",
              "  </tbody>\n",
              "</table>\n",
              "</div>\n",
              "      <button class=\"colab-df-convert\" onclick=\"convertToInteractive('df-b7179f63-c5f9-47fc-b8d5-0a86d9295c6c')\"\n",
              "              title=\"Convert this dataframe to an interactive table.\"\n",
              "              style=\"display:none;\">\n",
              "        \n",
              "  <svg xmlns=\"http://www.w3.org/2000/svg\" height=\"24px\"viewBox=\"0 0 24 24\"\n",
              "       width=\"24px\">\n",
              "    <path d=\"M0 0h24v24H0V0z\" fill=\"none\"/>\n",
              "    <path d=\"M18.56 5.44l.94 2.06.94-2.06 2.06-.94-2.06-.94-.94-2.06-.94 2.06-2.06.94zm-11 1L8.5 8.5l.94-2.06 2.06-.94-2.06-.94L8.5 2.5l-.94 2.06-2.06.94zm10 10l.94 2.06.94-2.06 2.06-.94-2.06-.94-.94-2.06-.94 2.06-2.06.94z\"/><path d=\"M17.41 7.96l-1.37-1.37c-.4-.4-.92-.59-1.43-.59-.52 0-1.04.2-1.43.59L10.3 9.45l-7.72 7.72c-.78.78-.78 2.05 0 2.83L4 21.41c.39.39.9.59 1.41.59.51 0 1.02-.2 1.41-.59l7.78-7.78 2.81-2.81c.8-.78.8-2.07 0-2.86zM5.41 20L4 18.59l7.72-7.72 1.47 1.35L5.41 20z\"/>\n",
              "  </svg>\n",
              "      </button>\n",
              "      \n",
              "  <style>\n",
              "    .colab-df-container {\n",
              "      display:flex;\n",
              "      flex-wrap:wrap;\n",
              "      gap: 12px;\n",
              "    }\n",
              "\n",
              "    .colab-df-convert {\n",
              "      background-color: #E8F0FE;\n",
              "      border: none;\n",
              "      border-radius: 50%;\n",
              "      cursor: pointer;\n",
              "      display: none;\n",
              "      fill: #1967D2;\n",
              "      height: 32px;\n",
              "      padding: 0 0 0 0;\n",
              "      width: 32px;\n",
              "    }\n",
              "\n",
              "    .colab-df-convert:hover {\n",
              "      background-color: #E2EBFA;\n",
              "      box-shadow: 0px 1px 2px rgba(60, 64, 67, 0.3), 0px 1px 3px 1px rgba(60, 64, 67, 0.15);\n",
              "      fill: #174EA6;\n",
              "    }\n",
              "\n",
              "    [theme=dark] .colab-df-convert {\n",
              "      background-color: #3B4455;\n",
              "      fill: #D2E3FC;\n",
              "    }\n",
              "\n",
              "    [theme=dark] .colab-df-convert:hover {\n",
              "      background-color: #434B5C;\n",
              "      box-shadow: 0px 1px 3px 1px rgba(0, 0, 0, 0.15);\n",
              "      filter: drop-shadow(0px 1px 2px rgba(0, 0, 0, 0.3));\n",
              "      fill: #FFFFFF;\n",
              "    }\n",
              "  </style>\n",
              "\n",
              "      <script>\n",
              "        const buttonEl =\n",
              "          document.querySelector('#df-b7179f63-c5f9-47fc-b8d5-0a86d9295c6c button.colab-df-convert');\n",
              "        buttonEl.style.display =\n",
              "          google.colab.kernel.accessAllowed ? 'block' : 'none';\n",
              "\n",
              "        async function convertToInteractive(key) {\n",
              "          const element = document.querySelector('#df-b7179f63-c5f9-47fc-b8d5-0a86d9295c6c');\n",
              "          const dataTable =\n",
              "            await google.colab.kernel.invokeFunction('convertToInteractive',\n",
              "                                                     [key], {});\n",
              "          if (!dataTable) return;\n",
              "\n",
              "          const docLinkHtml = 'Like what you see? Visit the ' +\n",
              "            '<a target=\"_blank\" href=https://colab.research.google.com/notebooks/data_table.ipynb>data table notebook</a>'\n",
              "            + ' to learn more about interactive tables.';\n",
              "          element.innerHTML = '';\n",
              "          dataTable['output_type'] = 'display_data';\n",
              "          await google.colab.output.renderOutput(dataTable, element);\n",
              "          const docLink = document.createElement('div');\n",
              "          docLink.innerHTML = docLinkHtml;\n",
              "          element.appendChild(docLink);\n",
              "        }\n",
              "      </script>\n",
              "    </div>\n",
              "  </div>\n",
              "  "
            ]
          },
          "metadata": {},
          "execution_count": 75
        }
      ]
    },
    {
      "cell_type": "markdown",
      "source": [
        "# Эмбеддинги"
      ],
      "metadata": {
        "id": "MA05q5-lxruZ"
      }
    },
    {
      "cell_type": "markdown",
      "source": [
        "## word2vec и stellargraph"
      ],
      "metadata": {
        "id": "evsICZJNXYcE"
      }
    },
    {
      "cell_type": "markdown",
      "source": [
        "Можно поделать нод2век со стеллариграфом, через ворд2век"
      ],
      "metadata": {
        "id": "kO7gATNFw-6z"
      }
    },
    {
      "cell_type": "code",
      "source": [
        "rw = BiasedRandomWalk(graph_train_sg)\n",
        "weighted_walks = rw.run(\n",
        "    nodes=graph_train_sg.nodes(),  # root nodes\n",
        "    length=100,  # maximum length of a random walk\n",
        "    n=10,  # number of random walks per root node\n",
        "    p=0.5,  # Defines (unormalised) probability, 1/p, of returning to source node\n",
        "    q=2.0,  # Defines (unormalised) probability, 1/q, for moving away from source node\n",
        "    weighted=True,  # for weighted random walks\n",
        "    seed=42,  # random seed fixed for reproducibility\n",
        ")\n",
        "print(\"Number of random walks: {}\".format(len(weighted_walks)))"
      ],
      "metadata": {
        "colab": {
          "base_uri": "https://localhost:8080/"
        },
        "id": "2s0MEGyxfT7e",
        "outputId": "18b191f2-8b31-4ac4-c1ad-f9d7c08437aa"
      },
      "execution_count": 36,
      "outputs": [
        {
          "output_type": "stream",
          "name": "stdout",
          "text": [
            "Number of random walks: 3990\n"
          ]
        }
      ]
    },
    {
      "cell_type": "code",
      "source": [
        "weighted_model = Word2Vec(weighted_walks, size=128, window=5, min_count=0, sg=1, workers=1, iter=1)\n",
        "weighted_node_embeddings = weighted_model.wv.vectors"
      ],
      "metadata": {
        "id": "DpFL0iVaqRAq"
      },
      "execution_count": 37,
      "outputs": []
    },
    {
      "cell_type": "markdown",
      "source": [
        "Нарисуем с помощью T-SNE"
      ],
      "metadata": {
        "id": "SXLNKy73wt11"
      }
    },
    {
      "cell_type": "code",
      "source": [
        "from sklearn.manifold import TSNE\n",
        "tsne = TSNE(n_components=2, random_state=42)\n",
        "weighted_node_embeddings_2d = tsne.fit_transform(weighted_node_embeddings)"
      ],
      "metadata": {
        "colab": {
          "base_uri": "https://localhost:8080/"
        },
        "id": "ze9FijU74ItM",
        "outputId": "4a1971c4-a32b-4071-99a7-600e87669e21"
      },
      "execution_count": 38,
      "outputs": [
        {
          "output_type": "stream",
          "name": "stderr",
          "text": [
            "/usr/local/lib/python3.7/dist-packages/sklearn/manifold/_t_sne.py:783: FutureWarning: The default initialization in TSNE will change from 'random' to 'pca' in 1.2.\n",
            "  FutureWarning,\n",
            "/usr/local/lib/python3.7/dist-packages/sklearn/manifold/_t_sne.py:793: FutureWarning: The default learning rate in TSNE will change from 200.0 to 'auto' in 1.2.\n",
            "  FutureWarning,\n"
          ]
        }
      ]
    },
    {
      "cell_type": "code",
      "source": [
        "plt.figure(figsize=(10, 8))\n",
        "plt.scatter(weighted_node_embeddings_2d[:, 0], weighted_node_embeddings_2d[:, 1])\n",
        "plt.show()"
      ],
      "metadata": {
        "colab": {
          "base_uri": "https://localhost:8080/",
          "height": 0
        },
        "id": "0XHi9gup4ZuQ",
        "outputId": "e8d63269-9dcd-462c-9e2e-fd6882900c2d"
      },
      "execution_count": 39,
      "outputs": [
        {
          "output_type": "display_data",
          "data": {
            "text/plain": [
              "<Figure size 720x576 with 1 Axes>"
            ],
            "image/png": "[encoded data removed]"
          },
          "metadata": {
            "needs_background": "light"
          }
        }
      ]
    },
    {
      "cell_type": "code",
      "source": [
        "for node, score in weighted_model.wv.most_similar('Sonic X TV Adventure, Comedy, Kids, Mecha, Sci-Fi, Shounen'):\n",
        "  print(node, score)"
      ],
      "metadata": {
        "colab": {
          "base_uri": "https://localhost:8080/"
        },
        "id": "P9UE8qpnslas",
        "outputId": "bf3233c8-ce01-4cef-cd90-e35acfad4982"
      },
      "execution_count": 40,
      "outputs": [
        {
          "output_type": "stream",
          "name": "stdout",
          "text": [
            "Mobile Suit Zeta Gundam: A New Translation III - Love Is the Pulse of the Stars Movie Drama, Mecha, Military, Sci-Fi, Space 0.22597163915634155\n",
            "Zettai Karen Children TV Action, Comedy, Shounen, Supernatural 0.21202607452869415\n",
            "Recorder to Randoseru Re♪ TV Comedy, School, Seinen, Slice of Life 0.2100255936384201\n",
            "Flanders no Inu (Movie) Movie Drama, Historical 0.19356366991996765\n",
            "Hanaukyou Maid-tai TV Comedy, Ecchi, Harem, Romance 0.1927463412284851\n",
            "Taiho Shichau zo in America Special Action, Comedy, Police, Shounen 0.19127406179904938\n",
            "Dakara Boku wa, H ga Dekinai. Recap Special Comedy, Ecchi, Romance, Supernatural 0.17660650610923767\n",
            "Suisei no Gargantia TV Action, Adventure, Mecha, Sci-Fi 0.17443501949310303\n",
            "Yoroiden Samurai Troopers TV Adventure, Samurai, Sci-Fi, Shounen 0.170066237449646\n",
            "Bakuten Shoot Beyblade TV Action, Adventure, Comedy, Sci-Fi, Shounen, Sports 0.16426245868206024\n"
          ]
        }
      ]
    },
    {
      "cell_type": "markdown",
      "source": [
        "## Теперь нод2век"
      ],
      "metadata": {
        "id": "8VGZXCxCxH7_"
      }
    },
    {
      "cell_type": "code",
      "source": [
        "node2vec = Node2Vec(graph_train_nx, dimensions=20, walk_length=16, num_walks=10, weight_key='weight')\n",
        "model = node2vec.fit(window=3, min_count=1)"
      ],
      "metadata": {
        "colab": {
          "base_uri": "https://localhost:8080/",
          "height": 66,
          "referenced_widgets": [
            "031daa0957f44f818d68a381874819d4",
            "3baf723352ce425089502bbcd4731a35",
            "75eb1b95228a4b21ab0e3f3905ffd37b",
            "fd6b1a9130794d62bbe5960da9545442",
            "65665fd841a84e22a97a968deadc96ff",
            "9aa9a2c9916140b8b4a5baea4adf7e07",
            "279639f83c2242d0862721fa3fce4c3a",
            "5904fd1631da4dc7b9dcd95979b775cb",
            "536ad253b6d644d4925e1af5bbe557d0",
            "30a18589b8b4413d952e0114c74559cf",
            "fca58745b4f64d2bbd349a93c33132da"
          ]
        },
        "id": "cJNW5mVWXn2A",
        "outputId": "33214642-51f4-4ada-98fa-46fe0527d57b"
      },
      "execution_count": 41,
      "outputs": [
        {
          "output_type": "display_data",
          "data": {
            "text/plain": [
              "Computing transition probabilities:   0%|          | 0/399 [00:00<?, ?it/s]"
            ],
            "application/vnd.jupyter.widget-view+json": {
              "version_major": 2,
              "version_minor": 0,
              "model_id": "031daa0957f44f818d68a381874819d4"
            }
          },
          "metadata": {}
        },
        {
          "output_type": "stream",
          "name": "stderr",
          "text": [
            "Generating walks (CPU: 1): 100%|██████████| 10/10 [00:06<00:00,  1.59it/s]\n"
          ]
        }
      ]
    },
    {
      "cell_type": "code",
      "source": [
        "ne = model.wv.vectors\n",
        "tsne2 = TSNE(n_components=2, random_state=42)\n",
        "ne_2d = tsne2.fit_transform(ne)"
      ],
      "metadata": {
        "colab": {
          "base_uri": "https://localhost:8080/"
        },
        "id": "fEr0soBaq81f",
        "outputId": "e3442749-daed-4f91-d723-055c687037e6"
      },
      "execution_count": 42,
      "outputs": [
        {
          "output_type": "stream",
          "name": "stderr",
          "text": [
            "/usr/local/lib/python3.7/dist-packages/sklearn/manifold/_t_sne.py:783: FutureWarning: The default initialization in TSNE will change from 'random' to 'pca' in 1.2.\n",
            "  FutureWarning,\n",
            "/usr/local/lib/python3.7/dist-packages/sklearn/manifold/_t_sne.py:793: FutureWarning: The default learning rate in TSNE will change from 200.0 to 'auto' in 1.2.\n",
            "  FutureWarning,\n"
          ]
        }
      ]
    },
    {
      "cell_type": "code",
      "source": [
        "ne.shape"
      ],
      "metadata": {
        "colab": {
          "base_uri": "https://localhost:8080/"
        },
        "id": "_CWhoupedLIC",
        "outputId": "9f4c79ea-a9f7-4e14-f859-015359c3b15b"
      },
      "execution_count": 43,
      "outputs": [
        {
          "output_type": "execute_result",
          "data": {
            "text/plain": [
              "(399, 20)"
            ]
          },
          "metadata": {},
          "execution_count": 43
        }
      ]
    },
    {
      "cell_type": "code",
      "source": [
        "plt.figure(figsize=(10, 8))\n",
        "plt.scatter(ne_2d[:, 0], ne_2d[:, 1])\n",
        "plt.show()"
      ],
      "metadata": {
        "colab": {
          "base_uri": "https://localhost:8080/",
          "height": 483
        },
        "id": "JB06nYYerPkP",
        "outputId": "d57ad70d-dde9-429f-9db1-f74abcd63265"
      },
      "execution_count": 44,
      "outputs": [
        {
          "output_type": "display_data",
          "data": {
            "text/plain": [
              "<Figure size 720x576 with 1 Axes>"
            ],
            "image/png": "[encoded data removed]"
          },
          "metadata": {
            "needs_background": "light"
          }
        }
      ]
    },
    {
      "cell_type": "code",
      "source": [
        "print(names_available[0], model.wv.get_vector(names_available[0]))"
      ],
      "metadata": {
        "colab": {
          "base_uri": "https://localhost:8080/"
        },
        "id": "N6E8U6D4a4Tj",
        "outputId": "312045c9-28c6-4f6f-af03-5a4dc4de92f7"
      },
      "execution_count": 100,
      "outputs": [
        {
          "output_type": "stream",
          "name": "stdout",
          "text": [
            "Mugen no Ryvius TV Drama, Mecha, Military, Psychological, Sci-Fi, Space [-0.42234614 -0.38862103  0.18610914  0.25497583  0.03127626 -0.66185516\n",
            "  0.10134229 -0.51533127 -0.05430074 -0.16984874 -0.0638697  -0.14211889\n",
            "  0.1193101   0.32395002  0.37024298 -0.1071046  -0.15875523 -0.22284387\n",
            " -0.31161615 -0.08422556]\n"
          ]
        }
      ]
    },
    {
      "cell_type": "code",
      "source": [
        "for node, score in model.wv.most_similar('Sonic X TV Adventure, Comedy, Kids, Mecha, Sci-Fi, Shounen'):\n",
        "  print(node, score)"
      ],
      "metadata": {
        "colab": {
          "base_uri": "https://localhost:8080/"
        },
        "id": "6VquPvgiYoZD",
        "outputId": "6df3ee07-21de-4622-be96-9c2caa35dca9"
      },
      "execution_count": 46,
      "outputs": [
        {
          "output_type": "stream",
          "name": "stdout",
          "text": [
            "Kämpfer Picture Drama Special Comedy 0.9981759190559387\n",
            "Yume-iro Pâtissière: Mune Kyun Tropical Island! Special Kids, School, Shoujo 0.9978561997413635\n",
            "Kuroinu: Kedakaki Seijo wa Hakudaku ni Somaru OVA Action, Fantasy, Hentai 0.9978333115577698\n",
            "Osakana wa Ami no Naka OVA Drama, Shounen Ai 0.9977458715438843\n",
            "Dual Parallel! Trouble Adventures Special Special Comedy, Drama, Harem, Mecha, Romance, Sci-Fi 0.9977285861968994\n",
            "Kagaku Ninja-tai Gatchaman TV Action, Adventure, Sci-Fi, Shounen 0.9976598024368286\n",
            "Code Geass: Hangyaku no Lelouch R2 Special Edition Zero Requiem OVA Action, Mecha, Military, Super Power 0.9975928664207458\n",
            "Devilman: Yochou Sirene-hen OVA Demons, Horror, Sci-Fi, Supernatural 0.9975897669792175\n",
            "Taiho Shichau zo in America Special Action, Comedy, Police, Shounen 0.9975740909576416\n",
            "One Piece: Episode of Alabasta - Prologue OVA Action, Adventure, Fantasy, Shounen 0.9975407719612122\n"
          ]
        }
      ]
    },
    {
      "cell_type": "markdown",
      "source": [
        "# Классификация"
      ],
      "metadata": {
        "id": "Z1gwcLOlxwdr"
      }
    },
    {
      "cell_type": "markdown",
      "source": [
        "Теперь вектора преобразуем, попробуем 4 метода (все они описаны в статье Лесковца про нод2век), сделаем классификацию и посмотрим с каким преобразованием рок-аук лучше выйдет"
      ],
      "metadata": {
        "id": "iZzut8Z5kdO6"
      }
    },
    {
      "cell_type": "code",
      "source": [
        "def operator_hadamard(u, v):\n",
        "    return u * v\n",
        "\n",
        "\n",
        "def operator_l1(u, v):\n",
        "    return np.abs(u - v)\n",
        "\n",
        "\n",
        "def operator_l2(u, v):\n",
        "    return (u - v) ** 2\n",
        "\n",
        "\n",
        "def operator_avg(u, v):\n",
        "    return (u + v) / 2.0"
      ],
      "metadata": {
        "id": "-RxIVvmvswMy"
      },
      "execution_count": 101,
      "outputs": []
    },
    {
      "cell_type": "code",
      "source": [
        "def get_vectorized(link_features, model):\n",
        "  s = []\n",
        "  d = []\n",
        "  for src, dst in link_features:\n",
        "    s.append(model.wv[src])\n",
        "    d.append(model.wv[dst])\n",
        "  return np.array(s), np.array(d)"
      ],
      "metadata": {
        "id": "PMGPHD00ayqA"
      },
      "execution_count": 115,
      "outputs": []
    },
    {
      "cell_type": "code",
      "source": [
        "def apply_operator(s, d, op):\n",
        "  transformed = op(s, d)\n",
        "  return transformed"
      ],
      "metadata": {
        "id": "r0119d4xbV09"
      },
      "execution_count": 116,
      "outputs": []
    },
    {
      "cell_type": "code",
      "source": [
        "def do_classification(f_train, l_train, op, model):\n",
        "  s, d = get_vectorized(f_train, model)\n",
        "  X_train = op(s, d)\n",
        "  y_train = l_train\n",
        "\n",
        "  lr_clf = LogisticRegressionCV(Cs=10, cv=10, scoring=\"roc_auc\", max_iter=1000)\n",
        "  pipa = Pipeline(steps=[(\"sc\", StandardScaler()), (\"clf\", lr_clf)])\n",
        "  pipa.fit(X_train, y_train)\n",
        "\n",
        "  return pipa"
      ],
      "metadata": {
        "id": "xbm2vFnCZmfG"
      },
      "execution_count": 117,
      "outputs": []
    },
    {
      "cell_type": "code",
      "source": [
        "def evaluate(classif, f_test, l_test, op, model):\n",
        "  s_test, d_test = get_vectorized(f_test, model)\n",
        "  testing_labels = apply_operator(s_test, d_test, op)\n",
        "  predicted = classif.predict_proba(testing_labels)\n",
        "  positive_column = list(classif.classes_).index(1)\n",
        "  return roc_auc_score(l_test, predicted[:, positive_column])"
      ],
      "metadata": {
        "id": "aCIGvZ6qa2Fi"
      },
      "execution_count": 125,
      "outputs": []
    },
    {
      "cell_type": "code",
      "source": [
        "def run_prediction(op, model):\n",
        "  clf = do_classification(examples_train_nx, labels_train_nx, op, model)\n",
        "  score = evaluate(clf, examples_model_selection_nx, labels_model_selection_nx, op)\n",
        "  return {\n",
        "        \"classifier\": clf,\n",
        "        \"binary_operator\": op,\n",
        "        \"score\": score,\n",
        "    }"
      ],
      "metadata": {
        "id": "vdXlmrggcl-u"
      },
      "execution_count": 123,
      "outputs": []
    },
    {
      "cell_type": "code",
      "source": [
        "binary_operators = [operator_hadamard, operator_l1, operator_l2, operator_avg]"
      ],
      "metadata": {
        "id": "4DPU5BOVaBrL"
      },
      "execution_count": 120,
      "outputs": []
    },
    {
      "cell_type": "code",
      "source": [
        "results = [run_prediction(op, model) for op in binary_operators]\n",
        "best_result = max(results, key=lambda result: result[\"score\"])\n",
        "\n",
        "print(f\"Best result from '{best_result['binary_operator'].__name__}'\")\n",
        "\n",
        "pd.DataFrame(\n",
        "    [(result[\"binary_operator\"].__name__, result[\"score\"]) for result in results],\n",
        "    columns=(\"name\", \"ROC AUC score\"),\n",
        ").set_index(\"name\")"
      ],
      "metadata": {
        "colab": {
          "base_uri": "https://localhost:8080/",
          "height": 223
        },
        "id": "psOvN3VCdZL_",
        "outputId": "f5d4ff26-f847-4f6c-8e7a-c025ce0a6398"
      },
      "execution_count": 124,
      "outputs": [
        {
          "output_type": "stream",
          "name": "stdout",
          "text": [
            "Best result from 'operator_hadamard'\n"
          ]
        },
        {
          "output_type": "execute_result",
          "data": {
            "text/plain": [
              "                   ROC AUC score\n",
              "name                            \n",
              "operator_hadamard       0.898715\n",
              "operator_l1             0.824263\n",
              "operator_l2             0.808768\n",
              "operator_avg            0.893424"
            ],
            "text/html": [
              "\n",
              "  <div id=\"df-45504915-0d73-496d-8cde-fcff748a1059\">\n",
              "    <div class=\"colab-df-container\">\n",
              "      <div>\n",
              "<style scoped>\n",
              "    .dataframe tbody tr th:only-of-type {\n",
              "        vertical-align: middle;\n",
              "    }\n",
              "\n",
              "    .dataframe tbody tr th {\n",
              "        vertical-align: top;\n",
              "    }\n",
              "\n",
              "    .dataframe thead th {\n",
              "        text-align: right;\n",
              "    }\n",
              "</style>\n",
              "<table border=\"1\" class=\"dataframe\">\n",
              "  <thead>\n",
              "    <tr style=\"text-align: right;\">\n",
              "      <th></th>\n",
              "      <th>ROC AUC score</th>\n",
              "    </tr>\n",
              "    <tr>\n",
              "      <th>name</th>\n",
              "      <th></th>\n",
              "    </tr>\n",
              "  </thead>\n",
              "  <tbody>\n",
              "    <tr>\n",
              "      <th>operator_hadamard</th>\n",
              "      <td>0.898715</td>\n",
              "    </tr>\n",
              "    <tr>\n",
              "      <th>operator_l1</th>\n",
              "      <td>0.824263</td>\n",
              "    </tr>\n",
              "    <tr>\n",
              "      <th>operator_l2</th>\n",
              "      <td>0.808768</td>\n",
              "    </tr>\n",
              "    <tr>\n",
              "      <th>operator_avg</th>\n",
              "      <td>0.893424</td>\n",
              "    </tr>\n",
              "  </tbody>\n",
              "</table>\n",
              "</div>\n",
              "      <button class=\"colab-df-convert\" onclick=\"convertToInteractive('df-45504915-0d73-496d-8cde-fcff748a1059')\"\n",
              "              title=\"Convert this dataframe to an interactive table.\"\n",
              "              style=\"display:none;\">\n",
              "        \n",
              "  <svg xmlns=\"http://www.w3.org/2000/svg\" height=\"24px\"viewBox=\"0 0 24 24\"\n",
              "       width=\"24px\">\n",
              "    <path d=\"M0 0h24v24H0V0z\" fill=\"none\"/>\n",
              "    <path d=\"M18.56 5.44l.94 2.06.94-2.06 2.06-.94-2.06-.94-.94-2.06-.94 2.06-2.06.94zm-11 1L8.5 8.5l.94-2.06 2.06-.94-2.06-.94L8.5 2.5l-.94 2.06-2.06.94zm10 10l.94 2.06.94-2.06 2.06-.94-2.06-.94-.94-2.06-.94 2.06-2.06.94z\"/><path d=\"M17.41 7.96l-1.37-1.37c-.4-.4-.92-.59-1.43-.59-.52 0-1.04.2-1.43.59L10.3 9.45l-7.72 7.72c-.78.78-.78 2.05 0 2.83L4 21.41c.39.39.9.59 1.41.59.51 0 1.02-.2 1.41-.59l7.78-7.78 2.81-2.81c.8-.78.8-2.07 0-2.86zM5.41 20L4 18.59l7.72-7.72 1.47 1.35L5.41 20z\"/>\n",
              "  </svg>\n",
              "      </button>\n",
              "      \n",
              "  <style>\n",
              "    .colab-df-container {\n",
              "      display:flex;\n",
              "      flex-wrap:wrap;\n",
              "      gap: 12px;\n",
              "    }\n",
              "\n",
              "    .colab-df-convert {\n",
              "      background-color: #E8F0FE;\n",
              "      border: none;\n",
              "      border-radius: 50%;\n",
              "      cursor: pointer;\n",
              "      display: none;\n",
              "      fill: #1967D2;\n",
              "      height: 32px;\n",
              "      padding: 0 0 0 0;\n",
              "      width: 32px;\n",
              "    }\n",
              "\n",
              "    .colab-df-convert:hover {\n",
              "      background-color: #E2EBFA;\n",
              "      box-shadow: 0px 1px 2px rgba(60, 64, 67, 0.3), 0px 1px 3px 1px rgba(60, 64, 67, 0.15);\n",
              "      fill: #174EA6;\n",
              "    }\n",
              "\n",
              "    [theme=dark] .colab-df-convert {\n",
              "      background-color: #3B4455;\n",
              "      fill: #D2E3FC;\n",
              "    }\n",
              "\n",
              "    [theme=dark] .colab-df-convert:hover {\n",
              "      background-color: #434B5C;\n",
              "      box-shadow: 0px 1px 3px 1px rgba(0, 0, 0, 0.15);\n",
              "      filter: drop-shadow(0px 1px 2px rgba(0, 0, 0, 0.3));\n",
              "      fill: #FFFFFF;\n",
              "    }\n",
              "  </style>\n",
              "\n",
              "      <script>\n",
              "        const buttonEl =\n",
              "          document.querySelector('#df-45504915-0d73-496d-8cde-fcff748a1059 button.colab-df-convert');\n",
              "        buttonEl.style.display =\n",
              "          google.colab.kernel.accessAllowed ? 'block' : 'none';\n",
              "\n",
              "        async function convertToInteractive(key) {\n",
              "          const element = document.querySelector('#df-45504915-0d73-496d-8cde-fcff748a1059');\n",
              "          const dataTable =\n",
              "            await google.colab.kernel.invokeFunction('convertToInteractive',\n",
              "                                                     [key], {});\n",
              "          if (!dataTable) return;\n",
              "\n",
              "          const docLinkHtml = 'Like what you see? Visit the ' +\n",
              "            '<a target=\"_blank\" href=https://colab.research.google.com/notebooks/data_table.ipynb>data table notebook</a>'\n",
              "            + ' to learn more about interactive tables.';\n",
              "          element.innerHTML = '';\n",
              "          dataTable['output_type'] = 'display_data';\n",
              "          await google.colab.output.renderOutput(dataTable, element);\n",
              "          const docLink = document.createElement('div');\n",
              "          docLink.innerHTML = docLinkHtml;\n",
              "          element.appendChild(docLink);\n",
              "        }\n",
              "      </script>\n",
              "    </div>\n",
              "  </div>\n",
              "  "
            ]
          },
          "metadata": {},
          "execution_count": 124
        }
      ]
    },
    {
      "cell_type": "markdown",
      "source": [
        "# Оценка модели"
      ],
      "metadata": {
        "id": "PN1SFjNOxzGV"
      }
    },
    {
      "cell_type": "markdown",
      "source": [
        "Теперь можно сделать с тестовым графом"
      ],
      "metadata": {
        "id": "k0mR9f03ec8W"
      }
    },
    {
      "cell_type": "code",
      "source": [
        "node2vec_test = Node2Vec(graph_test_nx, dimensions=20, walk_length=16, num_walks=10, weight_key='weight')\n",
        "model_test = node2vec_test.fit(window=3, min_count=1)"
      ],
      "metadata": {
        "id": "dRORxRDneexW",
        "outputId": "7ecfad52-209f-4571-b9e4-fe801f57c1a3",
        "colab": {
          "base_uri": "https://localhost:8080/",
          "height": 66,
          "referenced_widgets": [
            "55598a5e4986465e903ed608eb78c9c1",
            "e0a62c4cef484a9d8f7ae6b70d8d1442",
            "393e4173fd314a20b3d6c055ed9e8d55",
            "493afdd0a138447a8666b0a5e73504a6",
            "a4b72a62aa754924ade99d650a3aa305",
            "c410df1b64544db88bfe38711dd6ce04",
            "959694f1ffed43bf9c89edfab7cff2c4",
            "cfe3d293801246a38a32a28886e3f9e5",
            "9b67f3a9228d40789b31b6d4e904ea99",
            "9ed5bd8eca794b56bc577a41a507c3e8",
            "7b498115f7b24359bd2ae2a8644e17a4"
          ]
        }
      },
      "execution_count": 114,
      "outputs": [
        {
          "output_type": "display_data",
          "data": {
            "text/plain": [
              "Computing transition probabilities:   0%|          | 0/399 [00:00<?, ?it/s]"
            ],
            "application/vnd.jupyter.widget-view+json": {
              "version_major": 2,
              "version_minor": 0,
              "model_id": "55598a5e4986465e903ed608eb78c9c1"
            }
          },
          "metadata": {}
        },
        {
          "output_type": "stream",
          "name": "stderr",
          "text": [
            "Generating walks (CPU: 1): 100%|██████████| 10/10 [00:07<00:00,  1.31it/s]\n"
          ]
        }
      ]
    },
    {
      "cell_type": "code",
      "source": [
        "test_score = evaluate(\n",
        "    best_result[\"classifier\"],\n",
        "    examples_test_nx,\n",
        "    labels_test_nx,\n",
        "    best_result[\"binary_operator\"],\n",
        "    model_test,\n",
        ")\n",
        "print(f\"ROC AUC score on test set using '{best_result['binary_operator'].__name__}': {test_score}\")"
      ],
      "metadata": {
        "id": "2-QI--TRegzg",
        "outputId": "4e7b1c79-c5bd-4925-980b-9f0045a75710",
        "colab": {
          "base_uri": "https://localhost:8080/"
        }
      },
      "execution_count": 128,
      "outputs": [
        {
          "output_type": "stream",
          "name": "stdout",
          "text": [
            "ROC AUC score on test set using 'operator_hadamard': 0.8574529160540503\n"
          ]
        }
      ]
    },
    {
      "cell_type": "markdown",
      "source": [
        "Голубым помечено наличие связи, красным - отсутствие"
      ],
      "metadata": {
        "id": "jGacZlyqh4Av"
      }
    },
    {
      "cell_type": "code",
      "source": [
        "src_test, dst_test = get_vectorized(examples_test_nx, model_test)\n",
        "test = apply_operator(src_test, dst_test, operator_hadamard)"
      ],
      "metadata": {
        "id": "acFbnKOLhOUt"
      },
      "execution_count": 135,
      "outputs": []
    },
    {
      "cell_type": "code",
      "source": [
        "embeddings = model_test.wv.vectors\n",
        "tsne2 = TSNE(n_components=2, random_state=42)\n",
        "embeddings_2d = tsne2.fit_transform(test)"
      ],
      "metadata": {
        "id": "_Kxx0KVWiMzq"
      },
      "execution_count": null,
      "outputs": []
    },
    {
      "cell_type": "code",
      "source": [
        "plt.figure(figsize=(10, 8))\n",
        "plt.scatter(embeddings_2d[:, 0], embeddings_2d[:, 1], c=np.where(labels_test_nx == 1, \"b\", \"r\"), alpha=0.5)\n",
        "plt.show()"
      ],
      "metadata": {
        "id": "n6SSLwEmf6VS",
        "outputId": "f0039ff7-3a19-4a1c-e6eb-642beb0d67ff",
        "colab": {
          "base_uri": "https://localhost:8080/",
          "height": 483
        }
      },
      "execution_count": 138,
      "outputs": [
        {
          "output_type": "display_data",
          "data": {
            "text/plain": [
              "<Figure size 720x576 with 1 Axes>"
            ],
            "image/png": "[encoded data removed]"
          },
          "metadata": {
            "needs_background": "light"
          }
        }
      ]
    }
  ]
}