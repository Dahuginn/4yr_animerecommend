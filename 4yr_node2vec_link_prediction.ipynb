{
  "nbformat": 4,
  "nbformat_minor": 0,
  "metadata": {
    "colab": {
      "name": "4yr_node2vec_link_prediction.ipynb",
      "provenance": []
    },
    "kernelspec": {
      "name": "python3",
      "display_name": "Python 3"
    },
    "language_info": {
      "name": "python"
    },
    "widgets": {
      "application/vnd.jupyter.widget-state+json": {
        "55038908d5f04cebb66f21c2e820ec8f": {
          "model_module": "@jupyter-widgets/controls",
          "model_name": "HBoxModel",
          "model_module_version": "1.5.0",
          "state": {
            "_dom_classes": [],
            "_model_module": "@jupyter-widgets/controls",
            "_model_module_version": "1.5.0",
            "_model_name": "HBoxModel",
            "_view_count": null,
            "_view_module": "@jupyter-widgets/controls",
            "_view_module_version": "1.5.0",
            "_view_name": "HBoxView",
            "box_style": "",
            "children": [
              "IPY_MODEL_59d8928083fa4f4e86219d7c737c506c",
              "IPY_MODEL_b157a54016b94989bd4e77781d303558",
              "IPY_MODEL_1e42db61a9aa4430a536dac794ef7249"
            ],
            "layout": "IPY_MODEL_0a264a1853d0435d85b09cde94f81506"
          }
        },
        "59d8928083fa4f4e86219d7c737c506c": {
          "model_module": "@jupyter-widgets/controls",
          "model_name": "HTMLModel",
          "model_module_version": "1.5.0",
          "state": {
            "_dom_classes": [],
            "_model_module": "@jupyter-widgets/controls",
            "_model_module_version": "1.5.0",
            "_model_name": "HTMLModel",
            "_view_count": null,
            "_view_module": "@jupyter-widgets/controls",
            "_view_module_version": "1.5.0",
            "_view_name": "HTMLView",
            "description": "",
            "description_tooltip": null,
            "layout": "IPY_MODEL_8338cfb7de9d40f58c62ccdaf7637468",
            "placeholder": "​",
            "style": "IPY_MODEL_bf067e086460464f812acf84f6706d04",
            "value": "Computing transition probabilities: 100%"
          }
        },
        "b157a54016b94989bd4e77781d303558": {
          "model_module": "@jupyter-widgets/controls",
          "model_name": "FloatProgressModel",
          "model_module_version": "1.5.0",
          "state": {
            "_dom_classes": [],
            "_model_module": "@jupyter-widgets/controls",
            "_model_module_version": "1.5.0",
            "_model_name": "FloatProgressModel",
            "_view_count": null,
            "_view_module": "@jupyter-widgets/controls",
            "_view_module_version": "1.5.0",
            "_view_name": "ProgressView",
            "bar_style": "success",
            "description": "",
            "description_tooltip": null,
            "layout": "IPY_MODEL_f7bc89c6d1dc4d838dbbbb7c5585f522",
            "max": 399,
            "min": 0,
            "orientation": "horizontal",
            "style": "IPY_MODEL_e75e01b98c104e5fae1142cb457697e2",
            "value": 399
          }
        },
        "1e42db61a9aa4430a536dac794ef7249": {
          "model_module": "@jupyter-widgets/controls",
          "model_name": "HTMLModel",
          "model_module_version": "1.5.0",
          "state": {
            "_dom_classes": [],
            "_model_module": "@jupyter-widgets/controls",
            "_model_module_version": "1.5.0",
            "_model_name": "HTMLModel",
            "_view_count": null,
            "_view_module": "@jupyter-widgets/controls",
            "_view_module_version": "1.5.0",
            "_view_name": "HTMLView",
            "description": "",
            "description_tooltip": null,
            "layout": "IPY_MODEL_5c9c27fa90d64213a57d548475c5bf5f",
            "placeholder": "​",
            "style": "IPY_MODEL_9ab9aee9601e425ab141a98f4e16e6ba",
            "value": " 399/399 [00:30&lt;00:00, 121.16it/s]"
          }
        },
        "0a264a1853d0435d85b09cde94f81506": {
          "model_module": "@jupyter-widgets/base",
          "model_name": "LayoutModel",
          "model_module_version": "1.2.0",
          "state": {
            "_model_module": "@jupyter-widgets/base",
            "_model_module_version": "1.2.0",
            "_model_name": "LayoutModel",
            "_view_count": null,
            "_view_module": "@jupyter-widgets/base",
            "_view_module_version": "1.2.0",
            "_view_name": "LayoutView",
            "align_content": null,
            "align_items": null,
            "align_self": null,
            "border": null,
            "bottom": null,
            "display": null,
            "flex": null,
            "flex_flow": null,
            "grid_area": null,
            "grid_auto_columns": null,
            "grid_auto_flow": null,
            "grid_auto_rows": null,
            "grid_column": null,
            "grid_gap": null,
            "grid_row": null,
            "grid_template_areas": null,
            "grid_template_columns": null,
            "grid_template_rows": null,
            "height": null,
            "justify_content": null,
            "justify_items": null,
            "left": null,
            "margin": null,
            "max_height": null,
            "max_width": null,
            "min_height": null,
            "min_width": null,
            "object_fit": null,
            "object_position": null,
            "order": null,
            "overflow": null,
            "overflow_x": null,
            "overflow_y": null,
            "padding": null,
            "right": null,
            "top": null,
            "visibility": null,
            "width": null
          }
        },
        "8338cfb7de9d40f58c62ccdaf7637468": {
          "model_module": "@jupyter-widgets/base",
          "model_name": "LayoutModel",
          "model_module_version": "1.2.0",
          "state": {
            "_model_module": "@jupyter-widgets/base",
            "_model_module_version": "1.2.0",
            "_model_name": "LayoutModel",
            "_view_count": null,
            "_view_module": "@jupyter-widgets/base",
            "_view_module_version": "1.2.0",
            "_view_name": "LayoutView",
            "align_content": null,
            "align_items": null,
            "align_self": null,
            "border": null,
            "bottom": null,
            "display": null,
            "flex": null,
            "flex_flow": null,
            "grid_area": null,
            "grid_auto_columns": null,
            "grid_auto_flow": null,
            "grid_auto_rows": null,
            "grid_column": null,
            "grid_gap": null,
            "grid_row": null,
            "grid_template_areas": null,
            "grid_template_columns": null,
            "grid_template_rows": null,
            "height": null,
            "justify_content": null,
            "justify_items": null,
            "left": null,
            "margin": null,
            "max_height": null,
            "max_width": null,
            "min_height": null,
            "min_width": null,
            "object_fit": null,
            "object_position": null,
            "order": null,
            "overflow": null,
            "overflow_x": null,
            "overflow_y": null,
            "padding": null,
            "right": null,
            "top": null,
            "visibility": null,
            "width": null
          }
        },
        "bf067e086460464f812acf84f6706d04": {
          "model_module": "@jupyter-widgets/controls",
          "model_name": "DescriptionStyleModel",
          "model_module_version": "1.5.0",
          "state": {
            "_model_module": "@jupyter-widgets/controls",
            "_model_module_version": "1.5.0",
            "_model_name": "DescriptionStyleModel",
            "_view_count": null,
            "_view_module": "@jupyter-widgets/base",
            "_view_module_version": "1.2.0",
            "_view_name": "StyleView",
            "description_width": ""
          }
        },
        "f7bc89c6d1dc4d838dbbbb7c5585f522": {
          "model_module": "@jupyter-widgets/base",
          "model_name": "LayoutModel",
          "model_module_version": "1.2.0",
          "state": {
            "_model_module": "@jupyter-widgets/base",
            "_model_module_version": "1.2.0",
            "_model_name": "LayoutModel",
            "_view_count": null,
            "_view_module": "@jupyter-widgets/base",
            "_view_module_version": "1.2.0",
            "_view_name": "LayoutView",
            "align_content": null,
            "align_items": null,
            "align_self": null,
            "border": null,
            "bottom": null,
            "display": null,
            "flex": null,
            "flex_flow": null,
            "grid_area": null,
            "grid_auto_columns": null,
            "grid_auto_flow": null,
            "grid_auto_rows": null,
            "grid_column": null,
            "grid_gap": null,
            "grid_row": null,
            "grid_template_areas": null,
            "grid_template_columns": null,
            "grid_template_rows": null,
            "height": null,
            "justify_content": null,
            "justify_items": null,
            "left": null,
            "margin": null,
            "max_height": null,
            "max_width": null,
            "min_height": null,
            "min_width": null,
            "object_fit": null,
            "object_position": null,
            "order": null,
            "overflow": null,
            "overflow_x": null,
            "overflow_y": null,
            "padding": null,
            "right": null,
            "top": null,
            "visibility": null,
            "width": null
          }
        },
        "e75e01b98c104e5fae1142cb457697e2": {
          "model_module": "@jupyter-widgets/controls",
          "model_name": "ProgressStyleModel",
          "model_module_version": "1.5.0",
          "state": {
            "_model_module": "@jupyter-widgets/controls",
            "_model_module_version": "1.5.0",
            "_model_name": "ProgressStyleModel",
            "_view_count": null,
            "_view_module": "@jupyter-widgets/base",
            "_view_module_version": "1.2.0",
            "_view_name": "StyleView",
            "bar_color": null,
            "description_width": ""
          }
        },
        "5c9c27fa90d64213a57d548475c5bf5f": {
          "model_module": "@jupyter-widgets/base",
          "model_name": "LayoutModel",
          "model_module_version": "1.2.0",
          "state": {
            "_model_module": "@jupyter-widgets/base",
            "_model_module_version": "1.2.0",
            "_model_name": "LayoutModel",
            "_view_count": null,
            "_view_module": "@jupyter-widgets/base",
            "_view_module_version": "1.2.0",
            "_view_name": "LayoutView",
            "align_content": null,
            "align_items": null,
            "align_self": null,
            "border": null,
            "bottom": null,
            "display": null,
            "flex": null,
            "flex_flow": null,
            "grid_area": null,
            "grid_auto_columns": null,
            "grid_auto_flow": null,
            "grid_auto_rows": null,
            "grid_column": null,
            "grid_gap": null,
            "grid_row": null,
            "grid_template_areas": null,
            "grid_template_columns": null,
            "grid_template_rows": null,
            "height": null,
            "justify_content": null,
            "justify_items": null,
            "left": null,
            "margin": null,
            "max_height": null,
            "max_width": null,
            "min_height": null,
            "min_width": null,
            "object_fit": null,
            "object_position": null,
            "order": null,
            "overflow": null,
            "overflow_x": null,
            "overflow_y": null,
            "padding": null,
            "right": null,
            "top": null,
            "visibility": null,
            "width": null
          }
        },
        "9ab9aee9601e425ab141a98f4e16e6ba": {
          "model_module": "@jupyter-widgets/controls",
          "model_name": "DescriptionStyleModel",
          "model_module_version": "1.5.0",
          "state": {
            "_model_module": "@jupyter-widgets/controls",
            "_model_module_version": "1.5.0",
            "_model_name": "DescriptionStyleModel",
            "_view_count": null,
            "_view_module": "@jupyter-widgets/base",
            "_view_module_version": "1.2.0",
            "_view_name": "StyleView",
            "description_width": ""
          }
        }
      }
    }
  },
  "cells": [
    {
      "cell_type": "markdown",
      "source": [
        "#Импорты"
      ],
      "metadata": {
        "id": "rhIlNbOiycWo"
      }
    },
    {
      "cell_type": "code",
      "source": [
        "# install StellarGraph if running on Google Colab\n",
        "import sys\n",
        "if 'google.colab' in sys.modules:\n",
        "  %pip install -q stellargraph[demos]==1.2.1"
      ],
      "metadata": {
        "colab": {
          "base_uri": "https://localhost:8080/"
        },
        "id": "ITzUpFPrKFas",
        "outputId": "e666dbf2-486e-47fa-a125-2e7d17c1ad33"
      },
      "execution_count": null,
      "outputs": [
        {
          "output_type": "stream",
          "name": "stdout",
          "text": [
            "\u001b[K     |████████████████████████████████| 435 kB 8.7 MB/s \n",
            "\u001b[K     |████████████████████████████████| 482 kB 38.3 MB/s \n",
            "\u001b[K     |████████████████████████████████| 462 kB 59.8 MB/s \n",
            "\u001b[K     |████████████████████████████████| 41 kB 619 kB/s \n",
            "\u001b[?25h  Building wheel for mplleaflet (setup.py) ... \u001b[?25l\u001b[?25hdone\n"
          ]
        }
      ]
    },
    {
      "cell_type": "code",
      "source": [
        "# verify that we're using the correct version of StellarGraph for this notebook\n",
        "import stellargraph as sg\n",
        "\n",
        "try:\n",
        "    sg.utils.validate_notebook_version(\"1.2.1\")\n",
        "except AttributeError:\n",
        "    raise ValueError(\n",
        "        f\"This notebook requires StellarGraph version 1.2.1, but a different version {sg.__version__} is installed.  Please see <https://github.com/stellargraph/stellargraph/issues/1172>.\"\n",
        "    ) from None"
      ],
      "metadata": {
        "id": "oQpOEg5zKIAs"
      },
      "execution_count": null,
      "outputs": []
    },
    {
      "cell_type": "code",
      "source": [
        "!pip install node2vec"
      ],
      "metadata": {
        "colab": {
          "base_uri": "https://localhost:8080/"
        },
        "id": "Ho52aA98YfTk",
        "outputId": "b50cea14-c079-4013-9a2c-9c25801552c1"
      },
      "execution_count": null,
      "outputs": [
        {
          "output_type": "stream",
          "name": "stdout",
          "text": [
            "Collecting node2vec\n",
            "  Downloading node2vec-0.4.3.tar.gz (4.6 kB)\n",
            "Requirement already satisfied: networkx in /usr/local/lib/python3.7/dist-packages (from node2vec) (2.6.3)\n",
            "Requirement already satisfied: gensim in /usr/local/lib/python3.7/dist-packages (from node2vec) (3.6.0)\n",
            "Requirement already satisfied: numpy in /usr/local/lib/python3.7/dist-packages (from node2vec) (1.21.5)\n",
            "Requirement already satisfied: tqdm in /usr/local/lib/python3.7/dist-packages (from node2vec) (4.63.0)\n",
            "Requirement already satisfied: joblib>=0.13.2 in /usr/local/lib/python3.7/dist-packages (from node2vec) (1.1.0)\n",
            "Requirement already satisfied: six>=1.5.0 in /usr/local/lib/python3.7/dist-packages (from gensim->node2vec) (1.15.0)\n",
            "Requirement already satisfied: smart-open>=1.2.1 in /usr/local/lib/python3.7/dist-packages (from gensim->node2vec) (5.2.1)\n",
            "Requirement already satisfied: scipy>=0.18.1 in /usr/local/lib/python3.7/dist-packages (from gensim->node2vec) (1.4.1)\n",
            "Building wheels for collected packages: node2vec\n",
            "  Building wheel for node2vec (setup.py) ... \u001b[?25l\u001b[?25hdone\n",
            "  Created wheel for node2vec: filename=node2vec-0.4.3-py3-none-any.whl size=5980 sha256=381733a0c29a8fcbcd1d10d351e5538dc4a1c2fe19ff326e94207c17e033a363\n",
            "  Stored in directory: /root/.cache/pip/wheels/07/62/78/5202cb8c03cbf1593b48a8a442fca8ceec2a8c80e22318bae9\n",
            "Successfully built node2vec\n",
            "Installing collected packages: node2vec\n",
            "Successfully installed node2vec-0.4.3\n"
          ]
        }
      ]
    },
    {
      "cell_type": "code",
      "execution_count": null,
      "metadata": {
        "id": "jGmjdLFpDiPX"
      },
      "outputs": [],
      "source": [
        "import pandas as pd\n",
        "import numpy as np\n",
        "from stellargraph import StellarGraph\n",
        "from stellargraph.data import EdgeSplitter\n",
        "from sklearn.model_selection import train_test_split\n",
        "import matplotlib.pyplot as plt\n",
        "from node2vec import Node2Vec\n",
        "from gensim.models import Word2Vec\n",
        "from stellargraph.data import BiasedRandomWalk\n",
        "import networkx as nx\n",
        "import multiprocessing\n",
        "\n",
        "from sklearn.pipeline import Pipeline\n",
        "from sklearn.linear_model import LogisticRegressionCV\n",
        "from sklearn.metrics import roc_auc_score\n",
        "from sklearn.preprocessing import StandardScaler"
      ]
    },
    {
      "cell_type": "code",
      "source": [
        "from google.colab import drive\n",
        "drive.mount('/content/gdrive')"
      ],
      "metadata": {
        "colab": {
          "base_uri": "https://localhost:8080/"
        },
        "id": "bcDzwYjbu4g5",
        "outputId": "e31b1d7b-2dab-489a-cead-9fcb6f9195e4"
      },
      "execution_count": null,
      "outputs": [
        {
          "output_type": "stream",
          "name": "stdout",
          "text": [
            "Mounted at /content/gdrive\n"
          ]
        }
      ]
    },
    {
      "cell_type": "code",
      "source": [
        "import sys\n",
        "sys.path.append('/content/gdrive/My Drive')"
      ],
      "metadata": {
        "id": "32A5kcymu_uL"
      },
      "execution_count": null,
      "outputs": []
    },
    {
      "cell_type": "markdown",
      "source": [
        "#История про данные"
      ],
      "metadata": {
        "id": "iVooM54eyTff"
      }
    },
    {
      "cell_type": "markdown",
      "source": [
        "Скопировать с курсовой "
      ],
      "metadata": {
        "id": "iA1CPbJuyWOZ"
      }
    },
    {
      "cell_type": "markdown",
      "source": [
        "Может взять новый датасет с майанимелист?"
      ],
      "metadata": {
        "id": "uCuHV4oEyYsQ"
      }
    },
    {
      "cell_type": "markdown",
      "source": [
        "# Данные в виде графа"
      ],
      "metadata": {
        "id": "RloeXT83LwDh"
      }
    },
    {
      "cell_type": "code",
      "source": [
        "anime = pd.read_csv('/content/gdrive/My Drive/anime.csv')\n",
        "print(anime.columns)"
      ],
      "metadata": {
        "colab": {
          "base_uri": "https://localhost:8080/"
        },
        "id": "vQQgiTYbHd__",
        "outputId": "2411fece-2af1-4434-d339-0cf97b732ebd"
      },
      "execution_count": null,
      "outputs": [
        {
          "output_type": "stream",
          "name": "stdout",
          "text": [
            "Index(['anime_id', 'name', 'genre', 'type', 'episodes', 'rating', 'members'], dtype='object')\n"
          ]
        }
      ]
    },
    {
      "cell_type": "code",
      "source": [
        "rating = pd.read_csv('/content/gdrive/My Drive/rating.csv')\n",
        "print(rating.columns)"
      ],
      "metadata": {
        "colab": {
          "base_uri": "https://localhost:8080/"
        },
        "id": "QxiRiGzdHfwM",
        "outputId": "1599987f-a571-4241-ace7-0de92af7e880"
      },
      "execution_count": null,
      "outputs": [
        {
          "output_type": "stream",
          "name": "stdout",
          "text": [
            "Index(['user_id', 'anime_id', 'rating'], dtype='object')\n"
          ]
        }
      ]
    },
    {
      "cell_type": "markdown",
      "source": [
        "Оставим понравившееся"
      ],
      "metadata": {
        "id": "I8cVSqwkppdH"
      }
    },
    {
      "cell_type": "code",
      "source": [
        "rating_liked = rating.drop(rating[rating['rating'].values < 5].index).drop(columns='rating')\n",
        "rating_liked"
      ],
      "metadata": {
        "id": "TNekk8OlHqzX",
        "colab": {
          "base_uri": "https://localhost:8080/",
          "height": 423
        },
        "outputId": "7f2c5195-7e95-4ddc-e312-7b91b9c4dcf4"
      },
      "execution_count": null,
      "outputs": [
        {
          "output_type": "execute_result",
          "data": {
            "text/plain": [
              "         user_id  anime_id\n",
              "47             1      8074\n",
              "81             1     11617\n",
              "83             1     11757\n",
              "101            1     15451\n",
              "153            2     11771\n",
              "...          ...       ...\n",
              "7813732    73515     16512\n",
              "7813733    73515     17187\n",
              "7813734    73515     22145\n",
              "7813735    73516       790\n",
              "7813736    73516      8074\n",
              "\n",
              "[6151698 rows x 2 columns]"
            ],
            "text/html": [
              "\n",
              "  <div id=\"df-97ca58fe-6a8c-485f-91e1-e6a621a5e6c0\">\n",
              "    <div class=\"colab-df-container\">\n",
              "      <div>\n",
              "<style scoped>\n",
              "    .dataframe tbody tr th:only-of-type {\n",
              "        vertical-align: middle;\n",
              "    }\n",
              "\n",
              "    .dataframe tbody tr th {\n",
              "        vertical-align: top;\n",
              "    }\n",
              "\n",
              "    .dataframe thead th {\n",
              "        text-align: right;\n",
              "    }\n",
              "</style>\n",
              "<table border=\"1\" class=\"dataframe\">\n",
              "  <thead>\n",
              "    <tr style=\"text-align: right;\">\n",
              "      <th></th>\n",
              "      <th>user_id</th>\n",
              "      <th>anime_id</th>\n",
              "    </tr>\n",
              "  </thead>\n",
              "  <tbody>\n",
              "    <tr>\n",
              "      <th>47</th>\n",
              "      <td>1</td>\n",
              "      <td>8074</td>\n",
              "    </tr>\n",
              "    <tr>\n",
              "      <th>81</th>\n",
              "      <td>1</td>\n",
              "      <td>11617</td>\n",
              "    </tr>\n",
              "    <tr>\n",
              "      <th>83</th>\n",
              "      <td>1</td>\n",
              "      <td>11757</td>\n",
              "    </tr>\n",
              "    <tr>\n",
              "      <th>101</th>\n",
              "      <td>1</td>\n",
              "      <td>15451</td>\n",
              "    </tr>\n",
              "    <tr>\n",
              "      <th>153</th>\n",
              "      <td>2</td>\n",
              "      <td>11771</td>\n",
              "    </tr>\n",
              "    <tr>\n",
              "      <th>...</th>\n",
              "      <td>...</td>\n",
              "      <td>...</td>\n",
              "    </tr>\n",
              "    <tr>\n",
              "      <th>7813732</th>\n",
              "      <td>73515</td>\n",
              "      <td>16512</td>\n",
              "    </tr>\n",
              "    <tr>\n",
              "      <th>7813733</th>\n",
              "      <td>73515</td>\n",
              "      <td>17187</td>\n",
              "    </tr>\n",
              "    <tr>\n",
              "      <th>7813734</th>\n",
              "      <td>73515</td>\n",
              "      <td>22145</td>\n",
              "    </tr>\n",
              "    <tr>\n",
              "      <th>7813735</th>\n",
              "      <td>73516</td>\n",
              "      <td>790</td>\n",
              "    </tr>\n",
              "    <tr>\n",
              "      <th>7813736</th>\n",
              "      <td>73516</td>\n",
              "      <td>8074</td>\n",
              "    </tr>\n",
              "  </tbody>\n",
              "</table>\n",
              "<p>6151698 rows × 2 columns</p>\n",
              "</div>\n",
              "      <button class=\"colab-df-convert\" onclick=\"convertToInteractive('df-97ca58fe-6a8c-485f-91e1-e6a621a5e6c0')\"\n",
              "              title=\"Convert this dataframe to an interactive table.\"\n",
              "              style=\"display:none;\">\n",
              "        \n",
              "  <svg xmlns=\"http://www.w3.org/2000/svg\" height=\"24px\"viewBox=\"0 0 24 24\"\n",
              "       width=\"24px\">\n",
              "    <path d=\"M0 0h24v24H0V0z\" fill=\"none\"/>\n",
              "    <path d=\"M18.56 5.44l.94 2.06.94-2.06 2.06-.94-2.06-.94-.94-2.06-.94 2.06-2.06.94zm-11 1L8.5 8.5l.94-2.06 2.06-.94-2.06-.94L8.5 2.5l-.94 2.06-2.06.94zm10 10l.94 2.06.94-2.06 2.06-.94-2.06-.94-.94-2.06-.94 2.06-2.06.94z\"/><path d=\"M17.41 7.96l-1.37-1.37c-.4-.4-.92-.59-1.43-.59-.52 0-1.04.2-1.43.59L10.3 9.45l-7.72 7.72c-.78.78-.78 2.05 0 2.83L4 21.41c.39.39.9.59 1.41.59.51 0 1.02-.2 1.41-.59l7.78-7.78 2.81-2.81c.8-.78.8-2.07 0-2.86zM5.41 20L4 18.59l7.72-7.72 1.47 1.35L5.41 20z\"/>\n",
              "  </svg>\n",
              "      </button>\n",
              "      \n",
              "  <style>\n",
              "    .colab-df-container {\n",
              "      display:flex;\n",
              "      flex-wrap:wrap;\n",
              "      gap: 12px;\n",
              "    }\n",
              "\n",
              "    .colab-df-convert {\n",
              "      background-color: #E8F0FE;\n",
              "      border: none;\n",
              "      border-radius: 50%;\n",
              "      cursor: pointer;\n",
              "      display: none;\n",
              "      fill: #1967D2;\n",
              "      height: 32px;\n",
              "      padding: 0 0 0 0;\n",
              "      width: 32px;\n",
              "    }\n",
              "\n",
              "    .colab-df-convert:hover {\n",
              "      background-color: #E2EBFA;\n",
              "      box-shadow: 0px 1px 2px rgba(60, 64, 67, 0.3), 0px 1px 3px 1px rgba(60, 64, 67, 0.15);\n",
              "      fill: #174EA6;\n",
              "    }\n",
              "\n",
              "    [theme=dark] .colab-df-convert {\n",
              "      background-color: #3B4455;\n",
              "      fill: #D2E3FC;\n",
              "    }\n",
              "\n",
              "    [theme=dark] .colab-df-convert:hover {\n",
              "      background-color: #434B5C;\n",
              "      box-shadow: 0px 1px 3px 1px rgba(0, 0, 0, 0.15);\n",
              "      filter: drop-shadow(0px 1px 2px rgba(0, 0, 0, 0.3));\n",
              "      fill: #FFFFFF;\n",
              "    }\n",
              "  </style>\n",
              "\n",
              "      <script>\n",
              "        const buttonEl =\n",
              "          document.querySelector('#df-97ca58fe-6a8c-485f-91e1-e6a621a5e6c0 button.colab-df-convert');\n",
              "        buttonEl.style.display =\n",
              "          google.colab.kernel.accessAllowed ? 'block' : 'none';\n",
              "\n",
              "        async function convertToInteractive(key) {\n",
              "          const element = document.querySelector('#df-97ca58fe-6a8c-485f-91e1-e6a621a5e6c0');\n",
              "          const dataTable =\n",
              "            await google.colab.kernel.invokeFunction('convertToInteractive',\n",
              "                                                     [key], {});\n",
              "          if (!dataTable) return;\n",
              "\n",
              "          const docLinkHtml = 'Like what you see? Visit the ' +\n",
              "            '<a target=\"_blank\" href=https://colab.research.google.com/notebooks/data_table.ipynb>data table notebook</a>'\n",
              "            + ' to learn more about interactive tables.';\n",
              "          element.innerHTML = '';\n",
              "          dataTable['output_type'] = 'display_data';\n",
              "          await google.colab.output.renderOutput(dataTable, element);\n",
              "          const docLink = document.createElement('div');\n",
              "          docLink.innerHTML = docLinkHtml;\n",
              "          element.appendChild(docLink);\n",
              "        }\n",
              "      </script>\n",
              "    </div>\n",
              "  </div>\n",
              "  "
            ]
          },
          "metadata": {},
          "execution_count": 9
        }
      ]
    },
    {
      "cell_type": "markdown",
      "source": [
        "Теперь нужно построить граф типа сор-таргет-веса для отправления в машинку по созданию графов"
      ],
      "metadata": {
        "id": "w7g7urROQ3e_"
      }
    },
    {
      "cell_type": "code",
      "source": [
        "similar_users = rating_liked[rating_liked.duplicated('anime_id', keep=False)].groupby('anime_id')['user_id'].apply(list).reset_index()\n",
        "print(similar_users)"
      ],
      "metadata": {
        "colab": {
          "base_uri": "https://localhost:8080/"
        },
        "id": "TDLAy0EaoJpl",
        "outputId": "1e016db7-27fd-4fbd-b7aa-5bc53d330355"
      },
      "execution_count": null,
      "outputs": [
        {
          "output_type": "stream",
          "name": "stdout",
          "text": [
            "      anime_id                                            user_id\n",
            "0            1  [19, 21, 23, 32, 34, 43, 46, 50, 51, 55, 68, 7...\n",
            "1            5  [19, 21, 23, 51, 139, 152, 160, 200, 234, 242,...\n",
            "2            6  [5, 17, 32, 41, 51, 55, 81, 97, 103, 108, 109,...\n",
            "3            7  [160, 177, 277, 352, 646, 814, 1039, 1089, 117...\n",
            "4            8  [296, 2515, 2812, 3127, 4738, 4749, 4930, 5016...\n",
            "...        ...                                                ...\n",
            "8739     34324  [3009, 13337, 13954, 22839, 31035, 40474, 4126...\n",
            "8740     34325  [1734, 10194, 22835, 33519, 33915, 35370, 4241...\n",
            "8741     34349                              [22434, 38503, 57620]\n",
            "8742     34367                              [30565, 47765, 59643]\n",
            "8743     34475                              [13954, 53492, 70547]\n",
            "\n",
            "[8744 rows x 2 columns]\n"
          ]
        }
      ]
    },
    {
      "cell_type": "code",
      "source": [
        "anime = anime.dropna()"
      ],
      "metadata": {
        "id": "xLGPE-WPKFXQ"
      },
      "execution_count": null,
      "outputs": []
    },
    {
      "cell_type": "code",
      "source": [
        "for_merging = anime[['anime_id', 'name', 'type','genre']]\n",
        "for_merging['attr'] = for_merging['name'] + ' '+ for_merging['type'] + ' ' + for_merging['genre']\n",
        "for_merging = for_merging.drop(['name', 'type','genre'], axis=1)"
      ],
      "metadata": {
        "id": "nSRpW-L8NbGc",
        "colab": {
          "base_uri": "https://localhost:8080/"
        },
        "outputId": "480804c6-daf6-4a9d-84a7-2b78893ec439"
      },
      "execution_count": null,
      "outputs": [
        {
          "output_type": "stream",
          "name": "stderr",
          "text": [
            "/usr/local/lib/python3.7/dist-packages/ipykernel_launcher.py:2: SettingWithCopyWarning: \n",
            "A value is trying to be set on a copy of a slice from a DataFrame.\n",
            "Try using .loc[row_indexer,col_indexer] = value instead\n",
            "\n",
            "See the caveats in the documentation: https://pandas.pydata.org/pandas-docs/stable/user_guide/indexing.html#returning-a-view-versus-a-copy\n",
            "  \n"
          ]
        }
      ]
    },
    {
      "cell_type": "code",
      "source": [
        "for_merging"
      ],
      "metadata": {
        "colab": {
          "base_uri": "https://localhost:8080/",
          "height": 423
        },
        "id": "iW-Rmh0iNngH",
        "outputId": "03a58ac6-750f-4334-d6c4-225de327aeeb"
      },
      "execution_count": null,
      "outputs": [
        {
          "output_type": "execute_result",
          "data": {
            "text/plain": [
              "       anime_id                                               attr\n",
              "0         32281  Kimi no Na wa. Movie Drama, Romance, School, S...\n",
              "1          5114  Fullmetal Alchemist: Brotherhood TV Action, Ad...\n",
              "2         28977  Gintama° TV Action, Comedy, Historical, Parody...\n",
              "3          9253                    Steins;Gate TV Sci-Fi, Thriller\n",
              "4          9969  Gintama&#039; TV Action, Comedy, Historical, P...\n",
              "...         ...                                                ...\n",
              "12289      9316  Toushindai My Lover: Minami tai Mecha-Minami O...\n",
              "12290      5543                             Under World OVA Hentai\n",
              "12291      5621          Violence Gekiga David no Hoshi OVA Hentai\n",
              "12292      6133  Violence Gekiga Shin David no Hoshi: Inma Dens...\n",
              "12293     26081      Yasuji no Pornorama: Yacchimae!! Movie Hentai\n",
              "\n",
              "[12017 rows x 2 columns]"
            ],
            "text/html": [
              "\n",
              "  <div id=\"df-d4000934-1404-4d47-b8b8-0bbff0578256\">\n",
              "    <div class=\"colab-df-container\">\n",
              "      <div>\n",
              "<style scoped>\n",
              "    .dataframe tbody tr th:only-of-type {\n",
              "        vertical-align: middle;\n",
              "    }\n",
              "\n",
              "    .dataframe tbody tr th {\n",
              "        vertical-align: top;\n",
              "    }\n",
              "\n",
              "    .dataframe thead th {\n",
              "        text-align: right;\n",
              "    }\n",
              "</style>\n",
              "<table border=\"1\" class=\"dataframe\">\n",
              "  <thead>\n",
              "    <tr style=\"text-align: right;\">\n",
              "      <th></th>\n",
              "      <th>anime_id</th>\n",
              "      <th>attr</th>\n",
              "    </tr>\n",
              "  </thead>\n",
              "  <tbody>\n",
              "    <tr>\n",
              "      <th>0</th>\n",
              "      <td>32281</td>\n",
              "      <td>Kimi no Na wa. Movie Drama, Romance, School, S...</td>\n",
              "    </tr>\n",
              "    <tr>\n",
              "      <th>1</th>\n",
              "      <td>5114</td>\n",
              "      <td>Fullmetal Alchemist: Brotherhood TV Action, Ad...</td>\n",
              "    </tr>\n",
              "    <tr>\n",
              "      <th>2</th>\n",
              "      <td>28977</td>\n",
              "      <td>Gintama° TV Action, Comedy, Historical, Parody...</td>\n",
              "    </tr>\n",
              "    <tr>\n",
              "      <th>3</th>\n",
              "      <td>9253</td>\n",
              "      <td>Steins;Gate TV Sci-Fi, Thriller</td>\n",
              "    </tr>\n",
              "    <tr>\n",
              "      <th>4</th>\n",
              "      <td>9969</td>\n",
              "      <td>Gintama&amp;#039; TV Action, Comedy, Historical, P...</td>\n",
              "    </tr>\n",
              "    <tr>\n",
              "      <th>...</th>\n",
              "      <td>...</td>\n",
              "      <td>...</td>\n",
              "    </tr>\n",
              "    <tr>\n",
              "      <th>12289</th>\n",
              "      <td>9316</td>\n",
              "      <td>Toushindai My Lover: Minami tai Mecha-Minami O...</td>\n",
              "    </tr>\n",
              "    <tr>\n",
              "      <th>12290</th>\n",
              "      <td>5543</td>\n",
              "      <td>Under World OVA Hentai</td>\n",
              "    </tr>\n",
              "    <tr>\n",
              "      <th>12291</th>\n",
              "      <td>5621</td>\n",
              "      <td>Violence Gekiga David no Hoshi OVA Hentai</td>\n",
              "    </tr>\n",
              "    <tr>\n",
              "      <th>12292</th>\n",
              "      <td>6133</td>\n",
              "      <td>Violence Gekiga Shin David no Hoshi: Inma Dens...</td>\n",
              "    </tr>\n",
              "    <tr>\n",
              "      <th>12293</th>\n",
              "      <td>26081</td>\n",
              "      <td>Yasuji no Pornorama: Yacchimae!! Movie Hentai</td>\n",
              "    </tr>\n",
              "  </tbody>\n",
              "</table>\n",
              "<p>12017 rows × 2 columns</p>\n",
              "</div>\n",
              "      <button class=\"colab-df-convert\" onclick=\"convertToInteractive('df-d4000934-1404-4d47-b8b8-0bbff0578256')\"\n",
              "              title=\"Convert this dataframe to an interactive table.\"\n",
              "              style=\"display:none;\">\n",
              "        \n",
              "  <svg xmlns=\"http://www.w3.org/2000/svg\" height=\"24px\"viewBox=\"0 0 24 24\"\n",
              "       width=\"24px\">\n",
              "    <path d=\"M0 0h24v24H0V0z\" fill=\"none\"/>\n",
              "    <path d=\"M18.56 5.44l.94 2.06.94-2.06 2.06-.94-2.06-.94-.94-2.06-.94 2.06-2.06.94zm-11 1L8.5 8.5l.94-2.06 2.06-.94-2.06-.94L8.5 2.5l-.94 2.06-2.06.94zm10 10l.94 2.06.94-2.06 2.06-.94-2.06-.94-.94-2.06-.94 2.06-2.06.94z\"/><path d=\"M17.41 7.96l-1.37-1.37c-.4-.4-.92-.59-1.43-.59-.52 0-1.04.2-1.43.59L10.3 9.45l-7.72 7.72c-.78.78-.78 2.05 0 2.83L4 21.41c.39.39.9.59 1.41.59.51 0 1.02-.2 1.41-.59l7.78-7.78 2.81-2.81c.8-.78.8-2.07 0-2.86zM5.41 20L4 18.59l7.72-7.72 1.47 1.35L5.41 20z\"/>\n",
              "  </svg>\n",
              "      </button>\n",
              "      \n",
              "  <style>\n",
              "    .colab-df-container {\n",
              "      display:flex;\n",
              "      flex-wrap:wrap;\n",
              "      gap: 12px;\n",
              "    }\n",
              "\n",
              "    .colab-df-convert {\n",
              "      background-color: #E8F0FE;\n",
              "      border: none;\n",
              "      border-radius: 50%;\n",
              "      cursor: pointer;\n",
              "      display: none;\n",
              "      fill: #1967D2;\n",
              "      height: 32px;\n",
              "      padding: 0 0 0 0;\n",
              "      width: 32px;\n",
              "    }\n",
              "\n",
              "    .colab-df-convert:hover {\n",
              "      background-color: #E2EBFA;\n",
              "      box-shadow: 0px 1px 2px rgba(60, 64, 67, 0.3), 0px 1px 3px 1px rgba(60, 64, 67, 0.15);\n",
              "      fill: #174EA6;\n",
              "    }\n",
              "\n",
              "    [theme=dark] .colab-df-convert {\n",
              "      background-color: #3B4455;\n",
              "      fill: #D2E3FC;\n",
              "    }\n",
              "\n",
              "    [theme=dark] .colab-df-convert:hover {\n",
              "      background-color: #434B5C;\n",
              "      box-shadow: 0px 1px 3px 1px rgba(0, 0, 0, 0.15);\n",
              "      filter: drop-shadow(0px 1px 2px rgba(0, 0, 0, 0.3));\n",
              "      fill: #FFFFFF;\n",
              "    }\n",
              "  </style>\n",
              "\n",
              "      <script>\n",
              "        const buttonEl =\n",
              "          document.querySelector('#df-d4000934-1404-4d47-b8b8-0bbff0578256 button.colab-df-convert');\n",
              "        buttonEl.style.display =\n",
              "          google.colab.kernel.accessAllowed ? 'block' : 'none';\n",
              "\n",
              "        async function convertToInteractive(key) {\n",
              "          const element = document.querySelector('#df-d4000934-1404-4d47-b8b8-0bbff0578256');\n",
              "          const dataTable =\n",
              "            await google.colab.kernel.invokeFunction('convertToInteractive',\n",
              "                                                     [key], {});\n",
              "          if (!dataTable) return;\n",
              "\n",
              "          const docLinkHtml = 'Like what you see? Visit the ' +\n",
              "            '<a target=\"_blank\" href=https://colab.research.google.com/notebooks/data_table.ipynb>data table notebook</a>'\n",
              "            + ' to learn more about interactive tables.';\n",
              "          element.innerHTML = '';\n",
              "          dataTable['output_type'] = 'display_data';\n",
              "          await google.colab.output.renderOutput(dataTable, element);\n",
              "          const docLink = document.createElement('div');\n",
              "          docLink.innerHTML = docLinkHtml;\n",
              "          element.appendChild(docLink);\n",
              "        }\n",
              "      </script>\n",
              "    </div>\n",
              "  </div>\n",
              "  "
            ]
          },
          "metadata": {},
          "execution_count": 13
        }
      ]
    },
    {
      "cell_type": "code",
      "source": [
        "similar_users = similar_users.merge(for_merging, \n",
        "                        on=['anime_id'],\n",
        "                        how='inner')\n",
        "similar_users"
      ],
      "metadata": {
        "colab": {
          "base_uri": "https://localhost:8080/",
          "height": 423
        },
        "id": "zbA6HBvdMaZ6",
        "outputId": "ad17f4d7-15ee-4308-ce23-e3b2b8417755"
      },
      "execution_count": null,
      "outputs": [
        {
          "output_type": "execute_result",
          "data": {
            "text/plain": [
              "      anime_id                                            user_id  \\\n",
              "0            1  [19, 21, 23, 32, 34, 43, 46, 50, 51, 55, 68, 7...   \n",
              "1            5  [19, 21, 23, 51, 139, 152, 160, 200, 234, 242,...   \n",
              "2            6  [5, 17, 32, 41, 51, 55, 81, 97, 103, 108, 109,...   \n",
              "3            7  [160, 177, 277, 352, 646, 814, 1039, 1089, 117...   \n",
              "4            8  [296, 2515, 2812, 3127, 4738, 4749, 4930, 5016...   \n",
              "...        ...                                                ...   \n",
              "8728     34324  [3009, 13337, 13954, 22839, 31035, 40474, 4126...   \n",
              "8729     34325  [1734, 10194, 22835, 33519, 33915, 35370, 4241...   \n",
              "8730     34349                              [22434, 38503, 57620]   \n",
              "8731     34367                              [30565, 47765, 59643]   \n",
              "8732     34475                              [13954, 53492, 70547]   \n",
              "\n",
              "                                                   attr  \n",
              "0     Cowboy Bebop TV Action, Adventure, Comedy, Dra...  \n",
              "1     Cowboy Bebop: Tengoku no Tobira Movie Action, ...  \n",
              "2                      Trigun TV Action, Comedy, Sci-Fi  \n",
              "3     Witch Hunter Robin TV Action, Drama, Magic, My...  \n",
              "4     Beet the Vandel Buster TV Adventure, Fantasy, ...  \n",
              "...                                                 ...  \n",
              "8728                            Chiryokumaru ONA Action  \n",
              "8729  Pokemon XY&amp;Z Specials Special Action, Adve...  \n",
              "8730  Diamond no Ace: Second Season OVA OVA Comedy, ...  \n",
              "8731  Long Riders Recap Special Comedy, Shounen, Sli...  \n",
              "8732  Monster Strike: Rain of Memories ONA Action, F...  \n",
              "\n",
              "[8733 rows x 3 columns]"
            ],
            "text/html": [
              "\n",
              "  <div id=\"df-3897da88-678d-422c-8c34-f1cd7f44eeb4\">\n",
              "    <div class=\"colab-df-container\">\n",
              "      <div>\n",
              "<style scoped>\n",
              "    .dataframe tbody tr th:only-of-type {\n",
              "        vertical-align: middle;\n",
              "    }\n",
              "\n",
              "    .dataframe tbody tr th {\n",
              "        vertical-align: top;\n",
              "    }\n",
              "\n",
              "    .dataframe thead th {\n",
              "        text-align: right;\n",
              "    }\n",
              "</style>\n",
              "<table border=\"1\" class=\"dataframe\">\n",
              "  <thead>\n",
              "    <tr style=\"text-align: right;\">\n",
              "      <th></th>\n",
              "      <th>anime_id</th>\n",
              "      <th>user_id</th>\n",
              "      <th>attr</th>\n",
              "    </tr>\n",
              "  </thead>\n",
              "  <tbody>\n",
              "    <tr>\n",
              "      <th>0</th>\n",
              "      <td>1</td>\n",
              "      <td>[19, 21, 23, 32, 34, 43, 46, 50, 51, 55, 68, 7...</td>\n",
              "      <td>Cowboy Bebop TV Action, Adventure, Comedy, Dra...</td>\n",
              "    </tr>\n",
              "    <tr>\n",
              "      <th>1</th>\n",
              "      <td>5</td>\n",
              "      <td>[19, 21, 23, 51, 139, 152, 160, 200, 234, 242,...</td>\n",
              "      <td>Cowboy Bebop: Tengoku no Tobira Movie Action, ...</td>\n",
              "    </tr>\n",
              "    <tr>\n",
              "      <th>2</th>\n",
              "      <td>6</td>\n",
              "      <td>[5, 17, 32, 41, 51, 55, 81, 97, 103, 108, 109,...</td>\n",
              "      <td>Trigun TV Action, Comedy, Sci-Fi</td>\n",
              "    </tr>\n",
              "    <tr>\n",
              "      <th>3</th>\n",
              "      <td>7</td>\n",
              "      <td>[160, 177, 277, 352, 646, 814, 1039, 1089, 117...</td>\n",
              "      <td>Witch Hunter Robin TV Action, Drama, Magic, My...</td>\n",
              "    </tr>\n",
              "    <tr>\n",
              "      <th>4</th>\n",
              "      <td>8</td>\n",
              "      <td>[296, 2515, 2812, 3127, 4738, 4749, 4930, 5016...</td>\n",
              "      <td>Beet the Vandel Buster TV Adventure, Fantasy, ...</td>\n",
              "    </tr>\n",
              "    <tr>\n",
              "      <th>...</th>\n",
              "      <td>...</td>\n",
              "      <td>...</td>\n",
              "      <td>...</td>\n",
              "    </tr>\n",
              "    <tr>\n",
              "      <th>8728</th>\n",
              "      <td>34324</td>\n",
              "      <td>[3009, 13337, 13954, 22839, 31035, 40474, 4126...</td>\n",
              "      <td>Chiryokumaru ONA Action</td>\n",
              "    </tr>\n",
              "    <tr>\n",
              "      <th>8729</th>\n",
              "      <td>34325</td>\n",
              "      <td>[1734, 10194, 22835, 33519, 33915, 35370, 4241...</td>\n",
              "      <td>Pokemon XY&amp;amp;Z Specials Special Action, Adve...</td>\n",
              "    </tr>\n",
              "    <tr>\n",
              "      <th>8730</th>\n",
              "      <td>34349</td>\n",
              "      <td>[22434, 38503, 57620]</td>\n",
              "      <td>Diamond no Ace: Second Season OVA OVA Comedy, ...</td>\n",
              "    </tr>\n",
              "    <tr>\n",
              "      <th>8731</th>\n",
              "      <td>34367</td>\n",
              "      <td>[30565, 47765, 59643]</td>\n",
              "      <td>Long Riders Recap Special Comedy, Shounen, Sli...</td>\n",
              "    </tr>\n",
              "    <tr>\n",
              "      <th>8732</th>\n",
              "      <td>34475</td>\n",
              "      <td>[13954, 53492, 70547]</td>\n",
              "      <td>Monster Strike: Rain of Memories ONA Action, F...</td>\n",
              "    </tr>\n",
              "  </tbody>\n",
              "</table>\n",
              "<p>8733 rows × 3 columns</p>\n",
              "</div>\n",
              "      <button class=\"colab-df-convert\" onclick=\"convertToInteractive('df-3897da88-678d-422c-8c34-f1cd7f44eeb4')\"\n",
              "              title=\"Convert this dataframe to an interactive table.\"\n",
              "              style=\"display:none;\">\n",
              "        \n",
              "  <svg xmlns=\"http://www.w3.org/2000/svg\" height=\"24px\"viewBox=\"0 0 24 24\"\n",
              "       width=\"24px\">\n",
              "    <path d=\"M0 0h24v24H0V0z\" fill=\"none\"/>\n",
              "    <path d=\"M18.56 5.44l.94 2.06.94-2.06 2.06-.94-2.06-.94-.94-2.06-.94 2.06-2.06.94zm-11 1L8.5 8.5l.94-2.06 2.06-.94-2.06-.94L8.5 2.5l-.94 2.06-2.06.94zm10 10l.94 2.06.94-2.06 2.06-.94-2.06-.94-.94-2.06-.94 2.06-2.06.94z\"/><path d=\"M17.41 7.96l-1.37-1.37c-.4-.4-.92-.59-1.43-.59-.52 0-1.04.2-1.43.59L10.3 9.45l-7.72 7.72c-.78.78-.78 2.05 0 2.83L4 21.41c.39.39.9.59 1.41.59.51 0 1.02-.2 1.41-.59l7.78-7.78 2.81-2.81c.8-.78.8-2.07 0-2.86zM5.41 20L4 18.59l7.72-7.72 1.47 1.35L5.41 20z\"/>\n",
              "  </svg>\n",
              "      </button>\n",
              "      \n",
              "  <style>\n",
              "    .colab-df-container {\n",
              "      display:flex;\n",
              "      flex-wrap:wrap;\n",
              "      gap: 12px;\n",
              "    }\n",
              "\n",
              "    .colab-df-convert {\n",
              "      background-color: #E8F0FE;\n",
              "      border: none;\n",
              "      border-radius: 50%;\n",
              "      cursor: pointer;\n",
              "      display: none;\n",
              "      fill: #1967D2;\n",
              "      height: 32px;\n",
              "      padding: 0 0 0 0;\n",
              "      width: 32px;\n",
              "    }\n",
              "\n",
              "    .colab-df-convert:hover {\n",
              "      background-color: #E2EBFA;\n",
              "      box-shadow: 0px 1px 2px rgba(60, 64, 67, 0.3), 0px 1px 3px 1px rgba(60, 64, 67, 0.15);\n",
              "      fill: #174EA6;\n",
              "    }\n",
              "\n",
              "    [theme=dark] .colab-df-convert {\n",
              "      background-color: #3B4455;\n",
              "      fill: #D2E3FC;\n",
              "    }\n",
              "\n",
              "    [theme=dark] .colab-df-convert:hover {\n",
              "      background-color: #434B5C;\n",
              "      box-shadow: 0px 1px 3px 1px rgba(0, 0, 0, 0.15);\n",
              "      filter: drop-shadow(0px 1px 2px rgba(0, 0, 0, 0.3));\n",
              "      fill: #FFFFFF;\n",
              "    }\n",
              "  </style>\n",
              "\n",
              "      <script>\n",
              "        const buttonEl =\n",
              "          document.querySelector('#df-3897da88-678d-422c-8c34-f1cd7f44eeb4 button.colab-df-convert');\n",
              "        buttonEl.style.display =\n",
              "          google.colab.kernel.accessAllowed ? 'block' : 'none';\n",
              "\n",
              "        async function convertToInteractive(key) {\n",
              "          const element = document.querySelector('#df-3897da88-678d-422c-8c34-f1cd7f44eeb4');\n",
              "          const dataTable =\n",
              "            await google.colab.kernel.invokeFunction('convertToInteractive',\n",
              "                                                     [key], {});\n",
              "          if (!dataTable) return;\n",
              "\n",
              "          const docLinkHtml = 'Like what you see? Visit the ' +\n",
              "            '<a target=\"_blank\" href=https://colab.research.google.com/notebooks/data_table.ipynb>data table notebook</a>'\n",
              "            + ' to learn more about interactive tables.';\n",
              "          element.innerHTML = '';\n",
              "          dataTable['output_type'] = 'display_data';\n",
              "          await google.colab.output.renderOutput(dataTable, element);\n",
              "          const docLink = document.createElement('div');\n",
              "          docLink.innerHTML = docLinkHtml;\n",
              "          element.appendChild(docLink);\n",
              "        }\n",
              "      </script>\n",
              "    </div>\n",
              "  </div>\n",
              "  "
            ]
          },
          "metadata": {},
          "execution_count": 14
        }
      ]
    },
    {
      "cell_type": "markdown",
      "source": [
        "Сериал сравнивается с остальными сериалами (сразу в цикле пропускать нули сделать) по количеству общих пользователей - эти общие пользователи и есть веса"
      ],
      "metadata": {
        "id": "BKDxTr6Nv-a1"
      }
    },
    {
      "cell_type": "code",
      "source": [
        "graph = pd.DataFrame(data=similar_users).sample(n=800).reset_index().drop(columns=['index'])"
      ],
      "metadata": {
        "id": "4RxulJ68nZk4"
      },
      "execution_count": null,
      "outputs": []
    },
    {
      "cell_type": "code",
      "source": [
        "for_graph_weighted = {}"
      ],
      "metadata": {
        "id": "_7V1pTHZ4Bo3"
      },
      "execution_count": null,
      "outputs": []
    },
    {
      "cell_type": "code",
      "source": [
        "k = 0\n",
        "for i in range(1, 800):\n",
        "  current_value = set(graph[graph.index == int(i-1)]['user_id'].values[0])\n",
        "  for j in range(i, 800):\n",
        "    compare_value = set(graph[graph.index == j]['user_id'].values[0])\n",
        "    weight = len(current_value & compare_value)\n",
        "    for_graph_weighted[k] = {'source': graph[graph.index == int(i-1)]['attr'].values[0], 'target': graph[graph.index == j]['attr'].values[0], 'weight': weight}\n",
        "    k += 1"
      ],
      "metadata": {
        "id": "Tv1eltP9xr_V"
      },
      "execution_count": null,
      "outputs": []
    },
    {
      "cell_type": "code",
      "source": [
        "data = pd.DataFrame.from_dict(for_graph_weighted).T\n",
        "data = data.drop(data[data['weight'] == 0].index)\n",
        "data['source'] = data['source'].astype(str)\n",
        "data['target'] = data['target'].astype(str)\n",
        "data['weight'] = data['weight'].astype(int)"
      ],
      "metadata": {
        "id": "EoA56brDoSkn"
      },
      "execution_count": null,
      "outputs": []
    },
    {
      "cell_type": "code",
      "source": [
        "# compression_opts = dict(method='zip', archive_name='randsamp800.csv')\n",
        "# data.to_csv('randsamp800.zip', index=False, compression=compression_opts)"
      ],
      "metadata": {
        "id": "Aa2eN7I63TY8"
      },
      "execution_count": null,
      "outputs": []
    },
    {
      "cell_type": "markdown",
      "source": [
        "Теперь разредим граф, отбросив веса меньше 50 пользователей"
      ],
      "metadata": {
        "id": "u93_BdG2Sp7p"
      }
    },
    {
      "cell_type": "code",
      "source": [
        "data.shape"
      ],
      "metadata": {
        "colab": {
          "base_uri": "https://localhost:8080/"
        },
        "id": "FABk7RCWTCFY",
        "outputId": "34b69087-6bd8-41d2-c238-188ac7b42fa8"
      },
      "execution_count": null,
      "outputs": [
        {
          "output_type": "execute_result",
          "data": {
            "text/plain": [
              "(194393, 3)"
            ]
          },
          "metadata": {},
          "execution_count": 32
        }
      ]
    },
    {
      "cell_type": "code",
      "source": [
        "data_fin = data.drop(data[data['weight'] <= 50].index)"
      ],
      "metadata": {
        "id": "23JQDF5TSx67"
      },
      "execution_count": null,
      "outputs": []
    },
    {
      "cell_type": "code",
      "source": [
        "data_fin.shape"
      ],
      "metadata": {
        "colab": {
          "base_uri": "https://localhost:8080/"
        },
        "id": "iTjUycJAS9eX",
        "outputId": "6e0dfa75-78d8-436b-cd1d-350c991d30c4"
      },
      "execution_count": null,
      "outputs": [
        {
          "output_type": "execute_result",
          "data": {
            "text/plain": [
              "(20771, 3)"
            ]
          },
          "metadata": {},
          "execution_count": 34
        }
      ]
    },
    {
      "cell_type": "markdown",
      "source": [
        "Сохраним названия сериалов, которые оказались в финальном датасете"
      ],
      "metadata": {
        "id": "QxUp3PC4rrDS"
      }
    },
    {
      "cell_type": "code",
      "source": [
        "names_available = data_fin['source'].unique()"
      ],
      "metadata": {
        "id": "6PwCxKArre4l"
      },
      "execution_count": null,
      "outputs": []
    },
    {
      "cell_type": "markdown",
      "source": [
        "Создадим два одинаковых графа с помощью двух инструментов и посмотрим на них."
      ],
      "metadata": {
        "id": "OsSxR-Ylyh2F"
      }
    },
    {
      "cell_type": "code",
      "source": [
        "graph_sg = StellarGraph(edges=data_fin, node_type_default=\"anime\", edge_type_default=\"nusers_shared\")"
      ],
      "metadata": {
        "id": "9wjOl6TFIl3h"
      },
      "execution_count": null,
      "outputs": []
    },
    {
      "cell_type": "code",
      "source": [
        "graph_nx = nx.from_pandas_edgelist(data_fin, 'source', 'target', 'weight')"
      ],
      "metadata": {
        "id": "A11oHTe0yIP0"
      },
      "execution_count": null,
      "outputs": []
    },
    {
      "cell_type": "code",
      "source": [
        "print(graph_sg.info())"
      ],
      "metadata": {
        "colab": {
          "base_uri": "https://localhost:8080/"
        },
        "id": "3055k9CLKSxr",
        "outputId": "38976885-61d1-4db9-cd0f-871f8d0adb46"
      },
      "execution_count": null,
      "outputs": [
        {
          "output_type": "stream",
          "name": "stdout",
          "text": [
            "StellarGraph: Undirected multigraph\n",
            " Nodes: 399, Edges: 20771\n",
            "\n",
            " Node types:\n",
            "  anime: [399]\n",
            "    Features: none\n",
            "    Edge types: anime-nusers_shared->anime\n",
            "\n",
            " Edge types:\n",
            "    anime-nusers_shared->anime: [20771]\n",
            "        Weights: range=[51, 12320], mean=246.678, std=443.671\n",
            "        Features: none\n"
          ]
        }
      ]
    },
    {
      "cell_type": "code",
      "source": [
        "print(nx.info(graph_nx))"
      ],
      "metadata": {
        "colab": {
          "base_uri": "https://localhost:8080/"
        },
        "id": "tdcbYsD9z8TD",
        "outputId": "f81acf05-bfc6-42a4-d0f1-5dedffe7f8d7"
      },
      "execution_count": null,
      "outputs": [
        {
          "output_type": "stream",
          "name": "stdout",
          "text": [
            "Graph with 399 nodes and 20771 edges\n"
          ]
        }
      ]
    },
    {
      "cell_type": "code",
      "source": [
        "data_fin[data_fin.weight == 1]"
      ],
      "metadata": {
        "colab": {
          "base_uri": "https://localhost:8080/",
          "height": 50
        },
        "id": "Y6WfiPLcToA1",
        "outputId": "26384d73-f370-48f4-a1ee-060a2ec230f8"
      },
      "execution_count": null,
      "outputs": [
        {
          "output_type": "execute_result",
          "data": {
            "text/plain": [
              "Empty DataFrame\n",
              "Columns: [source, target, weight]\n",
              "Index: []"
            ],
            "text/html": [
              "\n",
              "  <div id=\"df-cb589d45-92e8-4aa2-bdcb-53274b281553\">\n",
              "    <div class=\"colab-df-container\">\n",
              "      <div>\n",
              "<style scoped>\n",
              "    .dataframe tbody tr th:only-of-type {\n",
              "        vertical-align: middle;\n",
              "    }\n",
              "\n",
              "    .dataframe tbody tr th {\n",
              "        vertical-align: top;\n",
              "    }\n",
              "\n",
              "    .dataframe thead th {\n",
              "        text-align: right;\n",
              "    }\n",
              "</style>\n",
              "<table border=\"1\" class=\"dataframe\">\n",
              "  <thead>\n",
              "    <tr style=\"text-align: right;\">\n",
              "      <th></th>\n",
              "      <th>source</th>\n",
              "      <th>target</th>\n",
              "      <th>weight</th>\n",
              "    </tr>\n",
              "  </thead>\n",
              "  <tbody>\n",
              "  </tbody>\n",
              "</table>\n",
              "</div>\n",
              "      <button class=\"colab-df-convert\" onclick=\"convertToInteractive('df-cb589d45-92e8-4aa2-bdcb-53274b281553')\"\n",
              "              title=\"Convert this dataframe to an interactive table.\"\n",
              "              style=\"display:none;\">\n",
              "        \n",
              "  <svg xmlns=\"http://www.w3.org/2000/svg\" height=\"24px\"viewBox=\"0 0 24 24\"\n",
              "       width=\"24px\">\n",
              "    <path d=\"M0 0h24v24H0V0z\" fill=\"none\"/>\n",
              "    <path d=\"M18.56 5.44l.94 2.06.94-2.06 2.06-.94-2.06-.94-.94-2.06-.94 2.06-2.06.94zm-11 1L8.5 8.5l.94-2.06 2.06-.94-2.06-.94L8.5 2.5l-.94 2.06-2.06.94zm10 10l.94 2.06.94-2.06 2.06-.94-2.06-.94-.94-2.06-.94 2.06-2.06.94z\"/><path d=\"M17.41 7.96l-1.37-1.37c-.4-.4-.92-.59-1.43-.59-.52 0-1.04.2-1.43.59L10.3 9.45l-7.72 7.72c-.78.78-.78 2.05 0 2.83L4 21.41c.39.39.9.59 1.41.59.51 0 1.02-.2 1.41-.59l7.78-7.78 2.81-2.81c.8-.78.8-2.07 0-2.86zM5.41 20L4 18.59l7.72-7.72 1.47 1.35L5.41 20z\"/>\n",
              "  </svg>\n",
              "      </button>\n",
              "      \n",
              "  <style>\n",
              "    .colab-df-container {\n",
              "      display:flex;\n",
              "      flex-wrap:wrap;\n",
              "      gap: 12px;\n",
              "    }\n",
              "\n",
              "    .colab-df-convert {\n",
              "      background-color: #E8F0FE;\n",
              "      border: none;\n",
              "      border-radius: 50%;\n",
              "      cursor: pointer;\n",
              "      display: none;\n",
              "      fill: #1967D2;\n",
              "      height: 32px;\n",
              "      padding: 0 0 0 0;\n",
              "      width: 32px;\n",
              "    }\n",
              "\n",
              "    .colab-df-convert:hover {\n",
              "      background-color: #E2EBFA;\n",
              "      box-shadow: 0px 1px 2px rgba(60, 64, 67, 0.3), 0px 1px 3px 1px rgba(60, 64, 67, 0.15);\n",
              "      fill: #174EA6;\n",
              "    }\n",
              "\n",
              "    [theme=dark] .colab-df-convert {\n",
              "      background-color: #3B4455;\n",
              "      fill: #D2E3FC;\n",
              "    }\n",
              "\n",
              "    [theme=dark] .colab-df-convert:hover {\n",
              "      background-color: #434B5C;\n",
              "      box-shadow: 0px 1px 3px 1px rgba(0, 0, 0, 0.15);\n",
              "      filter: drop-shadow(0px 1px 2px rgba(0, 0, 0, 0.3));\n",
              "      fill: #FFFFFF;\n",
              "    }\n",
              "  </style>\n",
              "\n",
              "      <script>\n",
              "        const buttonEl =\n",
              "          document.querySelector('#df-cb589d45-92e8-4aa2-bdcb-53274b281553 button.colab-df-convert');\n",
              "        buttonEl.style.display =\n",
              "          google.colab.kernel.accessAllowed ? 'block' : 'none';\n",
              "\n",
              "        async function convertToInteractive(key) {\n",
              "          const element = document.querySelector('#df-cb589d45-92e8-4aa2-bdcb-53274b281553');\n",
              "          const dataTable =\n",
              "            await google.colab.kernel.invokeFunction('convertToInteractive',\n",
              "                                                     [key], {});\n",
              "          if (!dataTable) return;\n",
              "\n",
              "          const docLinkHtml = 'Like what you see? Visit the ' +\n",
              "            '<a target=\"_blank\" href=https://colab.research.google.com/notebooks/data_table.ipynb>data table notebook</a>'\n",
              "            + ' to learn more about interactive tables.';\n",
              "          element.innerHTML = '';\n",
              "          dataTable['output_type'] = 'display_data';\n",
              "          await google.colab.output.renderOutput(dataTable, element);\n",
              "          const docLink = document.createElement('div');\n",
              "          docLink.innerHTML = docLinkHtml;\n",
              "          element.appendChild(docLink);\n",
              "        }\n",
              "      </script>\n",
              "    </div>\n",
              "  </div>\n",
              "  "
            ]
          },
          "metadata": {},
          "execution_count": 46
        }
      ]
    },
    {
      "cell_type": "code",
      "source": [
        "names, weights = graph_sg.edges(include_edge_weight=True)\n",
        "\n",
        "wt, cnt = np.unique(weights, return_counts=True)\n",
        "\n",
        "plt.figure(figsize=(10, 8))\n",
        "plt.bar(wt, cnt)\n",
        "plt.title(\"Распределение весов\")\n",
        "plt.ylabel(\"Сериалы\")\n",
        "plt.xlabel(\"Количество общих пользователей\")\n",
        "plt.xticks(rotation=90)\n",
        "\n",
        "plt.show()"
      ],
      "metadata": {
        "colab": {
          "base_uri": "https://localhost:8080/",
          "height": 534
        },
        "id": "8PAc6jeKl0vZ",
        "outputId": "908711b7-4c5f-4e57-b14b-bfe1279537dd"
      },
      "execution_count": null,
      "outputs": [
        {
          "output_type": "display_data",
          "data": {
            "text/plain": [
              "<Figure size 720x576 with 1 Axes>"
            ],
            "image/png": "[encoded data removed]"
          },
          "metadata": {
            "needs_background": "light"
          }
        }
      ]
    },
    {
      "cell_type": "code",
      "source": [
        "nx.draw(graph_nx)"
      ],
      "metadata": {
        "colab": {
          "base_uri": "https://localhost:8080/",
          "height": 319
        },
        "id": "li5f8iFTu_Dm",
        "outputId": "bd707080-2c25-49d1-d556-7f4e10453b04"
      },
      "execution_count": null,
      "outputs": [
        {
          "output_type": "display_data",
          "data": {
            "text/plain": [
              "<Figure size 432x288 with 1 Axes>"
            ],
            "image/png": "[encoded data removed]"
          },
          "metadata": {}
        }
      ]
    },
    {
      "cell_type": "markdown",
      "source": [
        "# Train Test (оставить пока)"
      ],
      "metadata": {
        "id": "w0tyA0z3x9TH"
      }
    },
    {
      "cell_type": "markdown",
      "source": [
        "## StellarGraph"
      ],
      "metadata": {
        "id": "7K1aj0qgdbvP"
      }
    },
    {
      "cell_type": "code",
      "source": [
        "edge_splitter_test_sg = EdgeSplitter(graph_sg)\n",
        "graph_test_sg, examples_test_sg, labels_test_sg = edge_splitter_test_sg.train_test_split(p=0.01, method=\"global\")\n",
        "print(graph_test_sg.info())"
      ],
      "metadata": {
        "colab": {
          "base_uri": "https://localhost:8080/"
        },
        "id": "9YsqmelzUFAA",
        "outputId": "e4d54d68-e2b7-49f8-9aa3-c0ff9c5e698b"
      },
      "execution_count": null,
      "outputs": [
        {
          "output_type": "stream",
          "name": "stdout",
          "text": [
            "** Sampled 207 positive and 207 negative edges. **\n",
            "StellarGraph: Undirected multigraph\n",
            " Nodes: 399, Edges: 20564\n",
            "\n",
            " Node types:\n",
            "  anime: [399]\n",
            "    Features: none\n",
            "    Edge types: anime-nusers_shared->anime\n",
            "\n",
            " Edge types:\n",
            "    anime-nusers_shared->anime: [20564]\n",
            "        Weights: range=[51, 12320], mean=246.723, std=443.102\n",
            "        Features: none\n"
          ]
        }
      ]
    },
    {
      "cell_type": "code",
      "source": [
        "edge_splitter_train_sg = EdgeSplitter(graph_test_sg, graph_sg)\n",
        "graph_train_sg, examples_sg, labels_sg = edge_splitter_train_sg.train_test_split(p=0.01, method=\"global\")\n",
        "examples_train_sg, examples_model_selection_sg, labels_train_sg, labels_model_selection_sg = train_test_split(examples_sg, labels_sg, train_size=0.75, test_size=0.25)\n",
        "\n",
        "print(graph_train_sg.info())"
      ],
      "metadata": {
        "colab": {
          "base_uri": "https://localhost:8080/"
        },
        "id": "ZTAmfB6kUo8y",
        "outputId": "fcd30ab6-f661-487d-8625-bace53a7d308"
      },
      "execution_count": null,
      "outputs": [
        {
          "output_type": "stream",
          "name": "stdout",
          "text": [
            "** Sampled 205 positive and 205 negative edges. **\n",
            "StellarGraph: Undirected multigraph\n",
            " Nodes: 399, Edges: 20359\n",
            "\n",
            " Node types:\n",
            "  anime: [399]\n",
            "    Features: none\n",
            "    Edge types: anime-nusers_shared->anime\n",
            "\n",
            " Edge types:\n",
            "    anime-nusers_shared->anime: [20359]\n",
            "        Weights: range=[51, 12320], mean=246.478, std=443.213\n",
            "        Features: none\n"
          ]
        }
      ]
    },
    {
      "cell_type": "code",
      "source": [
        "pd.DataFrame(\n",
        "    [\n",
        "        (\n",
        "            \"Training Set\",\n",
        "            len(examples_train_sg),\n",
        "            \"Train Graph\",\n",
        "            \"Test Graph\",\n",
        "            \"Train the Link Classifier\",\n",
        "        ),\n",
        "        (\n",
        "            \"Model Selection\",\n",
        "            len(examples_model_selection_sg),\n",
        "            \"Train Graph\",\n",
        "            \"Test Graph\",\n",
        "            \"Select the best Link Classifier model\",\n",
        "        ),\n",
        "        (\n",
        "            \"Test set\",\n",
        "            len(examples_test_sg),\n",
        "            \"Test Graph\",\n",
        "            \"Full Graph\",\n",
        "            \"Evaluate the best Link Classifier\",\n",
        "        ),\n",
        "    ],\n",
        "    columns=(\"Split\", \"Number of Examples\", \"Hidden from\", \"Picked from\", \"Use\"),\n",
        ").set_index(\"Split\")"
      ],
      "metadata": {
        "colab": {
          "base_uri": "https://localhost:8080/"
        },
        "id": "5aA0B-TUU7JW",
        "outputId": "3a8dfb4f-b107-4dbd-f2ff-e54ee7aece62"
      },
      "execution_count": null,
      "outputs": [
        {
          "output_type": "execute_result",
          "data": {
            "text/plain": [
              "                 Number of Examples  Hidden from Picked from  \\\n",
              "Split                                                          \n",
              "Training Set                    307  Train Graph  Test Graph   \n",
              "Model Selection                 103  Train Graph  Test Graph   \n",
              "Test set                        414   Test Graph  Full Graph   \n",
              "\n",
              "                                                   Use  \n",
              "Split                                                   \n",
              "Training Set                 Train the Link Classifier  \n",
              "Model Selection  Select the best Link Classifier model  \n",
              "Test set             Evaluate the best Link Classifier  "
            ],
            "text/html": [
              "\n",
              "  <div id=\"df-495d4930-0570-41f4-8135-7bd33d9a11cb\">\n",
              "    <div class=\"colab-df-container\">\n",
              "      <div>\n",
              "<style scoped>\n",
              "    .dataframe tbody tr th:only-of-type {\n",
              "        vertical-align: middle;\n",
              "    }\n",
              "\n",
              "    .dataframe tbody tr th {\n",
              "        vertical-align: top;\n",
              "    }\n",
              "\n",
              "    .dataframe thead th {\n",
              "        text-align: right;\n",
              "    }\n",
              "</style>\n",
              "<table border=\"1\" class=\"dataframe\">\n",
              "  <thead>\n",
              "    <tr style=\"text-align: right;\">\n",
              "      <th></th>\n",
              "      <th>Number of Examples</th>\n",
              "      <th>Hidden from</th>\n",
              "      <th>Picked from</th>\n",
              "      <th>Use</th>\n",
              "    </tr>\n",
              "    <tr>\n",
              "      <th>Split</th>\n",
              "      <th></th>\n",
              "      <th></th>\n",
              "      <th></th>\n",
              "      <th></th>\n",
              "    </tr>\n",
              "  </thead>\n",
              "  <tbody>\n",
              "    <tr>\n",
              "      <th>Training Set</th>\n",
              "      <td>307</td>\n",
              "      <td>Train Graph</td>\n",
              "      <td>Test Graph</td>\n",
              "      <td>Train the Link Classifier</td>\n",
              "    </tr>\n",
              "    <tr>\n",
              "      <th>Model Selection</th>\n",
              "      <td>103</td>\n",
              "      <td>Train Graph</td>\n",
              "      <td>Test Graph</td>\n",
              "      <td>Select the best Link Classifier model</td>\n",
              "    </tr>\n",
              "    <tr>\n",
              "      <th>Test set</th>\n",
              "      <td>414</td>\n",
              "      <td>Test Graph</td>\n",
              "      <td>Full Graph</td>\n",
              "      <td>Evaluate the best Link Classifier</td>\n",
              "    </tr>\n",
              "  </tbody>\n",
              "</table>\n",
              "</div>\n",
              "      <button class=\"colab-df-convert\" onclick=\"convertToInteractive('df-495d4930-0570-41f4-8135-7bd33d9a11cb')\"\n",
              "              title=\"Convert this dataframe to an interactive table.\"\n",
              "              style=\"display:none;\">\n",
              "        \n",
              "  <svg xmlns=\"http://www.w3.org/2000/svg\" height=\"24px\"viewBox=\"0 0 24 24\"\n",
              "       width=\"24px\">\n",
              "    <path d=\"M0 0h24v24H0V0z\" fill=\"none\"/>\n",
              "    <path d=\"M18.56 5.44l.94 2.06.94-2.06 2.06-.94-2.06-.94-.94-2.06-.94 2.06-2.06.94zm-11 1L8.5 8.5l.94-2.06 2.06-.94-2.06-.94L8.5 2.5l-.94 2.06-2.06.94zm10 10l.94 2.06.94-2.06 2.06-.94-2.06-.94-.94-2.06-.94 2.06-2.06.94z\"/><path d=\"M17.41 7.96l-1.37-1.37c-.4-.4-.92-.59-1.43-.59-.52 0-1.04.2-1.43.59L10.3 9.45l-7.72 7.72c-.78.78-.78 2.05 0 2.83L4 21.41c.39.39.9.59 1.41.59.51 0 1.02-.2 1.41-.59l7.78-7.78 2.81-2.81c.8-.78.8-2.07 0-2.86zM5.41 20L4 18.59l7.72-7.72 1.47 1.35L5.41 20z\"/>\n",
              "  </svg>\n",
              "      </button>\n",
              "      \n",
              "  <style>\n",
              "    .colab-df-container {\n",
              "      display:flex;\n",
              "      flex-wrap:wrap;\n",
              "      gap: 12px;\n",
              "    }\n",
              "\n",
              "    .colab-df-convert {\n",
              "      background-color: #E8F0FE;\n",
              "      border: none;\n",
              "      border-radius: 50%;\n",
              "      cursor: pointer;\n",
              "      display: none;\n",
              "      fill: #1967D2;\n",
              "      height: 32px;\n",
              "      padding: 0 0 0 0;\n",
              "      width: 32px;\n",
              "    }\n",
              "\n",
              "    .colab-df-convert:hover {\n",
              "      background-color: #E2EBFA;\n",
              "      box-shadow: 0px 1px 2px rgba(60, 64, 67, 0.3), 0px 1px 3px 1px rgba(60, 64, 67, 0.15);\n",
              "      fill: #174EA6;\n",
              "    }\n",
              "\n",
              "    [theme=dark] .colab-df-convert {\n",
              "      background-color: #3B4455;\n",
              "      fill: #D2E3FC;\n",
              "    }\n",
              "\n",
              "    [theme=dark] .colab-df-convert:hover {\n",
              "      background-color: #434B5C;\n",
              "      box-shadow: 0px 1px 3px 1px rgba(0, 0, 0, 0.15);\n",
              "      filter: drop-shadow(0px 1px 2px rgba(0, 0, 0, 0.3));\n",
              "      fill: #FFFFFF;\n",
              "    }\n",
              "  </style>\n",
              "\n",
              "      <script>\n",
              "        const buttonEl =\n",
              "          document.querySelector('#df-495d4930-0570-41f4-8135-7bd33d9a11cb button.colab-df-convert');\n",
              "        buttonEl.style.display =\n",
              "          google.colab.kernel.accessAllowed ? 'block' : 'none';\n",
              "\n",
              "        async function convertToInteractive(key) {\n",
              "          const element = document.querySelector('#df-495d4930-0570-41f4-8135-7bd33d9a11cb');\n",
              "          const dataTable =\n",
              "            await google.colab.kernel.invokeFunction('convertToInteractive',\n",
              "                                                     [key], {});\n",
              "          if (!dataTable) return;\n",
              "\n",
              "          const docLinkHtml = 'Like what you see? Visit the ' +\n",
              "            '<a target=\"_blank\" href=https://colab.research.google.com/notebooks/data_table.ipynb>data table notebook</a>'\n",
              "            + ' to learn more about interactive tables.';\n",
              "          element.innerHTML = '';\n",
              "          dataTable['output_type'] = 'display_data';\n",
              "          await google.colab.output.renderOutput(dataTable, element);\n",
              "          const docLink = document.createElement('div');\n",
              "          docLink.innerHTML = docLinkHtml;\n",
              "          element.appendChild(docLink);\n",
              "        }\n",
              "      </script>\n",
              "    </div>\n",
              "  </div>\n",
              "  "
            ]
          },
          "metadata": {},
          "execution_count": 76
        }
      ]
    },
    {
      "cell_type": "code",
      "source": [
        "# for_test = pd.DataFrame(data=similar_users)[-200:]\n",
        "# for_graph_weighted = {}\n",
        "# k = 0\n",
        "# for i in range(8534, 8733):\n",
        "#   current_value = set(for_test[for_test.index == int(i-1)]['user_id'].values[0])\n",
        "#   for j in range(i, 8733):\n",
        "#     compare_value = set(for_test[for_test.index == j]['user_id'].values[0])\n",
        "#     weight = len(current_value & compare_value)\n",
        "#     for_graph_weighted[k] = {'source': for_test[for_test.index == int(i-1)]['attr'].values[0], 'target': for_test[for_test.index == j]['attr'].values[0], 'weight': weight}\n",
        "#     k += 1\n",
        "\n",
        "# data_test = pd.DataFrame.from_dict(for_graph_weighted).T\n",
        "# data_test = data_test.drop(data_test[data_test['weight'] == 0].index)\n",
        "# data_test['source'] = data_test['source'].astype(str)\n",
        "# data_test['target'] = data_test['target'].astype(str)\n",
        "# data_test['weight'] = data_test['weight'].astype(int)\n",
        "\n",
        "# graph_nx_test = nx.from_pandas_edgelist(data_test, 'source', 'target', 'weight')"
      ],
      "metadata": {
        "id": "wDFP__qN9-Lo"
      },
      "execution_count": null,
      "outputs": []
    },
    {
      "cell_type": "markdown",
      "source": [
        "## NetworkX"
      ],
      "metadata": {
        "id": "RFqz0SxHdebN"
      }
    },
    {
      "cell_type": "markdown",
      "source": [
        "https://stackoverflow.com/questions/53255889/test-train-data-set-for-graph-network"
      ],
      "metadata": {
        "id": "HolmMhhjdiiS"
      }
    },
    {
      "cell_type": "code",
      "source": [
        "edge_splitter_test_nx = EdgeSplitter(graph_nx)\n",
        "graph_test_nx, examples_test_nx, labels_test_nx = edge_splitter_test_nx.train_test_split(p=0.01, method=\"global\")\n",
        "\n",
        "print(nx.info(graph_test_nx))"
      ],
      "metadata": {
        "colab": {
          "base_uri": "https://localhost:8080/"
        },
        "id": "wSmk13H0dh-O",
        "outputId": "609cfe46-4e6b-49e5-d144-f6466945f159"
      },
      "execution_count": null,
      "outputs": [
        {
          "output_type": "stream",
          "name": "stdout",
          "text": [
            "** Sampled 207 positive and 207 negative edges. **\n",
            "Graph with 399 nodes and 20564 edges\n"
          ]
        }
      ]
    },
    {
      "cell_type": "code",
      "source": [
        "edge_splitter_train_nx = EdgeSplitter(graph_test_nx, graph_nx)\n",
        "graph_train_nx, examples_nx, labels_nx = edge_splitter_train_nx.train_test_split(p=0.01, method=\"global\")\n",
        "examples_train_nx, examples_model_selection_nx, labels_train_nx, labels_model_selection_nx = train_test_split(examples_nx, labels_nx, train_size=0.75, test_size=0.25)\n",
        "\n",
        "print(nx.info(graph_train_nx))"
      ],
      "metadata": {
        "colab": {
          "base_uri": "https://localhost:8080/"
        },
        "id": "uA5xEF6-eJUI",
        "outputId": "59295d3b-4e53-467d-bfe5-6662748a446b"
      },
      "execution_count": null,
      "outputs": [
        {
          "output_type": "stream",
          "name": "stdout",
          "text": [
            "** Sampled 205 positive and 205 negative edges. **\n",
            "Graph with 399 nodes and 20359 edges\n"
          ]
        }
      ]
    },
    {
      "cell_type": "code",
      "source": [
        "pd.DataFrame(\n",
        "    [\n",
        "        (\n",
        "            \"Training Set\",\n",
        "            len(examples_train_nx),\n",
        "            \"Train Graph\",\n",
        "            \"Test Graph\",\n",
        "            \"Train the Link Classifier\",\n",
        "        ),\n",
        "        (\n",
        "            \"Model Selection\",\n",
        "            len(examples_model_selection_nx),\n",
        "            \"Train Graph\",\n",
        "            \"Test Graph\",\n",
        "            \"Select the best Link Classifier model\",\n",
        "        ),\n",
        "        (\n",
        "            \"Test set\",\n",
        "            len(examples_test_nx),\n",
        "            \"Test Graph\",\n",
        "            \"Full Graph\",\n",
        "            \"Evaluate the best Link Classifier\",\n",
        "        ),\n",
        "    ],\n",
        "    columns=(\"Split\", \"Number of Examples\", \"Hidden from\", \"Picked from\", \"Use\"),\n",
        ").set_index(\"Split\")"
      ],
      "metadata": {
        "colab": {
          "base_uri": "https://localhost:8080/",
          "height": 174
        },
        "id": "qDiyTxVXeR-u",
        "outputId": "aa43f52c-65eb-44cc-ed0d-fd5cd75f4e59"
      },
      "execution_count": null,
      "outputs": [
        {
          "output_type": "execute_result",
          "data": {
            "text/plain": [
              "                 Number of Examples  Hidden from Picked from  \\\n",
              "Split                                                          \n",
              "Training Set                    307  Train Graph  Test Graph   \n",
              "Model Selection                 103  Train Graph  Test Graph   \n",
              "Test set                        414   Test Graph  Full Graph   \n",
              "\n",
              "                                                   Use  \n",
              "Split                                                   \n",
              "Training Set                 Train the Link Classifier  \n",
              "Model Selection  Select the best Link Classifier model  \n",
              "Test set             Evaluate the best Link Classifier  "
            ],
            "text/html": [
              "\n",
              "  <div id=\"df-9687d6e5-7774-4b62-880d-be4ee263b61d\">\n",
              "    <div class=\"colab-df-container\">\n",
              "      <div>\n",
              "<style scoped>\n",
              "    .dataframe tbody tr th:only-of-type {\n",
              "        vertical-align: middle;\n",
              "    }\n",
              "\n",
              "    .dataframe tbody tr th {\n",
              "        vertical-align: top;\n",
              "    }\n",
              "\n",
              "    .dataframe thead th {\n",
              "        text-align: right;\n",
              "    }\n",
              "</style>\n",
              "<table border=\"1\" class=\"dataframe\">\n",
              "  <thead>\n",
              "    <tr style=\"text-align: right;\">\n",
              "      <th></th>\n",
              "      <th>Number of Examples</th>\n",
              "      <th>Hidden from</th>\n",
              "      <th>Picked from</th>\n",
              "      <th>Use</th>\n",
              "    </tr>\n",
              "    <tr>\n",
              "      <th>Split</th>\n",
              "      <th></th>\n",
              "      <th></th>\n",
              "      <th></th>\n",
              "      <th></th>\n",
              "    </tr>\n",
              "  </thead>\n",
              "  <tbody>\n",
              "    <tr>\n",
              "      <th>Training Set</th>\n",
              "      <td>307</td>\n",
              "      <td>Train Graph</td>\n",
              "      <td>Test Graph</td>\n",
              "      <td>Train the Link Classifier</td>\n",
              "    </tr>\n",
              "    <tr>\n",
              "      <th>Model Selection</th>\n",
              "      <td>103</td>\n",
              "      <td>Train Graph</td>\n",
              "      <td>Test Graph</td>\n",
              "      <td>Select the best Link Classifier model</td>\n",
              "    </tr>\n",
              "    <tr>\n",
              "      <th>Test set</th>\n",
              "      <td>414</td>\n",
              "      <td>Test Graph</td>\n",
              "      <td>Full Graph</td>\n",
              "      <td>Evaluate the best Link Classifier</td>\n",
              "    </tr>\n",
              "  </tbody>\n",
              "</table>\n",
              "</div>\n",
              "      <button class=\"colab-df-convert\" onclick=\"convertToInteractive('df-9687d6e5-7774-4b62-880d-be4ee263b61d')\"\n",
              "              title=\"Convert this dataframe to an interactive table.\"\n",
              "              style=\"display:none;\">\n",
              "        \n",
              "  <svg xmlns=\"http://www.w3.org/2000/svg\" height=\"24px\"viewBox=\"0 0 24 24\"\n",
              "       width=\"24px\">\n",
              "    <path d=\"M0 0h24v24H0V0z\" fill=\"none\"/>\n",
              "    <path d=\"M18.56 5.44l.94 2.06.94-2.06 2.06-.94-2.06-.94-.94-2.06-.94 2.06-2.06.94zm-11 1L8.5 8.5l.94-2.06 2.06-.94-2.06-.94L8.5 2.5l-.94 2.06-2.06.94zm10 10l.94 2.06.94-2.06 2.06-.94-2.06-.94-.94-2.06-.94 2.06-2.06.94z\"/><path d=\"M17.41 7.96l-1.37-1.37c-.4-.4-.92-.59-1.43-.59-.52 0-1.04.2-1.43.59L10.3 9.45l-7.72 7.72c-.78.78-.78 2.05 0 2.83L4 21.41c.39.39.9.59 1.41.59.51 0 1.02-.2 1.41-.59l7.78-7.78 2.81-2.81c.8-.78.8-2.07 0-2.86zM5.41 20L4 18.59l7.72-7.72 1.47 1.35L5.41 20z\"/>\n",
              "  </svg>\n",
              "      </button>\n",
              "      \n",
              "  <style>\n",
              "    .colab-df-container {\n",
              "      display:flex;\n",
              "      flex-wrap:wrap;\n",
              "      gap: 12px;\n",
              "    }\n",
              "\n",
              "    .colab-df-convert {\n",
              "      background-color: #E8F0FE;\n",
              "      border: none;\n",
              "      border-radius: 50%;\n",
              "      cursor: pointer;\n",
              "      display: none;\n",
              "      fill: #1967D2;\n",
              "      height: 32px;\n",
              "      padding: 0 0 0 0;\n",
              "      width: 32px;\n",
              "    }\n",
              "\n",
              "    .colab-df-convert:hover {\n",
              "      background-color: #E2EBFA;\n",
              "      box-shadow: 0px 1px 2px rgba(60, 64, 67, 0.3), 0px 1px 3px 1px rgba(60, 64, 67, 0.15);\n",
              "      fill: #174EA6;\n",
              "    }\n",
              "\n",
              "    [theme=dark] .colab-df-convert {\n",
              "      background-color: #3B4455;\n",
              "      fill: #D2E3FC;\n",
              "    }\n",
              "\n",
              "    [theme=dark] .colab-df-convert:hover {\n",
              "      background-color: #434B5C;\n",
              "      box-shadow: 0px 1px 3px 1px rgba(0, 0, 0, 0.15);\n",
              "      filter: drop-shadow(0px 1px 2px rgba(0, 0, 0, 0.3));\n",
              "      fill: #FFFFFF;\n",
              "    }\n",
              "  </style>\n",
              "\n",
              "      <script>\n",
              "        const buttonEl =\n",
              "          document.querySelector('#df-9687d6e5-7774-4b62-880d-be4ee263b61d button.colab-df-convert');\n",
              "        buttonEl.style.display =\n",
              "          google.colab.kernel.accessAllowed ? 'block' : 'none';\n",
              "\n",
              "        async function convertToInteractive(key) {\n",
              "          const element = document.querySelector('#df-9687d6e5-7774-4b62-880d-be4ee263b61d');\n",
              "          const dataTable =\n",
              "            await google.colab.kernel.invokeFunction('convertToInteractive',\n",
              "                                                     [key], {});\n",
              "          if (!dataTable) return;\n",
              "\n",
              "          const docLinkHtml = 'Like what you see? Visit the ' +\n",
              "            '<a target=\"_blank\" href=https://colab.research.google.com/notebooks/data_table.ipynb>data table notebook</a>'\n",
              "            + ' to learn more about interactive tables.';\n",
              "          element.innerHTML = '';\n",
              "          dataTable['output_type'] = 'display_data';\n",
              "          await google.colab.output.renderOutput(dataTable, element);\n",
              "          const docLink = document.createElement('div');\n",
              "          docLink.innerHTML = docLinkHtml;\n",
              "          element.appendChild(docLink);\n",
              "        }\n",
              "      </script>\n",
              "    </div>\n",
              "  </div>\n",
              "  "
            ]
          },
          "metadata": {},
          "execution_count": 155
        }
      ]
    },
    {
      "cell_type": "markdown",
      "source": [
        "# Эмбеддинги"
      ],
      "metadata": {
        "id": "MA05q5-lxruZ"
      }
    },
    {
      "cell_type": "markdown",
      "source": [
        "## word2vec и stellargraph"
      ],
      "metadata": {
        "id": "evsICZJNXYcE"
      }
    },
    {
      "cell_type": "markdown",
      "source": [
        "Можно поделать нод2век со стеллариграфом, через ворд2век"
      ],
      "metadata": {
        "id": "kO7gATNFw-6z"
      }
    },
    {
      "cell_type": "code",
      "source": [
        "rw = BiasedRandomWalk(graph_train_sg)\n",
        "weighted_walks = rw.run(\n",
        "    nodes=graph_train_sg.nodes(),  # root nodes\n",
        "    length=100,  # maximum length of a random walk\n",
        "    n=10,  # number of random walks per root node\n",
        "    p=0.5,  # Defines (unormalised) probability, 1/p, of returning to source node\n",
        "    q=2.0,  # Defines (unormalised) probability, 1/q, for moving away from source node\n",
        "    weighted=True,  # for weighted random walks\n",
        "    seed=42,  # random seed fixed for reproducibility\n",
        ")\n",
        "print(\"Number of random walks: {}\".format(len(weighted_walks)))"
      ],
      "metadata": {
        "colab": {
          "base_uri": "https://localhost:8080/"
        },
        "id": "2s0MEGyxfT7e",
        "outputId": "b2073fd0-c005-4e3c-a96e-107781966a53"
      },
      "execution_count": null,
      "outputs": [
        {
          "output_type": "stream",
          "name": "stdout",
          "text": [
            "Number of random walks: 3990\n"
          ]
        }
      ]
    },
    {
      "cell_type": "code",
      "source": [
        "weighted_model = Word2Vec(weighted_walks, size=128, window=5, min_count=0, sg=1, workers=1, iter=1)\n",
        "weighted_node_embeddings = weighted_model.wv.vectors"
      ],
      "metadata": {
        "id": "DpFL0iVaqRAq"
      },
      "execution_count": null,
      "outputs": []
    },
    {
      "cell_type": "markdown",
      "source": [
        "Нарисуем с помощью T-SNE"
      ],
      "metadata": {
        "id": "SXLNKy73wt11"
      }
    },
    {
      "cell_type": "code",
      "source": [
        "from sklearn.manifold import TSNE\n",
        "tsne = TSNE(n_components=2, random_state=42)\n",
        "weighted_node_embeddings_2d = tsne.fit_transform(embedding_train)"
      ],
      "metadata": {
        "colab": {
          "base_uri": "https://localhost:8080/"
        },
        "id": "ze9FijU74ItM",
        "outputId": "a1d9afa7-9ca4-4147-a8e2-e6cd32df6b13"
      },
      "execution_count": null,
      "outputs": [
        {
          "output_type": "stream",
          "name": "stderr",
          "text": [
            "/usr/local/lib/python3.7/dist-packages/sklearn/manifold/_t_sne.py:783: FutureWarning: The default initialization in TSNE will change from 'random' to 'pca' in 1.2.\n",
            "  FutureWarning,\n",
            "/usr/local/lib/python3.7/dist-packages/sklearn/manifold/_t_sne.py:793: FutureWarning: The default learning rate in TSNE will change from 200.0 to 'auto' in 1.2.\n",
            "  FutureWarning,\n"
          ]
        }
      ]
    },
    {
      "cell_type": "code",
      "source": [
        "plt.figure(figsize=(10, 8))\n",
        "plt.scatter(weighted_node_embeddings_2d[:, 0], weighted_node_embeddings_2d[:, 1])\n",
        "plt.show()"
      ],
      "metadata": {
        "colab": {
          "base_uri": "https://localhost:8080/",
          "height": 483
        },
        "id": "0XHi9gup4ZuQ",
        "outputId": "17ce0bbb-4e49-4ed0-dd41-daac4d483a70"
      },
      "execution_count": null,
      "outputs": [
        {
          "output_type": "display_data",
          "data": {
            "text/plain": [
              "<Figure size 720x576 with 1 Axes>"
            ],
            "image/png": "[encoded data removed]"
          },
          "metadata": {
            "needs_background": "light"
          }
        }
      ]
    },
    {
      "cell_type": "code",
      "source": [
        "for node, score in weighted_model.wv.most_similar('Sonic X TV Adventure, Comedy, Kids, Mecha, Sci-Fi, Shounen'):\n",
        "  print(node, score)"
      ],
      "metadata": {
        "colab": {
          "base_uri": "https://localhost:8080/"
        },
        "id": "P9UE8qpnslas",
        "outputId": "3e536ba6-0a47-4836-9e46-675e8b434e07"
      },
      "execution_count": null,
      "outputs": [
        {
          "output_type": "stream",
          "name": "stdout",
          "text": [
            "K-On!: Ura-On! Special Comedy 0.2380547970533371\n",
            "Piano TV Drama, Music, Romance, Shoujo, Slice of Life 0.22983455657958984\n",
            "Berserk (2016) TV Action, Adventure, Demons, Drama, Fantasy, Horror, Military, Romance, Seinen, Supernatural 0.20040269196033478\n",
            "Hidamari Sketch TV Comedy, School, Slice of Life 0.19388286769390106\n",
            "Inugami-san to Nekoyama-san TV Comedy, School, Shoujo Ai 0.18680253624916077\n",
            "Uta Kata Special Special Drama, Magic 0.1858973354101181\n",
            "Lupin III: Kutabare! Nostradamus Movie Action, Adventure, Comedy, Shounen 0.1803009808063507\n",
            "Dragon Ball Z Movie 09: Ginga Girigiri!! Bucchigiri no Sugoi Yatsu Movie Adventure, Comedy, Fantasy, Sci-Fi, Shounen 0.17223413288593292\n",
            "Boku wa Tomodachi ga Sukunai TV Comedy, Ecchi, Harem, Romance, School, Seinen, Slice of Life 0.16096721589565277\n",
            "Bakuten Shoot Beyblade TV Action, Adventure, Comedy, Sci-Fi, Shounen, Sports 0.16039153933525085\n"
          ]
        }
      ]
    },
    {
      "cell_type": "markdown",
      "source": [
        "## Теперь нод2век"
      ],
      "metadata": {
        "id": "8VGZXCxCxH7_"
      }
    },
    {
      "cell_type": "code",
      "source": [
        "node2vec = Node2Vec(graph_train_nx, dimensions=20, walk_length=16, num_walks=10, weight_key='weight')\n",
        "model = node2vec.fit(window=3, min_count=1)"
      ],
      "metadata": {
        "colab": {
          "base_uri": "https://localhost:8080/",
          "height": 66,
          "referenced_widgets": [
            "55038908d5f04cebb66f21c2e820ec8f",
            "59d8928083fa4f4e86219d7c737c506c",
            "b157a54016b94989bd4e77781d303558",
            "1e42db61a9aa4430a536dac794ef7249",
            "0a264a1853d0435d85b09cde94f81506",
            "8338cfb7de9d40f58c62ccdaf7637468",
            "bf067e086460464f812acf84f6706d04",
            "f7bc89c6d1dc4d838dbbbb7c5585f522",
            "e75e01b98c104e5fae1142cb457697e2",
            "5c9c27fa90d64213a57d548475c5bf5f",
            "9ab9aee9601e425ab141a98f4e16e6ba"
          ]
        },
        "id": "cJNW5mVWXn2A",
        "outputId": "36c36fe7-3205-4e02-8d08-ce357c6c7148"
      },
      "execution_count": null,
      "outputs": [
        {
          "output_type": "display_data",
          "data": {
            "text/plain": [
              "Computing transition probabilities:   0%|          | 0/399 [00:00<?, ?it/s]"
            ],
            "application/vnd.jupyter.widget-view+json": {
              "version_major": 2,
              "version_minor": 0,
              "model_id": "55038908d5f04cebb66f21c2e820ec8f"
            }
          },
          "metadata": {}
        },
        {
          "output_type": "stream",
          "name": "stderr",
          "text": [
            "Generating walks (CPU: 1): 100%|██████████| 10/10 [00:06<00:00,  1.62it/s]\n"
          ]
        }
      ]
    },
    {
      "cell_type": "code",
      "source": [
        "ne = model.wv.vectors\n",
        "tsne2 = TSNE(n_components=2, random_state=42)\n",
        "ne_2d = tsne2.fit_transform(ne)"
      ],
      "metadata": {
        "colab": {
          "base_uri": "https://localhost:8080/"
        },
        "id": "fEr0soBaq81f",
        "outputId": "b7fd4bcd-8032-4395-fd0f-53aff64fa96b"
      },
      "execution_count": null,
      "outputs": [
        {
          "output_type": "stream",
          "name": "stderr",
          "text": [
            "/usr/local/lib/python3.7/dist-packages/sklearn/manifold/_t_sne.py:783: FutureWarning: The default initialization in TSNE will change from 'random' to 'pca' in 1.2.\n",
            "  FutureWarning,\n",
            "/usr/local/lib/python3.7/dist-packages/sklearn/manifold/_t_sne.py:793: FutureWarning: The default learning rate in TSNE will change from 200.0 to 'auto' in 1.2.\n",
            "  FutureWarning,\n"
          ]
        }
      ]
    },
    {
      "cell_type": "code",
      "source": [
        "plt.figure(figsize=(10, 8))\n",
        "plt.scatter(ne_2d[:, 0], ne_2d[:, 1])\n",
        "plt.show()"
      ],
      "metadata": {
        "colab": {
          "base_uri": "https://localhost:8080/",
          "height": 483
        },
        "id": "JB06nYYerPkP",
        "outputId": "bf62bf61-2286-4281-ba18-9382504a8e06"
      },
      "execution_count": null,
      "outputs": [
        {
          "output_type": "display_data",
          "data": {
            "text/plain": [
              "<Figure size 720x576 with 1 Axes>"
            ],
            "image/png": "[encoded data removed]"
          },
          "metadata": {
            "needs_background": "light"
          }
        }
      ]
    },
    {
      "cell_type": "code",
      "source": [
        "print(names_available[306], model.wv.get_vector(names_available[306]))"
      ],
      "metadata": {
        "colab": {
          "base_uri": "https://localhost:8080/"
        },
        "id": "N6E8U6D4a4Tj",
        "outputId": "7e4c2655-91f7-4af1-e947-31399410cf8b"
      },
      "execution_count": null,
      "outputs": [
        {
          "output_type": "stream",
          "name": "stdout",
          "text": [
            "Itazura na Kiss TV Comedy, Romance, Shoujo [ 0.1755846   0.4491189  -0.15342526  0.09179346 -0.2462004  -0.5903818\n",
            " -0.05189431  0.06390037  0.09802115 -0.01817974  0.24985453 -0.19448137\n",
            "  0.12248823 -0.12252805 -0.05603335 -0.04450704  0.78883237  0.31132117\n",
            " -0.02152587  0.2577461 ]\n"
          ]
        }
      ]
    },
    {
      "cell_type": "code",
      "source": [
        "for node, score in model.wv.most_similar('Sonic X TV Adventure, Comedy, Kids, Mecha, Sci-Fi, Shounen'):\n",
        "  print(node, score)"
      ],
      "metadata": {
        "colab": {
          "base_uri": "https://localhost:8080/"
        },
        "id": "6VquPvgiYoZD",
        "outputId": "91d4f80c-fb46-46ac-aa72-5842efd6dd10"
      },
      "execution_count": null,
      "outputs": [
        {
          "output_type": "stream",
          "name": "stdout",
          "text": [
            "Mezzo DSA TV Action, Adventure, Comedy, Mystery, Sci-Fi 0.997641921043396\n",
            "Dragon Ball: Super Saiya-jin Zetsumetsu Keikaku OVA Adventure, Fantasy, Martial Arts, Sci-Fi, Shounen, Super Power 0.9974629282951355\n",
            "3x3 Eyes OVA Action, Demons, Fantasy, Horror, Romance 0.9973310232162476\n",
            "Maria-sama ga Miteru 3rd OVA Drama, School, Shoujo Ai, Slice of Life 0.9973295331001282\n",
            "Piano TV Drama, Music, Romance, Shoujo, Slice of Life 0.9967692494392395\n",
            "Iriya no Sora, UFO no Natsu OVA Drama, Romance, Sci-Fi 0.9967077374458313\n",
            "Waga Seishun no Arcadia Movie Action, Adventure, Drama, Sci-Fi, Space 0.9966886043548584\n",
            "Amaenaide yo!! Katsu!! TV Comedy, Ecchi, Harem, Romance, Supernatural 0.9965972900390625\n",
            "Code Geass: Hangyaku no Lelouch TV Action, Mecha, Military, School, Sci-Fi, Super Power 0.9965381622314453\n",
            "Rose of Versailles TV Adventure, Drama, Historical, Romance, Shoujo 0.9965096712112427\n"
          ]
        }
      ]
    },
    {
      "cell_type": "markdown",
      "source": [
        "# Классификация"
      ],
      "metadata": {
        "id": "Z1gwcLOlxwdr"
      }
    },
    {
      "cell_type": "code",
      "source": [
        "arr = []\n",
        "for i in examples_train_nx[:5]:\n",
        "  a, b = i\n",
        "  arr.append(model.wv.get_vector(a))\n",
        "  arr.append(model.wv.get_vector(b))\n"
      ],
      "metadata": {
        "id": "qRoOlS318q9Y"
      },
      "execution_count": null,
      "outputs": []
    },
    {
      "cell_type": "code",
      "source": [
        "data_tuples = list(zip(examples_train_nx, labels_train_nx))"
      ],
      "metadata": {
        "id": "asOfI58rALE1"
      },
      "execution_count": null,
      "outputs": []
    },
    {
      "cell_type": "code",
      "source": [
        "df = pd.DataFrame(data_tuples, columns=['features', 'labels'])"
      ],
      "metadata": {
        "id": "7VIlNzqz_eYJ"
      },
      "execution_count": null,
      "outputs": []
    },
    {
      "cell_type": "code",
      "source": [
        "features = []\n",
        "for i in df.features:\n",
        "  a, b = i\n",
        "  features.append(a + ' ' + b)"
      ],
      "metadata": {
        "id": "AEEZ7Wp7_yhb"
      },
      "execution_count": null,
      "outputs": []
    },
    {
      "cell_type": "code",
      "source": [
        "df.features = features\n",
        "df"
      ],
      "metadata": {
        "colab": {
          "base_uri": "https://localhost:8080/",
          "height": 423
        },
        "id": "8fzaRnvgDDCi",
        "outputId": "056eae20-560d-4582-92f4-1cadbb9e700a"
      },
      "execution_count": null,
      "outputs": [
        {
          "output_type": "execute_result",
          "data": {
            "text/plain": [
              "                                              features  labels\n",
              "0    Aa! Megami-sama!: Chichaitte Koto wa Benri da ...       1\n",
              "1    Shonan Junai Gumi! OVA Action, Comedy, School ...       0\n",
              "2    Magic Knight Rayearth II TV Adventure, Drama, ...       1\n",
              "3    Kara no Kyoukai 7: Satsujin Kousatsu (Kou) Mov...       0\n",
              "4    Junketsu no Maria TV Comedy, Fantasy, Historic...       1\n",
              "..                                                 ...     ...\n",
              "302  Fate/kaleid liner Prisma☆Illya 2wei Herz! TV A...       1\n",
              "303  Ansatsu Kyoushitsu (TV) 2nd Season TV Action, ...       0\n",
              "304  Noblesse: Awakening ONA Action, School, Supern...       0\n",
              "305  One More Time, One More Chance Music Drama, Mu...       0\n",
              "306  Magic Knight Rayearth II TV Adventure, Drama, ...       0\n",
              "\n",
              "[307 rows x 2 columns]"
            ],
            "text/html": [
              "\n",
              "  <div id=\"df-d10b7ebc-3ac3-4a88-9531-96635a9b74ff\">\n",
              "    <div class=\"colab-df-container\">\n",
              "      <div>\n",
              "<style scoped>\n",
              "    .dataframe tbody tr th:only-of-type {\n",
              "        vertical-align: middle;\n",
              "    }\n",
              "\n",
              "    .dataframe tbody tr th {\n",
              "        vertical-align: top;\n",
              "    }\n",
              "\n",
              "    .dataframe thead th {\n",
              "        text-align: right;\n",
              "    }\n",
              "</style>\n",
              "<table border=\"1\" class=\"dataframe\">\n",
              "  <thead>\n",
              "    <tr style=\"text-align: right;\">\n",
              "      <th></th>\n",
              "      <th>features</th>\n",
              "      <th>labels</th>\n",
              "    </tr>\n",
              "  </thead>\n",
              "  <tbody>\n",
              "    <tr>\n",
              "      <th>0</th>\n",
              "      <td>Aa! Megami-sama!: Chichaitte Koto wa Benri da ...</td>\n",
              "      <td>1</td>\n",
              "    </tr>\n",
              "    <tr>\n",
              "      <th>1</th>\n",
              "      <td>Shonan Junai Gumi! OVA Action, Comedy, School ...</td>\n",
              "      <td>0</td>\n",
              "    </tr>\n",
              "    <tr>\n",
              "      <th>2</th>\n",
              "      <td>Magic Knight Rayearth II TV Adventure, Drama, ...</td>\n",
              "      <td>1</td>\n",
              "    </tr>\n",
              "    <tr>\n",
              "      <th>3</th>\n",
              "      <td>Kara no Kyoukai 7: Satsujin Kousatsu (Kou) Mov...</td>\n",
              "      <td>0</td>\n",
              "    </tr>\n",
              "    <tr>\n",
              "      <th>4</th>\n",
              "      <td>Junketsu no Maria TV Comedy, Fantasy, Historic...</td>\n",
              "      <td>1</td>\n",
              "    </tr>\n",
              "    <tr>\n",
              "      <th>...</th>\n",
              "      <td>...</td>\n",
              "      <td>...</td>\n",
              "    </tr>\n",
              "    <tr>\n",
              "      <th>302</th>\n",
              "      <td>Fate/kaleid liner Prisma☆Illya 2wei Herz! TV A...</td>\n",
              "      <td>1</td>\n",
              "    </tr>\n",
              "    <tr>\n",
              "      <th>303</th>\n",
              "      <td>Ansatsu Kyoushitsu (TV) 2nd Season TV Action, ...</td>\n",
              "      <td>0</td>\n",
              "    </tr>\n",
              "    <tr>\n",
              "      <th>304</th>\n",
              "      <td>Noblesse: Awakening ONA Action, School, Supern...</td>\n",
              "      <td>0</td>\n",
              "    </tr>\n",
              "    <tr>\n",
              "      <th>305</th>\n",
              "      <td>One More Time, One More Chance Music Drama, Mu...</td>\n",
              "      <td>0</td>\n",
              "    </tr>\n",
              "    <tr>\n",
              "      <th>306</th>\n",
              "      <td>Magic Knight Rayearth II TV Adventure, Drama, ...</td>\n",
              "      <td>0</td>\n",
              "    </tr>\n",
              "  </tbody>\n",
              "</table>\n",
              "<p>307 rows × 2 columns</p>\n",
              "</div>\n",
              "      <button class=\"colab-df-convert\" onclick=\"convertToInteractive('df-d10b7ebc-3ac3-4a88-9531-96635a9b74ff')\"\n",
              "              title=\"Convert this dataframe to an interactive table.\"\n",
              "              style=\"display:none;\">\n",
              "        \n",
              "  <svg xmlns=\"http://www.w3.org/2000/svg\" height=\"24px\"viewBox=\"0 0 24 24\"\n",
              "       width=\"24px\">\n",
              "    <path d=\"M0 0h24v24H0V0z\" fill=\"none\"/>\n",
              "    <path d=\"M18.56 5.44l.94 2.06.94-2.06 2.06-.94-2.06-.94-.94-2.06-.94 2.06-2.06.94zm-11 1L8.5 8.5l.94-2.06 2.06-.94-2.06-.94L8.5 2.5l-.94 2.06-2.06.94zm10 10l.94 2.06.94-2.06 2.06-.94-2.06-.94-.94-2.06-.94 2.06-2.06.94z\"/><path d=\"M17.41 7.96l-1.37-1.37c-.4-.4-.92-.59-1.43-.59-.52 0-1.04.2-1.43.59L10.3 9.45l-7.72 7.72c-.78.78-.78 2.05 0 2.83L4 21.41c.39.39.9.59 1.41.59.51 0 1.02-.2 1.41-.59l7.78-7.78 2.81-2.81c.8-.78.8-2.07 0-2.86zM5.41 20L4 18.59l7.72-7.72 1.47 1.35L5.41 20z\"/>\n",
              "  </svg>\n",
              "      </button>\n",
              "      \n",
              "  <style>\n",
              "    .colab-df-container {\n",
              "      display:flex;\n",
              "      flex-wrap:wrap;\n",
              "      gap: 12px;\n",
              "    }\n",
              "\n",
              "    .colab-df-convert {\n",
              "      background-color: #E8F0FE;\n",
              "      border: none;\n",
              "      border-radius: 50%;\n",
              "      cursor: pointer;\n",
              "      display: none;\n",
              "      fill: #1967D2;\n",
              "      height: 32px;\n",
              "      padding: 0 0 0 0;\n",
              "      width: 32px;\n",
              "    }\n",
              "\n",
              "    .colab-df-convert:hover {\n",
              "      background-color: #E2EBFA;\n",
              "      box-shadow: 0px 1px 2px rgba(60, 64, 67, 0.3), 0px 1px 3px 1px rgba(60, 64, 67, 0.15);\n",
              "      fill: #174EA6;\n",
              "    }\n",
              "\n",
              "    [theme=dark] .colab-df-convert {\n",
              "      background-color: #3B4455;\n",
              "      fill: #D2E3FC;\n",
              "    }\n",
              "\n",
              "    [theme=dark] .colab-df-convert:hover {\n",
              "      background-color: #434B5C;\n",
              "      box-shadow: 0px 1px 3px 1px rgba(0, 0, 0, 0.15);\n",
              "      filter: drop-shadow(0px 1px 2px rgba(0, 0, 0, 0.3));\n",
              "      fill: #FFFFFF;\n",
              "    }\n",
              "  </style>\n",
              "\n",
              "      <script>\n",
              "        const buttonEl =\n",
              "          document.querySelector('#df-d10b7ebc-3ac3-4a88-9531-96635a9b74ff button.colab-df-convert');\n",
              "        buttonEl.style.display =\n",
              "          google.colab.kernel.accessAllowed ? 'block' : 'none';\n",
              "\n",
              "        async function convertToInteractive(key) {\n",
              "          const element = document.querySelector('#df-d10b7ebc-3ac3-4a88-9531-96635a9b74ff');\n",
              "          const dataTable =\n",
              "            await google.colab.kernel.invokeFunction('convertToInteractive',\n",
              "                                                     [key], {});\n",
              "          if (!dataTable) return;\n",
              "\n",
              "          const docLinkHtml = 'Like what you see? Visit the ' +\n",
              "            '<a target=\"_blank\" href=https://colab.research.google.com/notebooks/data_table.ipynb>data table notebook</a>'\n",
              "            + ' to learn more about interactive tables.';\n",
              "          element.innerHTML = '';\n",
              "          dataTable['output_type'] = 'display_data';\n",
              "          await google.colab.output.renderOutput(dataTable, element);\n",
              "          const docLink = document.createElement('div');\n",
              "          docLink.innerHTML = docLinkHtml;\n",
              "          element.appendChild(docLink);\n",
              "        }\n",
              "      </script>\n",
              "    </div>\n",
              "  </div>\n",
              "  "
            ]
          },
          "metadata": {},
          "execution_count": 248
        }
      ]
    },
    {
      "cell_type": "code",
      "source": [
        "df"
      ],
      "metadata": {
        "colab": {
          "base_uri": "https://localhost:8080/",
          "height": 423
        },
        "id": "u18mJ-R3GtEL",
        "outputId": "df023679-de31-4378-9777-76ccaa27b3f6"
      },
      "execution_count": null,
      "outputs": [
        {
          "output_type": "execute_result",
          "data": {
            "text/plain": [
              "                                              features  labels\n",
              "0    [Aa! Megami-sama!: Chichaitte Koto wa Benri da...       1\n",
              "1    [Shonan Junai Gumi! OVA Action, Comedy, School...       0\n",
              "2    [Magic Knight Rayearth II TV Adventure, Drama,...       1\n",
              "3    [Kara no Kyoukai 7: Satsujin Kousatsu (Kou) Mo...       0\n",
              "4    [Junketsu no Maria TV Comedy, Fantasy, Histori...       1\n",
              "..                                                 ...     ...\n",
              "302  [Fate/kaleid liner Prisma☆Illya 2wei Herz! TV ...       1\n",
              "303  [Ansatsu Kyoushitsu (TV) 2nd Season TV Action,...       0\n",
              "304  [Noblesse: Awakening ONA Action, School, Super...       0\n",
              "305  [One More Time, One More Chance Music Drama, M...       0\n",
              "306  [Magic Knight Rayearth II TV Adventure, Drama,...       0\n",
              "\n",
              "[307 rows x 2 columns]"
            ],
            "text/html": [
              "\n",
              "  <div id=\"df-ebc53ea9-ce2e-4a6e-ad70-b7b441ad4308\">\n",
              "    <div class=\"colab-df-container\">\n",
              "      <div>\n",
              "<style scoped>\n",
              "    .dataframe tbody tr th:only-of-type {\n",
              "        vertical-align: middle;\n",
              "    }\n",
              "\n",
              "    .dataframe tbody tr th {\n",
              "        vertical-align: top;\n",
              "    }\n",
              "\n",
              "    .dataframe thead th {\n",
              "        text-align: right;\n",
              "    }\n",
              "</style>\n",
              "<table border=\"1\" class=\"dataframe\">\n",
              "  <thead>\n",
              "    <tr style=\"text-align: right;\">\n",
              "      <th></th>\n",
              "      <th>features</th>\n",
              "      <th>labels</th>\n",
              "    </tr>\n",
              "  </thead>\n",
              "  <tbody>\n",
              "    <tr>\n",
              "      <th>0</th>\n",
              "      <td>[Aa! Megami-sama!: Chichaitte Koto wa Benri da...</td>\n",
              "      <td>1</td>\n",
              "    </tr>\n",
              "    <tr>\n",
              "      <th>1</th>\n",
              "      <td>[Shonan Junai Gumi! OVA Action, Comedy, School...</td>\n",
              "      <td>0</td>\n",
              "    </tr>\n",
              "    <tr>\n",
              "      <th>2</th>\n",
              "      <td>[Magic Knight Rayearth II TV Adventure, Drama,...</td>\n",
              "      <td>1</td>\n",
              "    </tr>\n",
              "    <tr>\n",
              "      <th>3</th>\n",
              "      <td>[Kara no Kyoukai 7: Satsujin Kousatsu (Kou) Mo...</td>\n",
              "      <td>0</td>\n",
              "    </tr>\n",
              "    <tr>\n",
              "      <th>4</th>\n",
              "      <td>[Junketsu no Maria TV Comedy, Fantasy, Histori...</td>\n",
              "      <td>1</td>\n",
              "    </tr>\n",
              "    <tr>\n",
              "      <th>...</th>\n",
              "      <td>...</td>\n",
              "      <td>...</td>\n",
              "    </tr>\n",
              "    <tr>\n",
              "      <th>302</th>\n",
              "      <td>[Fate/kaleid liner Prisma☆Illya 2wei Herz! TV ...</td>\n",
              "      <td>1</td>\n",
              "    </tr>\n",
              "    <tr>\n",
              "      <th>303</th>\n",
              "      <td>[Ansatsu Kyoushitsu (TV) 2nd Season TV Action,...</td>\n",
              "      <td>0</td>\n",
              "    </tr>\n",
              "    <tr>\n",
              "      <th>304</th>\n",
              "      <td>[Noblesse: Awakening ONA Action, School, Super...</td>\n",
              "      <td>0</td>\n",
              "    </tr>\n",
              "    <tr>\n",
              "      <th>305</th>\n",
              "      <td>[One More Time, One More Chance Music Drama, M...</td>\n",
              "      <td>0</td>\n",
              "    </tr>\n",
              "    <tr>\n",
              "      <th>306</th>\n",
              "      <td>[Magic Knight Rayearth II TV Adventure, Drama,...</td>\n",
              "      <td>0</td>\n",
              "    </tr>\n",
              "  </tbody>\n",
              "</table>\n",
              "<p>307 rows × 2 columns</p>\n",
              "</div>\n",
              "      <button class=\"colab-df-convert\" onclick=\"convertToInteractive('df-ebc53ea9-ce2e-4a6e-ad70-b7b441ad4308')\"\n",
              "              title=\"Convert this dataframe to an interactive table.\"\n",
              "              style=\"display:none;\">\n",
              "        \n",
              "  <svg xmlns=\"http://www.w3.org/2000/svg\" height=\"24px\"viewBox=\"0 0 24 24\"\n",
              "       width=\"24px\">\n",
              "    <path d=\"M0 0h24v24H0V0z\" fill=\"none\"/>\n",
              "    <path d=\"M18.56 5.44l.94 2.06.94-2.06 2.06-.94-2.06-.94-.94-2.06-.94 2.06-2.06.94zm-11 1L8.5 8.5l.94-2.06 2.06-.94-2.06-.94L8.5 2.5l-.94 2.06-2.06.94zm10 10l.94 2.06.94-2.06 2.06-.94-2.06-.94-.94-2.06-.94 2.06-2.06.94z\"/><path d=\"M17.41 7.96l-1.37-1.37c-.4-.4-.92-.59-1.43-.59-.52 0-1.04.2-1.43.59L10.3 9.45l-7.72 7.72c-.78.78-.78 2.05 0 2.83L4 21.41c.39.39.9.59 1.41.59.51 0 1.02-.2 1.41-.59l7.78-7.78 2.81-2.81c.8-.78.8-2.07 0-2.86zM5.41 20L4 18.59l7.72-7.72 1.47 1.35L5.41 20z\"/>\n",
              "  </svg>\n",
              "      </button>\n",
              "      \n",
              "  <style>\n",
              "    .colab-df-container {\n",
              "      display:flex;\n",
              "      flex-wrap:wrap;\n",
              "      gap: 12px;\n",
              "    }\n",
              "\n",
              "    .colab-df-convert {\n",
              "      background-color: #E8F0FE;\n",
              "      border: none;\n",
              "      border-radius: 50%;\n",
              "      cursor: pointer;\n",
              "      display: none;\n",
              "      fill: #1967D2;\n",
              "      height: 32px;\n",
              "      padding: 0 0 0 0;\n",
              "      width: 32px;\n",
              "    }\n",
              "\n",
              "    .colab-df-convert:hover {\n",
              "      background-color: #E2EBFA;\n",
              "      box-shadow: 0px 1px 2px rgba(60, 64, 67, 0.3), 0px 1px 3px 1px rgba(60, 64, 67, 0.15);\n",
              "      fill: #174EA6;\n",
              "    }\n",
              "\n",
              "    [theme=dark] .colab-df-convert {\n",
              "      background-color: #3B4455;\n",
              "      fill: #D2E3FC;\n",
              "    }\n",
              "\n",
              "    [theme=dark] .colab-df-convert:hover {\n",
              "      background-color: #434B5C;\n",
              "      box-shadow: 0px 1px 3px 1px rgba(0, 0, 0, 0.15);\n",
              "      filter: drop-shadow(0px 1px 2px rgba(0, 0, 0, 0.3));\n",
              "      fill: #FFFFFF;\n",
              "    }\n",
              "  </style>\n",
              "\n",
              "      <script>\n",
              "        const buttonEl =\n",
              "          document.querySelector('#df-ebc53ea9-ce2e-4a6e-ad70-b7b441ad4308 button.colab-df-convert');\n",
              "        buttonEl.style.display =\n",
              "          google.colab.kernel.accessAllowed ? 'block' : 'none';\n",
              "\n",
              "        async function convertToInteractive(key) {\n",
              "          const element = document.querySelector('#df-ebc53ea9-ce2e-4a6e-ad70-b7b441ad4308');\n",
              "          const dataTable =\n",
              "            await google.colab.kernel.invokeFunction('convertToInteractive',\n",
              "                                                     [key], {});\n",
              "          if (!dataTable) return;\n",
              "\n",
              "          const docLinkHtml = 'Like what you see? Visit the ' +\n",
              "            '<a target=\"_blank\" href=https://colab.research.google.com/notebooks/data_table.ipynb>data table notebook</a>'\n",
              "            + ' to learn more about interactive tables.';\n",
              "          element.innerHTML = '';\n",
              "          dataTable['output_type'] = 'display_data';\n",
              "          await google.colab.output.renderOutput(dataTable, element);\n",
              "          const docLink = document.createElement('div');\n",
              "          docLink.innerHTML = docLinkHtml;\n",
              "          element.appendChild(docLink);\n",
              "        }\n",
              "      </script>\n",
              "    </div>\n",
              "  </div>\n",
              "  "
            ]
          },
          "metadata": {},
          "execution_count": 251
        }
      ]
    },
    {
      "cell_type": "code",
      "source": [
        "emb = Word2Vec(sentences=df.features)"
      ],
      "metadata": {
        "id": "0EDpeOJxGO7O"
      },
      "execution_count": null,
      "outputs": []
    },
    {
      "cell_type": "markdown",
      "source": [
        "# Оценка модели"
      ],
      "metadata": {
        "id": "PN1SFjNOxzGV"
      }
    }
  ]
}