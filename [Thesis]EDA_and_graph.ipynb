{
  "nbformat": 4,
  "nbformat_minor": 0,
  "metadata": {
    "colab": {
      "name": "[Thesis]EDA_and_graph.ipynb",
      "provenance": [],
      "authorship_tag": "ABX9TyNKiUnDsb6ktx6KNdzApSsR",
      "include_colab_link": true
    },
    "kernelspec": {
      "name": "python3",
      "display_name": "Python 3"
    },
    "language_info": {
      "name": "python"
    }
  },
  "cells": [
    {
      "cell_type": "markdown",
      "metadata": {
        "id": "view-in-github",
        "colab_type": "text"
      },
      "source": [
        "<a href=\"https://colab.research.google.com/github/Dahuginn/4yr_animerecommend/blob/main/%5BThesis%5DEDA_and_graph.ipynb\" target=\"_parent\"><img src=\"https://colab.research.google.com/assets/colab-badge.svg\" alt=\"Open In Colab\"/></a>"
      ]
    },
    {
      "cell_type": "code",
      "source": [
        "from google.colab import drive\n",
        "drive.mount('/content/gdrive')"
      ],
      "metadata": {
        "colab": {
          "base_uri": "https://localhost:8080/"
        },
        "id": "V39X7muhzUpU",
        "outputId": "93036544-39cb-4349-9ec7-5aaa78f57291"
      },
      "execution_count": 1,
      "outputs": [
        {
          "output_type": "stream",
          "name": "stdout",
          "text": [
            "Mounted at /content/gdrive\n"
          ]
        }
      ]
    },
    {
      "cell_type": "code",
      "execution_count": 2,
      "metadata": {
        "id": "h3PhB9h7zEM7"
      },
      "outputs": [],
      "source": [
        "import pandas as pd\n",
        "import numpy as np\n",
        "\n",
        "import matplotlib.pyplot as plt\n",
        "import seaborn as sns\n",
        "\n",
        "import networkx as nx\n",
        "\n",
        "import time\n",
        "import sys\n",
        "sys.path.append('/content/gdrive/My Drive')\n",
        "pd.options.mode.chained_assignment = None "
      ]
    },
    {
      "cell_type": "markdown",
      "source": [
        "# Download data"
      ],
      "metadata": {
        "id": "E-XCkSYDzevV"
      }
    },
    {
      "cell_type": "markdown",
      "source": [
        "The datasets were downloaded from myanimelist.net (2016)"
      ],
      "metadata": {
        "id": "nFxJCZJvzvAA"
      }
    },
    {
      "cell_type": "code",
      "source": [
        "anime = pd.read_csv('/content/gdrive/My Drive/anime.csv')\n",
        "anime['episodes'].replace({'Unknown': 0}, inplace = True)\n",
        "anime['episodes'] = anime['episodes'].astype('float')\n",
        "anime.dropna(inplace=True)\n",
        "print(anime.columns)\n",
        "anime.head()"
      ],
      "metadata": {
        "colab": {
          "base_uri": "https://localhost:8080/",
          "height": 223
        },
        "id": "QOn3QY3ZzYAG",
        "outputId": "f9a4056d-1396-4758-9b41-c335944959c6"
      },
      "execution_count": 138,
      "outputs": [
        {
          "output_type": "stream",
          "name": "stdout",
          "text": [
            "Index(['anime_id', 'name', 'genre', 'type', 'episodes', 'rating', 'members'], dtype='object')\n"
          ]
        },
        {
          "output_type": "execute_result",
          "data": {
            "text/plain": [
              "   anime_id                              name  \\\n",
              "0     32281                    Kimi no Na wa.   \n",
              "1      5114  Fullmetal Alchemist: Brotherhood   \n",
              "2     28977                          Gintama°   \n",
              "3      9253                       Steins;Gate   \n",
              "4      9969                     Gintama&#039;   \n",
              "\n",
              "                                               genre   type  episodes  rating  \\\n",
              "0               Drama, Romance, School, Supernatural  Movie       1.0    9.37   \n",
              "1  Action, Adventure, Drama, Fantasy, Magic, Mili...     TV      64.0    9.26   \n",
              "2  Action, Comedy, Historical, Parody, Samurai, S...     TV      51.0    9.25   \n",
              "3                                   Sci-Fi, Thriller     TV      24.0    9.17   \n",
              "4  Action, Comedy, Historical, Parody, Samurai, S...     TV      51.0    9.16   \n",
              "\n",
              "   members  \n",
              "0   200630  \n",
              "1   793665  \n",
              "2   114262  \n",
              "3   673572  \n",
              "4   151266  "
            ],
            "text/html": [
              "\n",
              "  <div id=\"df-e8476f58-afbb-482a-ae89-01ca6304398c\">\n",
              "    <div class=\"colab-df-container\">\n",
              "      <div>\n",
              "<style scoped>\n",
              "    .dataframe tbody tr th:only-of-type {\n",
              "        vertical-align: middle;\n",
              "    }\n",
              "\n",
              "    .dataframe tbody tr th {\n",
              "        vertical-align: top;\n",
              "    }\n",
              "\n",
              "    .dataframe thead th {\n",
              "        text-align: right;\n",
              "    }\n",
              "</style>\n",
              "<table border=\"1\" class=\"dataframe\">\n",
              "  <thead>\n",
              "    <tr style=\"text-align: right;\">\n",
              "      <th></th>\n",
              "      <th>anime_id</th>\n",
              "      <th>name</th>\n",
              "      <th>genre</th>\n",
              "      <th>type</th>\n",
              "      <th>episodes</th>\n",
              "      <th>rating</th>\n",
              "      <th>members</th>\n",
              "    </tr>\n",
              "  </thead>\n",
              "  <tbody>\n",
              "    <tr>\n",
              "      <th>0</th>\n",
              "      <td>32281</td>\n",
              "      <td>Kimi no Na wa.</td>\n",
              "      <td>Drama, Romance, School, Supernatural</td>\n",
              "      <td>Movie</td>\n",
              "      <td>1.0</td>\n",
              "      <td>9.37</td>\n",
              "      <td>200630</td>\n",
              "    </tr>\n",
              "    <tr>\n",
              "      <th>1</th>\n",
              "      <td>5114</td>\n",
              "      <td>Fullmetal Alchemist: Brotherhood</td>\n",
              "      <td>Action, Adventure, Drama, Fantasy, Magic, Mili...</td>\n",
              "      <td>TV</td>\n",
              "      <td>64.0</td>\n",
              "      <td>9.26</td>\n",
              "      <td>793665</td>\n",
              "    </tr>\n",
              "    <tr>\n",
              "      <th>2</th>\n",
              "      <td>28977</td>\n",
              "      <td>Gintama°</td>\n",
              "      <td>Action, Comedy, Historical, Parody, Samurai, S...</td>\n",
              "      <td>TV</td>\n",
              "      <td>51.0</td>\n",
              "      <td>9.25</td>\n",
              "      <td>114262</td>\n",
              "    </tr>\n",
              "    <tr>\n",
              "      <th>3</th>\n",
              "      <td>9253</td>\n",
              "      <td>Steins;Gate</td>\n",
              "      <td>Sci-Fi, Thriller</td>\n",
              "      <td>TV</td>\n",
              "      <td>24.0</td>\n",
              "      <td>9.17</td>\n",
              "      <td>673572</td>\n",
              "    </tr>\n",
              "    <tr>\n",
              "      <th>4</th>\n",
              "      <td>9969</td>\n",
              "      <td>Gintama&amp;#039;</td>\n",
              "      <td>Action, Comedy, Historical, Parody, Samurai, S...</td>\n",
              "      <td>TV</td>\n",
              "      <td>51.0</td>\n",
              "      <td>9.16</td>\n",
              "      <td>151266</td>\n",
              "    </tr>\n",
              "  </tbody>\n",
              "</table>\n",
              "</div>\n",
              "      <button class=\"colab-df-convert\" onclick=\"convertToInteractive('df-e8476f58-afbb-482a-ae89-01ca6304398c')\"\n",
              "              title=\"Convert this dataframe to an interactive table.\"\n",
              "              style=\"display:none;\">\n",
              "        \n",
              "  <svg xmlns=\"http://www.w3.org/2000/svg\" height=\"24px\"viewBox=\"0 0 24 24\"\n",
              "       width=\"24px\">\n",
              "    <path d=\"M0 0h24v24H0V0z\" fill=\"none\"/>\n",
              "    <path d=\"M18.56 5.44l.94 2.06.94-2.06 2.06-.94-2.06-.94-.94-2.06-.94 2.06-2.06.94zm-11 1L8.5 8.5l.94-2.06 2.06-.94-2.06-.94L8.5 2.5l-.94 2.06-2.06.94zm10 10l.94 2.06.94-2.06 2.06-.94-2.06-.94-.94-2.06-.94 2.06-2.06.94z\"/><path d=\"M17.41 7.96l-1.37-1.37c-.4-.4-.92-.59-1.43-.59-.52 0-1.04.2-1.43.59L10.3 9.45l-7.72 7.72c-.78.78-.78 2.05 0 2.83L4 21.41c.39.39.9.59 1.41.59.51 0 1.02-.2 1.41-.59l7.78-7.78 2.81-2.81c.8-.78.8-2.07 0-2.86zM5.41 20L4 18.59l7.72-7.72 1.47 1.35L5.41 20z\"/>\n",
              "  </svg>\n",
              "      </button>\n",
              "      \n",
              "  <style>\n",
              "    .colab-df-container {\n",
              "      display:flex;\n",
              "      flex-wrap:wrap;\n",
              "      gap: 12px;\n",
              "    }\n",
              "\n",
              "    .colab-df-convert {\n",
              "      background-color: #E8F0FE;\n",
              "      border: none;\n",
              "      border-radius: 50%;\n",
              "      cursor: pointer;\n",
              "      display: none;\n",
              "      fill: #1967D2;\n",
              "      height: 32px;\n",
              "      padding: 0 0 0 0;\n",
              "      width: 32px;\n",
              "    }\n",
              "\n",
              "    .colab-df-convert:hover {\n",
              "      background-color: #E2EBFA;\n",
              "      box-shadow: 0px 1px 2px rgba(60, 64, 67, 0.3), 0px 1px 3px 1px rgba(60, 64, 67, 0.15);\n",
              "      fill: #174EA6;\n",
              "    }\n",
              "\n",
              "    [theme=dark] .colab-df-convert {\n",
              "      background-color: #3B4455;\n",
              "      fill: #D2E3FC;\n",
              "    }\n",
              "\n",
              "    [theme=dark] .colab-df-convert:hover {\n",
              "      background-color: #434B5C;\n",
              "      box-shadow: 0px 1px 3px 1px rgba(0, 0, 0, 0.15);\n",
              "      filter: drop-shadow(0px 1px 2px rgba(0, 0, 0, 0.3));\n",
              "      fill: #FFFFFF;\n",
              "    }\n",
              "  </style>\n",
              "\n",
              "      <script>\n",
              "        const buttonEl =\n",
              "          document.querySelector('#df-e8476f58-afbb-482a-ae89-01ca6304398c button.colab-df-convert');\n",
              "        buttonEl.style.display =\n",
              "          google.colab.kernel.accessAllowed ? 'block' : 'none';\n",
              "\n",
              "        async function convertToInteractive(key) {\n",
              "          const element = document.querySelector('#df-e8476f58-afbb-482a-ae89-01ca6304398c');\n",
              "          const dataTable =\n",
              "            await google.colab.kernel.invokeFunction('convertToInteractive',\n",
              "                                                     [key], {});\n",
              "          if (!dataTable) return;\n",
              "\n",
              "          const docLinkHtml = 'Like what you see? Visit the ' +\n",
              "            '<a target=\"_blank\" href=https://colab.research.google.com/notebooks/data_table.ipynb>data table notebook</a>'\n",
              "            + ' to learn more about interactive tables.';\n",
              "          element.innerHTML = '';\n",
              "          dataTable['output_type'] = 'display_data';\n",
              "          await google.colab.output.renderOutput(dataTable, element);\n",
              "          const docLink = document.createElement('div');\n",
              "          docLink.innerHTML = docLinkHtml;\n",
              "          element.appendChild(docLink);\n",
              "        }\n",
              "      </script>\n",
              "    </div>\n",
              "  </div>\n",
              "  "
            ]
          },
          "metadata": {},
          "execution_count": 138
        }
      ]
    },
    {
      "cell_type": "markdown",
      "source": [
        "Let's remove NSFW titles quickly so I won't get on trouble in uni!"
      ],
      "metadata": {
        "id": "s5CMuluHccdz"
      }
    },
    {
      "cell_type": "code",
      "source": [
        "#save the indices in the list\n",
        "bad_h = anime.loc[anime['genre'].str.contains('hentai', case=False)]['anime_id'].values\n",
        "bad_e = anime.loc[anime['genre'].str.contains('ecchi', case=False)]['anime_id'].values\n",
        "bad_ya = anime.loc[anime['genre'].str.contains('yaoi', case=False)]['anime_id'].values\n",
        "bad_yu = anime.loc[anime['genre'].str.contains('yuri', case=False)]['anime_id'].values\n",
        "print(f'{len(bad_h) + len(bad_e) + len(bad_ya) + len(bad_yu)} titles to be deleted!')"
      ],
      "metadata": {
        "id": "x49r3VjdfEbz",
        "outputId": "8a0e9617-a103-410c-b033-1a340fc81318",
        "colab": {
          "base_uri": "https://localhost:8080/"
        }
      },
      "execution_count": 139,
      "outputs": [
        {
          "output_type": "stream",
          "name": "stdout",
          "text": [
            "1840 titles to be deleted!\n"
          ]
        }
      ]
    },
    {
      "cell_type": "code",
      "source": [
        "anime = anime[~anime['anime_id'].isin(bad_h)][~anime['anime_id'].isin(bad_e)][~anime['anime_id'].isin(bad_ya)][~anime['anime_id'].isin(bad_yu)]\n",
        "anime.info()"
      ],
      "metadata": {
        "id": "OkRRPgJMcN7N",
        "outputId": "f92da671-73fa-427e-de3a-c401f31c1405",
        "colab": {
          "base_uri": "https://localhost:8080/"
        }
      },
      "execution_count": 143,
      "outputs": [
        {
          "output_type": "stream",
          "name": "stdout",
          "text": [
            "<class 'pandas.core.frame.DataFrame'>\n",
            "Int64Index: 10228 entries, 0 to 10895\n",
            "Data columns (total 7 columns):\n",
            " #   Column    Non-Null Count  Dtype  \n",
            "---  ------    --------------  -----  \n",
            " 0   anime_id  10228 non-null  int64  \n",
            " 1   name      10228 non-null  object \n",
            " 2   genre     10228 non-null  object \n",
            " 3   type      10228 non-null  object \n",
            " 4   episodes  10228 non-null  float64\n",
            " 5   rating    10228 non-null  float64\n",
            " 6   members   10228 non-null  int64  \n",
            "dtypes: float64(2), int64(2), object(3)\n",
            "memory usage: 639.2+ KB\n"
          ]
        },
        {
          "output_type": "stream",
          "name": "stderr",
          "text": [
            "/usr/local/lib/python3.7/dist-packages/ipykernel_launcher.py:1: UserWarning: Boolean Series key will be reindexed to match DataFrame index.\n",
            "  \"\"\"Entry point for launching an IPython kernel.\n"
          ]
        }
      ]
    },
    {
      "cell_type": "code",
      "source": [
        "rating = pd.read_csv('/content/gdrive/My Drive/rating.csv')\n",
        "rating.dropna(inplace=True)\n",
        "print(rating.columns)\n",
        "rating.head()"
      ],
      "metadata": {
        "colab": {
          "base_uri": "https://localhost:8080/",
          "height": 223
        },
        "id": "J9TtVwrWzlXu",
        "outputId": "a9d26012-c8e0-4619-f9f0-6cfa53e267a9"
      },
      "execution_count": 146,
      "outputs": [
        {
          "output_type": "stream",
          "name": "stdout",
          "text": [
            "Index(['user_id', 'anime_id', 'rating'], dtype='object')\n"
          ]
        },
        {
          "output_type": "execute_result",
          "data": {
            "text/plain": [
              "   user_id  anime_id  rating\n",
              "0        1        20      -1\n",
              "1        1        24      -1\n",
              "2        1        79      -1\n",
              "3        1       226      -1\n",
              "4        1       241      -1"
            ],
            "text/html": [
              "\n",
              "  <div id=\"df-8260a0dd-8086-44df-8bb1-abf84ef09211\">\n",
              "    <div class=\"colab-df-container\">\n",
              "      <div>\n",
              "<style scoped>\n",
              "    .dataframe tbody tr th:only-of-type {\n",
              "        vertical-align: middle;\n",
              "    }\n",
              "\n",
              "    .dataframe tbody tr th {\n",
              "        vertical-align: top;\n",
              "    }\n",
              "\n",
              "    .dataframe thead th {\n",
              "        text-align: right;\n",
              "    }\n",
              "</style>\n",
              "<table border=\"1\" class=\"dataframe\">\n",
              "  <thead>\n",
              "    <tr style=\"text-align: right;\">\n",
              "      <th></th>\n",
              "      <th>user_id</th>\n",
              "      <th>anime_id</th>\n",
              "      <th>rating</th>\n",
              "    </tr>\n",
              "  </thead>\n",
              "  <tbody>\n",
              "    <tr>\n",
              "      <th>0</th>\n",
              "      <td>1</td>\n",
              "      <td>20</td>\n",
              "      <td>-1</td>\n",
              "    </tr>\n",
              "    <tr>\n",
              "      <th>1</th>\n",
              "      <td>1</td>\n",
              "      <td>24</td>\n",
              "      <td>-1</td>\n",
              "    </tr>\n",
              "    <tr>\n",
              "      <th>2</th>\n",
              "      <td>1</td>\n",
              "      <td>79</td>\n",
              "      <td>-1</td>\n",
              "    </tr>\n",
              "    <tr>\n",
              "      <th>3</th>\n",
              "      <td>1</td>\n",
              "      <td>226</td>\n",
              "      <td>-1</td>\n",
              "    </tr>\n",
              "    <tr>\n",
              "      <th>4</th>\n",
              "      <td>1</td>\n",
              "      <td>241</td>\n",
              "      <td>-1</td>\n",
              "    </tr>\n",
              "  </tbody>\n",
              "</table>\n",
              "</div>\n",
              "      <button class=\"colab-df-convert\" onclick=\"convertToInteractive('df-8260a0dd-8086-44df-8bb1-abf84ef09211')\"\n",
              "              title=\"Convert this dataframe to an interactive table.\"\n",
              "              style=\"display:none;\">\n",
              "        \n",
              "  <svg xmlns=\"http://www.w3.org/2000/svg\" height=\"24px\"viewBox=\"0 0 24 24\"\n",
              "       width=\"24px\">\n",
              "    <path d=\"M0 0h24v24H0V0z\" fill=\"none\"/>\n",
              "    <path d=\"M18.56 5.44l.94 2.06.94-2.06 2.06-.94-2.06-.94-.94-2.06-.94 2.06-2.06.94zm-11 1L8.5 8.5l.94-2.06 2.06-.94-2.06-.94L8.5 2.5l-.94 2.06-2.06.94zm10 10l.94 2.06.94-2.06 2.06-.94-2.06-.94-.94-2.06-.94 2.06-2.06.94z\"/><path d=\"M17.41 7.96l-1.37-1.37c-.4-.4-.92-.59-1.43-.59-.52 0-1.04.2-1.43.59L10.3 9.45l-7.72 7.72c-.78.78-.78 2.05 0 2.83L4 21.41c.39.39.9.59 1.41.59.51 0 1.02-.2 1.41-.59l7.78-7.78 2.81-2.81c.8-.78.8-2.07 0-2.86zM5.41 20L4 18.59l7.72-7.72 1.47 1.35L5.41 20z\"/>\n",
              "  </svg>\n",
              "      </button>\n",
              "      \n",
              "  <style>\n",
              "    .colab-df-container {\n",
              "      display:flex;\n",
              "      flex-wrap:wrap;\n",
              "      gap: 12px;\n",
              "    }\n",
              "\n",
              "    .colab-df-convert {\n",
              "      background-color: #E8F0FE;\n",
              "      border: none;\n",
              "      border-radius: 50%;\n",
              "      cursor: pointer;\n",
              "      display: none;\n",
              "      fill: #1967D2;\n",
              "      height: 32px;\n",
              "      padding: 0 0 0 0;\n",
              "      width: 32px;\n",
              "    }\n",
              "\n",
              "    .colab-df-convert:hover {\n",
              "      background-color: #E2EBFA;\n",
              "      box-shadow: 0px 1px 2px rgba(60, 64, 67, 0.3), 0px 1px 3px 1px rgba(60, 64, 67, 0.15);\n",
              "      fill: #174EA6;\n",
              "    }\n",
              "\n",
              "    [theme=dark] .colab-df-convert {\n",
              "      background-color: #3B4455;\n",
              "      fill: #D2E3FC;\n",
              "    }\n",
              "\n",
              "    [theme=dark] .colab-df-convert:hover {\n",
              "      background-color: #434B5C;\n",
              "      box-shadow: 0px 1px 3px 1px rgba(0, 0, 0, 0.15);\n",
              "      filter: drop-shadow(0px 1px 2px rgba(0, 0, 0, 0.3));\n",
              "      fill: #FFFFFF;\n",
              "    }\n",
              "  </style>\n",
              "\n",
              "      <script>\n",
              "        const buttonEl =\n",
              "          document.querySelector('#df-8260a0dd-8086-44df-8bb1-abf84ef09211 button.colab-df-convert');\n",
              "        buttonEl.style.display =\n",
              "          google.colab.kernel.accessAllowed ? 'block' : 'none';\n",
              "\n",
              "        async function convertToInteractive(key) {\n",
              "          const element = document.querySelector('#df-8260a0dd-8086-44df-8bb1-abf84ef09211');\n",
              "          const dataTable =\n",
              "            await google.colab.kernel.invokeFunction('convertToInteractive',\n",
              "                                                     [key], {});\n",
              "          if (!dataTable) return;\n",
              "\n",
              "          const docLinkHtml = 'Like what you see? Visit the ' +\n",
              "            '<a target=\"_blank\" href=https://colab.research.google.com/notebooks/data_table.ipynb>data table notebook</a>'\n",
              "            + ' to learn more about interactive tables.';\n",
              "          element.innerHTML = '';\n",
              "          dataTable['output_type'] = 'display_data';\n",
              "          await google.colab.output.renderOutput(dataTable, element);\n",
              "          const docLink = document.createElement('div');\n",
              "          docLink.innerHTML = docLinkHtml;\n",
              "          element.appendChild(docLink);\n",
              "        }\n",
              "      </script>\n",
              "    </div>\n",
              "  </div>\n",
              "  "
            ]
          },
          "metadata": {},
          "execution_count": 146
        }
      ]
    },
    {
      "cell_type": "code",
      "source": [
        "rating = rating[~rating['anime_id'].isin(bad_h)][~rating['anime_id'].isin(bad_e)][~rating['anime_id'].isin(bad_ya)][~rating['anime_id'].isin(bad_yu)]\n",
        "rating.info()"
      ],
      "metadata": {
        "id": "qwZ1F9nGnA-n",
        "outputId": "fe0aecf8-938a-47eb-cad2-8003d56f22dd",
        "colab": {
          "base_uri": "https://localhost:8080/"
        }
      },
      "execution_count": 148,
      "outputs": [
        {
          "output_type": "stream",
          "name": "stderr",
          "text": [
            "/usr/local/lib/python3.7/dist-packages/ipykernel_launcher.py:1: UserWarning: Boolean Series key will be reindexed to match DataFrame index.\n",
            "  \"\"\"Entry point for launching an IPython kernel.\n"
          ]
        },
        {
          "output_type": "stream",
          "name": "stdout",
          "text": [
            "<class 'pandas.core.frame.DataFrame'>\n",
            "Int64Index: 6738382 entries, 0 to 7813735\n",
            "Data columns (total 3 columns):\n",
            " #   Column    Dtype\n",
            "---  ------    -----\n",
            " 0   user_id   int64\n",
            " 1   anime_id  int64\n",
            " 2   rating    int64\n",
            "dtypes: int64(3)\n",
            "memory usage: 205.6 MB\n"
          ]
        }
      ]
    },
    {
      "cell_type": "markdown",
      "source": [
        "Some statistics:"
      ],
      "metadata": {
        "id": "HycezA6O11xC"
      }
    },
    {
      "cell_type": "code",
      "source": [
        "print(f\"Number of users: {len(rating['user_id'].unique())}\")\n",
        "print(f\"Number of animes: {len(anime['anime_id'].unique())}\")\n",
        "print(f\"Number of animes per user: {len(rating['user_id'].unique()) / len(rating['anime_id'].unique())}\")\n",
        "print(f\"Average number of episodes in an anime:  {anime['episodes'].mean()}\")\n",
        "print(f\"Users' average rating: {rating.describe()['rating'].iloc[1]}\")"
      ],
      "metadata": {
        "colab": {
          "base_uri": "https://localhost:8080/"
        },
        "id": "qG4R-tMOztfD",
        "outputId": "82524017-3400-46b6-8fc0-17cffd542ab2"
      },
      "execution_count": 149,
      "outputs": [
        {
          "output_type": "stream",
          "name": "stdout",
          "text": [
            "Number of users: 73183\n",
            "Number of animes: 10228\n",
            "Number of animes per user: 7.737682385282301\n",
            "Average number of episodes in an anime:  13.733183418068048\n",
            "Users' average rating: 6.232837497191462\n"
          ]
        }
      ]
    },
    {
      "cell_type": "markdown",
      "source": [
        "Merge the 2 datasets on animes' id. "
      ],
      "metadata": {
        "id": "V7Qs1ia02E-b"
      }
    },
    {
      "cell_type": "code",
      "source": [
        "data = pd.merge(anime,rating,on='anime_id')\n",
        "data = data.rename({'rating_y':'user_rating', 'rating_x':'rating'}, axis='columns')\n",
        "data.head()"
      ],
      "metadata": {
        "colab": {
          "base_uri": "https://localhost:8080/",
          "height": 206
        },
        "id": "UTY_1jYq0aEy",
        "outputId": "7de77cf5-4684-4862-e184-3565861ade64"
      },
      "execution_count": 150,
      "outputs": [
        {
          "output_type": "execute_result",
          "data": {
            "text/plain": [
              "   anime_id            name                                 genre   type  \\\n",
              "0     32281  Kimi no Na wa.  Drama, Romance, School, Supernatural  Movie   \n",
              "1     32281  Kimi no Na wa.  Drama, Romance, School, Supernatural  Movie   \n",
              "2     32281  Kimi no Na wa.  Drama, Romance, School, Supernatural  Movie   \n",
              "3     32281  Kimi no Na wa.  Drama, Romance, School, Supernatural  Movie   \n",
              "4     32281  Kimi no Na wa.  Drama, Romance, School, Supernatural  Movie   \n",
              "\n",
              "   episodes  rating  members  user_id  user_rating  \n",
              "0       1.0    9.37   200630       99            5  \n",
              "1       1.0    9.37   200630      152           10  \n",
              "2       1.0    9.37   200630      244           10  \n",
              "3       1.0    9.37   200630      271           10  \n",
              "4       1.0    9.37   200630      278           -1  "
            ],
            "text/html": [
              "\n",
              "  <div id=\"df-96f291ae-6d19-4515-a1e1-5da44afd1041\">\n",
              "    <div class=\"colab-df-container\">\n",
              "      <div>\n",
              "<style scoped>\n",
              "    .dataframe tbody tr th:only-of-type {\n",
              "        vertical-align: middle;\n",
              "    }\n",
              "\n",
              "    .dataframe tbody tr th {\n",
              "        vertical-align: top;\n",
              "    }\n",
              "\n",
              "    .dataframe thead th {\n",
              "        text-align: right;\n",
              "    }\n",
              "</style>\n",
              "<table border=\"1\" class=\"dataframe\">\n",
              "  <thead>\n",
              "    <tr style=\"text-align: right;\">\n",
              "      <th></th>\n",
              "      <th>anime_id</th>\n",
              "      <th>name</th>\n",
              "      <th>genre</th>\n",
              "      <th>type</th>\n",
              "      <th>episodes</th>\n",
              "      <th>rating</th>\n",
              "      <th>members</th>\n",
              "      <th>user_id</th>\n",
              "      <th>user_rating</th>\n",
              "    </tr>\n",
              "  </thead>\n",
              "  <tbody>\n",
              "    <tr>\n",
              "      <th>0</th>\n",
              "      <td>32281</td>\n",
              "      <td>Kimi no Na wa.</td>\n",
              "      <td>Drama, Romance, School, Supernatural</td>\n",
              "      <td>Movie</td>\n",
              "      <td>1.0</td>\n",
              "      <td>9.37</td>\n",
              "      <td>200630</td>\n",
              "      <td>99</td>\n",
              "      <td>5</td>\n",
              "    </tr>\n",
              "    <tr>\n",
              "      <th>1</th>\n",
              "      <td>32281</td>\n",
              "      <td>Kimi no Na wa.</td>\n",
              "      <td>Drama, Romance, School, Supernatural</td>\n",
              "      <td>Movie</td>\n",
              "      <td>1.0</td>\n",
              "      <td>9.37</td>\n",
              "      <td>200630</td>\n",
              "      <td>152</td>\n",
              "      <td>10</td>\n",
              "    </tr>\n",
              "    <tr>\n",
              "      <th>2</th>\n",
              "      <td>32281</td>\n",
              "      <td>Kimi no Na wa.</td>\n",
              "      <td>Drama, Romance, School, Supernatural</td>\n",
              "      <td>Movie</td>\n",
              "      <td>1.0</td>\n",
              "      <td>9.37</td>\n",
              "      <td>200630</td>\n",
              "      <td>244</td>\n",
              "      <td>10</td>\n",
              "    </tr>\n",
              "    <tr>\n",
              "      <th>3</th>\n",
              "      <td>32281</td>\n",
              "      <td>Kimi no Na wa.</td>\n",
              "      <td>Drama, Romance, School, Supernatural</td>\n",
              "      <td>Movie</td>\n",
              "      <td>1.0</td>\n",
              "      <td>9.37</td>\n",
              "      <td>200630</td>\n",
              "      <td>271</td>\n",
              "      <td>10</td>\n",
              "    </tr>\n",
              "    <tr>\n",
              "      <th>4</th>\n",
              "      <td>32281</td>\n",
              "      <td>Kimi no Na wa.</td>\n",
              "      <td>Drama, Romance, School, Supernatural</td>\n",
              "      <td>Movie</td>\n",
              "      <td>1.0</td>\n",
              "      <td>9.37</td>\n",
              "      <td>200630</td>\n",
              "      <td>278</td>\n",
              "      <td>-1</td>\n",
              "    </tr>\n",
              "  </tbody>\n",
              "</table>\n",
              "</div>\n",
              "      <button class=\"colab-df-convert\" onclick=\"convertToInteractive('df-96f291ae-6d19-4515-a1e1-5da44afd1041')\"\n",
              "              title=\"Convert this dataframe to an interactive table.\"\n",
              "              style=\"display:none;\">\n",
              "        \n",
              "  <svg xmlns=\"http://www.w3.org/2000/svg\" height=\"24px\"viewBox=\"0 0 24 24\"\n",
              "       width=\"24px\">\n",
              "    <path d=\"M0 0h24v24H0V0z\" fill=\"none\"/>\n",
              "    <path d=\"M18.56 5.44l.94 2.06.94-2.06 2.06-.94-2.06-.94-.94-2.06-.94 2.06-2.06.94zm-11 1L8.5 8.5l.94-2.06 2.06-.94-2.06-.94L8.5 2.5l-.94 2.06-2.06.94zm10 10l.94 2.06.94-2.06 2.06-.94-2.06-.94-.94-2.06-.94 2.06-2.06.94z\"/><path d=\"M17.41 7.96l-1.37-1.37c-.4-.4-.92-.59-1.43-.59-.52 0-1.04.2-1.43.59L10.3 9.45l-7.72 7.72c-.78.78-.78 2.05 0 2.83L4 21.41c.39.39.9.59 1.41.59.51 0 1.02-.2 1.41-.59l7.78-7.78 2.81-2.81c.8-.78.8-2.07 0-2.86zM5.41 20L4 18.59l7.72-7.72 1.47 1.35L5.41 20z\"/>\n",
              "  </svg>\n",
              "      </button>\n",
              "      \n",
              "  <style>\n",
              "    .colab-df-container {\n",
              "      display:flex;\n",
              "      flex-wrap:wrap;\n",
              "      gap: 12px;\n",
              "    }\n",
              "\n",
              "    .colab-df-convert {\n",
              "      background-color: #E8F0FE;\n",
              "      border: none;\n",
              "      border-radius: 50%;\n",
              "      cursor: pointer;\n",
              "      display: none;\n",
              "      fill: #1967D2;\n",
              "      height: 32px;\n",
              "      padding: 0 0 0 0;\n",
              "      width: 32px;\n",
              "    }\n",
              "\n",
              "    .colab-df-convert:hover {\n",
              "      background-color: #E2EBFA;\n",
              "      box-shadow: 0px 1px 2px rgba(60, 64, 67, 0.3), 0px 1px 3px 1px rgba(60, 64, 67, 0.15);\n",
              "      fill: #174EA6;\n",
              "    }\n",
              "\n",
              "    [theme=dark] .colab-df-convert {\n",
              "      background-color: #3B4455;\n",
              "      fill: #D2E3FC;\n",
              "    }\n",
              "\n",
              "    [theme=dark] .colab-df-convert:hover {\n",
              "      background-color: #434B5C;\n",
              "      box-shadow: 0px 1px 3px 1px rgba(0, 0, 0, 0.15);\n",
              "      filter: drop-shadow(0px 1px 2px rgba(0, 0, 0, 0.3));\n",
              "      fill: #FFFFFF;\n",
              "    }\n",
              "  </style>\n",
              "\n",
              "      <script>\n",
              "        const buttonEl =\n",
              "          document.querySelector('#df-96f291ae-6d19-4515-a1e1-5da44afd1041 button.colab-df-convert');\n",
              "        buttonEl.style.display =\n",
              "          google.colab.kernel.accessAllowed ? 'block' : 'none';\n",
              "\n",
              "        async function convertToInteractive(key) {\n",
              "          const element = document.querySelector('#df-96f291ae-6d19-4515-a1e1-5da44afd1041');\n",
              "          const dataTable =\n",
              "            await google.colab.kernel.invokeFunction('convertToInteractive',\n",
              "                                                     [key], {});\n",
              "          if (!dataTable) return;\n",
              "\n",
              "          const docLinkHtml = 'Like what you see? Visit the ' +\n",
              "            '<a target=\"_blank\" href=https://colab.research.google.com/notebooks/data_table.ipynb>data table notebook</a>'\n",
              "            + ' to learn more about interactive tables.';\n",
              "          element.innerHTML = '';\n",
              "          dataTable['output_type'] = 'display_data';\n",
              "          await google.colab.output.renderOutput(dataTable, element);\n",
              "          const docLink = document.createElement('div');\n",
              "          docLink.innerHTML = docLinkHtml;\n",
              "          element.appendChild(docLink);\n",
              "        }\n",
              "      </script>\n",
              "    </div>\n",
              "  </div>\n",
              "  "
            ]
          },
          "metadata": {},
          "execution_count": 150
        }
      ]
    },
    {
      "cell_type": "markdown",
      "source": [
        "# EDA"
      ],
      "metadata": {
        "id": "OWNJi3CX14tx"
      }
    },
    {
      "cell_type": "markdown",
      "source": [
        "Let's prepare a dictionary to draw a nice barplot with genres' frequencies:"
      ],
      "metadata": {
        "id": "uAPDLavz6o-1"
      }
    },
    {
      "cell_type": "code",
      "source": [
        "def compute_freqs(column):\n",
        "\n",
        "  # collect names of all genres in the dataset\n",
        "  gen = []\n",
        "  for i in data['genre'].values:\n",
        "    for j in str(i).split():\n",
        "      gen.append(j.strip(','))\n",
        "\n",
        "  # genres' names that consist of more than 2 words are shortened: \n",
        "  # 'Shounen' and 'Shoujo' means shounen ai and shoujo ai, 'Slice' means slice of life\n",
        "  gen = [x for x in gen if (x != 'Life' and x != 'of' and x != 'Ai')]\n",
        "  uni = np.unique(gen)\n",
        "  freq = []\n",
        "  for i in uni:\n",
        "    word_count = gen.count(i)\n",
        "    freq.append((i,word_count))\n",
        "  return(dict(freq))"
      ],
      "metadata": {
        "id": "30mLEOpi51l1"
      },
      "execution_count": 151,
      "outputs": []
    },
    {
      "cell_type": "code",
      "source": [
        "gen_freq = compute_freqs(anime['genre'])"
      ],
      "metadata": {
        "id": "F1GbGFsn61Gx"
      },
      "execution_count": null,
      "outputs": []
    },
    {
      "cell_type": "markdown",
      "source": [
        "Now we are ready to look at some graphs: rating distribution and genres' frequencies."
      ],
      "metadata": {
        "id": "oexZ3Tie95S8"
      }
    },
    {
      "cell_type": "code",
      "source": [
        "fig, ax = plt.subplots(2, figsize=(12, 10))\n",
        "sns.histplot(anime['rating'], color='pink', ax=ax[0])\n",
        "sns.barplot(x=list(gen_freq.keys()), y = list(gen_freq.values()), ax=ax[1])\n",
        "\n",
        "ax[0].set_title(\"Ratings distribution\")\n",
        "ax[0].set_ylabel(\"number\")\n",
        "ax[0].set_xlabel(\"rating\")\n",
        "ax[1].set_title('Genre frequency')\n",
        "\n",
        "ax[1].set_xticklabels(list(gen_freq.keys()), rotation = 90, ha=\"right\")\n",
        "fig.tight_layout(pad=3.0)\n",
        "\n",
        "# save the pic\n",
        "# plt.savefig('/content/gdrive/My Drive/4 year/gen_info.png')\n",
        "plt.show()"
      ],
      "metadata": {
        "colab": {
          "base_uri": "https://localhost:8080/",
          "height": 691
        },
        "id": "n-boe0Jt-Kw1",
        "outputId": "30c0761c-1843-4b57-e31c-e354e614f6e8"
      },
      "execution_count": null,
      "outputs": [
        {
          "output_type": "display_data",
          "data": {
            "text/plain": [
              "<Figure size 864x720 with 2 Axes>"
            ],
            "image/png": "[encoded data removed]"
          },
          "metadata": {
            "needs_background": "light"
          }
        }
      ]
    },
    {
      "cell_type": "markdown",
      "source": [
        "Why yes, my favorite anime genre is DEMENTIA, how did you know?"
      ],
      "metadata": {
        "id": "0k_e5LBq_z3Z"
      }
    },
    {
      "cell_type": "markdown",
      "source": [
        "# Dataset for a graph"
      ],
      "metadata": {
        "id": "WoYDi0Im3hsL"
      }
    },
    {
      "cell_type": "markdown",
      "source": [
        "Instead of dealong with continous variable 'user_rating', let's define 'like' - assume that the user likes the anime, if rating > 5 and assign 1 to the 'rating' column, otherwise, assume that the user doesn't like the anime. "
      ],
      "metadata": {
        "id": "mcJ7xZww2wfp"
      }
    },
    {
      "cell_type": "code",
      "source": [
        "rating_liked = rating.drop(rating[rating['rating'].values < 5].index).drop(columns='rating')"
      ],
      "metadata": {
        "id": "5lsveFgu3d3N"
      },
      "execution_count": null,
      "outputs": []
    },
    {
      "cell_type": "markdown",
      "source": [
        "We need to create a specific data shape to feed it to the networkx graph creating algorithm. We need to specify the pairs of the future graph nodes - 'source' and 'target'. In this recommender system we will a homogenous graph with animes and their attributes as nodes. We can also specify the weights of the graph's edges. We will assemble the 'weight' column for all 'source'-'target' pairs from the number of users the nodes of the pair have in common."
      ],
      "metadata": {
        "id": "d7BnH77j3uUP"
      }
    },
    {
      "cell_type": "markdown",
      "source": [
        "First we'll aggregate over the newly created 'rating_liked' to assemble a list of user ids of people who liked each of the animes:"
      ],
      "metadata": {
        "id": "ODN-Gn0dBdSm"
      }
    },
    {
      "cell_type": "code",
      "source": [
        "similar_users = rating_liked[rating_liked.duplicated('anime_id', keep=False)].groupby('anime_id')['user_id'].apply(list).reset_index()\n",
        "\n",
        "print(similar_users.shape)\n",
        "similar_users.head()"
      ],
      "metadata": {
        "colab": {
          "base_uri": "https://localhost:8080/",
          "height": 223
        },
        "id": "MoYtjNO43gZ7",
        "outputId": "585d021e-5b41-49a5-c5a2-b1d676d28438"
      },
      "execution_count": null,
      "outputs": [
        {
          "output_type": "stream",
          "name": "stdout",
          "text": [
            "(8744, 2)\n"
          ]
        },
        {
          "output_type": "execute_result",
          "data": {
            "text/plain": [
              "   anime_id                                            user_id\n",
              "0         1  [19, 21, 23, 32, 34, 43, 46, 50, 51, 55, 68, 7...\n",
              "1         5  [19, 21, 23, 51, 139, 152, 160, 200, 234, 242,...\n",
              "2         6  [5, 17, 32, 41, 51, 55, 81, 97, 103, 108, 109,...\n",
              "3         7  [160, 177, 277, 352, 646, 814, 1039, 1089, 117...\n",
              "4         8  [296, 2515, 2812, 3127, 4738, 4749, 4930, 5016..."
            ],
            "text/html": [
              "\n",
              "  <div id=\"df-52403938-d0b5-4198-97eb-4c7e95dc0a3d\">\n",
              "    <div class=\"colab-df-container\">\n",
              "      <div>\n",
              "<style scoped>\n",
              "    .dataframe tbody tr th:only-of-type {\n",
              "        vertical-align: middle;\n",
              "    }\n",
              "\n",
              "    .dataframe tbody tr th {\n",
              "        vertical-align: top;\n",
              "    }\n",
              "\n",
              "    .dataframe thead th {\n",
              "        text-align: right;\n",
              "    }\n",
              "</style>\n",
              "<table border=\"1\" class=\"dataframe\">\n",
              "  <thead>\n",
              "    <tr style=\"text-align: right;\">\n",
              "      <th></th>\n",
              "      <th>anime_id</th>\n",
              "      <th>user_id</th>\n",
              "    </tr>\n",
              "  </thead>\n",
              "  <tbody>\n",
              "    <tr>\n",
              "      <th>0</th>\n",
              "      <td>1</td>\n",
              "      <td>[19, 21, 23, 32, 34, 43, 46, 50, 51, 55, 68, 7...</td>\n",
              "    </tr>\n",
              "    <tr>\n",
              "      <th>1</th>\n",
              "      <td>5</td>\n",
              "      <td>[19, 21, 23, 51, 139, 152, 160, 200, 234, 242,...</td>\n",
              "    </tr>\n",
              "    <tr>\n",
              "      <th>2</th>\n",
              "      <td>6</td>\n",
              "      <td>[5, 17, 32, 41, 51, 55, 81, 97, 103, 108, 109,...</td>\n",
              "    </tr>\n",
              "    <tr>\n",
              "      <th>3</th>\n",
              "      <td>7</td>\n",
              "      <td>[160, 177, 277, 352, 646, 814, 1039, 1089, 117...</td>\n",
              "    </tr>\n",
              "    <tr>\n",
              "      <th>4</th>\n",
              "      <td>8</td>\n",
              "      <td>[296, 2515, 2812, 3127, 4738, 4749, 4930, 5016...</td>\n",
              "    </tr>\n",
              "  </tbody>\n",
              "</table>\n",
              "</div>\n",
              "      <button class=\"colab-df-convert\" onclick=\"convertToInteractive('df-52403938-d0b5-4198-97eb-4c7e95dc0a3d')\"\n",
              "              title=\"Convert this dataframe to an interactive table.\"\n",
              "              style=\"display:none;\">\n",
              "        \n",
              "  <svg xmlns=\"http://www.w3.org/2000/svg\" height=\"24px\"viewBox=\"0 0 24 24\"\n",
              "       width=\"24px\">\n",
              "    <path d=\"M0 0h24v24H0V0z\" fill=\"none\"/>\n",
              "    <path d=\"M18.56 5.44l.94 2.06.94-2.06 2.06-.94-2.06-.94-.94-2.06-.94 2.06-2.06.94zm-11 1L8.5 8.5l.94-2.06 2.06-.94-2.06-.94L8.5 2.5l-.94 2.06-2.06.94zm10 10l.94 2.06.94-2.06 2.06-.94-2.06-.94-.94-2.06-.94 2.06-2.06.94z\"/><path d=\"M17.41 7.96l-1.37-1.37c-.4-.4-.92-.59-1.43-.59-.52 0-1.04.2-1.43.59L10.3 9.45l-7.72 7.72c-.78.78-.78 2.05 0 2.83L4 21.41c.39.39.9.59 1.41.59.51 0 1.02-.2 1.41-.59l7.78-7.78 2.81-2.81c.8-.78.8-2.07 0-2.86zM5.41 20L4 18.59l7.72-7.72 1.47 1.35L5.41 20z\"/>\n",
              "  </svg>\n",
              "      </button>\n",
              "      \n",
              "  <style>\n",
              "    .colab-df-container {\n",
              "      display:flex;\n",
              "      flex-wrap:wrap;\n",
              "      gap: 12px;\n",
              "    }\n",
              "\n",
              "    .colab-df-convert {\n",
              "      background-color: #E8F0FE;\n",
              "      border: none;\n",
              "      border-radius: 50%;\n",
              "      cursor: pointer;\n",
              "      display: none;\n",
              "      fill: #1967D2;\n",
              "      height: 32px;\n",
              "      padding: 0 0 0 0;\n",
              "      width: 32px;\n",
              "    }\n",
              "\n",
              "    .colab-df-convert:hover {\n",
              "      background-color: #E2EBFA;\n",
              "      box-shadow: 0px 1px 2px rgba(60, 64, 67, 0.3), 0px 1px 3px 1px rgba(60, 64, 67, 0.15);\n",
              "      fill: #174EA6;\n",
              "    }\n",
              "\n",
              "    [theme=dark] .colab-df-convert {\n",
              "      background-color: #3B4455;\n",
              "      fill: #D2E3FC;\n",
              "    }\n",
              "\n",
              "    [theme=dark] .colab-df-convert:hover {\n",
              "      background-color: #434B5C;\n",
              "      box-shadow: 0px 1px 3px 1px rgba(0, 0, 0, 0.15);\n",
              "      filter: drop-shadow(0px 1px 2px rgba(0, 0, 0, 0.3));\n",
              "      fill: #FFFFFF;\n",
              "    }\n",
              "  </style>\n",
              "\n",
              "      <script>\n",
              "        const buttonEl =\n",
              "          document.querySelector('#df-52403938-d0b5-4198-97eb-4c7e95dc0a3d button.colab-df-convert');\n",
              "        buttonEl.style.display =\n",
              "          google.colab.kernel.accessAllowed ? 'block' : 'none';\n",
              "\n",
              "        async function convertToInteractive(key) {\n",
              "          const element = document.querySelector('#df-52403938-d0b5-4198-97eb-4c7e95dc0a3d');\n",
              "          const dataTable =\n",
              "            await google.colab.kernel.invokeFunction('convertToInteractive',\n",
              "                                                     [key], {});\n",
              "          if (!dataTable) return;\n",
              "\n",
              "          const docLinkHtml = 'Like what you see? Visit the ' +\n",
              "            '<a target=\"_blank\" href=https://colab.research.google.com/notebooks/data_table.ipynb>data table notebook</a>'\n",
              "            + ' to learn more about interactive tables.';\n",
              "          element.innerHTML = '';\n",
              "          dataTable['output_type'] = 'display_data';\n",
              "          await google.colab.output.renderOutput(dataTable, element);\n",
              "          const docLink = document.createElement('div');\n",
              "          docLink.innerHTML = docLinkHtml;\n",
              "          element.appendChild(docLink);\n",
              "        }\n",
              "      </script>\n",
              "    </div>\n",
              "  </div>\n",
              "  "
            ]
          },
          "metadata": {},
          "execution_count": 22
        }
      ]
    },
    {
      "cell_type": "markdown",
      "source": [
        "Later we'll use algrorithm node2vec, which uses random walks on graph to create embeddings from nodes. node2vec is a graph adaptation of word2vec - and it also works with 'sentences'. We'll create a column of attributes which will contain the information about the animes. The column 'attr' basically contains the 'sentences' that we will use later to create the nodes of our graph."
      ],
      "metadata": {
        "id": "4zxS_OpQB-eT"
      }
    },
    {
      "cell_type": "code",
      "source": [
        "anime_attr = anime[['anime_id', 'name', 'type','genre']]\n",
        "anime_attr['attr'] = anime_attr['name'] + ' '+ anime_attr['type'] + ' ' + anime_attr['genre']\n",
        "anime_attr = anime_attr.drop(['name', 'type','genre'], axis=1)\n",
        "\n",
        "# it seems that out of total 12017 animes users have 'liked' only 8744 animes!!\n",
        "print(anime_attr.shape)\n",
        "anime_attr.head()"
      ],
      "metadata": {
        "colab": {
          "base_uri": "https://localhost:8080/",
          "height": 223
        },
        "id": "aG-FWimLClqV",
        "outputId": "7a188800-8d9d-41df-c2fb-7e842a2e0094"
      },
      "execution_count": null,
      "outputs": [
        {
          "output_type": "stream",
          "name": "stdout",
          "text": [
            "(12017, 2)\n"
          ]
        },
        {
          "output_type": "execute_result",
          "data": {
            "text/plain": [
              "   anime_id                                               attr\n",
              "0     32281  Kimi no Na wa. Movie Drama, Romance, School, S...\n",
              "1      5114  Fullmetal Alchemist: Brotherhood TV Action, Ad...\n",
              "2     28977  Gintama° TV Action, Comedy, Historical, Parody...\n",
              "3      9253                    Steins;Gate TV Sci-Fi, Thriller\n",
              "4      9969  Gintama&#039; TV Action, Comedy, Historical, P..."
            ],
            "text/html": [
              "\n",
              "  <div id=\"df-1e2064e3-7812-45bb-a5d0-c68330c47f8e\">\n",
              "    <div class=\"colab-df-container\">\n",
              "      <div>\n",
              "<style scoped>\n",
              "    .dataframe tbody tr th:only-of-type {\n",
              "        vertical-align: middle;\n",
              "    }\n",
              "\n",
              "    .dataframe tbody tr th {\n",
              "        vertical-align: top;\n",
              "    }\n",
              "\n",
              "    .dataframe thead th {\n",
              "        text-align: right;\n",
              "    }\n",
              "</style>\n",
              "<table border=\"1\" class=\"dataframe\">\n",
              "  <thead>\n",
              "    <tr style=\"text-align: right;\">\n",
              "      <th></th>\n",
              "      <th>anime_id</th>\n",
              "      <th>attr</th>\n",
              "    </tr>\n",
              "  </thead>\n",
              "  <tbody>\n",
              "    <tr>\n",
              "      <th>0</th>\n",
              "      <td>32281</td>\n",
              "      <td>Kimi no Na wa. Movie Drama, Romance, School, S...</td>\n",
              "    </tr>\n",
              "    <tr>\n",
              "      <th>1</th>\n",
              "      <td>5114</td>\n",
              "      <td>Fullmetal Alchemist: Brotherhood TV Action, Ad...</td>\n",
              "    </tr>\n",
              "    <tr>\n",
              "      <th>2</th>\n",
              "      <td>28977</td>\n",
              "      <td>Gintama° TV Action, Comedy, Historical, Parody...</td>\n",
              "    </tr>\n",
              "    <tr>\n",
              "      <th>3</th>\n",
              "      <td>9253</td>\n",
              "      <td>Steins;Gate TV Sci-Fi, Thriller</td>\n",
              "    </tr>\n",
              "    <tr>\n",
              "      <th>4</th>\n",
              "      <td>9969</td>\n",
              "      <td>Gintama&amp;#039; TV Action, Comedy, Historical, P...</td>\n",
              "    </tr>\n",
              "  </tbody>\n",
              "</table>\n",
              "</div>\n",
              "      <button class=\"colab-df-convert\" onclick=\"convertToInteractive('df-1e2064e3-7812-45bb-a5d0-c68330c47f8e')\"\n",
              "              title=\"Convert this dataframe to an interactive table.\"\n",
              "              style=\"display:none;\">\n",
              "        \n",
              "  <svg xmlns=\"http://www.w3.org/2000/svg\" height=\"24px\"viewBox=\"0 0 24 24\"\n",
              "       width=\"24px\">\n",
              "    <path d=\"M0 0h24v24H0V0z\" fill=\"none\"/>\n",
              "    <path d=\"M18.56 5.44l.94 2.06.94-2.06 2.06-.94-2.06-.94-.94-2.06-.94 2.06-2.06.94zm-11 1L8.5 8.5l.94-2.06 2.06-.94-2.06-.94L8.5 2.5l-.94 2.06-2.06.94zm10 10l.94 2.06.94-2.06 2.06-.94-2.06-.94-.94-2.06-.94 2.06-2.06.94z\"/><path d=\"M17.41 7.96l-1.37-1.37c-.4-.4-.92-.59-1.43-.59-.52 0-1.04.2-1.43.59L10.3 9.45l-7.72 7.72c-.78.78-.78 2.05 0 2.83L4 21.41c.39.39.9.59 1.41.59.51 0 1.02-.2 1.41-.59l7.78-7.78 2.81-2.81c.8-.78.8-2.07 0-2.86zM5.41 20L4 18.59l7.72-7.72 1.47 1.35L5.41 20z\"/>\n",
              "  </svg>\n",
              "      </button>\n",
              "      \n",
              "  <style>\n",
              "    .colab-df-container {\n",
              "      display:flex;\n",
              "      flex-wrap:wrap;\n",
              "      gap: 12px;\n",
              "    }\n",
              "\n",
              "    .colab-df-convert {\n",
              "      background-color: #E8F0FE;\n",
              "      border: none;\n",
              "      border-radius: 50%;\n",
              "      cursor: pointer;\n",
              "      display: none;\n",
              "      fill: #1967D2;\n",
              "      height: 32px;\n",
              "      padding: 0 0 0 0;\n",
              "      width: 32px;\n",
              "    }\n",
              "\n",
              "    .colab-df-convert:hover {\n",
              "      background-color: #E2EBFA;\n",
              "      box-shadow: 0px 1px 2px rgba(60, 64, 67, 0.3), 0px 1px 3px 1px rgba(60, 64, 67, 0.15);\n",
              "      fill: #174EA6;\n",
              "    }\n",
              "\n",
              "    [theme=dark] .colab-df-convert {\n",
              "      background-color: #3B4455;\n",
              "      fill: #D2E3FC;\n",
              "    }\n",
              "\n",
              "    [theme=dark] .colab-df-convert:hover {\n",
              "      background-color: #434B5C;\n",
              "      box-shadow: 0px 1px 3px 1px rgba(0, 0, 0, 0.15);\n",
              "      filter: drop-shadow(0px 1px 2px rgba(0, 0, 0, 0.3));\n",
              "      fill: #FFFFFF;\n",
              "    }\n",
              "  </style>\n",
              "\n",
              "      <script>\n",
              "        const buttonEl =\n",
              "          document.querySelector('#df-1e2064e3-7812-45bb-a5d0-c68330c47f8e button.colab-df-convert');\n",
              "        buttonEl.style.display =\n",
              "          google.colab.kernel.accessAllowed ? 'block' : 'none';\n",
              "\n",
              "        async function convertToInteractive(key) {\n",
              "          const element = document.querySelector('#df-1e2064e3-7812-45bb-a5d0-c68330c47f8e');\n",
              "          const dataTable =\n",
              "            await google.colab.kernel.invokeFunction('convertToInteractive',\n",
              "                                                     [key], {});\n",
              "          if (!dataTable) return;\n",
              "\n",
              "          const docLinkHtml = 'Like what you see? Visit the ' +\n",
              "            '<a target=\"_blank\" href=https://colab.research.google.com/notebooks/data_table.ipynb>data table notebook</a>'\n",
              "            + ' to learn more about interactive tables.';\n",
              "          element.innerHTML = '';\n",
              "          dataTable['output_type'] = 'display_data';\n",
              "          await google.colab.output.renderOutput(dataTable, element);\n",
              "          const docLink = document.createElement('div');\n",
              "          docLink.innerHTML = docLinkHtml;\n",
              "          element.appendChild(docLink);\n",
              "        }\n",
              "      </script>\n",
              "    </div>\n",
              "  </div>\n",
              "  "
            ]
          },
          "metadata": {},
          "execution_count": 23
        }
      ]
    },
    {
      "cell_type": "markdown",
      "source": [
        "Now merge 'anime_attr' and 'similar_users' by anime ids:"
      ],
      "metadata": {
        "id": "e2vtA-ZSGZ7O"
      }
    },
    {
      "cell_type": "code",
      "source": [
        "anime_users = similar_users.merge(anime_attr, on=['anime_id'], how='inner')\n",
        "print(anime_users.shape)\n",
        "anime_users.head()"
      ],
      "metadata": {
        "colab": {
          "base_uri": "https://localhost:8080/",
          "height": 223
        },
        "id": "VGDLrb96GYsf",
        "outputId": "478c07a0-a9f7-414a-ec36-f8da4c77b712"
      },
      "execution_count": null,
      "outputs": [
        {
          "output_type": "stream",
          "name": "stdout",
          "text": [
            "(8733, 3)\n"
          ]
        },
        {
          "output_type": "execute_result",
          "data": {
            "text/plain": [
              "   anime_id                                            user_id  \\\n",
              "0         1  [19, 21, 23, 32, 34, 43, 46, 50, 51, 55, 68, 7...   \n",
              "1         5  [19, 21, 23, 51, 139, 152, 160, 200, 234, 242,...   \n",
              "2         6  [5, 17, 32, 41, 51, 55, 81, 97, 103, 108, 109,...   \n",
              "3         7  [160, 177, 277, 352, 646, 814, 1039, 1089, 117...   \n",
              "4         8  [296, 2515, 2812, 3127, 4738, 4749, 4930, 5016...   \n",
              "\n",
              "                                                attr  \n",
              "0  Cowboy Bebop TV Action, Adventure, Comedy, Dra...  \n",
              "1  Cowboy Bebop: Tengoku no Tobira Movie Action, ...  \n",
              "2                   Trigun TV Action, Comedy, Sci-Fi  \n",
              "3  Witch Hunter Robin TV Action, Drama, Magic, My...  \n",
              "4  Beet the Vandel Buster TV Adventure, Fantasy, ...  "
            ],
            "text/html": [
              "\n",
              "  <div id=\"df-1dd42fc3-cfed-4d62-86d8-a5ca96357a05\">\n",
              "    <div class=\"colab-df-container\">\n",
              "      <div>\n",
              "<style scoped>\n",
              "    .dataframe tbody tr th:only-of-type {\n",
              "        vertical-align: middle;\n",
              "    }\n",
              "\n",
              "    .dataframe tbody tr th {\n",
              "        vertical-align: top;\n",
              "    }\n",
              "\n",
              "    .dataframe thead th {\n",
              "        text-align: right;\n",
              "    }\n",
              "</style>\n",
              "<table border=\"1\" class=\"dataframe\">\n",
              "  <thead>\n",
              "    <tr style=\"text-align: right;\">\n",
              "      <th></th>\n",
              "      <th>anime_id</th>\n",
              "      <th>user_id</th>\n",
              "      <th>attr</th>\n",
              "    </tr>\n",
              "  </thead>\n",
              "  <tbody>\n",
              "    <tr>\n",
              "      <th>0</th>\n",
              "      <td>1</td>\n",
              "      <td>[19, 21, 23, 32, 34, 43, 46, 50, 51, 55, 68, 7...</td>\n",
              "      <td>Cowboy Bebop TV Action, Adventure, Comedy, Dra...</td>\n",
              "    </tr>\n",
              "    <tr>\n",
              "      <th>1</th>\n",
              "      <td>5</td>\n",
              "      <td>[19, 21, 23, 51, 139, 152, 160, 200, 234, 242,...</td>\n",
              "      <td>Cowboy Bebop: Tengoku no Tobira Movie Action, ...</td>\n",
              "    </tr>\n",
              "    <tr>\n",
              "      <th>2</th>\n",
              "      <td>6</td>\n",
              "      <td>[5, 17, 32, 41, 51, 55, 81, 97, 103, 108, 109,...</td>\n",
              "      <td>Trigun TV Action, Comedy, Sci-Fi</td>\n",
              "    </tr>\n",
              "    <tr>\n",
              "      <th>3</th>\n",
              "      <td>7</td>\n",
              "      <td>[160, 177, 277, 352, 646, 814, 1039, 1089, 117...</td>\n",
              "      <td>Witch Hunter Robin TV Action, Drama, Magic, My...</td>\n",
              "    </tr>\n",
              "    <tr>\n",
              "      <th>4</th>\n",
              "      <td>8</td>\n",
              "      <td>[296, 2515, 2812, 3127, 4738, 4749, 4930, 5016...</td>\n",
              "      <td>Beet the Vandel Buster TV Adventure, Fantasy, ...</td>\n",
              "    </tr>\n",
              "  </tbody>\n",
              "</table>\n",
              "</div>\n",
              "      <button class=\"colab-df-convert\" onclick=\"convertToInteractive('df-1dd42fc3-cfed-4d62-86d8-a5ca96357a05')\"\n",
              "              title=\"Convert this dataframe to an interactive table.\"\n",
              "              style=\"display:none;\">\n",
              "        \n",
              "  <svg xmlns=\"http://www.w3.org/2000/svg\" height=\"24px\"viewBox=\"0 0 24 24\"\n",
              "       width=\"24px\">\n",
              "    <path d=\"M0 0h24v24H0V0z\" fill=\"none\"/>\n",
              "    <path d=\"M18.56 5.44l.94 2.06.94-2.06 2.06-.94-2.06-.94-.94-2.06-.94 2.06-2.06.94zm-11 1L8.5 8.5l.94-2.06 2.06-.94-2.06-.94L8.5 2.5l-.94 2.06-2.06.94zm10 10l.94 2.06.94-2.06 2.06-.94-2.06-.94-.94-2.06-.94 2.06-2.06.94z\"/><path d=\"M17.41 7.96l-1.37-1.37c-.4-.4-.92-.59-1.43-.59-.52 0-1.04.2-1.43.59L10.3 9.45l-7.72 7.72c-.78.78-.78 2.05 0 2.83L4 21.41c.39.39.9.59 1.41.59.51 0 1.02-.2 1.41-.59l7.78-7.78 2.81-2.81c.8-.78.8-2.07 0-2.86zM5.41 20L4 18.59l7.72-7.72 1.47 1.35L5.41 20z\"/>\n",
              "  </svg>\n",
              "      </button>\n",
              "      \n",
              "  <style>\n",
              "    .colab-df-container {\n",
              "      display:flex;\n",
              "      flex-wrap:wrap;\n",
              "      gap: 12px;\n",
              "    }\n",
              "\n",
              "    .colab-df-convert {\n",
              "      background-color: #E8F0FE;\n",
              "      border: none;\n",
              "      border-radius: 50%;\n",
              "      cursor: pointer;\n",
              "      display: none;\n",
              "      fill: #1967D2;\n",
              "      height: 32px;\n",
              "      padding: 0 0 0 0;\n",
              "      width: 32px;\n",
              "    }\n",
              "\n",
              "    .colab-df-convert:hover {\n",
              "      background-color: #E2EBFA;\n",
              "      box-shadow: 0px 1px 2px rgba(60, 64, 67, 0.3), 0px 1px 3px 1px rgba(60, 64, 67, 0.15);\n",
              "      fill: #174EA6;\n",
              "    }\n",
              "\n",
              "    [theme=dark] .colab-df-convert {\n",
              "      background-color: #3B4455;\n",
              "      fill: #D2E3FC;\n",
              "    }\n",
              "\n",
              "    [theme=dark] .colab-df-convert:hover {\n",
              "      background-color: #434B5C;\n",
              "      box-shadow: 0px 1px 3px 1px rgba(0, 0, 0, 0.15);\n",
              "      filter: drop-shadow(0px 1px 2px rgba(0, 0, 0, 0.3));\n",
              "      fill: #FFFFFF;\n",
              "    }\n",
              "  </style>\n",
              "\n",
              "      <script>\n",
              "        const buttonEl =\n",
              "          document.querySelector('#df-1dd42fc3-cfed-4d62-86d8-a5ca96357a05 button.colab-df-convert');\n",
              "        buttonEl.style.display =\n",
              "          google.colab.kernel.accessAllowed ? 'block' : 'none';\n",
              "\n",
              "        async function convertToInteractive(key) {\n",
              "          const element = document.querySelector('#df-1dd42fc3-cfed-4d62-86d8-a5ca96357a05');\n",
              "          const dataTable =\n",
              "            await google.colab.kernel.invokeFunction('convertToInteractive',\n",
              "                                                     [key], {});\n",
              "          if (!dataTable) return;\n",
              "\n",
              "          const docLinkHtml = 'Like what you see? Visit the ' +\n",
              "            '<a target=\"_blank\" href=https://colab.research.google.com/notebooks/data_table.ipynb>data table notebook</a>'\n",
              "            + ' to learn more about interactive tables.';\n",
              "          element.innerHTML = '';\n",
              "          dataTable['output_type'] = 'display_data';\n",
              "          await google.colab.output.renderOutput(dataTable, element);\n",
              "          const docLink = document.createElement('div');\n",
              "          docLink.innerHTML = docLinkHtml;\n",
              "          element.appendChild(docLink);\n",
              "        }\n",
              "      </script>\n",
              "    </div>\n",
              "  </div>\n",
              "  "
            ]
          },
          "metadata": {},
          "execution_count": 24
        }
      ]
    },
    {
      "cell_type": "code",
      "source": [
        "# there is a mismatch between anime_users and similar_users, 11 animes are present only in the users ratings! hmmm\n",
        "set(similar_users['anime_id']) - set(anime_users['anime_id'])"
      ],
      "metadata": {
        "colab": {
          "base_uri": "https://localhost:8080/"
        },
        "id": "Hyn57RdZHJuQ",
        "outputId": "f1ab97e3-5e90-4bc1-b2c4-67aaa8188daf"
      },
      "execution_count": null,
      "outputs": [
        {
          "output_type": "execute_result",
          "data": {
            "text/plain": [
              "{19219, 28655, 28987, 29765, 30484, 30862, 30913, 31507, 31760, 33187, 33242}"
            ]
          },
          "metadata": {},
          "execution_count": 25
        }
      ]
    },
    {
      "cell_type": "markdown",
      "source": [
        "It will take too long to create a dataset needed for our graph when it has 8733 titles. It will be even harder to compute node embeddings on such a large graph. We are going to work with 3000 randomly sampled animes, then:"
      ],
      "metadata": {
        "id": "5ajvGinOBYUj"
      }
    },
    {
      "cell_type": "code",
      "source": [
        "anime_users = anime_users.sample(n=3000).reset_index().drop(columns=['index'])"
      ],
      "metadata": {
        "id": "8UWqtQLZBLhZ"
      },
      "execution_count": null,
      "outputs": []
    },
    {
      "cell_type": "markdown",
      "source": [
        "We're getting closer to the most harrowing experience of this notebook: we will start from the first anime in the list and run all the way down comparing the first one's list in 'user_id' to the other's. The next iteration starts at the second anime, we will compare its list to the rest of 3000 (we don't compare the anime with itself). In total we will make $(3000-k)$ comparisons $k$ times."
      ],
      "metadata": {
        "id": "iq15FumIH-Vv"
      }
    },
    {
      "cell_type": "code",
      "source": [
        "for_graph_weighted = {}\n",
        "k = 0\n",
        "start = time.time()\n",
        "\n",
        "for i in range(1, 3000):\n",
        "  current_value = set(anime_users[anime_users.index == int(i-1)]['user_id'].values[0])\n",
        "  for j in range(i, 3000):\n",
        "    compare_value = set(anime_users[anime_users.index == j]['user_id'].values[0])\n",
        "    weight = len(current_value & compare_value)\n",
        "    for_graph_weighted[k] = {'source': anime_users[anime_users.index == int(i-1)]['attr'].values[0], 'target': anime_users[anime_users.index == j]['attr'].values[0], 'weight': weight}\n",
        "    k += 1\n",
        "\n",
        "end = time.time()\n",
        "print(end - start)"
      ],
      "metadata": {
        "id": "0vTD0IguIfsW",
        "colab": {
          "base_uri": "https://localhost:8080/"
        },
        "outputId": "8d4bd406-28d8-414b-e440-d7a263817e82"
      },
      "execution_count": null,
      "outputs": [
        {
          "output_type": "stream",
          "name": "stdout",
          "text": [
            "4678.054589748383\n"
          ]
        }
      ]
    },
    {
      "cell_type": "code",
      "source": [
        "graph_data = pd.DataFrame.from_dict(for_graph_weighted).T\n",
        "graph_data = graph_data.drop(graph_data[graph_data['weight'] == 0].index)\n",
        "graph_data['source'] = graph_data['source'].astype(str)\n",
        "graph_data['target'] = graph_data['target'].astype(str)\n",
        "graph_data['weight'] = graph_data['weight'].astype(int)"
      ],
      "metadata": {
        "id": "ojq7x1I2ItTx"
      },
      "execution_count": null,
      "outputs": []
    },
    {
      "cell_type": "code",
      "source": [
        "# save the result and suffer no more\n",
        "compression_opts = dict(method='zip', archive_name='3000graph.csv')\n",
        "graph_data.to_csv('3000graph.zip', index=False, compression=compression_opts)"
      ],
      "metadata": {
        "id": "w-L9t2oxLGxy"
      },
      "execution_count": null,
      "outputs": []
    },
    {
      "cell_type": "markdown",
      "source": [
        "# Creating a graph"
      ],
      "metadata": {
        "id": "aDctJQH27X5N"
      }
    },
    {
      "cell_type": "code",
      "source": [
        "graph_data = pd.read_csv('/content/gdrive/My Drive/4 year/3000graph.csv')\n",
        "print(graph_data.shape)\n",
        "graph_data.head()"
      ],
      "metadata": {
        "colab": {
          "base_uri": "https://localhost:8080/",
          "height": 223
        },
        "id": "vQWWmSUxL4D-",
        "outputId": "06a3791b-b6d1-4f79-c7e0-ceace36debda"
      },
      "execution_count": 3,
      "outputs": [
        {
          "output_type": "stream",
          "name": "stdout",
          "text": [
            "(2846519, 3)\n"
          ]
        },
        {
          "output_type": "execute_result",
          "data": {
            "text/plain": [
              "                                              source  \\\n",
              "0  Metal Fight Beyblade: Baku TV Adventure, Comed...   \n",
              "1  Metal Fight Beyblade: Baku TV Adventure, Comed...   \n",
              "2  Metal Fight Beyblade: Baku TV Adventure, Comed...   \n",
              "3  Metal Fight Beyblade: Baku TV Adventure, Comed...   \n",
              "4  Metal Fight Beyblade: Baku TV Adventure, Comed...   \n",
              "\n",
              "                                              target  weight  \n",
              "0  Angel&#039;s Feather OVA Drama, Fantasy, Roman...       3  \n",
              "1  Kashou no Tsuki: Aki Kyougen OVA Historical, R...       1  \n",
              "2  High School DxD BorN: Yomigaeranai Fushichou O...       5  \n",
              "3  Battle Spirits: Shounen Toppa Bashin TV Game, ...       3  \n",
              "4  Blue Drop: Tenshi-tachi no Gikyoku TV Drama, S...       2  "
            ],
            "text/html": [
              "\n",
              "  <div id=\"df-266083f0-034d-4c8b-943f-4019a7677f83\">\n",
              "    <div class=\"colab-df-container\">\n",
              "      <div>\n",
              "<style scoped>\n",
              "    .dataframe tbody tr th:only-of-type {\n",
              "        vertical-align: middle;\n",
              "    }\n",
              "\n",
              "    .dataframe tbody tr th {\n",
              "        vertical-align: top;\n",
              "    }\n",
              "\n",
              "    .dataframe thead th {\n",
              "        text-align: right;\n",
              "    }\n",
              "</style>\n",
              "<table border=\"1\" class=\"dataframe\">\n",
              "  <thead>\n",
              "    <tr style=\"text-align: right;\">\n",
              "      <th></th>\n",
              "      <th>source</th>\n",
              "      <th>target</th>\n",
              "      <th>weight</th>\n",
              "    </tr>\n",
              "  </thead>\n",
              "  <tbody>\n",
              "    <tr>\n",
              "      <th>0</th>\n",
              "      <td>Metal Fight Beyblade: Baku TV Adventure, Comed...</td>\n",
              "      <td>Angel&amp;#039;s Feather OVA Drama, Fantasy, Roman...</td>\n",
              "      <td>3</td>\n",
              "    </tr>\n",
              "    <tr>\n",
              "      <th>1</th>\n",
              "      <td>Metal Fight Beyblade: Baku TV Adventure, Comed...</td>\n",
              "      <td>Kashou no Tsuki: Aki Kyougen OVA Historical, R...</td>\n",
              "      <td>1</td>\n",
              "    </tr>\n",
              "    <tr>\n",
              "      <th>2</th>\n",
              "      <td>Metal Fight Beyblade: Baku TV Adventure, Comed...</td>\n",
              "      <td>High School DxD BorN: Yomigaeranai Fushichou O...</td>\n",
              "      <td>5</td>\n",
              "    </tr>\n",
              "    <tr>\n",
              "      <th>3</th>\n",
              "      <td>Metal Fight Beyblade: Baku TV Adventure, Comed...</td>\n",
              "      <td>Battle Spirits: Shounen Toppa Bashin TV Game, ...</td>\n",
              "      <td>3</td>\n",
              "    </tr>\n",
              "    <tr>\n",
              "      <th>4</th>\n",
              "      <td>Metal Fight Beyblade: Baku TV Adventure, Comed...</td>\n",
              "      <td>Blue Drop: Tenshi-tachi no Gikyoku TV Drama, S...</td>\n",
              "      <td>2</td>\n",
              "    </tr>\n",
              "  </tbody>\n",
              "</table>\n",
              "</div>\n",
              "      <button class=\"colab-df-convert\" onclick=\"convertToInteractive('df-266083f0-034d-4c8b-943f-4019a7677f83')\"\n",
              "              title=\"Convert this dataframe to an interactive table.\"\n",
              "              style=\"display:none;\">\n",
              "        \n",
              "  <svg xmlns=\"http://www.w3.org/2000/svg\" height=\"24px\"viewBox=\"0 0 24 24\"\n",
              "       width=\"24px\">\n",
              "    <path d=\"M0 0h24v24H0V0z\" fill=\"none\"/>\n",
              "    <path d=\"M18.56 5.44l.94 2.06.94-2.06 2.06-.94-2.06-.94-.94-2.06-.94 2.06-2.06.94zm-11 1L8.5 8.5l.94-2.06 2.06-.94-2.06-.94L8.5 2.5l-.94 2.06-2.06.94zm10 10l.94 2.06.94-2.06 2.06-.94-2.06-.94-.94-2.06-.94 2.06-2.06.94z\"/><path d=\"M17.41 7.96l-1.37-1.37c-.4-.4-.92-.59-1.43-.59-.52 0-1.04.2-1.43.59L10.3 9.45l-7.72 7.72c-.78.78-.78 2.05 0 2.83L4 21.41c.39.39.9.59 1.41.59.51 0 1.02-.2 1.41-.59l7.78-7.78 2.81-2.81c.8-.78.8-2.07 0-2.86zM5.41 20L4 18.59l7.72-7.72 1.47 1.35L5.41 20z\"/>\n",
              "  </svg>\n",
              "      </button>\n",
              "      \n",
              "  <style>\n",
              "    .colab-df-container {\n",
              "      display:flex;\n",
              "      flex-wrap:wrap;\n",
              "      gap: 12px;\n",
              "    }\n",
              "\n",
              "    .colab-df-convert {\n",
              "      background-color: #E8F0FE;\n",
              "      border: none;\n",
              "      border-radius: 50%;\n",
              "      cursor: pointer;\n",
              "      display: none;\n",
              "      fill: #1967D2;\n",
              "      height: 32px;\n",
              "      padding: 0 0 0 0;\n",
              "      width: 32px;\n",
              "    }\n",
              "\n",
              "    .colab-df-convert:hover {\n",
              "      background-color: #E2EBFA;\n",
              "      box-shadow: 0px 1px 2px rgba(60, 64, 67, 0.3), 0px 1px 3px 1px rgba(60, 64, 67, 0.15);\n",
              "      fill: #174EA6;\n",
              "    }\n",
              "\n",
              "    [theme=dark] .colab-df-convert {\n",
              "      background-color: #3B4455;\n",
              "      fill: #D2E3FC;\n",
              "    }\n",
              "\n",
              "    [theme=dark] .colab-df-convert:hover {\n",
              "      background-color: #434B5C;\n",
              "      box-shadow: 0px 1px 3px 1px rgba(0, 0, 0, 0.15);\n",
              "      filter: drop-shadow(0px 1px 2px rgba(0, 0, 0, 0.3));\n",
              "      fill: #FFFFFF;\n",
              "    }\n",
              "  </style>\n",
              "\n",
              "      <script>\n",
              "        const buttonEl =\n",
              "          document.querySelector('#df-266083f0-034d-4c8b-943f-4019a7677f83 button.colab-df-convert');\n",
              "        buttonEl.style.display =\n",
              "          google.colab.kernel.accessAllowed ? 'block' : 'none';\n",
              "\n",
              "        async function convertToInteractive(key) {\n",
              "          const element = document.querySelector('#df-266083f0-034d-4c8b-943f-4019a7677f83');\n",
              "          const dataTable =\n",
              "            await google.colab.kernel.invokeFunction('convertToInteractive',\n",
              "                                                     [key], {});\n",
              "          if (!dataTable) return;\n",
              "\n",
              "          const docLinkHtml = 'Like what you see? Visit the ' +\n",
              "            '<a target=\"_blank\" href=https://colab.research.google.com/notebooks/data_table.ipynb>data table notebook</a>'\n",
              "            + ' to learn more about interactive tables.';\n",
              "          element.innerHTML = '';\n",
              "          dataTable['output_type'] = 'display_data';\n",
              "          await google.colab.output.renderOutput(dataTable, element);\n",
              "          const docLink = document.createElement('div');\n",
              "          docLink.innerHTML = docLinkHtml;\n",
              "          element.appendChild(docLink);\n",
              "        }\n",
              "      </script>\n",
              "    </div>\n",
              "  </div>\n",
              "  "
            ]
          },
          "metadata": {},
          "execution_count": 3
        }
      ]
    },
    {
      "cell_type": "markdown",
      "source": [
        "The resulting dataframe is ready for us to make it a real graph! It has 'source', 'target' and 'weight' columns that represent a connection between a pair of nodes. "
      ],
      "metadata": {
        "id": "6TBDwHe1LhLd"
      }
    },
    {
      "cell_type": "markdown",
      "source": [
        "We'll use a package networkx that provides tools for working with graphs to create our first graph here:"
      ],
      "metadata": {
        "id": "DxYmJCtGOBGh"
      }
    },
    {
      "cell_type": "code",
      "source": [
        "graph = nx.from_pandas_edgelist(graph_data, 'source', 'target', 'weight')\n",
        "nx.info(graph)"
      ],
      "metadata": {
        "colab": {
          "base_uri": "https://localhost:8080/",
          "height": 34
        },
        "id": "OTw7m8miOMlJ",
        "outputId": "07beff4c-88f5-4e61-bbbd-203cab205be6"
      },
      "execution_count": null,
      "outputs": [
        {
          "output_type": "execute_result",
          "data": {
            "text/plain": [
              "'Graph with 3000 nodes and 2846519 edges'"
            ],
            "application/vnd.google.colaboratory.intrinsic+json": {
              "type": "string"
            }
          },
          "metadata": {},
          "execution_count": 41
        }
      ]
    },
    {
      "cell_type": "markdown",
      "source": [
        "On a histogramm below (cropped it at the top to look closer though) we can see the distribution of weights among the pairs:"
      ],
      "metadata": {
        "id": "fL8jxrpaMu51"
      }
    },
    {
      "cell_type": "code",
      "source": [
        "wt = nx.get_edge_attributes(graph, 'weight')"
      ],
      "metadata": {
        "id": "18ptAN7IRAkW"
      },
      "execution_count": null,
      "outputs": []
    },
    {
      "cell_type": "code",
      "source": [
        "fig, ax = plt.subplots(3, figsize=(12, 10))\n",
        "\n",
        "sns.histplot(wt, color='pink', ax=ax[0])\n",
        "\n",
        "sns.histplot(wt, color='pink', ax=ax[1])\n",
        "ax[1].set_ylim(bottom=-0, top=50)\n",
        "\n",
        "sns.histplot(wt, color='pink', ax=ax[2])\n",
        "ax[2].set_ylim(bottom=-0, top=10)\n",
        "\n",
        "for i in range(0, 3):\n",
        "  ax[i].set_xlabel(\"Number of users in common\")\n",
        "  ax[i].set_ylabel(\"Pairs\")\n",
        "\n",
        "plt.show()"
      ],
      "metadata": {
        "colab": {
          "base_uri": "https://localhost:8080/",
          "height": 606
        },
        "id": "5iOWFLF4M6Uq",
        "outputId": "f348d912-eabe-4893-f9c1-995323755d67"
      },
      "execution_count": null,
      "outputs": [
        {
          "output_type": "display_data",
          "data": {
            "text/plain": [
              "<Figure size 864x720 with 3 Axes>"
            ],
            "image/png": "[encoded data removed]"
          },
          "metadata": {
            "needs_background": "light"
          }
        }
      ]
    },
    {
      "cell_type": "code",
      "source": [
        "# save the pic\n",
        "plt.savefig('/content/gdrive/My Drive/4 year/graph3000_weights.png')"
      ],
      "metadata": {
        "id": "b8aph7A1-OXb",
        "outputId": "2c0adba0-f776-4ddf-b1d7-c79a4dbf1821",
        "colab": {
          "base_uri": "https://localhost:8080/",
          "height": 34
        }
      },
      "execution_count": null,
      "outputs": [
        {
          "output_type": "display_data",
          "data": {
            "text/plain": [
              "<Figure size 432x288 with 0 Axes>"
            ]
          },
          "metadata": {}
        }
      ]
    },
    {
      "cell_type": "markdown",
      "source": [
        "Now we only need to make this graph a little bit less dense, otherwise it will be impossible to predict anything on it - all the possible conncetions already exist. Let's drop the pairs where the weight is less than 200. "
      ],
      "metadata": {
        "id": "Lk5lZGZkL_GK"
      }
    },
    {
      "cell_type": "code",
      "source": [
        "graph_data = graph_data.drop(graph_data[graph_data['weight'] <= 200].index)"
      ],
      "metadata": {
        "id": "PHRl69VOMmL0"
      },
      "execution_count": null,
      "outputs": []
    },
    {
      "cell_type": "markdown",
      "source": [
        "There are also 576 pairs of animes with a very large number of shared viewers. We can assume that they have so many users in common not because they are super similar, but because they are very popular. We build a simple link prediction model, so these outliers with crazy weights are going to pop up in all the recomendation, regardless of what kind of a user we build a prediction for. \n",
        "\n",
        "You watch animes for young adults about dreams and hope, the ones that are bitter-sweet and leave you in awe at the complexity and beauty of human kind? Damn, have some Sword Art Online, mate!"
      ],
      "metadata": {
        "id": "UnFJqcKq-bSv"
      }
    },
    {
      "cell_type": "code",
      "source": [
        "graph_data[graph_data['weight'] > 3500].sort_values('weight', ascending=False)"
      ],
      "metadata": {
        "colab": {
          "base_uri": "https://localhost:8080/",
          "height": 423
        },
        "id": "I3DZ0t-39q4_",
        "outputId": "2fe36fe3-7666-4e78-94f2-841d00d5f63e"
      },
      "execution_count": null,
      "outputs": [
        {
          "output_type": "execute_result",
          "data": {
            "text/plain": [
              "                                                    source  \\\n",
              "1703490  Tengen Toppa Gurren Lagann TV Action, Adventur...   \n",
              "474574                     Steins;Gate TV Sci-Fi, Thriller   \n",
              "1519569  Ao no Exorcist TV Action, Demons, Fantasy, Sho...   \n",
              "2652651  Soul Eater TV Action, Adventure, Comedy, Fanta...   \n",
              "2027262     Mononoke Hime Movie Action, Adventure, Fantasy   \n",
              "...                                                    ...   \n",
              "1692974  Date A Live TV Comedy, Harem, Mecha, Romance, ...   \n",
              "2833699  Tonari no Kaibutsu-kun TV Comedy, Romance, Sch...   \n",
              "2751336  Neon Genesis Evangelion: The End of Evangelion...   \n",
              "474651                     Steins;Gate TV Sci-Fi, Thriller   \n",
              "2535920  Sora no Otoshimono TV Comedy, Ecchi, Harem, Ro...   \n",
              "\n",
              "                                                    target  weight  \n",
              "1703490  Code Geass: Hangyaku no Lelouch TV Action, Mec...   10975  \n",
              "474574   Code Geass: Hangyaku no Lelouch TV Action, Mec...   10924  \n",
              "1519569  Code Geass: Hangyaku no Lelouch TV Action, Mec...    9543  \n",
              "2652651  Code Geass: Hangyaku no Lelouch TV Action, Mec...    9341  \n",
              "2027262  Howl no Ugoku Shiro Movie Adventure, Drama, Fa...    8887  \n",
              "...                                                    ...     ...  \n",
              "1692974  Kore wa Zombie Desu ka? of the Dead TV Action,...    3505  \n",
              "2833699  Howl no Ugoku Shiro Movie Adventure, Drama, Fa...    3503  \n",
              "2751336  Howl no Ugoku Shiro Movie Adventure, Drama, Fa...    3503  \n",
              "474651   Gate: Jieitai Kanochi nite, Kaku Tatakaeri TV ...    3503  \n",
              "2535920  Hataraku Maou-sama! TV Comedy, Demons, Fantasy...    3501  \n",
              "\n",
              "[576 rows x 3 columns]"
            ],
            "text/html": [
              "\n",
              "  <div id=\"df-63e96d0b-4807-4632-b97b-9ae91a469bef\">\n",
              "    <div class=\"colab-df-container\">\n",
              "      <div>\n",
              "<style scoped>\n",
              "    .dataframe tbody tr th:only-of-type {\n",
              "        vertical-align: middle;\n",
              "    }\n",
              "\n",
              "    .dataframe tbody tr th {\n",
              "        vertical-align: top;\n",
              "    }\n",
              "\n",
              "    .dataframe thead th {\n",
              "        text-align: right;\n",
              "    }\n",
              "</style>\n",
              "<table border=\"1\" class=\"dataframe\">\n",
              "  <thead>\n",
              "    <tr style=\"text-align: right;\">\n",
              "      <th></th>\n",
              "      <th>source</th>\n",
              "      <th>target</th>\n",
              "      <th>weight</th>\n",
              "    </tr>\n",
              "  </thead>\n",
              "  <tbody>\n",
              "    <tr>\n",
              "      <th>1703490</th>\n",
              "      <td>Tengen Toppa Gurren Lagann TV Action, Adventur...</td>\n",
              "      <td>Code Geass: Hangyaku no Lelouch TV Action, Mec...</td>\n",
              "      <td>10975</td>\n",
              "    </tr>\n",
              "    <tr>\n",
              "      <th>474574</th>\n",
              "      <td>Steins;Gate TV Sci-Fi, Thriller</td>\n",
              "      <td>Code Geass: Hangyaku no Lelouch TV Action, Mec...</td>\n",
              "      <td>10924</td>\n",
              "    </tr>\n",
              "    <tr>\n",
              "      <th>1519569</th>\n",
              "      <td>Ao no Exorcist TV Action, Demons, Fantasy, Sho...</td>\n",
              "      <td>Code Geass: Hangyaku no Lelouch TV Action, Mec...</td>\n",
              "      <td>9543</td>\n",
              "    </tr>\n",
              "    <tr>\n",
              "      <th>2652651</th>\n",
              "      <td>Soul Eater TV Action, Adventure, Comedy, Fanta...</td>\n",
              "      <td>Code Geass: Hangyaku no Lelouch TV Action, Mec...</td>\n",
              "      <td>9341</td>\n",
              "    </tr>\n",
              "    <tr>\n",
              "      <th>2027262</th>\n",
              "      <td>Mononoke Hime Movie Action, Adventure, Fantasy</td>\n",
              "      <td>Howl no Ugoku Shiro Movie Adventure, Drama, Fa...</td>\n",
              "      <td>8887</td>\n",
              "    </tr>\n",
              "    <tr>\n",
              "      <th>...</th>\n",
              "      <td>...</td>\n",
              "      <td>...</td>\n",
              "      <td>...</td>\n",
              "    </tr>\n",
              "    <tr>\n",
              "      <th>1692974</th>\n",
              "      <td>Date A Live TV Comedy, Harem, Mecha, Romance, ...</td>\n",
              "      <td>Kore wa Zombie Desu ka? of the Dead TV Action,...</td>\n",
              "      <td>3505</td>\n",
              "    </tr>\n",
              "    <tr>\n",
              "      <th>2833699</th>\n",
              "      <td>Tonari no Kaibutsu-kun TV Comedy, Romance, Sch...</td>\n",
              "      <td>Howl no Ugoku Shiro Movie Adventure, Drama, Fa...</td>\n",
              "      <td>3503</td>\n",
              "    </tr>\n",
              "    <tr>\n",
              "      <th>2751336</th>\n",
              "      <td>Neon Genesis Evangelion: The End of Evangelion...</td>\n",
              "      <td>Howl no Ugoku Shiro Movie Adventure, Drama, Fa...</td>\n",
              "      <td>3503</td>\n",
              "    </tr>\n",
              "    <tr>\n",
              "      <th>474651</th>\n",
              "      <td>Steins;Gate TV Sci-Fi, Thriller</td>\n",
              "      <td>Gate: Jieitai Kanochi nite, Kaku Tatakaeri TV ...</td>\n",
              "      <td>3503</td>\n",
              "    </tr>\n",
              "    <tr>\n",
              "      <th>2535920</th>\n",
              "      <td>Sora no Otoshimono TV Comedy, Ecchi, Harem, Ro...</td>\n",
              "      <td>Hataraku Maou-sama! TV Comedy, Demons, Fantasy...</td>\n",
              "      <td>3501</td>\n",
              "    </tr>\n",
              "  </tbody>\n",
              "</table>\n",
              "<p>576 rows × 3 columns</p>\n",
              "</div>\n",
              "      <button class=\"colab-df-convert\" onclick=\"convertToInteractive('df-63e96d0b-4807-4632-b97b-9ae91a469bef')\"\n",
              "              title=\"Convert this dataframe to an interactive table.\"\n",
              "              style=\"display:none;\">\n",
              "        \n",
              "  <svg xmlns=\"http://www.w3.org/2000/svg\" height=\"24px\"viewBox=\"0 0 24 24\"\n",
              "       width=\"24px\">\n",
              "    <path d=\"M0 0h24v24H0V0z\" fill=\"none\"/>\n",
              "    <path d=\"M18.56 5.44l.94 2.06.94-2.06 2.06-.94-2.06-.94-.94-2.06-.94 2.06-2.06.94zm-11 1L8.5 8.5l.94-2.06 2.06-.94-2.06-.94L8.5 2.5l-.94 2.06-2.06.94zm10 10l.94 2.06.94-2.06 2.06-.94-2.06-.94-.94-2.06-.94 2.06-2.06.94z\"/><path d=\"M17.41 7.96l-1.37-1.37c-.4-.4-.92-.59-1.43-.59-.52 0-1.04.2-1.43.59L10.3 9.45l-7.72 7.72c-.78.78-.78 2.05 0 2.83L4 21.41c.39.39.9.59 1.41.59.51 0 1.02-.2 1.41-.59l7.78-7.78 2.81-2.81c.8-.78.8-2.07 0-2.86zM5.41 20L4 18.59l7.72-7.72 1.47 1.35L5.41 20z\"/>\n",
              "  </svg>\n",
              "      </button>\n",
              "      \n",
              "  <style>\n",
              "    .colab-df-container {\n",
              "      display:flex;\n",
              "      flex-wrap:wrap;\n",
              "      gap: 12px;\n",
              "    }\n",
              "\n",
              "    .colab-df-convert {\n",
              "      background-color: #E8F0FE;\n",
              "      border: none;\n",
              "      border-radius: 50%;\n",
              "      cursor: pointer;\n",
              "      display: none;\n",
              "      fill: #1967D2;\n",
              "      height: 32px;\n",
              "      padding: 0 0 0 0;\n",
              "      width: 32px;\n",
              "    }\n",
              "\n",
              "    .colab-df-convert:hover {\n",
              "      background-color: #E2EBFA;\n",
              "      box-shadow: 0px 1px 2px rgba(60, 64, 67, 0.3), 0px 1px 3px 1px rgba(60, 64, 67, 0.15);\n",
              "      fill: #174EA6;\n",
              "    }\n",
              "\n",
              "    [theme=dark] .colab-df-convert {\n",
              "      background-color: #3B4455;\n",
              "      fill: #D2E3FC;\n",
              "    }\n",
              "\n",
              "    [theme=dark] .colab-df-convert:hover {\n",
              "      background-color: #434B5C;\n",
              "      box-shadow: 0px 1px 3px 1px rgba(0, 0, 0, 0.15);\n",
              "      filter: drop-shadow(0px 1px 2px rgba(0, 0, 0, 0.3));\n",
              "      fill: #FFFFFF;\n",
              "    }\n",
              "  </style>\n",
              "\n",
              "      <script>\n",
              "        const buttonEl =\n",
              "          document.querySelector('#df-63e96d0b-4807-4632-b97b-9ae91a469bef button.colab-df-convert');\n",
              "        buttonEl.style.display =\n",
              "          google.colab.kernel.accessAllowed ? 'block' : 'none';\n",
              "\n",
              "        async function convertToInteractive(key) {\n",
              "          const element = document.querySelector('#df-63e96d0b-4807-4632-b97b-9ae91a469bef');\n",
              "          const dataTable =\n",
              "            await google.colab.kernel.invokeFunction('convertToInteractive',\n",
              "                                                     [key], {});\n",
              "          if (!dataTable) return;\n",
              "\n",
              "          const docLinkHtml = 'Like what you see? Visit the ' +\n",
              "            '<a target=\"_blank\" href=https://colab.research.google.com/notebooks/data_table.ipynb>data table notebook</a>'\n",
              "            + ' to learn more about interactive tables.';\n",
              "          element.innerHTML = '';\n",
              "          dataTable['output_type'] = 'display_data';\n",
              "          await google.colab.output.renderOutput(dataTable, element);\n",
              "          const docLink = document.createElement('div');\n",
              "          docLink.innerHTML = docLinkHtml;\n",
              "          element.appendChild(docLink);\n",
              "        }\n",
              "      </script>\n",
              "    </div>\n",
              "  </div>\n",
              "  "
            ]
          },
          "metadata": {},
          "execution_count": 48
        }
      ]
    },
    {
      "cell_type": "markdown",
      "source": [
        "We'll just get rid of them, then create a new graph:"
      ],
      "metadata": {
        "id": "KIKaHLouA6rM"
      }
    },
    {
      "cell_type": "code",
      "source": [
        "graph_data = graph_data.drop(graph_data[graph_data['weight'] > 7500].index)"
      ],
      "metadata": {
        "id": "lKSeDuETBFLO"
      },
      "execution_count": null,
      "outputs": []
    },
    {
      "cell_type": "code",
      "source": [
        "graph = nx.from_pandas_edgelist(graph_data, 'source', 'target', 'weight')\n",
        "nx.info(graph)"
      ],
      "metadata": {
        "colab": {
          "base_uri": "https://localhost:8080/",
          "height": 34
        },
        "id": "9ykusJZEBP0Q",
        "outputId": "fd8e6662-b56b-4e91-8615-c43b40ce6cad"
      },
      "execution_count": null,
      "outputs": [
        {
          "output_type": "execute_result",
          "data": {
            "text/plain": [
              "'Graph with 958 nodes and 96302 edges'"
            ],
            "application/vnd.google.colaboratory.intrinsic+json": {
              "type": "string"
            }
          },
          "metadata": {},
          "execution_count": 50
        }
      ]
    },
    {
      "cell_type": "code",
      "source": [
        "nx.write_graphml(graph, \"/content/gdrive/My Drive/4 year/3000graph.graphml\")"
      ],
      "metadata": {
        "id": "AYy7KGcIG3cZ"
      },
      "execution_count": null,
      "outputs": []
    },
    {
      "cell_type": "markdown",
      "source": [
        "# Story of one anime"
      ],
      "metadata": {
        "id": "eyyfUXX75HbA"
      }
    },
    {
      "cell_type": "markdown",
      "source": [
        "Let's look at our graph (a portion of a graph, as it's too large to draw). I'll rake my favorite movie 'The Memories of Marnie' and see what animes are paired with it."
      ],
      "metadata": {
        "id": "Twio7o0eE3NB"
      }
    },
    {
      "cell_type": "markdown",
      "source": [
        "We'll take 3 random 'marnie'-'other anime' pairs, then look at the 2 most tightly connected pairs these three animes form. All in all, we'll get a subgraph with 8 nodes and 7 connections:"
      ],
      "metadata": {
        "id": "QLOEwt7zFWJ-"
      }
    },
    {
      "cell_type": "code",
      "source": [
        "def visualize_anime(name):\n",
        "\n",
        "  anime = graph_data[graph_data['source'] == name].sort_values('weight', ascending=False).sample(n=3)\n",
        "\n",
        "  anime_friends = []\n",
        "  for i in anime['target']:\n",
        "    anime_friends.append(i)\n",
        "  \n",
        "  anime_datasets = []\n",
        "  for i in anime_friends:\n",
        "   anime_datasets.append(graph_data[graph_data['source'] == i].sort_values('weight', ascending=False).sample(n=2))\n",
        "  \n",
        "  anime_full = anime.append(anime_datasets[0]).append(anime_datasets[1])\n",
        "\n",
        "  return anime_full"
      ],
      "metadata": {
        "id": "TnDONpI0BbBl"
      },
      "execution_count": null,
      "outputs": []
    },
    {
      "cell_type": "code",
      "source": [
        "name = 'Omoide no Marnie Movie Drama, Mystery, Psychological'\n",
        "marnie = visualize_anime(name)\n",
        "marnie_graph = nx.from_pandas_edgelist(marnie, 'source', 'target', 'weight')"
      ],
      "metadata": {
        "id": "omlLLIRfEBsa"
      },
      "execution_count": null,
      "outputs": []
    },
    {
      "cell_type": "code",
      "source": [
        "color_map = []\n",
        "for node in marnie_graph:\n",
        "    if node == name:\n",
        "        color_map.append('pink')\n",
        "    else: \n",
        "        color_map.append('purple')   \n",
        "\n",
        "plt.figure(figsize=(13, 10))\n",
        "pos = nx.spring_layout(marnie_graph)\n",
        "nx.draw_networkx(marnie_graph, pos, node_color=color_map)\n",
        "labels = nx.get_edge_attributes(marnie_graph,'weight')\n",
        "nx.draw_networkx_edge_labels(marnie_graph, pos, edge_labels=labels)\n",
        "\n",
        "# plt.savefig('/content/gdrive/My Drive/4 year/marnie.png')"
      ],
      "metadata": {
        "colab": {
          "base_uri": "https://localhost:8080/",
          "height": 818
        },
        "id": "EQAmFx1fFZTK",
        "outputId": "458a69cc-1416-4041-ff92-bce75e8316b0"
      },
      "execution_count": null,
      "outputs": [
        {
          "output_type": "execute_result",
          "data": {
            "text/plain": [
              "{('Durarara!!x2 Shou TV Action, Mystery, Supernatural',\n",
              "  'Aldnoah.Zero 2nd Season TV Action, Mecha, Sci-Fi, Space'): Text(-0.7104099933560868, -0.4147322696996132, '1439'),\n",
              " ('Durarara!!x2 Shou TV Action, Mystery, Supernatural',\n",
              "  'Binan Koukou Chikyuu Bouei-bu LOVE! TV Comedy, Magic, School, Slice of Life'): Text(-0.7388638027086923, -0.6747561929825249, '288'),\n",
              " ('Omoide no Marnie Movie Drama, Mystery, Psychological',\n",
              "  'Bakemono no Ko Movie Adventure, Supernatural'): Text(0.19354403283046423, -0.27686290507256284, '334'),\n",
              " ('Omoide no Marnie Movie Drama, Mystery, Psychological',\n",
              "  'Durarara!!x2 Shou TV Action, Mystery, Supernatural'): Text(-0.28458851292087806, -0.27563366863719907, '297'),\n",
              " ('Omoide no Marnie Movie Drama, Mystery, Psychological',\n",
              "  'Prison School TV Comedy, Ecchi, Romance, School, Seinen'): Text(0.2524114259686686, 0.22250099938711612, '224'),\n",
              " ('Prison School TV Comedy, Ecchi, Romance, School, Seinen',\n",
              "  'High School Fleet TV Action, Military, School'): Text(0.7389863173315291, 0.7256817456293518, '216'),\n",
              " ('Prison School TV Comedy, Ecchi, Romance, School, Seinen',\n",
              "  'Musaigen no Phantom World TV Action, Comedy, Fantasy, Slice of Life, Supernatural'): Text(0.45771614167629726, 0.695400493466275, '1051')}"
            ]
          },
          "metadata": {},
          "execution_count": 40
        },
        {
          "output_type": "display_data",
          "data": {
            "text/plain": [
              "<Figure size 936x720 with 1 Axes>"
            ],
            "image/png": "[encoded data removed]"
          },
          "metadata": {}
        }
      ]
    }
  ]
}