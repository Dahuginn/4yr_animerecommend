{
  "nbformat": 4,
  "nbformat_minor": 0,
  "metadata": {
    "colab": {
      "name": "[Thesis]graph_split_node2vec.ipynb",
      "provenance": [],
      "toc_visible": true,
      "authorship_tag": "ABX9TyOXdJ9bSUBtMENGTQXBB+Id",
      "include_colab_link": true
    },
    "kernelspec": {
      "name": "python3",
      "display_name": "Python 3"
    },
    "language_info": {
      "name": "python"
    },
    "widgets": {
      "application/vnd.jupyter.widget-state+json": {
        "b561c24f00094a64a47220cfc4386f10": {
          "model_module": "@jupyter-widgets/controls",
          "model_name": "HBoxModel",
          "model_module_version": "1.5.0",
          "state": {
            "_dom_classes": [],
            "_model_module": "@jupyter-widgets/controls",
            "_model_module_version": "1.5.0",
            "_model_name": "HBoxModel",
            "_view_count": null,
            "_view_module": "@jupyter-widgets/controls",
            "_view_module_version": "1.5.0",
            "_view_name": "HBoxView",
            "box_style": "",
            "children": [
              "IPY_MODEL_3a83ee5719b541a387fc739749957178",
              "IPY_MODEL_7490f8f6d28840168b8ccd84fca3678f",
              "IPY_MODEL_99e12635706142f29658317dd2579483"
            ],
            "layout": "IPY_MODEL_267226dc40b647f1a1ded72bcc0c677e"
          }
        },
        "3a83ee5719b541a387fc739749957178": {
          "model_module": "@jupyter-widgets/controls",
          "model_name": "HTMLModel",
          "model_module_version": "1.5.0",
          "state": {
            "_dom_classes": [],
            "_model_module": "@jupyter-widgets/controls",
            "_model_module_version": "1.5.0",
            "_model_name": "HTMLModel",
            "_view_count": null,
            "_view_module": "@jupyter-widgets/controls",
            "_view_module_version": "1.5.0",
            "_view_name": "HTMLView",
            "description": "",
            "description_tooltip": null,
            "layout": "IPY_MODEL_64b17b9b1c3f45c0bee38817aca43418",
            "placeholder": "​",
            "style": "IPY_MODEL_75a7f0ff478748afb0e3a9dc9d27d91d",
            "value": "Computing transition probabilities: 100%"
          }
        },
        "7490f8f6d28840168b8ccd84fca3678f": {
          "model_module": "@jupyter-widgets/controls",
          "model_name": "FloatProgressModel",
          "model_module_version": "1.5.0",
          "state": {
            "_dom_classes": [],
            "_model_module": "@jupyter-widgets/controls",
            "_model_module_version": "1.5.0",
            "_model_name": "FloatProgressModel",
            "_view_count": null,
            "_view_module": "@jupyter-widgets/controls",
            "_view_module_version": "1.5.0",
            "_view_name": "ProgressView",
            "bar_style": "success",
            "description": "",
            "description_tooltip": null,
            "layout": "IPY_MODEL_d34e4052661b474d96a7e58ce96384fa",
            "max": 419,
            "min": 0,
            "orientation": "horizontal",
            "style": "IPY_MODEL_414e9a6935c6428298419f12048cb334",
            "value": 419
          }
        },
        "99e12635706142f29658317dd2579483": {
          "model_module": "@jupyter-widgets/controls",
          "model_name": "HTMLModel",
          "model_module_version": "1.5.0",
          "state": {
            "_dom_classes": [],
            "_model_module": "@jupyter-widgets/controls",
            "_model_module_version": "1.5.0",
            "_model_name": "HTMLModel",
            "_view_count": null,
            "_view_module": "@jupyter-widgets/controls",
            "_view_module_version": "1.5.0",
            "_view_name": "HTMLView",
            "description": "",
            "description_tooltip": null,
            "layout": "IPY_MODEL_03c1330deec44a608181b6f104a4e508",
            "placeholder": "​",
            "style": "IPY_MODEL_a58f37a4329a416da045265fd766363e",
            "value": " 419/419 [00:30&lt;00:00, 113.24it/s]"
          }
        },
        "267226dc40b647f1a1ded72bcc0c677e": {
          "model_module": "@jupyter-widgets/base",
          "model_name": "LayoutModel",
          "model_module_version": "1.2.0",
          "state": {
            "_model_module": "@jupyter-widgets/base",
            "_model_module_version": "1.2.0",
            "_model_name": "LayoutModel",
            "_view_count": null,
            "_view_module": "@jupyter-widgets/base",
            "_view_module_version": "1.2.0",
            "_view_name": "LayoutView",
            "align_content": null,
            "align_items": null,
            "align_self": null,
            "border": null,
            "bottom": null,
            "display": null,
            "flex": null,
            "flex_flow": null,
            "grid_area": null,
            "grid_auto_columns": null,
            "grid_auto_flow": null,
            "grid_auto_rows": null,
            "grid_column": null,
            "grid_gap": null,
            "grid_row": null,
            "grid_template_areas": null,
            "grid_template_columns": null,
            "grid_template_rows": null,
            "height": null,
            "justify_content": null,
            "justify_items": null,
            "left": null,
            "margin": null,
            "max_height": null,
            "max_width": null,
            "min_height": null,
            "min_width": null,
            "object_fit": null,
            "object_position": null,
            "order": null,
            "overflow": null,
            "overflow_x": null,
            "overflow_y": null,
            "padding": null,
            "right": null,
            "top": null,
            "visibility": null,
            "width": null
          }
        },
        "64b17b9b1c3f45c0bee38817aca43418": {
          "model_module": "@jupyter-widgets/base",
          "model_name": "LayoutModel",
          "model_module_version": "1.2.0",
          "state": {
            "_model_module": "@jupyter-widgets/base",
            "_model_module_version": "1.2.0",
            "_model_name": "LayoutModel",
            "_view_count": null,
            "_view_module": "@jupyter-widgets/base",
            "_view_module_version": "1.2.0",
            "_view_name": "LayoutView",
            "align_content": null,
            "align_items": null,
            "align_self": null,
            "border": null,
            "bottom": null,
            "display": null,
            "flex": null,
            "flex_flow": null,
            "grid_area": null,
            "grid_auto_columns": null,
            "grid_auto_flow": null,
            "grid_auto_rows": null,
            "grid_column": null,
            "grid_gap": null,
            "grid_row": null,
            "grid_template_areas": null,
            "grid_template_columns": null,
            "grid_template_rows": null,
            "height": null,
            "justify_content": null,
            "justify_items": null,
            "left": null,
            "margin": null,
            "max_height": null,
            "max_width": null,
            "min_height": null,
            "min_width": null,
            "object_fit": null,
            "object_position": null,
            "order": null,
            "overflow": null,
            "overflow_x": null,
            "overflow_y": null,
            "padding": null,
            "right": null,
            "top": null,
            "visibility": null,
            "width": null
          }
        },
        "75a7f0ff478748afb0e3a9dc9d27d91d": {
          "model_module": "@jupyter-widgets/controls",
          "model_name": "DescriptionStyleModel",
          "model_module_version": "1.5.0",
          "state": {
            "_model_module": "@jupyter-widgets/controls",
            "_model_module_version": "1.5.0",
            "_model_name": "DescriptionStyleModel",
            "_view_count": null,
            "_view_module": "@jupyter-widgets/base",
            "_view_module_version": "1.2.0",
            "_view_name": "StyleView",
            "description_width": ""
          }
        },
        "d34e4052661b474d96a7e58ce96384fa": {
          "model_module": "@jupyter-widgets/base",
          "model_name": "LayoutModel",
          "model_module_version": "1.2.0",
          "state": {
            "_model_module": "@jupyter-widgets/base",
            "_model_module_version": "1.2.0",
            "_model_name": "LayoutModel",
            "_view_count": null,
            "_view_module": "@jupyter-widgets/base",
            "_view_module_version": "1.2.0",
            "_view_name": "LayoutView",
            "align_content": null,
            "align_items": null,
            "align_self": null,
            "border": null,
            "bottom": null,
            "display": null,
            "flex": null,
            "flex_flow": null,
            "grid_area": null,
            "grid_auto_columns": null,
            "grid_auto_flow": null,
            "grid_auto_rows": null,
            "grid_column": null,
            "grid_gap": null,
            "grid_row": null,
            "grid_template_areas": null,
            "grid_template_columns": null,
            "grid_template_rows": null,
            "height": null,
            "justify_content": null,
            "justify_items": null,
            "left": null,
            "margin": null,
            "max_height": null,
            "max_width": null,
            "min_height": null,
            "min_width": null,
            "object_fit": null,
            "object_position": null,
            "order": null,
            "overflow": null,
            "overflow_x": null,
            "overflow_y": null,
            "padding": null,
            "right": null,
            "top": null,
            "visibility": null,
            "width": null
          }
        },
        "414e9a6935c6428298419f12048cb334": {
          "model_module": "@jupyter-widgets/controls",
          "model_name": "ProgressStyleModel",
          "model_module_version": "1.5.0",
          "state": {
            "_model_module": "@jupyter-widgets/controls",
            "_model_module_version": "1.5.0",
            "_model_name": "ProgressStyleModel",
            "_view_count": null,
            "_view_module": "@jupyter-widgets/base",
            "_view_module_version": "1.2.0",
            "_view_name": "StyleView",
            "bar_color": null,
            "description_width": ""
          }
        },
        "03c1330deec44a608181b6f104a4e508": {
          "model_module": "@jupyter-widgets/base",
          "model_name": "LayoutModel",
          "model_module_version": "1.2.0",
          "state": {
            "_model_module": "@jupyter-widgets/base",
            "_model_module_version": "1.2.0",
            "_model_name": "LayoutModel",
            "_view_count": null,
            "_view_module": "@jupyter-widgets/base",
            "_view_module_version": "1.2.0",
            "_view_name": "LayoutView",
            "align_content": null,
            "align_items": null,
            "align_self": null,
            "border": null,
            "bottom": null,
            "display": null,
            "flex": null,
            "flex_flow": null,
            "grid_area": null,
            "grid_auto_columns": null,
            "grid_auto_flow": null,
            "grid_auto_rows": null,
            "grid_column": null,
            "grid_gap": null,
            "grid_row": null,
            "grid_template_areas": null,
            "grid_template_columns": null,
            "grid_template_rows": null,
            "height": null,
            "justify_content": null,
            "justify_items": null,
            "left": null,
            "margin": null,
            "max_height": null,
            "max_width": null,
            "min_height": null,
            "min_width": null,
            "object_fit": null,
            "object_position": null,
            "order": null,
            "overflow": null,
            "overflow_x": null,
            "overflow_y": null,
            "padding": null,
            "right": null,
            "top": null,
            "visibility": null,
            "width": null
          }
        },
        "a58f37a4329a416da045265fd766363e": {
          "model_module": "@jupyter-widgets/controls",
          "model_name": "DescriptionStyleModel",
          "model_module_version": "1.5.0",
          "state": {
            "_model_module": "@jupyter-widgets/controls",
            "_model_module_version": "1.5.0",
            "_model_name": "DescriptionStyleModel",
            "_view_count": null,
            "_view_module": "@jupyter-widgets/base",
            "_view_module_version": "1.2.0",
            "_view_name": "StyleView",
            "description_width": ""
          }
        },
        "67e25ff359104ac5bfc3415fe3123819": {
          "model_module": "@jupyter-widgets/controls",
          "model_name": "HBoxModel",
          "model_module_version": "1.5.0",
          "state": {
            "_dom_classes": [],
            "_model_module": "@jupyter-widgets/controls",
            "_model_module_version": "1.5.0",
            "_model_name": "HBoxModel",
            "_view_count": null,
            "_view_module": "@jupyter-widgets/controls",
            "_view_module_version": "1.5.0",
            "_view_name": "HBoxView",
            "box_style": "",
            "children": [
              "IPY_MODEL_c9788e5ea1ac48bfbc39df2a0aae7a9e",
              "IPY_MODEL_bd2059b55c1a4929b8327fe5ceebe423",
              "IPY_MODEL_2079eec7c181436098f0a60388859c39"
            ],
            "layout": "IPY_MODEL_342da897954e4c43bcba8c34a1d78e9a"
          }
        },
        "c9788e5ea1ac48bfbc39df2a0aae7a9e": {
          "model_module": "@jupyter-widgets/controls",
          "model_name": "HTMLModel",
          "model_module_version": "1.5.0",
          "state": {
            "_dom_classes": [],
            "_model_module": "@jupyter-widgets/controls",
            "_model_module_version": "1.5.0",
            "_model_name": "HTMLModel",
            "_view_count": null,
            "_view_module": "@jupyter-widgets/controls",
            "_view_module_version": "1.5.0",
            "_view_name": "HTMLView",
            "description": "",
            "description_tooltip": null,
            "layout": "IPY_MODEL_af88bd57f22a416e9ae22a4923606dc3",
            "placeholder": "​",
            "style": "IPY_MODEL_aa4aec514c6c492f843b6a81783ebd6a",
            "value": "Computing transition probabilities: 100%"
          }
        },
        "bd2059b55c1a4929b8327fe5ceebe423": {
          "model_module": "@jupyter-widgets/controls",
          "model_name": "FloatProgressModel",
          "model_module_version": "1.5.0",
          "state": {
            "_dom_classes": [],
            "_model_module": "@jupyter-widgets/controls",
            "_model_module_version": "1.5.0",
            "_model_name": "FloatProgressModel",
            "_view_count": null,
            "_view_module": "@jupyter-widgets/controls",
            "_view_module_version": "1.5.0",
            "_view_name": "ProgressView",
            "bar_style": "success",
            "description": "",
            "description_tooltip": null,
            "layout": "IPY_MODEL_bc69ac8867224336a4aabcf055e418e2",
            "max": 419,
            "min": 0,
            "orientation": "horizontal",
            "style": "IPY_MODEL_cc55167267ad4470ab7d04d21efb876f",
            "value": 419
          }
        },
        "2079eec7c181436098f0a60388859c39": {
          "model_module": "@jupyter-widgets/controls",
          "model_name": "HTMLModel",
          "model_module_version": "1.5.0",
          "state": {
            "_dom_classes": [],
            "_model_module": "@jupyter-widgets/controls",
            "_model_module_version": "1.5.0",
            "_model_name": "HTMLModel",
            "_view_count": null,
            "_view_module": "@jupyter-widgets/controls",
            "_view_module_version": "1.5.0",
            "_view_name": "HTMLView",
            "description": "",
            "description_tooltip": null,
            "layout": "IPY_MODEL_dfc2cfe5e23041a4b0349a3b9c317655",
            "placeholder": "​",
            "style": "IPY_MODEL_273f5bd978274c1ba1deb351945abe8a",
            "value": " 419/419 [00:37&lt;00:00, 153.30it/s]"
          }
        },
        "342da897954e4c43bcba8c34a1d78e9a": {
          "model_module": "@jupyter-widgets/base",
          "model_name": "LayoutModel",
          "model_module_version": "1.2.0",
          "state": {
            "_model_module": "@jupyter-widgets/base",
            "_model_module_version": "1.2.0",
            "_model_name": "LayoutModel",
            "_view_count": null,
            "_view_module": "@jupyter-widgets/base",
            "_view_module_version": "1.2.0",
            "_view_name": "LayoutView",
            "align_content": null,
            "align_items": null,
            "align_self": null,
            "border": null,
            "bottom": null,
            "display": null,
            "flex": null,
            "flex_flow": null,
            "grid_area": null,
            "grid_auto_columns": null,
            "grid_auto_flow": null,
            "grid_auto_rows": null,
            "grid_column": null,
            "grid_gap": null,
            "grid_row": null,
            "grid_template_areas": null,
            "grid_template_columns": null,
            "grid_template_rows": null,
            "height": null,
            "justify_content": null,
            "justify_items": null,
            "left": null,
            "margin": null,
            "max_height": null,
            "max_width": null,
            "min_height": null,
            "min_width": null,
            "object_fit": null,
            "object_position": null,
            "order": null,
            "overflow": null,
            "overflow_x": null,
            "overflow_y": null,
            "padding": null,
            "right": null,
            "top": null,
            "visibility": null,
            "width": null
          }
        },
        "af88bd57f22a416e9ae22a4923606dc3": {
          "model_module": "@jupyter-widgets/base",
          "model_name": "LayoutModel",
          "model_module_version": "1.2.0",
          "state": {
            "_model_module": "@jupyter-widgets/base",
            "_model_module_version": "1.2.0",
            "_model_name": "LayoutModel",
            "_view_count": null,
            "_view_module": "@jupyter-widgets/base",
            "_view_module_version": "1.2.0",
            "_view_name": "LayoutView",
            "align_content": null,
            "align_items": null,
            "align_self": null,
            "border": null,
            "bottom": null,
            "display": null,
            "flex": null,
            "flex_flow": null,
            "grid_area": null,
            "grid_auto_columns": null,
            "grid_auto_flow": null,
            "grid_auto_rows": null,
            "grid_column": null,
            "grid_gap": null,
            "grid_row": null,
            "grid_template_areas": null,
            "grid_template_columns": null,
            "grid_template_rows": null,
            "height": null,
            "justify_content": null,
            "justify_items": null,
            "left": null,
            "margin": null,
            "max_height": null,
            "max_width": null,
            "min_height": null,
            "min_width": null,
            "object_fit": null,
            "object_position": null,
            "order": null,
            "overflow": null,
            "overflow_x": null,
            "overflow_y": null,
            "padding": null,
            "right": null,
            "top": null,
            "visibility": null,
            "width": null
          }
        },
        "aa4aec514c6c492f843b6a81783ebd6a": {
          "model_module": "@jupyter-widgets/controls",
          "model_name": "DescriptionStyleModel",
          "model_module_version": "1.5.0",
          "state": {
            "_model_module": "@jupyter-widgets/controls",
            "_model_module_version": "1.5.0",
            "_model_name": "DescriptionStyleModel",
            "_view_count": null,
            "_view_module": "@jupyter-widgets/base",
            "_view_module_version": "1.2.0",
            "_view_name": "StyleView",
            "description_width": ""
          }
        },
        "bc69ac8867224336a4aabcf055e418e2": {
          "model_module": "@jupyter-widgets/base",
          "model_name": "LayoutModel",
          "model_module_version": "1.2.0",
          "state": {
            "_model_module": "@jupyter-widgets/base",
            "_model_module_version": "1.2.0",
            "_model_name": "LayoutModel",
            "_view_count": null,
            "_view_module": "@jupyter-widgets/base",
            "_view_module_version": "1.2.0",
            "_view_name": "LayoutView",
            "align_content": null,
            "align_items": null,
            "align_self": null,
            "border": null,
            "bottom": null,
            "display": null,
            "flex": null,
            "flex_flow": null,
            "grid_area": null,
            "grid_auto_columns": null,
            "grid_auto_flow": null,
            "grid_auto_rows": null,
            "grid_column": null,
            "grid_gap": null,
            "grid_row": null,
            "grid_template_areas": null,
            "grid_template_columns": null,
            "grid_template_rows": null,
            "height": null,
            "justify_content": null,
            "justify_items": null,
            "left": null,
            "margin": null,
            "max_height": null,
            "max_width": null,
            "min_height": null,
            "min_width": null,
            "object_fit": null,
            "object_position": null,
            "order": null,
            "overflow": null,
            "overflow_x": null,
            "overflow_y": null,
            "padding": null,
            "right": null,
            "top": null,
            "visibility": null,
            "width": null
          }
        },
        "cc55167267ad4470ab7d04d21efb876f": {
          "model_module": "@jupyter-widgets/controls",
          "model_name": "ProgressStyleModel",
          "model_module_version": "1.5.0",
          "state": {
            "_model_module": "@jupyter-widgets/controls",
            "_model_module_version": "1.5.0",
            "_model_name": "ProgressStyleModel",
            "_view_count": null,
            "_view_module": "@jupyter-widgets/base",
            "_view_module_version": "1.2.0",
            "_view_name": "StyleView",
            "bar_color": null,
            "description_width": ""
          }
        },
        "dfc2cfe5e23041a4b0349a3b9c317655": {
          "model_module": "@jupyter-widgets/base",
          "model_name": "LayoutModel",
          "model_module_version": "1.2.0",
          "state": {
            "_model_module": "@jupyter-widgets/base",
            "_model_module_version": "1.2.0",
            "_model_name": "LayoutModel",
            "_view_count": null,
            "_view_module": "@jupyter-widgets/base",
            "_view_module_version": "1.2.0",
            "_view_name": "LayoutView",
            "align_content": null,
            "align_items": null,
            "align_self": null,
            "border": null,
            "bottom": null,
            "display": null,
            "flex": null,
            "flex_flow": null,
            "grid_area": null,
            "grid_auto_columns": null,
            "grid_auto_flow": null,
            "grid_auto_rows": null,
            "grid_column": null,
            "grid_gap": null,
            "grid_row": null,
            "grid_template_areas": null,
            "grid_template_columns": null,
            "grid_template_rows": null,
            "height": null,
            "justify_content": null,
            "justify_items": null,
            "left": null,
            "margin": null,
            "max_height": null,
            "max_width": null,
            "min_height": null,
            "min_width": null,
            "object_fit": null,
            "object_position": null,
            "order": null,
            "overflow": null,
            "overflow_x": null,
            "overflow_y": null,
            "padding": null,
            "right": null,
            "top": null,
            "visibility": null,
            "width": null
          }
        },
        "273f5bd978274c1ba1deb351945abe8a": {
          "model_module": "@jupyter-widgets/controls",
          "model_name": "DescriptionStyleModel",
          "model_module_version": "1.5.0",
          "state": {
            "_model_module": "@jupyter-widgets/controls",
            "_model_module_version": "1.5.0",
            "_model_name": "DescriptionStyleModel",
            "_view_count": null,
            "_view_module": "@jupyter-widgets/base",
            "_view_module_version": "1.2.0",
            "_view_name": "StyleView",
            "description_width": ""
          }
        }
      }
    }
  },
  "cells": [
    {
      "cell_type": "markdown",
      "metadata": {
        "id": "view-in-github",
        "colab_type": "text"
      },
      "source": [
        "<a href=\"https://colab.research.google.com/github/Dahuginn/4yr_animerecommend/blob/main/%5BThesis%5Dgraph_split_node2vec.ipynb\" target=\"_parent\"><img src=\"https://colab.research.google.com/assets/colab-badge.svg\" alt=\"Open In Colab\"/></a>"
      ]
    },
    {
      "cell_type": "code",
      "source": [
        "!pip install node2vec\n",
        "!pip install stellargraph"
      ],
      "metadata": {
        "id": "ovDJyi-zJclS",
        "outputId": "f1133bd7-44b2-4fc1-8b85-aa93e50d0fbc",
        "colab": {
          "base_uri": "https://localhost:8080/"
        }
      },
      "execution_count": 1,
      "outputs": [
        {
          "output_type": "stream",
          "name": "stdout",
          "text": [
            "Collecting node2vec\n",
            "  Downloading node2vec-0.4.3.tar.gz (4.6 kB)\n",
            "Requirement already satisfied: networkx in /usr/local/lib/python3.7/dist-packages (from node2vec) (2.6.3)\n",
            "Requirement already satisfied: gensim in /usr/local/lib/python3.7/dist-packages (from node2vec) (3.6.0)\n",
            "Requirement already satisfied: numpy in /usr/local/lib/python3.7/dist-packages (from node2vec) (1.21.6)\n",
            "Requirement already satisfied: tqdm in /usr/local/lib/python3.7/dist-packages (from node2vec) (4.64.0)\n",
            "Requirement already satisfied: joblib>=0.13.2 in /usr/local/lib/python3.7/dist-packages (from node2vec) (1.1.0)\n",
            "Requirement already satisfied: six>=1.5.0 in /usr/local/lib/python3.7/dist-packages (from gensim->node2vec) (1.15.0)\n",
            "Requirement already satisfied: smart-open>=1.2.1 in /usr/local/lib/python3.7/dist-packages (from gensim->node2vec) (6.0.0)\n",
            "Requirement already satisfied: scipy>=0.18.1 in /usr/local/lib/python3.7/dist-packages (from gensim->node2vec) (1.4.1)\n",
            "Building wheels for collected packages: node2vec\n",
            "  Building wheel for node2vec (setup.py) ... \u001b[?25l\u001b[?25hdone\n",
            "  Created wheel for node2vec: filename=node2vec-0.4.3-py3-none-any.whl size=5980 sha256=53c358c018db2b671303e82768d22ba4eb256fdf57d607d250d94133a719a15b\n",
            "  Stored in directory: /root/.cache/pip/wheels/07/62/78/5202cb8c03cbf1593b48a8a442fca8ceec2a8c80e22318bae9\n",
            "Successfully built node2vec\n",
            "Installing collected packages: node2vec\n",
            "Successfully installed node2vec-0.4.3\n",
            "Collecting stellargraph\n",
            "  Downloading stellargraph-1.2.1-py3-none-any.whl (435 kB)\n",
            "\u001b[K     |████████████████████████████████| 435 kB 4.3 MB/s \n",
            "\u001b[?25hRequirement already satisfied: matplotlib>=2.2 in /usr/local/lib/python3.7/dist-packages (from stellargraph) (3.2.2)\n",
            "Requirement already satisfied: tensorflow>=2.1.0 in /usr/local/lib/python3.7/dist-packages (from stellargraph) (2.8.0+zzzcolab20220506162203)\n",
            "Requirement already satisfied: gensim>=3.4.0 in /usr/local/lib/python3.7/dist-packages (from stellargraph) (3.6.0)\n",
            "Requirement already satisfied: numpy>=1.14 in /usr/local/lib/python3.7/dist-packages (from stellargraph) (1.21.6)\n",
            "Requirement already satisfied: scikit-learn>=0.20 in /usr/local/lib/python3.7/dist-packages (from stellargraph) (1.0.2)\n",
            "Requirement already satisfied: networkx>=2.2 in /usr/local/lib/python3.7/dist-packages (from stellargraph) (2.6.3)\n",
            "Requirement already satisfied: pandas>=0.24 in /usr/local/lib/python3.7/dist-packages (from stellargraph) (1.3.5)\n",
            "Requirement already satisfied: scipy>=1.1.0 in /usr/local/lib/python3.7/dist-packages (from stellargraph) (1.4.1)\n",
            "Requirement already satisfied: six>=1.5.0 in /usr/local/lib/python3.7/dist-packages (from gensim>=3.4.0->stellargraph) (1.15.0)\n",
            "Requirement already satisfied: smart-open>=1.2.1 in /usr/local/lib/python3.7/dist-packages (from gensim>=3.4.0->stellargraph) (6.0.0)\n",
            "Requirement already satisfied: python-dateutil>=2.1 in /usr/local/lib/python3.7/dist-packages (from matplotlib>=2.2->stellargraph) (2.8.2)\n",
            "Requirement already satisfied: pyparsing!=2.0.4,!=2.1.2,!=2.1.6,>=2.0.1 in /usr/local/lib/python3.7/dist-packages (from matplotlib>=2.2->stellargraph) (3.0.9)\n",
            "Requirement already satisfied: kiwisolver>=1.0.1 in /usr/local/lib/python3.7/dist-packages (from matplotlib>=2.2->stellargraph) (1.4.2)\n",
            "Requirement already satisfied: cycler>=0.10 in /usr/local/lib/python3.7/dist-packages (from matplotlib>=2.2->stellargraph) (0.11.0)\n",
            "Requirement already satisfied: typing-extensions in /usr/local/lib/python3.7/dist-packages (from kiwisolver>=1.0.1->matplotlib>=2.2->stellargraph) (4.2.0)\n",
            "Requirement already satisfied: pytz>=2017.3 in /usr/local/lib/python3.7/dist-packages (from pandas>=0.24->stellargraph) (2022.1)\n",
            "Requirement already satisfied: threadpoolctl>=2.0.0 in /usr/local/lib/python3.7/dist-packages (from scikit-learn>=0.20->stellargraph) (3.1.0)\n",
            "Requirement already satisfied: joblib>=0.11 in /usr/local/lib/python3.7/dist-packages (from scikit-learn>=0.20->stellargraph) (1.1.0)\n",
            "Requirement already satisfied: termcolor>=1.1.0 in /usr/local/lib/python3.7/dist-packages (from tensorflow>=2.1.0->stellargraph) (1.1.0)\n",
            "Requirement already satisfied: flatbuffers>=1.12 in /usr/local/lib/python3.7/dist-packages (from tensorflow>=2.1.0->stellargraph) (2.0)\n",
            "Requirement already satisfied: tensorflow-io-gcs-filesystem>=0.23.1 in /usr/local/lib/python3.7/dist-packages (from tensorflow>=2.1.0->stellargraph) (0.25.0)\n",
            "Requirement already satisfied: opt-einsum>=2.3.2 in /usr/local/lib/python3.7/dist-packages (from tensorflow>=2.1.0->stellargraph) (3.3.0)\n",
            "Collecting tf-estimator-nightly==2.8.0.dev2021122109\n",
            "  Downloading tf_estimator_nightly-2.8.0.dev2021122109-py2.py3-none-any.whl (462 kB)\n",
            "\u001b[K     |████████████████████████████████| 462 kB 52.4 MB/s \n",
            "\u001b[?25hRequirement already satisfied: absl-py>=0.4.0 in /usr/local/lib/python3.7/dist-packages (from tensorflow>=2.1.0->stellargraph) (1.0.0)\n",
            "Requirement already satisfied: astunparse>=1.6.0 in /usr/local/lib/python3.7/dist-packages (from tensorflow>=2.1.0->stellargraph) (1.6.3)\n",
            "Requirement already satisfied: libclang>=9.0.1 in /usr/local/lib/python3.7/dist-packages (from tensorflow>=2.1.0->stellargraph) (14.0.1)\n",
            "Requirement already satisfied: keras-preprocessing>=1.1.1 in /usr/local/lib/python3.7/dist-packages (from tensorflow>=2.1.0->stellargraph) (1.1.2)\n",
            "Requirement already satisfied: google-pasta>=0.1.1 in /usr/local/lib/python3.7/dist-packages (from tensorflow>=2.1.0->stellargraph) (0.2.0)\n",
            "Requirement already satisfied: gast>=0.2.1 in /usr/local/lib/python3.7/dist-packages (from tensorflow>=2.1.0->stellargraph) (0.5.3)\n",
            "Requirement already satisfied: protobuf>=3.9.2 in /usr/local/lib/python3.7/dist-packages (from tensorflow>=2.1.0->stellargraph) (3.17.3)\n",
            "Requirement already satisfied: wrapt>=1.11.0 in /usr/local/lib/python3.7/dist-packages (from tensorflow>=2.1.0->stellargraph) (1.14.1)\n",
            "Requirement already satisfied: setuptools in /usr/local/lib/python3.7/dist-packages (from tensorflow>=2.1.0->stellargraph) (57.4.0)\n",
            "Requirement already satisfied: grpcio<2.0,>=1.24.3 in /usr/local/lib/python3.7/dist-packages (from tensorflow>=2.1.0->stellargraph) (1.46.1)\n",
            "Requirement already satisfied: keras<2.9,>=2.8.0rc0 in /usr/local/lib/python3.7/dist-packages (from tensorflow>=2.1.0->stellargraph) (2.8.0)\n",
            "Requirement already satisfied: tensorboard<2.9,>=2.8 in /usr/local/lib/python3.7/dist-packages (from tensorflow>=2.1.0->stellargraph) (2.8.0)\n",
            "Requirement already satisfied: h5py>=2.9.0 in /usr/local/lib/python3.7/dist-packages (from tensorflow>=2.1.0->stellargraph) (3.1.0)\n",
            "Requirement already satisfied: wheel<1.0,>=0.23.0 in /usr/local/lib/python3.7/dist-packages (from astunparse>=1.6.0->tensorflow>=2.1.0->stellargraph) (0.37.1)\n",
            "Requirement already satisfied: cached-property in /usr/local/lib/python3.7/dist-packages (from h5py>=2.9.0->tensorflow>=2.1.0->stellargraph) (1.5.2)\n",
            "Requirement already satisfied: werkzeug>=0.11.15 in /usr/local/lib/python3.7/dist-packages (from tensorboard<2.9,>=2.8->tensorflow>=2.1.0->stellargraph) (1.0.1)\n",
            "Requirement already satisfied: tensorboard-data-server<0.7.0,>=0.6.0 in /usr/local/lib/python3.7/dist-packages (from tensorboard<2.9,>=2.8->tensorflow>=2.1.0->stellargraph) (0.6.1)\n",
            "Requirement already satisfied: google-auth<3,>=1.6.3 in /usr/local/lib/python3.7/dist-packages (from tensorboard<2.9,>=2.8->tensorflow>=2.1.0->stellargraph) (1.35.0)\n",
            "Requirement already satisfied: tensorboard-plugin-wit>=1.6.0 in /usr/local/lib/python3.7/dist-packages (from tensorboard<2.9,>=2.8->tensorflow>=2.1.0->stellargraph) (1.8.1)\n",
            "Requirement already satisfied: google-auth-oauthlib<0.5,>=0.4.1 in /usr/local/lib/python3.7/dist-packages (from tensorboard<2.9,>=2.8->tensorflow>=2.1.0->stellargraph) (0.4.6)\n",
            "Requirement already satisfied: markdown>=2.6.8 in /usr/local/lib/python3.7/dist-packages (from tensorboard<2.9,>=2.8->tensorflow>=2.1.0->stellargraph) (3.3.7)\n",
            "Requirement already satisfied: requests<3,>=2.21.0 in /usr/local/lib/python3.7/dist-packages (from tensorboard<2.9,>=2.8->tensorflow>=2.1.0->stellargraph) (2.23.0)\n",
            "Requirement already satisfied: cachetools<5.0,>=2.0.0 in /usr/local/lib/python3.7/dist-packages (from google-auth<3,>=1.6.3->tensorboard<2.9,>=2.8->tensorflow>=2.1.0->stellargraph) (4.2.4)\n",
            "Requirement already satisfied: rsa<5,>=3.1.4 in /usr/local/lib/python3.7/dist-packages (from google-auth<3,>=1.6.3->tensorboard<2.9,>=2.8->tensorflow>=2.1.0->stellargraph) (4.8)\n",
            "Requirement already satisfied: pyasn1-modules>=0.2.1 in /usr/local/lib/python3.7/dist-packages (from google-auth<3,>=1.6.3->tensorboard<2.9,>=2.8->tensorflow>=2.1.0->stellargraph) (0.2.8)\n",
            "Requirement already satisfied: requests-oauthlib>=0.7.0 in /usr/local/lib/python3.7/dist-packages (from google-auth-oauthlib<0.5,>=0.4.1->tensorboard<2.9,>=2.8->tensorflow>=2.1.0->stellargraph) (1.3.1)\n",
            "Requirement already satisfied: importlib-metadata>=4.4 in /usr/local/lib/python3.7/dist-packages (from markdown>=2.6.8->tensorboard<2.9,>=2.8->tensorflow>=2.1.0->stellargraph) (4.11.3)\n",
            "Requirement already satisfied: zipp>=0.5 in /usr/local/lib/python3.7/dist-packages (from importlib-metadata>=4.4->markdown>=2.6.8->tensorboard<2.9,>=2.8->tensorflow>=2.1.0->stellargraph) (3.8.0)\n",
            "Requirement already satisfied: pyasn1<0.5.0,>=0.4.6 in /usr/local/lib/python3.7/dist-packages (from pyasn1-modules>=0.2.1->google-auth<3,>=1.6.3->tensorboard<2.9,>=2.8->tensorflow>=2.1.0->stellargraph) (0.4.8)\n",
            "Requirement already satisfied: certifi>=2017.4.17 in /usr/local/lib/python3.7/dist-packages (from requests<3,>=2.21.0->tensorboard<2.9,>=2.8->tensorflow>=2.1.0->stellargraph) (2021.10.8)\n",
            "Requirement already satisfied: urllib3!=1.25.0,!=1.25.1,<1.26,>=1.21.1 in /usr/local/lib/python3.7/dist-packages (from requests<3,>=2.21.0->tensorboard<2.9,>=2.8->tensorflow>=2.1.0->stellargraph) (1.24.3)\n",
            "Requirement already satisfied: chardet<4,>=3.0.2 in /usr/local/lib/python3.7/dist-packages (from requests<3,>=2.21.0->tensorboard<2.9,>=2.8->tensorflow>=2.1.0->stellargraph) (3.0.4)\n",
            "Requirement already satisfied: idna<3,>=2.5 in /usr/local/lib/python3.7/dist-packages (from requests<3,>=2.21.0->tensorboard<2.9,>=2.8->tensorflow>=2.1.0->stellargraph) (2.10)\n",
            "Requirement already satisfied: oauthlib>=3.0.0 in /usr/local/lib/python3.7/dist-packages (from requests-oauthlib>=0.7.0->google-auth-oauthlib<0.5,>=0.4.1->tensorboard<2.9,>=2.8->tensorflow>=2.1.0->stellargraph) (3.2.0)\n",
            "Installing collected packages: tf-estimator-nightly, stellargraph\n",
            "Successfully installed stellargraph-1.2.1 tf-estimator-nightly-2.8.0.dev2021122109\n"
          ]
        }
      ]
    },
    {
      "cell_type": "code",
      "execution_count": 2,
      "metadata": {
        "id": "Hh6qqpwuHwEi"
      },
      "outputs": [],
      "source": [
        "import pandas as pd\n",
        "import numpy as np\n",
        "\n",
        "import matplotlib.pyplot as plt\n",
        "import seaborn as sns\n",
        "\n",
        "import networkx as nx\n",
        "import stellargraph as sg\n",
        "from sklearn.model_selection import train_test_split\n",
        "from stellargraph.data import EdgeSplitter\n",
        "from sklearn.manifold import TSNE\n",
        "\n",
        "from node2vec import Node2Vec\n",
        "\n",
        "from sklearn.pipeline import Pipeline\n",
        "from sklearn.preprocessing import StandardScaler\n",
        "from sklearn.linear_model import LogisticRegressionCV\n",
        "\n",
        "from sklearn.metrics import roc_auc_score, roc_curve, auc, f1_score, precision_recall_curve, precision_score, recall_score\n",
        "from sklearn.model_selection import validation_curve, learning_curve\n",
        "\n",
        "from pydrive.auth import GoogleAuth\n",
        "from pydrive.drive import GoogleDrive\n",
        "from google.colab import auth\n",
        "from oauth2client.client import GoogleCredentials\n",
        "\n",
        "import pickle"
      ]
    },
    {
      "cell_type": "code",
      "source": [
        "auth.authenticate_user()\n",
        "gauth = GoogleAuth()\n",
        "gauth.credentials = GoogleCredentials.get_application_default()\n",
        "drive = GoogleDrive(gauth)"
      ],
      "metadata": {
        "id": "NsHCD-C50S-3"
      },
      "execution_count": 3,
      "outputs": []
    },
    {
      "cell_type": "markdown",
      "source": [
        "# Dump'n'Load"
      ],
      "metadata": {
        "id": "FBHXCWqIBNUD"
      }
    },
    {
      "cell_type": "markdown",
      "source": [
        "Download node2vec models from my drive"
      ],
      "metadata": {
        "id": "9NkosvH5hFdi"
      }
    },
    {
      "cell_type": "markdown",
      "source": [
        "Train"
      ],
      "metadata": {
        "id": "vkxrT8SvBYSz"
      }
    },
    {
      "cell_type": "code",
      "source": [
        "pickle.dump(model, open('/content/gdrive/My Drive/4 year/final_node2vec_800.sav', 'wb'))"
      ],
      "metadata": {
        "id": "hG9wVXNV7dZy"
      },
      "execution_count": null,
      "outputs": []
    },
    {
      "cell_type": "code",
      "source": [
        "model_imp = drive.CreateFile({'id':'1Sea4n8SgzwUf0CM18yHyRJBqtTQSiegw'})\n",
        "model_imp.GetContentFile('final_node2vec_800.sav')\n",
        "model = pickle.load(open('final_node2vec_800.sav', 'rb'))"
      ],
      "metadata": {
        "id": "Z639Mqnv3tB-"
      },
      "execution_count": 23,
      "outputs": []
    },
    {
      "cell_type": "markdown",
      "source": [
        "Test"
      ],
      "metadata": {
        "id": "kLmHCEtsBZ6J"
      }
    },
    {
      "cell_type": "code",
      "source": [
        "pickle.dump(model_test, open('/content/gdrive/My Drive/4 year/final_node2vec_test800.sav', 'wb'))"
      ],
      "metadata": {
        "id": "R6Y6PenvwjoB"
      },
      "execution_count": null,
      "outputs": []
    },
    {
      "cell_type": "code",
      "source": [
        "model_test_imp = drive.CreateFile({'id':'1--NvbPdNzD67JrcnJcMdEl0e3jho7W0V'})\n",
        "model_test_imp.GetContentFile('final_node2vec_test800.sav')\n",
        "model_test = pickle.load(open('final_node2vec_test800.sav', 'rb'))"
      ],
      "metadata": {
        "id": "qbheTWM137R_"
      },
      "execution_count": 7,
      "outputs": []
    },
    {
      "cell_type": "code",
      "source": [
        "model_test = pickle.load(open('/content/gdrive/My Drive/4 year/final_node2vec_test800.sav', 'rb'))"
      ],
      "metadata": {
        "id": "i72_ObvUwkAh"
      },
      "execution_count": null,
      "outputs": []
    },
    {
      "cell_type": "markdown",
      "source": [
        "# Upload a graph created in the previous notebook"
      ],
      "metadata": {
        "id": "Yj09_dHprivc"
      }
    },
    {
      "cell_type": "markdown",
      "source": [
        "I decided to separate the workflow into two notebooks, because otherwise we could've overloaded colab's RAM. Creating a big df, then turning it into a graph, then training a node2vec model are memory consuming."
      ],
      "metadata": {
        "id": "yPHvtLAlrq48"
      }
    },
    {
      "cell_type": "code",
      "source": [
        "graph_imp = drive.CreateFile({'id':'1-0XFeiN8s-0ubY_rVS8LBM2-u1SgWCz1'})\n",
        "graph_imp.GetContentFile('800graph.graphml')\n",
        "graph = nx.read_graphml(open('800graph.graphml', 'rb'))\n",
        "nx.info(graph)"
      ],
      "metadata": {
        "colab": {
          "base_uri": "https://localhost:8080/",
          "height": 36
        },
        "id": "mdwQKzcdLQf8",
        "outputId": "725d9b3d-639d-4613-a3ba-7ae10388542a"
      },
      "execution_count": 26,
      "outputs": [
        {
          "output_type": "execute_result",
          "data": {
            "text/plain": [
              "'Graph with 419 nodes and 22395 edges'"
            ],
            "application/vnd.google.colaboratory.intrinsic+json": {
              "type": "string"
            }
          },
          "metadata": {},
          "execution_count": 26
        }
      ]
    },
    {
      "cell_type": "markdown",
      "source": [
        "# Link prediction task"
      ],
      "metadata": {
        "id": "oThmf7HVtDcC"
      }
    },
    {
      "cell_type": "markdown",
      "source": [
        "So far we've seen nice pictures of the graph we've created. But how are we going to use it to recommend animes to a user?? We need to formulate the task at hand using the language of machine learning."
      ],
      "metadata": {
        "id": "EjqdBP34v5pe"
      }
    },
    {
      "cell_type": "markdown",
      "source": [
        "We have links that exist in or graph, and we are going to sample the links that do not along with them. The former will be marked as \"1\", the latter - as \"0\". For each new pair of animes we are going to predoct whether the link between them could exist - this is the classification task. \n",
        "![marnie_link.png](data:image/png;base64,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)"
      ],
      "metadata": {
        "id": "JRnsOGzdtHgu"
      }
    },
    {
      "cell_type": "markdown",
      "source": [
        "# Train-val-split"
      ],
      "metadata": {
        "id": "m6JSOY3PwdI0"
      }
    },
    {
      "cell_type": "markdown",
      "source": [
        "We can't just split the dataset we used for a graph as we need ro split over the connections between nodes, nod the nodes themselves. I'll use [EdgeSplitter](https://stellargraph.readthedocs.io/en/latest/_modules/stellargraph/data/edge_splitter.html) for splitting my graph. EdgeSpliier is a class from Stellargraph package that takes a graph as an input, samples a given percentage of edges to create a smaller graph. It returns ids and labels of the sampled edges. The labels mark existant and non-existant edges. EdgeSplitter randomly chooses 2 nodes (DFS from the source node) and the checks if they are connected or not - if the latter is true, the edge is labeled as 0. This process is called negative sampling. Positive sampling is conducted by first computing the minimum spanning tree - EdgeSplitter is going to remove edges from graph one by one, therefore the MST must be crossed out of the removal list. The rest of the edges are removed until we meet the needed percentage of edges for our reduced graph.\n",
        "\n",
        "We are going to 1) sample 5% of edges from the full graph for test. 2) then sample another 5% for train graph without our test graph: 3) split edges and labels we received on the 2nd step to split 75% of edges for training purposes and another 25% will go to model selection."
      ],
      "metadata": {
        "id": "AKMBliq2u_fx"
      }
    },
    {
      "cell_type": "code",
      "source": [
        "edge_splitter_test = EdgeSplitter(graph)\n",
        "graph_test, examples_test, labels_test = edge_splitter_test.train_test_split(p=0.06, method=\"global\")\n",
        "\n",
        "print(nx.info(graph_test))"
      ],
      "metadata": {
        "colab": {
          "base_uri": "https://localhost:8080/"
        },
        "id": "VddW-9Yc2lGl",
        "outputId": "72baa1d2-cfbe-46ac-9eb6-18943e7f4748"
      },
      "execution_count": 100,
      "outputs": [
        {
          "output_type": "stream",
          "name": "stdout",
          "text": [
            "** Sampled 1343 positive and 1343 negative edges. **\n",
            "Graph with 419 nodes and 21052 edges\n"
          ]
        }
      ]
    },
    {
      "cell_type": "code",
      "source": [
        "edge_splitter_train = EdgeSplitter(graph_test, graph)\n",
        "graph_train, examples, labels = edge_splitter_train.train_test_split(p=0.1, method=\"global\")\n",
        "examples_train, examples_model_selection, labels_train, labels_model_selection = train_test_split(examples, labels, train_size=0.75, test_size=0.25)\n",
        "\n",
        "print(nx.info(graph_train))"
      ],
      "metadata": {
        "colab": {
          "base_uri": "https://localhost:8080/"
        },
        "id": "hJHYVVFA2lp9",
        "outputId": "37f981dc-ee1f-404a-f620-f4407247eb02"
      },
      "execution_count": 101,
      "outputs": [
        {
          "output_type": "stream",
          "name": "stdout",
          "text": [
            "** Sampled 2105 positive and 2105 negative edges. **\n",
            "Graph with 419 nodes and 18947 edges\n"
          ]
        }
      ]
    },
    {
      "cell_type": "code",
      "source": [
        "pd.DataFrame(\n",
        "    [(\"Training\", len(examples_train), \"Train classifier\"),\n",
        "     (\"Model Selection\", len(examples_model_selection), \"select the best link classifier model\"),\n",
        "     (\"Test\", len(examples_test), \"evaluate the classifier\")],\n",
        "     columns=(\"Split\", \"Num \", \"Purpose\")).set_index(\"Split\")"
      ],
      "metadata": {
        "colab": {
          "base_uri": "https://localhost:8080/",
          "height": 175
        },
        "id": "dPdAWWgY287x",
        "outputId": "1b4db598-67c6-470d-f3cf-db10dc2a8079"
      },
      "execution_count": 102,
      "outputs": [
        {
          "output_type": "execute_result",
          "data": {
            "text/plain": [
              "                 Num                                 Purpose\n",
              "Split                                                       \n",
              "Training         3157                       Train classifier\n",
              "Model Selection  1053  select the best link classifier model\n",
              "Test             2686                evaluate the classifier"
            ],
            "text/html": [
              "\n",
              "  <div id=\"df-bebe1f90-36ef-4911-b1d7-bea2b1166389\">\n",
              "    <div class=\"colab-df-container\">\n",
              "      <div>\n",
              "<style scoped>\n",
              "    .dataframe tbody tr th:only-of-type {\n",
              "        vertical-align: middle;\n",
              "    }\n",
              "\n",
              "    .dataframe tbody tr th {\n",
              "        vertical-align: top;\n",
              "    }\n",
              "\n",
              "    .dataframe thead th {\n",
              "        text-align: right;\n",
              "    }\n",
              "</style>\n",
              "<table border=\"1\" class=\"dataframe\">\n",
              "  <thead>\n",
              "    <tr style=\"text-align: right;\">\n",
              "      <th></th>\n",
              "      <th>Num</th>\n",
              "      <th>Purpose</th>\n",
              "    </tr>\n",
              "    <tr>\n",
              "      <th>Split</th>\n",
              "      <th></th>\n",
              "      <th></th>\n",
              "    </tr>\n",
              "  </thead>\n",
              "  <tbody>\n",
              "    <tr>\n",
              "      <th>Training</th>\n",
              "      <td>3157</td>\n",
              "      <td>Train classifier</td>\n",
              "    </tr>\n",
              "    <tr>\n",
              "      <th>Model Selection</th>\n",
              "      <td>1053</td>\n",
              "      <td>select the best link classifier model</td>\n",
              "    </tr>\n",
              "    <tr>\n",
              "      <th>Test</th>\n",
              "      <td>2686</td>\n",
              "      <td>evaluate the classifier</td>\n",
              "    </tr>\n",
              "  </tbody>\n",
              "</table>\n",
              "</div>\n",
              "      <button class=\"colab-df-convert\" onclick=\"convertToInteractive('df-bebe1f90-36ef-4911-b1d7-bea2b1166389')\"\n",
              "              title=\"Convert this dataframe to an interactive table.\"\n",
              "              style=\"display:none;\">\n",
              "        \n",
              "  <svg xmlns=\"http://www.w3.org/2000/svg\" height=\"24px\"viewBox=\"0 0 24 24\"\n",
              "       width=\"24px\">\n",
              "    <path d=\"M0 0h24v24H0V0z\" fill=\"none\"/>\n",
              "    <path d=\"M18.56 5.44l.94 2.06.94-2.06 2.06-.94-2.06-.94-.94-2.06-.94 2.06-2.06.94zm-11 1L8.5 8.5l.94-2.06 2.06-.94-2.06-.94L8.5 2.5l-.94 2.06-2.06.94zm10 10l.94 2.06.94-2.06 2.06-.94-2.06-.94-.94-2.06-.94 2.06-2.06.94z\"/><path d=\"M17.41 7.96l-1.37-1.37c-.4-.4-.92-.59-1.43-.59-.52 0-1.04.2-1.43.59L10.3 9.45l-7.72 7.72c-.78.78-.78 2.05 0 2.83L4 21.41c.39.39.9.59 1.41.59.51 0 1.02-.2 1.41-.59l7.78-7.78 2.81-2.81c.8-.78.8-2.07 0-2.86zM5.41 20L4 18.59l7.72-7.72 1.47 1.35L5.41 20z\"/>\n",
              "  </svg>\n",
              "      </button>\n",
              "      \n",
              "  <style>\n",
              "    .colab-df-container {\n",
              "      display:flex;\n",
              "      flex-wrap:wrap;\n",
              "      gap: 12px;\n",
              "    }\n",
              "\n",
              "    .colab-df-convert {\n",
              "      background-color: #E8F0FE;\n",
              "      border: none;\n",
              "      border-radius: 50%;\n",
              "      cursor: pointer;\n",
              "      display: none;\n",
              "      fill: #1967D2;\n",
              "      height: 32px;\n",
              "      padding: 0 0 0 0;\n",
              "      width: 32px;\n",
              "    }\n",
              "\n",
              "    .colab-df-convert:hover {\n",
              "      background-color: #E2EBFA;\n",
              "      box-shadow: 0px 1px 2px rgba(60, 64, 67, 0.3), 0px 1px 3px 1px rgba(60, 64, 67, 0.15);\n",
              "      fill: #174EA6;\n",
              "    }\n",
              "\n",
              "    [theme=dark] .colab-df-convert {\n",
              "      background-color: #3B4455;\n",
              "      fill: #D2E3FC;\n",
              "    }\n",
              "\n",
              "    [theme=dark] .colab-df-convert:hover {\n",
              "      background-color: #434B5C;\n",
              "      box-shadow: 0px 1px 3px 1px rgba(0, 0, 0, 0.15);\n",
              "      filter: drop-shadow(0px 1px 2px rgba(0, 0, 0, 0.3));\n",
              "      fill: #FFFFFF;\n",
              "    }\n",
              "  </style>\n",
              "\n",
              "      <script>\n",
              "        const buttonEl =\n",
              "          document.querySelector('#df-bebe1f90-36ef-4911-b1d7-bea2b1166389 button.colab-df-convert');\n",
              "        buttonEl.style.display =\n",
              "          google.colab.kernel.accessAllowed ? 'block' : 'none';\n",
              "\n",
              "        async function convertToInteractive(key) {\n",
              "          const element = document.querySelector('#df-bebe1f90-36ef-4911-b1d7-bea2b1166389');\n",
              "          const dataTable =\n",
              "            await google.colab.kernel.invokeFunction('convertToInteractive',\n",
              "                                                     [key], {});\n",
              "          if (!dataTable) return;\n",
              "\n",
              "          const docLinkHtml = 'Like what you see? Visit the ' +\n",
              "            '<a target=\"_blank\" href=https://colab.research.google.com/notebooks/data_table.ipynb>data table notebook</a>'\n",
              "            + ' to learn more about interactive tables.';\n",
              "          element.innerHTML = '';\n",
              "          dataTable['output_type'] = 'display_data';\n",
              "          await google.colab.output.renderOutput(dataTable, element);\n",
              "          const docLink = document.createElement('div');\n",
              "          docLink.innerHTML = docLinkHtml;\n",
              "          element.appendChild(docLink);\n",
              "        }\n",
              "      </script>\n",
              "    </div>\n",
              "  </div>\n",
              "  "
            ]
          },
          "metadata": {},
          "execution_count": 102
        }
      ]
    },
    {
      "cell_type": "markdown",
      "source": [
        "# node2vec model"
      ],
      "metadata": {
        "id": "k9J8yUR6wiDb"
      }
    },
    {
      "cell_type": "markdown",
      "source": [
        "This will be our working model"
      ],
      "metadata": {
        "id": "RMxyPPgLh2RL"
      }
    },
    {
      "cell_type": "code",
      "source": [
        "node2vec = Node2Vec(graph_train, dimensions=64, walk_length=30, num_walks=200, workers=4) \n",
        "model = node2vec.fit(window=10, min_count=1, batch_words=4)"
      ],
      "metadata": {
        "id": "CYi0VgZve3BH",
        "outputId": "69c8ee12-ccb4-42d3-f157-dc830ac7676b",
        "colab": {
          "base_uri": "https://localhost:8080/",
          "height": 49,
          "referenced_widgets": [
            "b561c24f00094a64a47220cfc4386f10",
            "3a83ee5719b541a387fc739749957178",
            "7490f8f6d28840168b8ccd84fca3678f",
            "99e12635706142f29658317dd2579483",
            "267226dc40b647f1a1ded72bcc0c677e",
            "64b17b9b1c3f45c0bee38817aca43418",
            "75a7f0ff478748afb0e3a9dc9d27d91d",
            "d34e4052661b474d96a7e58ce96384fa",
            "414e9a6935c6428298419f12048cb334",
            "03c1330deec44a608181b6f104a4e508",
            "a58f37a4329a416da045265fd766363e"
          ]
        }
      },
      "execution_count": 103,
      "outputs": [
        {
          "output_type": "display_data",
          "data": {
            "text/plain": [
              "Computing transition probabilities:   0%|          | 0/419 [00:00<?, ?it/s]"
            ],
            "application/vnd.jupyter.widget-view+json": {
              "version_major": 2,
              "version_minor": 0,
              "model_id": "b561c24f00094a64a47220cfc4386f10"
            }
          },
          "metadata": {}
        }
      ]
    },
    {
      "cell_type": "code",
      "source": [
        "def plot_tsne(model):\n",
        "  ne = model.wv.vectors\n",
        "  tsne2 = TSNE(n_components=2, random_state=42, init='random', learning_rate=200.0)\n",
        "  ne_2d = tsne2.fit_transform(ne)\n",
        "  plt.scatter(ne_2d[:, 0], ne_2d[:, 1])\n",
        "  plt.show()"
      ],
      "metadata": {
        "id": "Mgo262SR_SmU"
      },
      "execution_count": 104,
      "outputs": []
    },
    {
      "cell_type": "code",
      "source": [
        "plot_tsne(model)"
      ],
      "metadata": {
        "colab": {
          "base_uri": "https://localhost:8080/",
          "height": 265
        },
        "id": "qlXZX9Fqh-OC",
        "outputId": "28109b11-a076-4527-b8bb-81ca1b2eeabc"
      },
      "execution_count": 105,
      "outputs": [
        {
          "output_type": "display_data",
          "data": {
            "text/plain": [
              "<Figure size 432x288 with 1 Axes>"
            ],
            "image/png": "[encoded data removed]"
          },
          "metadata": {
            "needs_background": "light"
          }
        }
      ]
    },
    {
      "cell_type": "markdown",
      "source": [
        "# node2vec: find similar titles"
      ],
      "metadata": {
        "id": "ZHpZxtnTBhVs"
      }
    },
    {
      "cell_type": "markdown",
      "source": [
        "Here we can already make some predictions looking at the most similar vectors, even without creating a model:"
      ],
      "metadata": {
        "id": "KGqZTXUn0Vo3"
      }
    },
    {
      "cell_type": "code",
      "source": [
        "nodes = []\n",
        "for i in graph.nodes():\n",
        "  nodes.append(i)"
      ],
      "metadata": {
        "id": "Ra45uRd1CIkr"
      },
      "execution_count": 38,
      "outputs": []
    },
    {
      "cell_type": "code",
      "source": [
        "names_available = np.unique(nodes)"
      ],
      "metadata": {
        "id": "51ipw4kVB9E4"
      },
      "execution_count": 39,
      "outputs": []
    },
    {
      "cell_type": "code",
      "source": [
        "print(names_available[28], model.wv.get_vector(names_available[28]))"
      ],
      "metadata": {
        "id": "UgO-SoV449I7",
        "outputId": "4a13119e-630f-4aaf-b045-449a61d47e55",
        "colab": {
          "base_uri": "https://localhost:8080/"
        }
      },
      "execution_count": 40,
      "outputs": [
        {
          "output_type": "stream",
          "name": "stdout",
          "text": [
            "Azumanga Daioh: Gekijou Tanpen Special Comedy, School, Slice of Life [ 0.16741797 -0.06475098 -0.0020852  -0.2999324  -0.03275238  0.07378668\n",
            "  0.03034756 -0.04831593 -0.06501286  0.31654844  0.0224309  -0.15661669\n",
            "  0.09690652 -0.22753723 -0.04093243  0.03308216  0.01417336 -0.05345392\n",
            "  0.131188   -0.22031537 -0.13219805 -0.24103886 -0.0351523  -0.05651709\n",
            "  0.1943054  -0.12044273 -0.09727516  0.25207973 -0.22850749 -0.05796256\n",
            " -0.19004716 -0.12593499  0.02994372 -0.01539906  0.1951164   0.01049309\n",
            "  0.19875932 -0.07208578 -0.24336186  0.02952716 -0.01707852 -0.01288207\n",
            " -0.05552275 -0.02465569  0.06578     0.1762548   0.00077749 -0.03092011\n",
            " -0.14066076 -0.14791672 -0.10297927 -0.20931795 -0.01584991  0.014432\n",
            "  0.0152773  -0.04642656 -0.12111004 -0.31242162 -0.02191847  0.15743631\n",
            "  0.04726288  0.02289726  0.26598036 -0.09491491]\n"
          ]
        }
      ]
    },
    {
      "cell_type": "code",
      "source": [
        "# cute anmes for nostalgic mood\n",
        "for node, score in model.wv.most_similar(names_available[28]):\n",
        "  print(node, score)"
      ],
      "metadata": {
        "id": "PooVw_3y4_HK",
        "outputId": "f952d10a-c784-49a3-a0fc-e75281e9a09b",
        "colab": {
          "base_uri": "https://localhost:8080/"
        }
      },
      "execution_count": 42,
      "outputs": [
        {
          "output_type": "stream",
          "name": "stdout",
          "text": [
            "Genshiken OVA OVA Comedy, Parody, Slice of Life 0.6846678853034973\n",
            "Chobits: Chibits Special Comedy, Romance 0.6634863615036011\n",
            "Moyashimon TV Comedy, School, Supernatural 0.6426206827163696\n",
            "The Animatrix OVA Action, Drama, Sci-Fi 0.6166051626205444\n",
            "Noir TV Action, Drama, Mystery 0.6056638956069946\n",
            "Shakugan no Shana Specials Special Comedy, Parody 0.5906015634536743\n",
            "Shinigami no Ballad. TV Drama, Fantasy, Psychological, Supernatural 0.5884231328964233\n",
            "Higurashi no Naku Koro ni Kai TV Mystery, Psychological, Supernatural, Thriller 0.5821881294250488\n",
            "Slayers Excellent OVA Adventure, Comedy, Demons, Fantasy, Magic, Shounen, Supernatural 0.5820339918136597\n",
            "Ninin ga Shinobuden TV Comedy, Martial Arts, Parody 0.5808014869689941\n"
          ]
        }
      ]
    },
    {
      "cell_type": "markdown",
      "source": [
        "# Classification"
      ],
      "metadata": {
        "id": "vCepONHd2ik7"
      }
    },
    {
      "cell_type": "code",
      "source": [
        "def operator_hadamard(u, v):\n",
        "    return u * v\n",
        "\n",
        "\n",
        "def operator_l1(u, v):\n",
        "    return np.abs(u - v)\n",
        "\n",
        "\n",
        "def operator_l2(u, v):\n",
        "    return (u - v) ** 2\n",
        "\n",
        "\n",
        "def operator_avg(u, v): \n",
        "    return (u + v) / 2.0"
      ],
      "metadata": {
        "id": "m00Fb7znCu33"
      },
      "execution_count": 43,
      "outputs": []
    },
    {
      "cell_type": "code",
      "source": [
        "def get_vectorized(link_features, model):\n",
        "  s = []\n",
        "  d = []\n",
        "  for src, dst in link_features:\n",
        "    s.append(model.wv[src])\n",
        "    d.append(model.wv[dst])\n",
        "  return np.array(s), np.array(d)"
      ],
      "metadata": {
        "id": "6NG-1JfqCveJ"
      },
      "execution_count": 44,
      "outputs": []
    },
    {
      "cell_type": "code",
      "source": [
        "def apply_operator(s, d, op):\n",
        "  transformed = op(s, d)\n",
        "  return transformed"
      ],
      "metadata": {
        "id": "ebxyGgKkHUxt"
      },
      "execution_count": 45,
      "outputs": []
    },
    {
      "cell_type": "code",
      "source": [
        "def do_classification(f_train, l_train, op, model):\n",
        "  s, d = get_vectorized(f_train, model)\n",
        "  X_train = op(s, d)\n",
        "  y_train = l_train\n",
        "\n",
        "  lr_clf = LogisticRegressionCV(Cs=np.logspace(0.01, 1, 5), cv=10, scoring=\"f1\", max_iter=1000)\n",
        "  pipa = Pipeline(steps=[(\"sc\", StandardScaler()), (\"clf\", lr_clf)])\n",
        "  pipa.fit(X_train, y_train)\n",
        "\n",
        "  return pipa"
      ],
      "metadata": {
        "id": "Bmw5w9VyrTpG"
      },
      "execution_count": 46,
      "outputs": []
    },
    {
      "cell_type": "code",
      "source": [
        "def evaluate(classif, f_test, l_test, op, model):\n",
        "  s_test, d_test = get_vectorized(f_test, model)\n",
        "  testing_labels = apply_operator(s_test, d_test, op)\n",
        "  predicted = classif.predict_proba(testing_labels)\n",
        "  predictedf1 = classif.predict(testing_labels)\n",
        "  positive_column = list(classif.classes_).index(1)\n",
        "  return f1_score(l_test, predictedf1)"
      ],
      "metadata": {
        "id": "7URV2kSAq98T"
      },
      "execution_count": 18,
      "outputs": []
    },
    {
      "cell_type": "code",
      "source": [
        "def run_prediction(op, model):\n",
        "  clf = do_classification(examples_train, labels_train, op, model)\n",
        "  score = evaluate(clf, examples_model_selection, labels_model_selection, op, model)\n",
        "  return {\n",
        "        \"classifier\": clf,\n",
        "        \"binary_operator\": op,\n",
        "        \"score\": score\n",
        "    }"
      ],
      "metadata": {
        "id": "6UyV0GHhrCBR"
      },
      "execution_count": 68,
      "outputs": []
    },
    {
      "cell_type": "code",
      "source": [
        "def show_best_op(model):\n",
        "  results = [run_prediction(op, model) for op in binary_operators]\n",
        "  best_result = max(results, key=lambda result: result[\"score\"])\n",
        "\n",
        "  print(f\"Best result from '{best_result['binary_operator'].__name__}'\")\n",
        "\n",
        "  return pd.DataFrame(\n",
        "      [(result[\"binary_operator\"].__name__, result[\"score\"]) for result in results],\n",
        "      columns=(\"name\", \"f1 score\"),\n",
        "  ).set_index(\"name\"), best_result"
      ],
      "metadata": {
        "id": "AjLOlXxoDJ_w"
      },
      "execution_count": 48,
      "outputs": []
    },
    {
      "cell_type": "code",
      "source": [
        "binary_operators = [operator_hadamard, operator_l1, operator_l2, operator_avg]"
      ],
      "metadata": {
        "id": "kRBB4hfkzKcM"
      },
      "execution_count": 69,
      "outputs": []
    },
    {
      "cell_type": "code",
      "source": [
        "res, best_result = show_best_op(model)\n",
        "res"
      ],
      "metadata": {
        "id": "QGIjT9gCg4ha",
        "outputId": "ccc91bde-9b58-4995-869a-be62be003f3c",
        "colab": {
          "base_uri": "https://localhost:8080/",
          "height": 224
        }
      },
      "execution_count": 106,
      "outputs": [
        {
          "output_type": "stream",
          "name": "stdout",
          "text": [
            "Best result from 'operator_avg'\n"
          ]
        },
        {
          "output_type": "execute_result",
          "data": {
            "text/plain": [
              "                   f1 score\n",
              "name                       \n",
              "operator_hadamard  0.794286\n",
              "operator_l1        0.762172\n",
              "operator_l2        0.785582\n",
              "operator_avg       0.848197"
            ],
            "text/html": [
              "\n",
              "  <div id=\"df-982146d2-3bcc-4131-b6fe-7bdaa4034494\">\n",
              "    <div class=\"colab-df-container\">\n",
              "      <div>\n",
              "<style scoped>\n",
              "    .dataframe tbody tr th:only-of-type {\n",
              "        vertical-align: middle;\n",
              "    }\n",
              "\n",
              "    .dataframe tbody tr th {\n",
              "        vertical-align: top;\n",
              "    }\n",
              "\n",
              "    .dataframe thead th {\n",
              "        text-align: right;\n",
              "    }\n",
              "</style>\n",
              "<table border=\"1\" class=\"dataframe\">\n",
              "  <thead>\n",
              "    <tr style=\"text-align: right;\">\n",
              "      <th></th>\n",
              "      <th>f1 score</th>\n",
              "    </tr>\n",
              "    <tr>\n",
              "      <th>name</th>\n",
              "      <th></th>\n",
              "    </tr>\n",
              "  </thead>\n",
              "  <tbody>\n",
              "    <tr>\n",
              "      <th>operator_hadamard</th>\n",
              "      <td>0.794286</td>\n",
              "    </tr>\n",
              "    <tr>\n",
              "      <th>operator_l1</th>\n",
              "      <td>0.762172</td>\n",
              "    </tr>\n",
              "    <tr>\n",
              "      <th>operator_l2</th>\n",
              "      <td>0.785582</td>\n",
              "    </tr>\n",
              "    <tr>\n",
              "      <th>operator_avg</th>\n",
              "      <td>0.848197</td>\n",
              "    </tr>\n",
              "  </tbody>\n",
              "</table>\n",
              "</div>\n",
              "      <button class=\"colab-df-convert\" onclick=\"convertToInteractive('df-982146d2-3bcc-4131-b6fe-7bdaa4034494')\"\n",
              "              title=\"Convert this dataframe to an interactive table.\"\n",
              "              style=\"display:none;\">\n",
              "        \n",
              "  <svg xmlns=\"http://www.w3.org/2000/svg\" height=\"24px\"viewBox=\"0 0 24 24\"\n",
              "       width=\"24px\">\n",
              "    <path d=\"M0 0h24v24H0V0z\" fill=\"none\"/>\n",
              "    <path d=\"M18.56 5.44l.94 2.06.94-2.06 2.06-.94-2.06-.94-.94-2.06-.94 2.06-2.06.94zm-11 1L8.5 8.5l.94-2.06 2.06-.94-2.06-.94L8.5 2.5l-.94 2.06-2.06.94zm10 10l.94 2.06.94-2.06 2.06-.94-2.06-.94-.94-2.06-.94 2.06-2.06.94z\"/><path d=\"M17.41 7.96l-1.37-1.37c-.4-.4-.92-.59-1.43-.59-.52 0-1.04.2-1.43.59L10.3 9.45l-7.72 7.72c-.78.78-.78 2.05 0 2.83L4 21.41c.39.39.9.59 1.41.59.51 0 1.02-.2 1.41-.59l7.78-7.78 2.81-2.81c.8-.78.8-2.07 0-2.86zM5.41 20L4 18.59l7.72-7.72 1.47 1.35L5.41 20z\"/>\n",
              "  </svg>\n",
              "      </button>\n",
              "      \n",
              "  <style>\n",
              "    .colab-df-container {\n",
              "      display:flex;\n",
              "      flex-wrap:wrap;\n",
              "      gap: 12px;\n",
              "    }\n",
              "\n",
              "    .colab-df-convert {\n",
              "      background-color: #E8F0FE;\n",
              "      border: none;\n",
              "      border-radius: 50%;\n",
              "      cursor: pointer;\n",
              "      display: none;\n",
              "      fill: #1967D2;\n",
              "      height: 32px;\n",
              "      padding: 0 0 0 0;\n",
              "      width: 32px;\n",
              "    }\n",
              "\n",
              "    .colab-df-convert:hover {\n",
              "      background-color: #E2EBFA;\n",
              "      box-shadow: 0px 1px 2px rgba(60, 64, 67, 0.3), 0px 1px 3px 1px rgba(60, 64, 67, 0.15);\n",
              "      fill: #174EA6;\n",
              "    }\n",
              "\n",
              "    [theme=dark] .colab-df-convert {\n",
              "      background-color: #3B4455;\n",
              "      fill: #D2E3FC;\n",
              "    }\n",
              "\n",
              "    [theme=dark] .colab-df-convert:hover {\n",
              "      background-color: #434B5C;\n",
              "      box-shadow: 0px 1px 3px 1px rgba(0, 0, 0, 0.15);\n",
              "      filter: drop-shadow(0px 1px 2px rgba(0, 0, 0, 0.3));\n",
              "      fill: #FFFFFF;\n",
              "    }\n",
              "  </style>\n",
              "\n",
              "      <script>\n",
              "        const buttonEl =\n",
              "          document.querySelector('#df-982146d2-3bcc-4131-b6fe-7bdaa4034494 button.colab-df-convert');\n",
              "        buttonEl.style.display =\n",
              "          google.colab.kernel.accessAllowed ? 'block' : 'none';\n",
              "\n",
              "        async function convertToInteractive(key) {\n",
              "          const element = document.querySelector('#df-982146d2-3bcc-4131-b6fe-7bdaa4034494');\n",
              "          const dataTable =\n",
              "            await google.colab.kernel.invokeFunction('convertToInteractive',\n",
              "                                                     [key], {});\n",
              "          if (!dataTable) return;\n",
              "\n",
              "          const docLinkHtml = 'Like what you see? Visit the ' +\n",
              "            '<a target=\"_blank\" href=https://colab.research.google.com/notebooks/data_table.ipynb>data table notebook</a>'\n",
              "            + ' to learn more about interactive tables.';\n",
              "          element.innerHTML = '';\n",
              "          dataTable['output_type'] = 'display_data';\n",
              "          await google.colab.output.renderOutput(dataTable, element);\n",
              "          const docLink = document.createElement('div');\n",
              "          docLink.innerHTML = docLinkHtml;\n",
              "          element.appendChild(docLink);\n",
              "        }\n",
              "      </script>\n",
              "    </div>\n",
              "  </div>\n",
              "  "
            ]
          },
          "metadata": {},
          "execution_count": 106
        }
      ]
    },
    {
      "cell_type": "markdown",
      "source": [
        "# Evaluation"
      ],
      "metadata": {
        "id": "GTLGybO8Nxfq"
      }
    },
    {
      "cell_type": "markdown",
      "source": [
        "Computing new embeddings on the test graph:"
      ],
      "metadata": {
        "id": "qRgle9cS9F2r"
      }
    },
    {
      "cell_type": "code",
      "source": [
        "node2vec_test = Node2Vec(graph_test, dimensions=64, walk_length=30, num_walks=200, workers=4) \n",
        "model_test = node2vec_test.fit(window=10, min_count=1, batch_words=4)"
      ],
      "metadata": {
        "id": "CPncCKD5e866",
        "outputId": "44957246-8139-4824-f38d-7d1fc6e71b28",
        "colab": {
          "base_uri": "https://localhost:8080/",
          "height": 49,
          "referenced_widgets": [
            "67e25ff359104ac5bfc3415fe3123819",
            "c9788e5ea1ac48bfbc39df2a0aae7a9e",
            "bd2059b55c1a4929b8327fe5ceebe423",
            "2079eec7c181436098f0a60388859c39",
            "342da897954e4c43bcba8c34a1d78e9a",
            "af88bd57f22a416e9ae22a4923606dc3",
            "aa4aec514c6c492f843b6a81783ebd6a",
            "bc69ac8867224336a4aabcf055e418e2",
            "cc55167267ad4470ab7d04d21efb876f",
            "dfc2cfe5e23041a4b0349a3b9c317655",
            "273f5bd978274c1ba1deb351945abe8a"
          ]
        }
      },
      "execution_count": 108,
      "outputs": [
        {
          "output_type": "display_data",
          "data": {
            "text/plain": [
              "Computing transition probabilities:   0%|          | 0/419 [00:00<?, ?it/s]"
            ],
            "application/vnd.jupyter.widget-view+json": {
              "version_major": 2,
              "version_minor": 0,
              "model_id": "67e25ff359104ac5bfc3415fe3123819"
            }
          },
          "metadata": {}
        }
      ]
    },
    {
      "cell_type": "code",
      "source": [
        "test_score = evaluate(\n",
        "    best_result[\"classifier\"],\n",
        "    examples_test,\n",
        "    labels_test,\n",
        "    best_result[\"binary_operator\"],\n",
        "    model_test,\n",
        ")\n",
        "print(\n",
        "    f\"ROC AUC score on test set using '{best_result['binary_operator'].__name__}': {test_score}\"\n",
        ")"
      ],
      "metadata": {
        "id": "gMEkpTl9Jqxx",
        "outputId": "9c7af67f-9e8b-4af7-d0fa-0263d1b1c3cb",
        "colab": {
          "base_uri": "https://localhost:8080/"
        }
      },
      "execution_count": 109,
      "outputs": [
        {
          "output_type": "stream",
          "name": "stdout",
          "text": [
            "ROC AUC score on test set using 'operator_avg': 0.6748091603053435\n"
          ]
        }
      ]
    },
    {
      "cell_type": "markdown",
      "source": [
        "Defined xs and ys for the plots below. Here I trained logistic regression classifier using all of the train examples, without using train-model selection split:"
      ],
      "metadata": {
        "id": "-oJ_8dvcqiYg"
      }
    },
    {
      "cell_type": "code",
      "source": [
        "s_train, d_train = get_vectorized(examples_train, model_test)\n",
        "s_test, d_test = get_vectorized(examples_test, model_test)\n",
        "X_train = best_result[\"binary_operator\"](s_train, d_train)\n",
        "X_test = best_result[\"binary_operator\"](s_test, d_test)\n",
        "y_train = labels_train\n",
        "y_test = labels_test\n",
        "\n",
        "lr_clf = LogisticRegressionCV(Cs=np.logspace(0.01, 1, 5), scoring=\"roc_auc\", max_iter=1000)\n",
        "pipa = Pipeline(steps=[(\"sc\", StandardScaler()), (\"clf\", lr_clf)])\n",
        "pipa.fit(X_train, y_train)"
      ],
      "metadata": {
        "colab": {
          "base_uri": "https://localhost:8080/"
        },
        "id": "6w27BENYdRjq",
        "outputId": "fc53ecdf-6b11-4088-fba4-98d4e8c41a88"
      },
      "execution_count": 123,
      "outputs": [
        {
          "output_type": "execute_result",
          "data": {
            "text/plain": [
              "Pipeline(steps=[('sc', StandardScaler()),\n",
              "                ('clf',\n",
              "                 LogisticRegressionCV(Cs=array([ 1.02329299,  1.80925591,  3.19889511,  5.65587757, 10.        ]),\n",
              "                                      max_iter=1000, scoring='roc_auc'))])"
            ]
          },
          "metadata": {},
          "execution_count": 123
        }
      ]
    },
    {
      "cell_type": "code",
      "source": [
        "colors = sns.color_palette('pastel')[2:4]"
      ],
      "metadata": {
        "id": "8DjHgh1avYbj"
      },
      "execution_count": 111,
      "outputs": []
    },
    {
      "cell_type": "markdown",
      "source": [
        "The two classes are almost equal:"
      ],
      "metadata": {
        "id": "bkFzuZGLqcis"
      }
    },
    {
      "cell_type": "code",
      "source": [
        "yhat = pipa.predict(X_test)\n",
        "\n",
        "plt.figure(figsize=(12, 8))\n",
        "plt.pie([np.count_nonzero(yhat), len(yhat) - np.count_nonzero(yhat)], labels=[1, 0], colors = colors, autopct='%.0f%%')\n",
        "plt.title('Classes chart')\n",
        "plt.show()"
      ],
      "metadata": {
        "id": "0diU5Y9zpDsL",
        "outputId": "3f94e387-8b14-40cf-d213-c62dcdba7a60",
        "colab": {
          "base_uri": "https://localhost:8080/",
          "height": 482
        }
      },
      "execution_count": 124,
      "outputs": [
        {
          "output_type": "display_data",
          "data": {
            "text/plain": [
              "<Figure size 864x576 with 1 Axes>"
            ],
            "image/png": "[encoded data removed]"
          },
          "metadata": {}
        }
      ]
    },
    {
      "cell_type": "code",
      "source": [
        "def plot_tsne_test(estimator, title, f_test, colors):\n",
        "  yhat = estimator.predict(f_test)\n",
        "\n",
        "  tsne2 = TSNE(n_components=2, random_state=42, init='random', learning_rate=200.0)\n",
        "  ne_2d = tsne2.fit_transform(f_test)\n",
        "\n",
        "  sns.scatterplot(x=f_test[:, 0], y=f_test[:, 1], hue=yhat, alpha=0.5, legend=\"full\", palette='deep')\n",
        "  plt.title(title)\n",
        "\n",
        "  plt.show()"
      ],
      "metadata": {
        "id": "wwUXNYOOE89c"
      },
      "execution_count": 125,
      "outputs": []
    },
    {
      "cell_type": "code",
      "source": [
        "plot_tsne_test(pipa, 'Classification', X_test, colors)"
      ],
      "metadata": {
        "id": "0EAS1y2TiEaX",
        "outputId": "e4ccaba7-0b12-4ab3-e518-a30357604237",
        "colab": {
          "base_uri": "https://localhost:8080/",
          "height": 281
        }
      },
      "execution_count": 126,
      "outputs": [
        {
          "output_type": "display_data",
          "data": {
            "text/plain": [
              "<Figure size 432x288 with 1 Axes>"
            ],
            "image/png": "[encoded data removed]"
          },
          "metadata": {
            "needs_background": "light"
          }
        }
      ]
    },
    {
      "cell_type": "markdown",
      "source": [
        "# Plot ROC-AUC curve"
      ],
      "metadata": {
        "id": "wtNhZEZg-0-e"
      }
    },
    {
      "cell_type": "markdown",
      "source": [
        "[Source code](https://machinelearningmastery.com/roc-curves-and-precision-recall-curves-for-classification-in-python/#:~:text=A%20precision%2Drecall%20curve%20is,constant%20class%20in%20all%20cases)"
      ],
      "metadata": {
        "id": "4BRghoq_7gNv"
      }
    },
    {
      "cell_type": "code",
      "source": [
        "def plot_rocauc(estimator, title, f_train, l_train, f_test, l_test):\n",
        "\n",
        "  # stupid classifier's predictions are always zeros\n",
        "  ns_probs = [0 for _ in range(len(l_test))]\n",
        "  \n",
        "  #predict with logreg, then take the second column (probability of 1)\n",
        "  lr_probs = estimator.predict_proba(f_test)\n",
        "  lr_probs_ = lr_probs[:, 1]\n",
        "\n",
        "  #compute r-a score for both of them\n",
        "  ns_auc = roc_auc_score(l_test, ns_probs)\n",
        "  lr_auc = roc_auc_score(l_test, lr_probs_)\n",
        "  print('No Skill: ROC AUC=%.3f' % (ns_auc))\n",
        "  print('Logistic: ROC AUC=%.3f' % (lr_auc))\n",
        "\n",
        "  # calculate roc curves\n",
        "  ns_fpr, ns_tpr, _ = roc_curve(l_test, ns_probs)\n",
        "  lr_fpr, lr_tpr, _ = roc_curve(l_test, lr_probs_)\n",
        "\n",
        "  # plot the roc curve for the model\n",
        "  plt.figure(figsize=(12, 8))\n",
        "  plt.plot(ns_fpr, ns_tpr, linestyle='--', label='No Skill', color='#473147')\n",
        "  plt.plot(lr_fpr, lr_tpr, marker='.', label='Logistic', color='#F9721B')\n",
        "\n",
        "  # axis labels\n",
        "  plt.xlabel('False Positive Rate')\n",
        "  plt.ylabel('True Positive Rate')\n",
        "  plt.title(title)\n",
        "\n",
        "  # show the legend\n",
        "  plt.legend()\n",
        "\n",
        "  # show the plot\n",
        "  plt.show()"
      ],
      "metadata": {
        "id": "dwXm4RBBLxQ4"
      },
      "execution_count": 115,
      "outputs": []
    },
    {
      "cell_type": "markdown",
      "source": [
        "ROC-AUC curve defines how good (or how bad) our model is at distinguishing classes. However, it will give us overly optimistic scores even if our model classifies everything as 1 or as 0. We'll need to use different metrics."
      ],
      "metadata": {
        "id": "JYdpekwu3tnF"
      }
    },
    {
      "cell_type": "code",
      "source": [
        "plot_rocauc(pipa, 'ROC-AUC curve', X_train, y_train, X_test, y_test)"
      ],
      "metadata": {
        "id": "uOcTTNkoiYfT",
        "outputId": "86b3010c-7fbe-4b41-fc31-1034c951395f",
        "colab": {
          "base_uri": "https://localhost:8080/",
          "height": 548
        }
      },
      "execution_count": 127,
      "outputs": [
        {
          "output_type": "stream",
          "name": "stdout",
          "text": [
            "No Skill: ROC AUC=0.500\n",
            "Logistic: ROC AUC=0.949\n"
          ]
        },
        {
          "output_type": "display_data",
          "data": {
            "text/plain": [
              "<Figure size 864x576 with 1 Axes>"
            ],
            "image/png": "[encoded data removed]"
          },
          "metadata": {
            "needs_background": "light"
          }
        }
      ]
    },
    {
      "cell_type": "markdown",
      "source": [
        "# Plot Precision-Recall curve"
      ],
      "metadata": {
        "id": "Jn74aLJX-4k6"
      }
    },
    {
      "cell_type": "markdown",
      "source": [
        "[Source code](https://machinelearningmastery.com/roc-curves-and-precision-recall-curves-for-classification-in-python/)"
      ],
      "metadata": {
        "id": "Hd8J5M9L7U8x"
      }
    },
    {
      "cell_type": "code",
      "source": [
        "def plot_prc(estimator, title, f_train, l_train, f_test, l_test):\n",
        "  ns_probs = [0 for _ in range(len(l_test))]\n",
        "\n",
        "  lr_probs = estimator.predict_proba(f_test)\n",
        "  lr_probs_ = lr_probs[:, 1]\n",
        "\n",
        "  # predict class values\n",
        "  yhat = estimator.predict(f_test)\n",
        "  lr_precision, lr_recall, _ = precision_recall_curve(l_test, lr_probs_)\n",
        "  lr_f1, lr_auc, lr_pr, lr_rec = f1_score(l_test, yhat), auc(lr_recall, lr_precision), precision_score(y_test, yhat), recall_score(y_test, yhat)\n",
        "\n",
        "  # summarize scores\n",
        "  print('Logistic: f1=%.3f auc=%.3f precision=%.3f recall=%.3f' % (lr_f1, lr_auc, lr_pr, lr_rec))\n",
        "\n",
        "  # plot the precision-recall curves\n",
        "  no_skill = len(l_test[l_test==1]) / len(l_test)\n",
        "\n",
        "  plt.figure(figsize=(12, 8))\n",
        "  plt.plot([0, 1], [no_skill, no_skill], linestyle='--', label='No Skill', color='#473147')\n",
        "  plt.plot(lr_recall, lr_precision, marker='.', label='Logistic', color='#F9721B')\n",
        "\n",
        "  # axis labels\n",
        "  plt.xlabel('Recall')\n",
        "  plt.ylabel('Precision')\n",
        "  plt.title(title)\n",
        "\n",
        "  # show the legend\n",
        "  plt.legend()\n",
        "\n",
        "  # show the plot\n",
        "  plt.show()"
      ],
      "metadata": {
        "id": "bFZbIsmjNHgm"
      },
      "execution_count": 128,
      "outputs": []
    },
    {
      "cell_type": "markdown",
      "source": [
        "Precision computes the number of the observations we predicted to be 1 and are, actually, to all the 1-s we predicted. Precision score of 0.874 means there is a quite small number of negatives we've labeled as positives - but it's all good!\n",
        "Recall score shows us what percentage of real positives we've labelled as such. 0.888 - means that we've labeled some 1-s as 0-s - still all good!\n",
        "F1 score is a weighted average of precision and recall, it considers both types of our mistakes - FP and FN - into account."
      ],
      "metadata": {
        "id": "qO5lxu7R42Fl"
      }
    },
    {
      "cell_type": "code",
      "source": [
        "plot_prc(pipa, 'Precision-Recall curve', X_train, y_train, X_test, y_test)"
      ],
      "metadata": {
        "id": "WHDBnzC8idTE",
        "outputId": "27e6f481-1aee-4601-873a-2bac45b8a219",
        "colab": {
          "base_uri": "https://localhost:8080/",
          "height": 530
        }
      },
      "execution_count": 129,
      "outputs": [
        {
          "output_type": "stream",
          "name": "stdout",
          "text": [
            "Logistic: f1=0.879 auc=0.945 precision=0.868 recall=0.891\n"
          ]
        },
        {
          "output_type": "display_data",
          "data": {
            "text/plain": [
              "<Figure size 864x576 with 1 Axes>"
            ],
            "image/png": "[encoded data removed]"
          },
          "metadata": {
            "needs_background": "light"
          }
        }
      ]
    },
    {
      "cell_type": "markdown",
      "source": [
        "# Plot learning curves"
      ],
      "metadata": {
        "id": "ynnxXeMMc-1t"
      }
    },
    {
      "cell_type": "markdown",
      "source": [
        "The scores are pretty good, but what if the model is overfitted? We can check the learning curves:\n",
        "\n",
        "[Source code](https://scikit-learn.org/stable/auto_examples/model_selection/plot_learning_curve.html)"
      ],
      "metadata": {
        "id": "6aZDTmjw6dl0"
      }
    },
    {
      "cell_type": "code",
      "source": [
        "def plot_learning_curve(estimator, title, X, y, train_sizes=np.linspace(0.1, 1.0, 5)):\n",
        "\n",
        "    train_sizes, train_scores, test_scores, fit_times, _ = learning_curve(estimator, X, y, cv=10, n_jobs=4, train_sizes=train_sizes, return_times=True)\n",
        "    train_scores_mean = np.mean(train_scores, axis=1)\n",
        "    train_scores_std = np.std(train_scores, axis=1)\n",
        "    test_scores_mean = np.mean(test_scores, axis=1)\n",
        "    test_scores_std = np.std(test_scores, axis=1)\n",
        "    fit_times_mean = np.mean(fit_times, axis=1)\n",
        "    fit_times_std = np.std(fit_times, axis=1)\n",
        "\n",
        "    _, axes = plt.subplots(1, 3, figsize=(20, 5))\n",
        "    axes[0].set_ylim((0.7, 1.01))\n",
        "    # Plot learning curve\n",
        "    axes[0].fill_between(train_sizes, train_scores_mean - train_scores_std, train_scores_mean + train_scores_std,  alpha=0.1, color=\"#473147\")\n",
        "    axes[0].fill_between( train_sizes, test_scores_mean - test_scores_std, test_scores_mean + test_scores_std, alpha=0.1, color=\"#F9721B\")\n",
        "    axes[0].plot(train_sizes, train_scores_mean, color=\"#473147\", label=\"Training score\")\n",
        "    axes[0].plot(train_sizes, test_scores_mean, color=\"#F9721B\", label=\"Cross-validation score\")\n",
        "    axes[0].legend(loc=\"best\")\n",
        "\n",
        "    # Plot n_samples vs fit_times\n",
        "    axes[1].plot(train_sizes, fit_times_mean, color='#473147')\n",
        "    axes[1].fill_between(train_sizes, fit_times_mean - fit_times_std, fit_times_mean + fit_times_std, alpha=0.1, color='#473147')\n",
        "    axes[1].set_xlabel(\"Training examples\")\n",
        "    axes[1].set_ylabel(\"fit_times\")\n",
        "    axes[1].set_title(\"Scalability of the model\")\n",
        "\n",
        "    # Plot fit_time vs score\n",
        "    fit_time_argsort = fit_times_mean.argsort()\n",
        "    fit_time_sorted = fit_times_mean[fit_time_argsort]\n",
        "    test_scores_mean_sorted = test_scores_mean[fit_time_argsort]\n",
        "    test_scores_std_sorted = test_scores_std[fit_time_argsort]\n",
        "    axes[2].plot(fit_time_sorted, test_scores_mean_sorted, color='#473147')\n",
        "    axes[2].fill_between(fit_time_sorted, test_scores_mean_sorted - test_scores_std_sorted, test_scores_mean_sorted + test_scores_std_sorted, alpha=0.1, color='#473147')\n",
        "    axes[2].set_xlabel(\"fit_times\")\n",
        "    axes[2].set_ylabel(\"Score\")\n",
        "    axes[2].set_title(\"Performance of the model\")\n",
        "\n",
        "    return plt"
      ],
      "metadata": {
        "id": "4ZfMD4ovdBo6"
      },
      "execution_count": 80,
      "outputs": []
    },
    {
      "cell_type": "markdown",
      "source": [
        "There's a small gap between val score and training score, after the 1200th example both plots go stable. Perfomance of the model goes down, but it's still quite high. "
      ],
      "metadata": {
        "id": "mQNXvBJn72FW"
      }
    },
    {
      "cell_type": "code",
      "source": [
        "title = \"Learning Curves\"\n",
        "plot_learning_curve(pipa, title, X_train, y_train)\n",
        "plt.show()"
      ],
      "metadata": {
        "colab": {
          "base_uri": "https://localhost:8080/",
          "height": 351
        },
        "id": "BzEBTEpjdHbb",
        "outputId": "d6dc7ed9-92cf-4130-8cb4-ef5327812e6c"
      },
      "execution_count": 130,
      "outputs": [
        {
          "output_type": "display_data",
          "data": {
            "text/plain": [
              "<Figure size 1440x360 with 3 Axes>"
            ],
            "image/png": "[encoded data removed]"
          },
          "metadata": {
            "needs_background": "light"
          }
        }
      ]
    }
  ]
}